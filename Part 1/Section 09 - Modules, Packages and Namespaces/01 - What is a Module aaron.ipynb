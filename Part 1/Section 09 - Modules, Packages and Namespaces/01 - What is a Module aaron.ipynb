{
 "cells": [
  {
   "cell_type": "markdown",
   "metadata": {},
   "source": [
    "### What is a Module?"
   ]
  },
  {
   "cell_type": "markdown",
   "metadata": {},
   "source": [
    "> ### Aaron's Experiments"
   ]
  },
  {
   "cell_type": "code",
   "execution_count": 2,
   "metadata": {},
   "outputs": [],
   "source": [
    "# What is a module\n",
    "\n",
    "def func():\n",
    "    a = 10\n",
    "    return a"
   ]
  },
  {
   "cell_type": "code",
   "execution_count": 4,
   "metadata": {},
   "outputs": [
    {
     "data": {
      "text/plain": [
       "<function __main__.func()>"
      ]
     },
     "execution_count": 4,
     "metadata": {},
     "output_type": "execute_result"
    }
   ],
   "source": [
    "func  # the type of func is `function`"
   ]
  },
  {
   "cell_type": "code",
   "execution_count": 5,
   "metadata": {},
   "outputs": [
    {
     "data": {
      "text/plain": [
       "10"
      ]
     },
     "execution_count": 5,
     "metadata": {},
     "output_type": "execute_result"
    }
   ],
   "source": [
    "func()"
   ]
  },
  {
   "cell_type": "code",
   "execution_count": 6,
   "metadata": {},
   "outputs": [
    {
     "data": {
      "text/plain": [
       "4429735360"
      ]
     },
     "execution_count": 6,
     "metadata": {},
     "output_type": "execute_result"
    }
   ],
   "source": [
    "# it's going to call the address\n",
    "\n",
    "id(func)"
   ]
  },
  {
   "cell_type": "code",
   "execution_count": 7,
   "metadata": {},
   "outputs": [
    {
     "data": {
      "text/plain": [
       "{'__name__': '__main__',\n",
       " '__doc__': 'Automatically created module for IPython interactive environment',\n",
       " '__package__': None,\n",
       " '__loader__': None,\n",
       " '__spec__': None,\n",
       " '__builtin__': <module 'builtins' (built-in)>,\n",
       " '__builtins__': <module 'builtins' (built-in)>,\n",
       " '_ih': ['',\n",
       "  '# What is a module',\n",
       "  '# What is a module\\n\\ndef func():\\n    a = 10\\n    return a',\n",
       "  'func',\n",
       "  'func  # the type of func is `function`',\n",
       "  'func()',\n",
       "  \"# it's going to call the address\\n\\nid(func)\",\n",
       "  '# looking at dictionary of global name spaces\\nglobals()'],\n",
       " '_oh': {3: <function __main__.func()>,\n",
       "  4: <function __main__.func()>,\n",
       "  5: 10,\n",
       "  6: 4429735360},\n",
       " '_dh': [PosixPath('/Users/aaron/workspaces/xk8/clone-repo/python-deepdive/Part 1/Section 09 - Modules, Packages and Namespaces')],\n",
       " 'In': ['',\n",
       "  '# What is a module',\n",
       "  '# What is a module\\n\\ndef func():\\n    a = 10\\n    return a',\n",
       "  'func',\n",
       "  'func  # the type of func is `function`',\n",
       "  'func()',\n",
       "  \"# it's going to call the address\\n\\nid(func)\",\n",
       "  '# looking at dictionary of global name spaces\\nglobals()'],\n",
       " 'Out': {3: <function __main__.func()>,\n",
       "  4: <function __main__.func()>,\n",
       "  5: 10,\n",
       "  6: 4429735360},\n",
       " 'get_ipython': <bound method InteractiveShell.get_ipython of <ipykernel.zmqshell.ZMQInteractiveShell object at 0x107bd7ad0>>,\n",
       " 'exit': <IPython.core.autocall.ZMQExitAutocall at 0x107befbd0>,\n",
       " 'quit': <IPython.core.autocall.ZMQExitAutocall at 0x107befbd0>,\n",
       " 'open': <function io.open(file, mode='r', buffering=-1, encoding=None, errors=None, newline=None, closefd=True, opener=None)>,\n",
       " '_': 4429735360,\n",
       " '__': 10,\n",
       " '___': <function __main__.func()>,\n",
       " '__vsc_ipynb_file__': '/Users/aaron/workspaces/xk8/clone-repo/python-deepdive/Part 1/Section 09 - Modules, Packages and Namespaces/01 - What is a Module aaron.ipynb',\n",
       " '_i': \"# it's going to call the address\\n\\nid(func)\",\n",
       " '_ii': 'func()',\n",
       " '_iii': 'func  # the type of func is `function`',\n",
       " '_i1': '# What is a module',\n",
       " '_i2': '# What is a module\\n\\ndef func():\\n    a = 10\\n    return a',\n",
       " 'func': <function __main__.func()>,\n",
       " '_i3': 'func',\n",
       " '_3': <function __main__.func()>,\n",
       " '_i4': 'func  # the type of func is `function`',\n",
       " '_4': <function __main__.func()>,\n",
       " '_i5': 'func()',\n",
       " '_5': 10,\n",
       " '_i6': \"# it's going to call the address\\n\\nid(func)\",\n",
       " '_6': 4429735360,\n",
       " '_i7': '# looking at dictionary of global name spaces\\nglobals()'}"
      ]
     },
     "execution_count": 7,
     "metadata": {},
     "output_type": "execute_result"
    }
   ],
   "source": [
    "# looking at dictionary of global name spaces\n",
    "globals()"
   ]
  },
  {
   "cell_type": "code",
   "execution_count": 8,
   "metadata": {},
   "outputs": [
    {
     "data": {
      "text/plain": [
       "<function __main__.func()>"
      ]
     },
     "execution_count": 8,
     "metadata": {},
     "output_type": "execute_result"
    }
   ],
   "source": [
    "globals()['func']"
   ]
  },
  {
   "cell_type": "code",
   "execution_count": 9,
   "metadata": {},
   "outputs": [
    {
     "data": {
      "text/plain": [
       "10"
      ]
     },
     "execution_count": 9,
     "metadata": {},
     "output_type": "execute_result"
    }
   ],
   "source": [
    "globals()['func']()"
   ]
  },
  {
   "cell_type": "code",
   "execution_count": 10,
   "metadata": {},
   "outputs": [],
   "source": [
    "f = globals()['func']"
   ]
  },
  {
   "cell_type": "code",
   "execution_count": 11,
   "metadata": {},
   "outputs": [
    {
     "data": {
      "text/plain": [
       "True"
      ]
     },
     "execution_count": 11,
     "metadata": {},
     "output_type": "execute_result"
    }
   ],
   "source": [
    "f is func"
   ]
  },
  {
   "cell_type": "code",
   "execution_count": 12,
   "metadata": {},
   "outputs": [
    {
     "data": {
      "text/plain": [
       "10"
      ]
     },
     "execution_count": 12,
     "metadata": {},
     "output_type": "execute_result"
    }
   ],
   "source": [
    "f()"
   ]
  },
  {
   "cell_type": "code",
   "execution_count": 13,
   "metadata": {},
   "outputs": [
    {
     "data": {
      "text/plain": [
       "{'__name__': '__main__',\n",
       " '__doc__': 'Automatically created module for IPython interactive environment',\n",
       " '__package__': None,\n",
       " '__loader__': None,\n",
       " '__spec__': None,\n",
       " '__builtin__': <module 'builtins' (built-in)>,\n",
       " '__builtins__': <module 'builtins' (built-in)>,\n",
       " '_ih': ['',\n",
       "  '# What is a module',\n",
       "  '# What is a module\\n\\ndef func():\\n    a = 10\\n    return a',\n",
       "  'func',\n",
       "  'func  # the type of func is `function`',\n",
       "  'func()',\n",
       "  \"# it's going to call the address\\n\\nid(func)\",\n",
       "  '# looking at dictionary of global name spaces\\nglobals()',\n",
       "  \"globals()['func']\",\n",
       "  \"globals()['func']()\",\n",
       "  \"f = globals()['func']\",\n",
       "  'f is func',\n",
       "  'f()',\n",
       "  'locals()'],\n",
       " '_oh': {3: <function __main__.func()>,\n",
       "  4: <function __main__.func()>,\n",
       "  5: 10,\n",
       "  6: 4429735360,\n",
       "  7: {...},\n",
       "  8: <function __main__.func()>,\n",
       "  9: 10,\n",
       "  11: True,\n",
       "  12: 10},\n",
       " '_dh': [PosixPath('/Users/aaron/workspaces/xk8/clone-repo/python-deepdive/Part 1/Section 09 - Modules, Packages and Namespaces')],\n",
       " 'In': ['',\n",
       "  '# What is a module',\n",
       "  '# What is a module\\n\\ndef func():\\n    a = 10\\n    return a',\n",
       "  'func',\n",
       "  'func  # the type of func is `function`',\n",
       "  'func()',\n",
       "  \"# it's going to call the address\\n\\nid(func)\",\n",
       "  '# looking at dictionary of global name spaces\\nglobals()',\n",
       "  \"globals()['func']\",\n",
       "  \"globals()['func']()\",\n",
       "  \"f = globals()['func']\",\n",
       "  'f is func',\n",
       "  'f()',\n",
       "  'locals()'],\n",
       " 'Out': {3: <function __main__.func()>,\n",
       "  4: <function __main__.func()>,\n",
       "  5: 10,\n",
       "  6: 4429735360,\n",
       "  7: {...},\n",
       "  8: <function __main__.func()>,\n",
       "  9: 10,\n",
       "  11: True,\n",
       "  12: 10},\n",
       " 'get_ipython': <bound method InteractiveShell.get_ipython of <ipykernel.zmqshell.ZMQInteractiveShell object at 0x107bd7ad0>>,\n",
       " 'exit': <IPython.core.autocall.ZMQExitAutocall at 0x107befbd0>,\n",
       " 'quit': <IPython.core.autocall.ZMQExitAutocall at 0x107befbd0>,\n",
       " 'open': <function io.open(file, mode='r', buffering=-1, encoding=None, errors=None, newline=None, closefd=True, opener=None)>,\n",
       " '_': 10,\n",
       " '__': True,\n",
       " '___': 10,\n",
       " '__vsc_ipynb_file__': '/Users/aaron/workspaces/xk8/clone-repo/python-deepdive/Part 1/Section 09 - Modules, Packages and Namespaces/01 - What is a Module aaron.ipynb',\n",
       " '_i': 'f()',\n",
       " '_ii': 'f is func',\n",
       " '_iii': \"f = globals()['func']\",\n",
       " '_i1': '# What is a module',\n",
       " '_i2': '# What is a module\\n\\ndef func():\\n    a = 10\\n    return a',\n",
       " 'func': <function __main__.func()>,\n",
       " '_i3': 'func',\n",
       " '_3': <function __main__.func()>,\n",
       " '_i4': 'func  # the type of func is `function`',\n",
       " '_4': <function __main__.func()>,\n",
       " '_i5': 'func()',\n",
       " '_5': 10,\n",
       " '_i6': \"# it's going to call the address\\n\\nid(func)\",\n",
       " '_6': 4429735360,\n",
       " '_i7': '# looking at dictionary of global name spaces\\nglobals()',\n",
       " '_7': {...},\n",
       " '_i8': \"globals()['func']\",\n",
       " '_8': <function __main__.func()>,\n",
       " '_i9': \"globals()['func']()\",\n",
       " '_9': 10,\n",
       " '_i10': \"f = globals()['func']\",\n",
       " 'f': <function __main__.func()>,\n",
       " '_i11': 'f is func',\n",
       " '_11': True,\n",
       " '_i12': 'f()',\n",
       " '_12': 10,\n",
       " '_i13': 'locals()'}"
      ]
     },
     "execution_count": 13,
     "metadata": {},
     "output_type": "execute_result"
    }
   ],
   "source": [
    "locals()"
   ]
  },
  {
   "cell_type": "code",
   "execution_count": 14,
   "metadata": {},
   "outputs": [
    {
     "data": {
      "text/plain": [
       "True"
      ]
     },
     "execution_count": 14,
     "metadata": {},
     "output_type": "execute_result"
    }
   ],
   "source": [
    "locals() is globals()"
   ]
  },
  {
   "cell_type": "code",
   "execution_count": 15,
   "metadata": {},
   "outputs": [],
   "source": [
    "a = 100"
   ]
  },
  {
   "cell_type": "code",
   "execution_count": 16,
   "metadata": {},
   "outputs": [
    {
     "data": {
      "text/plain": [
       "{'__name__': '__main__',\n",
       " '__doc__': 'Automatically created module for IPython interactive environment',\n",
       " '__package__': None,\n",
       " '__loader__': None,\n",
       " '__spec__': None,\n",
       " '__builtin__': <module 'builtins' (built-in)>,\n",
       " '__builtins__': <module 'builtins' (built-in)>,\n",
       " '_ih': ['',\n",
       "  '# What is a module',\n",
       "  '# What is a module\\n\\ndef func():\\n    a = 10\\n    return a',\n",
       "  'func',\n",
       "  'func  # the type of func is `function`',\n",
       "  'func()',\n",
       "  \"# it's going to call the address\\n\\nid(func)\",\n",
       "  '# looking at dictionary of global name spaces\\nglobals()',\n",
       "  \"globals()['func']\",\n",
       "  \"globals()['func']()\",\n",
       "  \"f = globals()['func']\",\n",
       "  'f is func',\n",
       "  'f()',\n",
       "  'locals()',\n",
       "  'locals() is globals()',\n",
       "  'a = 100',\n",
       "  'globals()'],\n",
       " '_oh': {3: <function __main__.func()>,\n",
       "  4: <function __main__.func()>,\n",
       "  5: 10,\n",
       "  6: 4429735360,\n",
       "  7: {...},\n",
       "  8: <function __main__.func()>,\n",
       "  9: 10,\n",
       "  11: True,\n",
       "  12: 10,\n",
       "  13: {...},\n",
       "  14: True},\n",
       " '_dh': [PosixPath('/Users/aaron/workspaces/xk8/clone-repo/python-deepdive/Part 1/Section 09 - Modules, Packages and Namespaces')],\n",
       " 'In': ['',\n",
       "  '# What is a module',\n",
       "  '# What is a module\\n\\ndef func():\\n    a = 10\\n    return a',\n",
       "  'func',\n",
       "  'func  # the type of func is `function`',\n",
       "  'func()',\n",
       "  \"# it's going to call the address\\n\\nid(func)\",\n",
       "  '# looking at dictionary of global name spaces\\nglobals()',\n",
       "  \"globals()['func']\",\n",
       "  \"globals()['func']()\",\n",
       "  \"f = globals()['func']\",\n",
       "  'f is func',\n",
       "  'f()',\n",
       "  'locals()',\n",
       "  'locals() is globals()',\n",
       "  'a = 100',\n",
       "  'globals()'],\n",
       " 'Out': {3: <function __main__.func()>,\n",
       "  4: <function __main__.func()>,\n",
       "  5: 10,\n",
       "  6: 4429735360,\n",
       "  7: {...},\n",
       "  8: <function __main__.func()>,\n",
       "  9: 10,\n",
       "  11: True,\n",
       "  12: 10,\n",
       "  13: {...},\n",
       "  14: True},\n",
       " 'get_ipython': <bound method InteractiveShell.get_ipython of <ipykernel.zmqshell.ZMQInteractiveShell object at 0x107bd7ad0>>,\n",
       " 'exit': <IPython.core.autocall.ZMQExitAutocall at 0x107befbd0>,\n",
       " 'quit': <IPython.core.autocall.ZMQExitAutocall at 0x107befbd0>,\n",
       " 'open': <function io.open(file, mode='r', buffering=-1, encoding=None, errors=None, newline=None, closefd=True, opener=None)>,\n",
       " '_': True,\n",
       " '__': {...},\n",
       " '___': 10,\n",
       " '__vsc_ipynb_file__': '/Users/aaron/workspaces/xk8/clone-repo/python-deepdive/Part 1/Section 09 - Modules, Packages and Namespaces/01 - What is a Module aaron.ipynb',\n",
       " '_i': 'a = 100',\n",
       " '_ii': 'locals() is globals()',\n",
       " '_iii': 'locals()',\n",
       " '_i1': '# What is a module',\n",
       " '_i2': '# What is a module\\n\\ndef func():\\n    a = 10\\n    return a',\n",
       " 'func': <function __main__.func()>,\n",
       " '_i3': 'func',\n",
       " '_3': <function __main__.func()>,\n",
       " '_i4': 'func  # the type of func is `function`',\n",
       " '_4': <function __main__.func()>,\n",
       " '_i5': 'func()',\n",
       " '_5': 10,\n",
       " '_i6': \"# it's going to call the address\\n\\nid(func)\",\n",
       " '_6': 4429735360,\n",
       " '_i7': '# looking at dictionary of global name spaces\\nglobals()',\n",
       " '_7': {...},\n",
       " '_i8': \"globals()['func']\",\n",
       " '_8': <function __main__.func()>,\n",
       " '_i9': \"globals()['func']()\",\n",
       " '_9': 10,\n",
       " '_i10': \"f = globals()['func']\",\n",
       " 'f': <function __main__.func()>,\n",
       " '_i11': 'f is func',\n",
       " '_11': True,\n",
       " '_i12': 'f()',\n",
       " '_12': 10,\n",
       " '_i13': 'locals()',\n",
       " '_13': {...},\n",
       " '_i14': 'locals() is globals()',\n",
       " '_14': True,\n",
       " '_i15': 'a = 100',\n",
       " 'a': 100,\n",
       " '_i16': 'globals()'}"
      ]
     },
     "execution_count": 16,
     "metadata": {},
     "output_type": "execute_result"
    }
   ],
   "source": [
    "globals()"
   ]
  },
  {
   "cell_type": "code",
   "execution_count": 17,
   "metadata": {},
   "outputs": [],
   "source": [
    "def func():\n",
    "    a = 10    \n",
    "    b = 10\n",
    "    print(locals())"
   ]
  },
  {
   "cell_type": "code",
   "execution_count": 18,
   "metadata": {},
   "outputs": [
    {
     "name": "stdout",
     "output_type": "stream",
     "text": [
      "{'a': 10, 'b': 10}\n"
     ]
    }
   ],
   "source": [
    "func()"
   ]
  },
  {
   "cell_type": "code",
   "execution_count": null,
   "metadata": {},
   "outputs": [],
   "source": []
  },
  {
   "cell_type": "markdown",
   "metadata": {},
   "source": [
    "### What is a Module?"
   ]
  },
  {
   "cell_type": "code",
   "execution_count": 19,
   "metadata": {},
   "outputs": [],
   "source": [
    "import math"
   ]
  },
  {
   "cell_type": "code",
   "execution_count": 20,
   "metadata": {},
   "outputs": [
    {
     "data": {
      "text/plain": [
       "<module 'math' from '/Users/aaron/venvs/ml-test1/lib/python3.11/lib-dynload/math.cpython-311-darwin.so'>"
      ]
     },
     "execution_count": 20,
     "metadata": {},
     "output_type": "execute_result"
    }
   ],
   "source": [
    "math"
   ]
  },
  {
   "cell_type": "code",
   "execution_count": 21,
   "metadata": {},
   "outputs": [],
   "source": [
    "import fractions"
   ]
  },
  {
   "cell_type": "code",
   "execution_count": 23,
   "metadata": {},
   "outputs": [
    {
     "data": {
      "text/plain": [
       "<module 'fractions' from '/Users/aaron/venvs/ml-test1/lib/python3.11/fractions.py'>"
      ]
     },
     "execution_count": 23,
     "metadata": {},
     "output_type": "execute_result"
    }
   ],
   "source": [
    "fractions"
   ]
  },
  {
   "cell_type": "code",
   "execution_count": 25,
   "metadata": {},
   "outputs": [],
   "source": [
    "junk = math"
   ]
  },
  {
   "cell_type": "code",
   "execution_count": 26,
   "metadata": {},
   "outputs": [
    {
     "data": {
      "text/plain": [
       "1.4142135623730951"
      ]
     },
     "execution_count": 26,
     "metadata": {},
     "output_type": "execute_result"
    }
   ],
   "source": [
    "junk.sqrt(2)"
   ]
  },
  {
   "cell_type": "code",
   "execution_count": 27,
   "metadata": {},
   "outputs": [
    {
     "data": {
      "text/plain": [
       "True"
      ]
     },
     "execution_count": 27,
     "metadata": {},
     "output_type": "execute_result"
    }
   ],
   "source": [
    "junk is math"
   ]
  },
  {
   "cell_type": "code",
   "execution_count": 28,
   "metadata": {},
   "outputs": [
    {
     "data": {
      "text/plain": [
       "{'__name__': '__main__',\n",
       " '__doc__': 'Automatically created module for IPython interactive environment',\n",
       " '__package__': None,\n",
       " '__loader__': None,\n",
       " '__spec__': None,\n",
       " '__builtin__': <module 'builtins' (built-in)>,\n",
       " '__builtins__': <module 'builtins' (built-in)>,\n",
       " '_ih': ['',\n",
       "  '# What is a module',\n",
       "  '# What is a module\\n\\ndef func():\\n    a = 10\\n    return a',\n",
       "  'func',\n",
       "  'func  # the type of func is `function`',\n",
       "  'func()',\n",
       "  \"# it's going to call the address\\n\\nid(func)\",\n",
       "  '# looking at dictionary of global name spaces\\nglobals()',\n",
       "  \"globals()['func']\",\n",
       "  \"globals()['func']()\",\n",
       "  \"f = globals()['func']\",\n",
       "  'f is func',\n",
       "  'f()',\n",
       "  'locals()',\n",
       "  'locals() is globals()',\n",
       "  'a = 100',\n",
       "  'globals()',\n",
       "  'def func():\\n    a = 10    \\n    b = 10\\n    print(locals())',\n",
       "  'func()',\n",
       "  'import math',\n",
       "  'math',\n",
       "  'import fractions',\n",
       "  'factions',\n",
       "  'fractions',\n",
       "  'globals()',\n",
       "  'junk = math',\n",
       "  'junk.sqrt(2)',\n",
       "  'junk is math',\n",
       "  'globals()'],\n",
       " '_oh': {3: <function __main__.func()>,\n",
       "  4: <function __main__.func()>,\n",
       "  5: 10,\n",
       "  6: 4429735360,\n",
       "  7: {...},\n",
       "  8: <function __main__.func()>,\n",
       "  9: 10,\n",
       "  11: True,\n",
       "  12: 10,\n",
       "  13: {...},\n",
       "  14: True,\n",
       "  16: {...},\n",
       "  20: <module 'math' from '/Users/aaron/venvs/ml-test1/lib/python3.11/lib-dynload/math.cpython-311-darwin.so'>,\n",
       "  23: <module 'fractions' from '/Users/aaron/venvs/ml-test1/lib/python3.11/fractions.py'>,\n",
       "  24: {...},\n",
       "  26: 1.4142135623730951,\n",
       "  27: True},\n",
       " '_dh': [PosixPath('/Users/aaron/workspaces/xk8/clone-repo/python-deepdive/Part 1/Section 09 - Modules, Packages and Namespaces')],\n",
       " 'In': ['',\n",
       "  '# What is a module',\n",
       "  '# What is a module\\n\\ndef func():\\n    a = 10\\n    return a',\n",
       "  'func',\n",
       "  'func  # the type of func is `function`',\n",
       "  'func()',\n",
       "  \"# it's going to call the address\\n\\nid(func)\",\n",
       "  '# looking at dictionary of global name spaces\\nglobals()',\n",
       "  \"globals()['func']\",\n",
       "  \"globals()['func']()\",\n",
       "  \"f = globals()['func']\",\n",
       "  'f is func',\n",
       "  'f()',\n",
       "  'locals()',\n",
       "  'locals() is globals()',\n",
       "  'a = 100',\n",
       "  'globals()',\n",
       "  'def func():\\n    a = 10    \\n    b = 10\\n    print(locals())',\n",
       "  'func()',\n",
       "  'import math',\n",
       "  'math',\n",
       "  'import fractions',\n",
       "  'factions',\n",
       "  'fractions',\n",
       "  'globals()',\n",
       "  'junk = math',\n",
       "  'junk.sqrt(2)',\n",
       "  'junk is math',\n",
       "  'globals()'],\n",
       " 'Out': {3: <function __main__.func()>,\n",
       "  4: <function __main__.func()>,\n",
       "  5: 10,\n",
       "  6: 4429735360,\n",
       "  7: {...},\n",
       "  8: <function __main__.func()>,\n",
       "  9: 10,\n",
       "  11: True,\n",
       "  12: 10,\n",
       "  13: {...},\n",
       "  14: True,\n",
       "  16: {...},\n",
       "  20: <module 'math' from '/Users/aaron/venvs/ml-test1/lib/python3.11/lib-dynload/math.cpython-311-darwin.so'>,\n",
       "  23: <module 'fractions' from '/Users/aaron/venvs/ml-test1/lib/python3.11/fractions.py'>,\n",
       "  24: {...},\n",
       "  26: 1.4142135623730951,\n",
       "  27: True},\n",
       " 'get_ipython': <bound method InteractiveShell.get_ipython of <ipykernel.zmqshell.ZMQInteractiveShell object at 0x107bd7ad0>>,\n",
       " 'exit': <IPython.core.autocall.ZMQExitAutocall at 0x107befbd0>,\n",
       " 'quit': <IPython.core.autocall.ZMQExitAutocall at 0x107befbd0>,\n",
       " 'open': <function io.open(file, mode='r', buffering=-1, encoding=None, errors=None, newline=None, closefd=True, opener=None)>,\n",
       " '_': True,\n",
       " '__': 1.4142135623730951,\n",
       " '___': {...},\n",
       " '__vsc_ipynb_file__': '/Users/aaron/workspaces/xk8/clone-repo/python-deepdive/Part 1/Section 09 - Modules, Packages and Namespaces/01 - What is a Module aaron.ipynb',\n",
       " '_i': 'junk is math',\n",
       " '_ii': 'junk.sqrt(2)',\n",
       " '_iii': 'junk = math',\n",
       " '_i1': '# What is a module',\n",
       " '_i2': '# What is a module\\n\\ndef func():\\n    a = 10\\n    return a',\n",
       " 'func': <function __main__.func()>,\n",
       " '_i3': 'func',\n",
       " '_3': <function __main__.func()>,\n",
       " '_i4': 'func  # the type of func is `function`',\n",
       " '_4': <function __main__.func()>,\n",
       " '_i5': 'func()',\n",
       " '_5': 10,\n",
       " '_i6': \"# it's going to call the address\\n\\nid(func)\",\n",
       " '_6': 4429735360,\n",
       " '_i7': '# looking at dictionary of global name spaces\\nglobals()',\n",
       " '_7': {...},\n",
       " '_i8': \"globals()['func']\",\n",
       " '_8': <function __main__.func()>,\n",
       " '_i9': \"globals()['func']()\",\n",
       " '_9': 10,\n",
       " '_i10': \"f = globals()['func']\",\n",
       " 'f': <function __main__.func()>,\n",
       " '_i11': 'f is func',\n",
       " '_11': True,\n",
       " '_i12': 'f()',\n",
       " '_12': 10,\n",
       " '_i13': 'locals()',\n",
       " '_13': {...},\n",
       " '_i14': 'locals() is globals()',\n",
       " '_14': True,\n",
       " '_i15': 'a = 100',\n",
       " 'a': 100,\n",
       " '_i16': 'globals()',\n",
       " '_16': {...},\n",
       " '_i17': 'def func():\\n    a = 10    \\n    b = 10\\n    print(locals())',\n",
       " '_i18': 'func()',\n",
       " '_i19': 'import math',\n",
       " 'math': <module 'math' from '/Users/aaron/venvs/ml-test1/lib/python3.11/lib-dynload/math.cpython-311-darwin.so'>,\n",
       " '_i20': 'math',\n",
       " '_20': <module 'math' from '/Users/aaron/venvs/ml-test1/lib/python3.11/lib-dynload/math.cpython-311-darwin.so'>,\n",
       " '_i21': 'import fractions',\n",
       " 'fractions': <module 'fractions' from '/Users/aaron/venvs/ml-test1/lib/python3.11/fractions.py'>,\n",
       " '_i22': 'factions',\n",
       " '_i23': 'fractions',\n",
       " '_23': <module 'fractions' from '/Users/aaron/venvs/ml-test1/lib/python3.11/fractions.py'>,\n",
       " '_i24': 'globals()',\n",
       " '_24': {...},\n",
       " '_i25': 'junk = math',\n",
       " 'junk': <module 'math' from '/Users/aaron/venvs/ml-test1/lib/python3.11/lib-dynload/math.cpython-311-darwin.so'>,\n",
       " '_i26': 'junk.sqrt(2)',\n",
       " '_26': 1.4142135623730951,\n",
       " '_i27': 'junk is math',\n",
       " '_27': True,\n",
       " '_i28': 'globals()'}"
      ]
     },
     "execution_count": 28,
     "metadata": {},
     "output_type": "execute_result"
    }
   ],
   "source": [
    "globals()"
   ]
  },
  {
   "cell_type": "code",
   "execution_count": 29,
   "metadata": {},
   "outputs": [
    {
     "data": {
      "text/plain": [
       "<module 'math' from '/Users/aaron/venvs/ml-test1/lib/python3.11/lib-dynload/math.cpython-311-darwin.so'>"
      ]
     },
     "execution_count": 29,
     "metadata": {},
     "output_type": "execute_result"
    }
   ],
   "source": [
    "globals()['math']"
   ]
  },
  {
   "cell_type": "code",
   "execution_count": 30,
   "metadata": {},
   "outputs": [
    {
     "data": {
      "text/plain": [
       "1.4142135623730951"
      ]
     },
     "execution_count": 30,
     "metadata": {},
     "output_type": "execute_result"
    }
   ],
   "source": [
    "mod_math = globals()['math']\n",
    "mod_math.sqrt(2)"
   ]
  },
  {
   "cell_type": "code",
   "execution_count": 31,
   "metadata": {},
   "outputs": [
    {
     "data": {
      "text/plain": [
       "dict"
      ]
     },
     "execution_count": 31,
     "metadata": {},
     "output_type": "execute_result"
    }
   ],
   "source": [
    "type(globals())"
   ]
  },
  {
   "cell_type": "code",
   "execution_count": 32,
   "metadata": {},
   "outputs": [
    {
     "data": {
      "text/plain": [
       "module"
      ]
     },
     "execution_count": 32,
     "metadata": {},
     "output_type": "execute_result"
    }
   ],
   "source": [
    "type(math)"
   ]
  },
  {
   "cell_type": "code",
   "execution_count": 33,
   "metadata": {},
   "outputs": [
    {
     "data": {
      "text/plain": [
       "module"
      ]
     },
     "execution_count": 33,
     "metadata": {},
     "output_type": "execute_result"
    }
   ],
   "source": [
    "type(fractions)"
   ]
  },
  {
   "cell_type": "code",
   "execution_count": 34,
   "metadata": {},
   "outputs": [
    {
     "data": {
      "text/plain": [
       "4352411184"
      ]
     },
     "execution_count": 34,
     "metadata": {},
     "output_type": "execute_result"
    }
   ],
   "source": [
    "id(math)"
   ]
  },
  {
   "cell_type": "code",
   "execution_count": 35,
   "metadata": {},
   "outputs": [],
   "source": [
    "# import math again and look at the id (it's the same)\n",
    "import math"
   ]
  },
  {
   "cell_type": "code",
   "execution_count": 36,
   "metadata": {},
   "outputs": [
    {
     "data": {
      "text/plain": [
       "4352411184"
      ]
     },
     "execution_count": 36,
     "metadata": {},
     "output_type": "execute_result"
    }
   ],
   "source": [
    "id(math)"
   ]
  },
  {
   "cell_type": "code",
   "execution_count": 37,
   "metadata": {},
   "outputs": [],
   "source": [
    "import sys"
   ]
  },
  {
   "cell_type": "code",
   "execution_count": 38,
   "metadata": {},
   "outputs": [
    {
     "data": {
      "text/plain": [
       "{'sys': <module 'sys' (built-in)>,\n",
       " 'builtins': <module 'builtins' (built-in)>,\n",
       " '_frozen_importlib': <module '_frozen_importlib' (frozen)>,\n",
       " '_imp': <module '_imp' (built-in)>,\n",
       " '_thread': <module '_thread' (built-in)>,\n",
       " '_warnings': <module '_warnings' (built-in)>,\n",
       " '_weakref': <module '_weakref' (built-in)>,\n",
       " '_io': <module '_io' (built-in)>,\n",
       " 'marshal': <module 'marshal' (built-in)>,\n",
       " 'posix': <module 'posix' (built-in)>,\n",
       " '_frozen_importlib_external': <module '_frozen_importlib_external' (frozen)>,\n",
       " 'time': <module 'time' (built-in)>,\n",
       " 'zipimport': <module 'zipimport' (frozen)>,\n",
       " '_codecs': <module '_codecs' (built-in)>,\n",
       " 'codecs': <module 'codecs' (frozen)>,\n",
       " 'encodings.aliases': <module 'encodings.aliases' from '/Users/aaron/venvs/ml-test1/lib/python3.11/encodings/aliases.py'>,\n",
       " 'encodings': <module 'encodings' from '/Users/aaron/venvs/ml-test1/lib/python3.11/encodings/__init__.py'>,\n",
       " 'encodings.utf_8': <module 'encodings.utf_8' from '/Users/aaron/venvs/ml-test1/lib/python3.11/encodings/utf_8.py'>,\n",
       " '_signal': <module '_signal' (built-in)>,\n",
       " '_abc': <module '_abc' (built-in)>,\n",
       " 'abc': <module 'abc' (frozen)>,\n",
       " 'io': <module 'io' (frozen)>,\n",
       " '__main__': <module '__main__'>,\n",
       " '_stat': <module '_stat' (built-in)>,\n",
       " 'stat': <module 'stat' (frozen)>,\n",
       " '_collections_abc': <module '_collections_abc' (frozen)>,\n",
       " 'genericpath': <module 'genericpath' (frozen)>,\n",
       " 'posixpath': <module 'posixpath' (frozen)>,\n",
       " 'os.path': <module 'posixpath' (frozen)>,\n",
       " 'os': <module 'os' (frozen)>,\n",
       " '_sitebuiltins': <module '_sitebuiltins' (frozen)>,\n",
       " '_distutils_hack': <module '_distutils_hack' from '/Users/aaron/venvs/ml-test1/lib/python3.11/site-packages/_distutils_hack/__init__.py'>,\n",
       " 'site': <module 'site' (frozen)>,\n",
       " 'importlib._bootstrap': <module '_frozen_importlib' (frozen)>,\n",
       " 'importlib._bootstrap_external': <module '_frozen_importlib_external' (frozen)>,\n",
       " 'warnings': <module 'warnings' from '/Users/aaron/venvs/ml-test1/lib/python3.11/warnings.py'>,\n",
       " 'importlib': <module 'importlib' from '/Users/aaron/venvs/ml-test1/lib/python3.11/importlib/__init__.py'>,\n",
       " 'importlib.machinery': <module 'importlib.machinery' (frozen)>,\n",
       " 'importlib._abc': <module 'importlib._abc' from '/Users/aaron/venvs/ml-test1/lib/python3.11/importlib/_abc.py'>,\n",
       " 'itertools': <module 'itertools' (built-in)>,\n",
       " 'keyword': <module 'keyword' from '/Users/aaron/venvs/ml-test1/lib/python3.11/keyword.py'>,\n",
       " '_operator': <module '_operator' (built-in)>,\n",
       " 'operator': <module 'operator' from '/Users/aaron/venvs/ml-test1/lib/python3.11/operator.py'>,\n",
       " 'reprlib': <module 'reprlib' from '/Users/aaron/venvs/ml-test1/lib/python3.11/reprlib.py'>,\n",
       " '_collections': <module '_collections' (built-in)>,\n",
       " 'collections': <module 'collections' from '/Users/aaron/venvs/ml-test1/lib/python3.11/collections/__init__.py'>,\n",
       " 'types': <module 'types' from '/Users/aaron/venvs/ml-test1/lib/python3.11/types.py'>,\n",
       " '_functools': <module '_functools' (built-in)>,\n",
       " 'functools': <module 'functools' from '/Users/aaron/venvs/ml-test1/lib/python3.11/functools.py'>,\n",
       " 'contextlib': <module 'contextlib' from '/Users/aaron/venvs/ml-test1/lib/python3.11/contextlib.py'>,\n",
       " 'importlib.util': <module 'importlib.util' (frozen)>,\n",
       " 'runpy': <module 'runpy' (frozen)>,\n",
       " 'enum': <module 'enum' from '/Users/aaron/venvs/ml-test1/lib/python3.11/enum.py'>,\n",
       " '_sre': <module '_sre' (built-in)>,\n",
       " 're._constants': <module 're._constants' from '/Users/aaron/venvs/ml-test1/lib/python3.11/re/_constants.py'>,\n",
       " 're._parser': <module 're._parser' from '/Users/aaron/venvs/ml-test1/lib/python3.11/re/_parser.py'>,\n",
       " 're._casefix': <module 're._casefix' from '/Users/aaron/venvs/ml-test1/lib/python3.11/re/_casefix.py'>,\n",
       " 're._compiler': <module 're._compiler' from '/Users/aaron/venvs/ml-test1/lib/python3.11/re/_compiler.py'>,\n",
       " 'copyreg': <module 'copyreg' from '/Users/aaron/venvs/ml-test1/lib/python3.11/copyreg.py'>,\n",
       " 're': <module 're' from '/Users/aaron/venvs/ml-test1/lib/python3.11/re/__init__.py'>,\n",
       " 'collections.abc': <module 'collections.abc' from '/Users/aaron/venvs/ml-test1/lib/python3.11/collections/abc.py'>,\n",
       " '_typing': <module '_typing' from '/Users/aaron/venvs/ml-test1/lib/python3.11/lib-dynload/_typing.cpython-311-darwin.so'>,\n",
       " 'typing.io': typing.io,\n",
       " 'typing.re': typing.re,\n",
       " 'typing': <module 'typing' from '/Users/aaron/venvs/ml-test1/lib/python3.11/typing.py'>,\n",
       " 'ipykernel._version': <module 'ipykernel._version' from '/Users/aaron/venvs/ml-test1/lib/python3.11/site-packages/ipykernel/_version.py'>,\n",
       " '__future__': <module '__future__' from '/Users/aaron/venvs/ml-test1/lib/python3.11/__future__.py'>,\n",
       " '_json': <module '_json' from '/Users/aaron/venvs/ml-test1/lib/python3.11/lib-dynload/_json.cpython-311-darwin.so'>,\n",
       " 'json.scanner': <module 'json.scanner' from '/Users/aaron/venvs/ml-test1/lib/python3.11/json/scanner.py'>,\n",
       " 'json.decoder': <module 'json.decoder' from '/Users/aaron/venvs/ml-test1/lib/python3.11/json/decoder.py'>,\n",
       " 'json.encoder': <module 'json.encoder' from '/Users/aaron/venvs/ml-test1/lib/python3.11/json/encoder.py'>,\n",
       " 'json': <module 'json' from '/Users/aaron/venvs/ml-test1/lib/python3.11/json/__init__.py'>,\n",
       " 'errno': <module 'errno' (built-in)>,\n",
       " '_locale': <module '_locale' (built-in)>,\n",
       " 'locale': <module 'locale' from '/Users/aaron/venvs/ml-test1/lib/python3.11/locale.py'>,\n",
       " 'signal': <module 'signal' from '/Users/aaron/venvs/ml-test1/lib/python3.11/signal.py'>,\n",
       " '_weakrefset': <module '_weakrefset' from '/Users/aaron/venvs/ml-test1/lib/python3.11/_weakrefset.py'>,\n",
       " 'threading': <module 'threading' from '/Users/aaron/venvs/ml-test1/lib/python3.11/threading.py'>,\n",
       " 'fcntl': <module 'fcntl' from '/Users/aaron/venvs/ml-test1/lib/python3.11/lib-dynload/fcntl.cpython-311-darwin.so'>,\n",
       " '_posixsubprocess': <module '_posixsubprocess' from '/Users/aaron/venvs/ml-test1/lib/python3.11/lib-dynload/_posixsubprocess.cpython-311-darwin.so'>,\n",
       " 'select': <module 'select' from '/Users/aaron/venvs/ml-test1/lib/python3.11/lib-dynload/select.cpython-311-darwin.so'>,\n",
       " 'math': <module 'math' from '/Users/aaron/venvs/ml-test1/lib/python3.11/lib-dynload/math.cpython-311-darwin.so'>,\n",
       " 'selectors': <module 'selectors' from '/Users/aaron/venvs/ml-test1/lib/python3.11/selectors.py'>,\n",
       " 'subprocess': <module 'subprocess' from '/Users/aaron/venvs/ml-test1/lib/python3.11/subprocess.py'>,\n",
       " 'jupyter_client._version': <module 'jupyter_client._version' from '/Users/aaron/venvs/ml-test1/lib/python3.11/site-packages/jupyter_client/_version.py'>,\n",
       " '_ast': <module '_ast' (built-in)>,\n",
       " 'ast': <module 'ast' from '/Users/aaron/venvs/ml-test1/lib/python3.11/ast.py'>,\n",
       " '_opcode': <module '_opcode' from '/Users/aaron/venvs/ml-test1/lib/python3.11/lib-dynload/_opcode.cpython-311-darwin.so'>,\n",
       " 'opcode': <module 'opcode' from '/Users/aaron/venvs/ml-test1/lib/python3.11/opcode.py'>,\n",
       " 'dis': <module 'dis' from '/Users/aaron/venvs/ml-test1/lib/python3.11/dis.py'>,\n",
       " 'token': <module 'token' from '/Users/aaron/venvs/ml-test1/lib/python3.11/token.py'>,\n",
       " 'tokenize': <module 'tokenize' from '/Users/aaron/venvs/ml-test1/lib/python3.11/tokenize.py'>,\n",
       " 'linecache': <module 'linecache' from '/Users/aaron/venvs/ml-test1/lib/python3.11/linecache.py'>,\n",
       " 'inspect': <module 'inspect' from '/Users/aaron/venvs/ml-test1/lib/python3.11/inspect.py'>,\n",
       " 'fnmatch': <module 'fnmatch' from '/Users/aaron/venvs/ml-test1/lib/python3.11/fnmatch.py'>,\n",
       " 'ntpath': <module 'ntpath' (frozen)>,\n",
       " 'urllib': <module 'urllib' from '/Users/aaron/venvs/ml-test1/lib/python3.11/urllib/__init__.py'>,\n",
       " 'ipaddress': <module 'ipaddress' from '/Users/aaron/venvs/ml-test1/lib/python3.11/ipaddress.py'>,\n",
       " 'urllib.parse': <module 'urllib.parse' from '/Users/aaron/venvs/ml-test1/lib/python3.11/urllib/parse.py'>,\n",
       " 'pathlib': <module 'pathlib' from '/Users/aaron/venvs/ml-test1/lib/python3.11/pathlib.py'>,\n",
       " 'traitlets.utils': <module 'traitlets.utils' from '/Users/aaron/venvs/ml-test1/lib/python3.11/site-packages/traitlets/utils/__init__.py'>,\n",
       " 'traitlets.utils.bunch': <module 'traitlets.utils.bunch' from '/Users/aaron/venvs/ml-test1/lib/python3.11/site-packages/traitlets/utils/bunch.py'>,\n",
       " 'traitlets.utils.descriptions': <module 'traitlets.utils.descriptions' from '/Users/aaron/venvs/ml-test1/lib/python3.11/site-packages/traitlets/utils/descriptions.py'>,\n",
       " 'traitlets.utils.getargspec': <module 'traitlets.utils.getargspec' from '/Users/aaron/venvs/ml-test1/lib/python3.11/site-packages/traitlets/utils/getargspec.py'>,\n",
       " 'traitlets.utils.importstring': <module 'traitlets.utils.importstring' from '/Users/aaron/venvs/ml-test1/lib/python3.11/site-packages/traitlets/utils/importstring.py'>,\n",
       " 'traitlets.utils.sentinel': <module 'traitlets.utils.sentinel' from '/Users/aaron/venvs/ml-test1/lib/python3.11/site-packages/traitlets/utils/sentinel.py'>,\n",
       " 'traitlets.utils.warnings': <module 'traitlets.utils.warnings' from '/Users/aaron/venvs/ml-test1/lib/python3.11/site-packages/traitlets/utils/warnings.py'>,\n",
       " 'traitlets.traitlets': <module 'traitlets.traitlets' from '/Users/aaron/venvs/ml-test1/lib/python3.11/site-packages/traitlets/traitlets.py'>,\n",
       " 'traitlets._version': <module 'traitlets._version' from '/Users/aaron/venvs/ml-test1/lib/python3.11/site-packages/traitlets/_version.py'>,\n",
       " 'weakref': <module 'weakref' from '/Users/aaron/venvs/ml-test1/lib/python3.11/weakref.py'>,\n",
       " 'copy': <module 'copy' from '/Users/aaron/venvs/ml-test1/lib/python3.11/copy.py'>,\n",
       " 'traitlets.utils.decorators': <module 'traitlets.utils.decorators' from '/Users/aaron/venvs/ml-test1/lib/python3.11/site-packages/traitlets/utils/decorators.py'>,\n",
       " 'traitlets': <module 'traitlets' from '/Users/aaron/venvs/ml-test1/lib/python3.11/site-packages/traitlets/__init__.py'>,\n",
       " 'concurrent': <module 'concurrent' from '/Users/aaron/venvs/ml-test1/lib/python3.11/concurrent/__init__.py'>,\n",
       " 'textwrap': <module 'textwrap' from '/Users/aaron/venvs/ml-test1/lib/python3.11/textwrap.py'>,\n",
       " 'traceback': <module 'traceback' from '/Users/aaron/venvs/ml-test1/lib/python3.11/traceback.py'>,\n",
       " '_string': <module '_string' (built-in)>,\n",
       " 'string': <module 'string' from '/Users/aaron/venvs/ml-test1/lib/python3.11/string.py'>,\n",
       " 'atexit': <module 'atexit' (built-in)>,\n",
       " 'logging': <module 'logging' from '/Users/aaron/venvs/ml-test1/lib/python3.11/logging/__init__.py'>,\n",
       " 'concurrent.futures._base': <module 'concurrent.futures._base' from '/Users/aaron/venvs/ml-test1/lib/python3.11/concurrent/futures/_base.py'>,\n",
       " 'concurrent.futures': <module 'concurrent.futures' from '/Users/aaron/venvs/ml-test1/lib/python3.11/concurrent/futures/__init__.py'>,\n",
       " '_heapq': <module '_heapq' from '/Users/aaron/venvs/ml-test1/lib/python3.11/lib-dynload/_heapq.cpython-311-darwin.so'>,\n",
       " 'heapq': <module 'heapq' from '/Users/aaron/venvs/ml-test1/lib/python3.11/heapq.py'>,\n",
       " '_socket': <module '_socket' from '/Users/aaron/venvs/ml-test1/lib/python3.11/lib-dynload/_socket.cpython-311-darwin.so'>,\n",
       " 'array': <module 'array' from '/Users/aaron/venvs/ml-test1/lib/python3.11/lib-dynload/array.cpython-311-darwin.so'>,\n",
       " 'socket': <module 'socket' from '/Users/aaron/venvs/ml-test1/lib/python3.11/socket.py'>,\n",
       " '_ssl': <module '_ssl' from '/Users/aaron/venvs/ml-test1/lib/python3.11/lib-dynload/_ssl.cpython-311-darwin.so'>,\n",
       " '_struct': <module '_struct' from '/Users/aaron/venvs/ml-test1/lib/python3.11/lib-dynload/_struct.cpython-311-darwin.so'>,\n",
       " 'struct': <module 'struct' from '/Users/aaron/venvs/ml-test1/lib/python3.11/struct.py'>,\n",
       " 'binascii': <module 'binascii' from '/Users/aaron/venvs/ml-test1/lib/python3.11/lib-dynload/binascii.cpython-311-darwin.so'>,\n",
       " 'base64': <module 'base64' from '/Users/aaron/venvs/ml-test1/lib/python3.11/base64.py'>,\n",
       " 'ssl': <module 'ssl' from '/Users/aaron/venvs/ml-test1/lib/python3.11/ssl.py'>,\n",
       " 'asyncio.constants': <module 'asyncio.constants' from '/Users/aaron/venvs/ml-test1/lib/python3.11/asyncio/constants.py'>,\n",
       " 'asyncio.coroutines': <module 'asyncio.coroutines' from '/Users/aaron/venvs/ml-test1/lib/python3.11/asyncio/coroutines.py'>,\n",
       " '_contextvars': <module '_contextvars' from '/Users/aaron/venvs/ml-test1/lib/python3.11/lib-dynload/_contextvars.cpython-311-darwin.so'>,\n",
       " 'contextvars': <module 'contextvars' from '/Users/aaron/venvs/ml-test1/lib/python3.11/contextvars.py'>,\n",
       " 'asyncio.format_helpers': <module 'asyncio.format_helpers' from '/Users/aaron/venvs/ml-test1/lib/python3.11/asyncio/format_helpers.py'>,\n",
       " 'asyncio.base_futures': <module 'asyncio.base_futures' from '/Users/aaron/venvs/ml-test1/lib/python3.11/asyncio/base_futures.py'>,\n",
       " 'asyncio.exceptions': <module 'asyncio.exceptions' from '/Users/aaron/venvs/ml-test1/lib/python3.11/asyncio/exceptions.py'>,\n",
       " 'asyncio.base_tasks': <module 'asyncio.base_tasks' from '/Users/aaron/venvs/ml-test1/lib/python3.11/asyncio/base_tasks.py'>,\n",
       " '_asyncio': <module '_asyncio' from '/Users/aaron/venvs/ml-test1/lib/python3.11/lib-dynload/_asyncio.cpython-311-darwin.so'>,\n",
       " 'asyncio.events': <module 'asyncio.events' from '/Users/aaron/venvs/ml-test1/lib/python3.11/asyncio/events.py'>,\n",
       " 'asyncio.futures': <module 'asyncio.futures' from '/Users/aaron/venvs/ml-test1/lib/python3.11/asyncio/futures.py'>,\n",
       " 'asyncio.protocols': <module 'asyncio.protocols' from '/Users/aaron/venvs/ml-test1/lib/python3.11/asyncio/protocols.py'>,\n",
       " 'asyncio.transports': <module 'asyncio.transports' from '/Users/aaron/venvs/ml-test1/lib/python3.11/asyncio/transports.py'>,\n",
       " 'asyncio.log': <module 'asyncio.log' from '/Users/aaron/venvs/ml-test1/lib/python3.11/asyncio/log.py'>,\n",
       " 'asyncio.sslproto': <module 'asyncio.sslproto' from '/Users/aaron/venvs/ml-test1/lib/python3.11/asyncio/sslproto.py'>,\n",
       " 'asyncio.mixins': <module 'asyncio.mixins' from '/Users/aaron/venvs/ml-test1/lib/python3.11/asyncio/mixins.py'>,\n",
       " 'asyncio.tasks': <module 'asyncio.tasks' from '/Users/aaron/venvs/ml-test1/lib/python3.11/asyncio/tasks.py'>,\n",
       " 'asyncio.locks': <module 'asyncio.locks' from '/Users/aaron/venvs/ml-test1/lib/python3.11/asyncio/locks.py'>,\n",
       " 'asyncio.staggered': <module 'asyncio.staggered' from '/Users/aaron/venvs/ml-test1/lib/python3.11/asyncio/staggered.py'>,\n",
       " 'asyncio.trsock': <module 'asyncio.trsock' from '/Users/aaron/venvs/ml-test1/lib/python3.11/asyncio/trsock.py'>,\n",
       " 'asyncio.base_events': <module 'asyncio.base_events' from '/Users/aaron/venvs/ml-test1/lib/python3.11/asyncio/base_events.py'>,\n",
       " 'asyncio.runners': <module 'asyncio.runners' from '/Users/aaron/venvs/ml-test1/lib/python3.11/asyncio/runners.py'>,\n",
       " 'asyncio.queues': <module 'asyncio.queues' from '/Users/aaron/venvs/ml-test1/lib/python3.11/asyncio/queues.py'>,\n",
       " 'asyncio.streams': <module 'asyncio.streams' from '/Users/aaron/venvs/ml-test1/lib/python3.11/asyncio/streams.py'>,\n",
       " 'asyncio.subprocess': <module 'asyncio.subprocess' from '/Users/aaron/venvs/ml-test1/lib/python3.11/asyncio/subprocess.py'>,\n",
       " 'asyncio.taskgroups': <module 'asyncio.taskgroups' from '/Users/aaron/venvs/ml-test1/lib/python3.11/asyncio/taskgroups.py'>,\n",
       " 'asyncio.timeouts': <module 'asyncio.timeouts' from '/Users/aaron/venvs/ml-test1/lib/python3.11/asyncio/timeouts.py'>,\n",
       " 'asyncio.threads': <module 'asyncio.threads' from '/Users/aaron/venvs/ml-test1/lib/python3.11/asyncio/threads.py'>,\n",
       " 'asyncio.base_subprocess': <module 'asyncio.base_subprocess' from '/Users/aaron/venvs/ml-test1/lib/python3.11/asyncio/base_subprocess.py'>,\n",
       " 'asyncio.selector_events': <module 'asyncio.selector_events' from '/Users/aaron/venvs/ml-test1/lib/python3.11/asyncio/selector_events.py'>,\n",
       " 'asyncio.unix_events': <module 'asyncio.unix_events' from '/Users/aaron/venvs/ml-test1/lib/python3.11/asyncio/unix_events.py'>,\n",
       " 'asyncio': <module 'asyncio' from '/Users/aaron/venvs/ml-test1/lib/python3.11/asyncio/__init__.py'>,\n",
       " '_queue': <module '_queue' from '/Users/aaron/venvs/ml-test1/lib/python3.11/lib-dynload/_queue.cpython-311-darwin.so'>,\n",
       " 'queue': <module 'queue' from '/Users/aaron/venvs/ml-test1/lib/python3.11/queue.py'>,\n",
       " 'platform': <module 'platform' from '/Users/aaron/venvs/ml-test1/lib/python3.11/platform.py'>,\n",
       " '_ctypes': <module '_ctypes' from '/Users/aaron/venvs/ml-test1/lib/python3.11/lib-dynload/_ctypes.cpython-311-darwin.so'>,\n",
       " 'ctypes._endian': <module 'ctypes._endian' from '/Users/aaron/venvs/ml-test1/lib/python3.11/ctypes/_endian.py'>,\n",
       " 'ctypes': <module 'ctypes' from '/Users/aaron/venvs/ml-test1/lib/python3.11/ctypes/__init__.py'>,\n",
       " 'zmq.backend.select': <module 'zmq.backend.select' from '/Users/aaron/venvs/ml-test1/lib/python3.11/site-packages/zmq/backend/select.py'>,\n",
       " '_cython_0_29_32': <module '_cython_0_29_32'>,\n",
       " 'cython_runtime': <module 'cython_runtime'>,\n",
       " 'zmq.error': <module 'zmq.error' from '/Users/aaron/venvs/ml-test1/lib/python3.11/site-packages/zmq/error.py'>,\n",
       " 'zmq.backend.cython.context': <module 'zmq.backend.cython.context' from '/Users/aaron/venvs/ml-test1/lib/python3.11/site-packages/zmq/backend/cython/context.cpython-311-darwin.so'>,\n",
       " 'zmq.backend.cython.message': <module 'zmq.backend.cython.message' from '/Users/aaron/venvs/ml-test1/lib/python3.11/site-packages/zmq/backend/cython/message.cpython-311-darwin.so'>,\n",
       " '_bisect': <module '_bisect' from '/Users/aaron/venvs/ml-test1/lib/python3.11/lib-dynload/_bisect.cpython-311-darwin.so'>,\n",
       " 'bisect': <module 'bisect' from '/Users/aaron/venvs/ml-test1/lib/python3.11/bisect.py'>,\n",
       " '_random': <module '_random' from '/Users/aaron/venvs/ml-test1/lib/python3.11/lib-dynload/_random.cpython-311-darwin.so'>,\n",
       " '_sha512': <module '_sha512' from '/Users/aaron/venvs/ml-test1/lib/python3.11/lib-dynload/_sha512.cpython-311-darwin.so'>,\n",
       " 'random': <module 'random' from '/Users/aaron/venvs/ml-test1/lib/python3.11/random.py'>,\n",
       " '_compat_pickle': <module '_compat_pickle' from '/Users/aaron/venvs/ml-test1/lib/python3.11/_compat_pickle.py'>,\n",
       " '_pickle': <module '_pickle' from '/Users/aaron/venvs/ml-test1/lib/python3.11/lib-dynload/_pickle.cpython-311-darwin.so'>,\n",
       " 'pickle': <module 'pickle' from '/Users/aaron/venvs/ml-test1/lib/python3.11/pickle.py'>,\n",
       " 'zmq.constants': <module 'zmq.constants' from '/Users/aaron/venvs/ml-test1/lib/python3.11/site-packages/zmq/constants.py'>,\n",
       " 'zmq.backend.cython.socket': <module 'zmq.backend.cython.socket' from '/Users/aaron/venvs/ml-test1/lib/python3.11/site-packages/zmq/backend/cython/socket.cpython-311-darwin.so'>,\n",
       " 'zmq.backend.cython._device': <module 'zmq.backend.cython._device' from '/Users/aaron/venvs/ml-test1/lib/python3.11/site-packages/zmq/backend/cython/_device.cpython-311-darwin.so'>,\n",
       " 'zmq.backend.cython._poll': <module 'zmq.backend.cython._poll' from '/Users/aaron/venvs/ml-test1/lib/python3.11/site-packages/zmq/backend/cython/_poll.cpython-311-darwin.so'>,\n",
       " 'zmq.backend.cython._proxy_steerable': <module 'zmq.backend.cython._proxy_steerable' from '/Users/aaron/venvs/ml-test1/lib/python3.11/site-packages/zmq/backend/cython/_proxy_steerable.cpython-311-darwin.so'>,\n",
       " 'zmq.backend.cython._version': <module 'zmq.backend.cython._version' from '/Users/aaron/venvs/ml-test1/lib/python3.11/site-packages/zmq/backend/cython/_version.cpython-311-darwin.so'>,\n",
       " 'zmq.backend.cython.error': <module 'zmq.backend.cython.error' from '/Users/aaron/venvs/ml-test1/lib/python3.11/site-packages/zmq/backend/cython/error.cpython-311-darwin.so'>,\n",
       " 'zmq.backend.cython.utils': <module 'zmq.backend.cython.utils' from '/Users/aaron/venvs/ml-test1/lib/python3.11/site-packages/zmq/backend/cython/utils.cpython-311-darwin.so'>,\n",
       " 'zmq.backend.cython': <module 'zmq.backend.cython' from '/Users/aaron/venvs/ml-test1/lib/python3.11/site-packages/zmq/backend/cython/__init__.py'>,\n",
       " 'zmq.backend': <module 'zmq.backend' from '/Users/aaron/venvs/ml-test1/lib/python3.11/site-packages/zmq/backend/__init__.py'>,\n",
       " 'zmq.sugar.attrsettr': <module 'zmq.sugar.attrsettr' from '/Users/aaron/venvs/ml-test1/lib/python3.11/site-packages/zmq/sugar/attrsettr.py'>,\n",
       " 'zmq._typing': <module 'zmq._typing' from '/Users/aaron/venvs/ml-test1/lib/python3.11/site-packages/zmq/_typing.py'>,\n",
       " 'zmq.utils': <module 'zmq.utils' from '/Users/aaron/venvs/ml-test1/lib/python3.11/site-packages/zmq/utils/__init__.py'>,\n",
       " 'zmq.utils.jsonapi': <module 'zmq.utils.jsonapi' from '/Users/aaron/venvs/ml-test1/lib/python3.11/site-packages/zmq/utils/jsonapi.py'>,\n",
       " 'zmq.sugar.poll': <module 'zmq.sugar.poll' from '/Users/aaron/venvs/ml-test1/lib/python3.11/site-packages/zmq/sugar/poll.py'>,\n",
       " 'zmq.sugar.socket': <module 'zmq.sugar.socket' from '/Users/aaron/venvs/ml-test1/lib/python3.11/site-packages/zmq/sugar/socket.py'>,\n",
       " 'zmq.sugar.context': <module 'zmq.sugar.context' from '/Users/aaron/venvs/ml-test1/lib/python3.11/site-packages/zmq/sugar/context.py'>,\n",
       " 'zmq.sugar.frame': <module 'zmq.sugar.frame' from '/Users/aaron/venvs/ml-test1/lib/python3.11/site-packages/zmq/sugar/frame.py'>,\n",
       " 'zmq.sugar.tracker': <module 'zmq.sugar.tracker' from '/Users/aaron/venvs/ml-test1/lib/python3.11/site-packages/zmq/sugar/tracker.py'>,\n",
       " 'zmq.sugar.version': <module 'zmq.sugar.version' from '/Users/aaron/venvs/ml-test1/lib/python3.11/site-packages/zmq/sugar/version.py'>,\n",
       " 'zmq.sugar.stopwatch': <module 'zmq.sugar.stopwatch' from '/Users/aaron/venvs/ml-test1/lib/python3.11/site-packages/zmq/sugar/stopwatch.py'>,\n",
       " 'zmq.sugar': <module 'zmq.sugar' from '/Users/aaron/venvs/ml-test1/lib/python3.11/site-packages/zmq/sugar/__init__.py'>,\n",
       " 'zmq': <module 'zmq' from '/Users/aaron/venvs/ml-test1/lib/python3.11/site-packages/zmq/__init__.py'>,\n",
       " 'zmq._future': <module 'zmq._future' from '/Users/aaron/venvs/ml-test1/lib/python3.11/site-packages/zmq/_future.py'>,\n",
       " 'zmq.asyncio': <module 'zmq.asyncio' from '/Users/aaron/venvs/ml-test1/lib/python3.11/site-packages/zmq/asyncio.py'>,\n",
       " 'jupyter_client.channelsabc': <module 'jupyter_client.channelsabc' from '/Users/aaron/venvs/ml-test1/lib/python3.11/site-packages/jupyter_client/channelsabc.py'>,\n",
       " '_hashlib': <module '_hashlib' from '/Users/aaron/venvs/ml-test1/lib/python3.11/lib-dynload/_hashlib.cpython-311-darwin.so'>,\n",
       " '_blake2': <module '_blake2' from '/Users/aaron/venvs/ml-test1/lib/python3.11/lib-dynload/_blake2.cpython-311-darwin.so'>,\n",
       " 'hashlib': <module 'hashlib' from '/Users/aaron/venvs/ml-test1/lib/python3.11/hashlib.py'>,\n",
       " 'hmac': <module 'hmac' from '/Users/aaron/venvs/ml-test1/lib/python3.11/hmac.py'>,\n",
       " 'dataclasses': <module 'dataclasses' from '/Users/aaron/venvs/ml-test1/lib/python3.11/dataclasses.py'>,\n",
       " 'pprint': <module 'pprint' from '/Users/aaron/venvs/ml-test1/lib/python3.11/pprint.py'>,\n",
       " '_datetime': <module '_datetime' from '/Users/aaron/venvs/ml-test1/lib/python3.11/lib-dynload/_datetime.cpython-311-darwin.so'>,\n",
       " 'datetime': <module 'datetime' from '/Users/aaron/venvs/ml-test1/lib/python3.11/datetime.py'>,\n",
       " 'tornado': <module 'tornado' from '/Users/aaron/venvs/ml-test1/lib/python3.11/site-packages/tornado/__init__.py'>,\n",
       " 'numbers': <module 'numbers' from '/Users/aaron/venvs/ml-test1/lib/python3.11/numbers.py'>,\n",
       " 'logging.handlers': <module 'logging.handlers' from '/Users/aaron/venvs/ml-test1/lib/python3.11/logging/handlers.py'>,\n",
       " 'html.entities': <module 'html.entities' from '/Users/aaron/venvs/ml-test1/lib/python3.11/html/entities.py'>,\n",
       " 'html': <module 'html' from '/Users/aaron/venvs/ml-test1/lib/python3.11/html/__init__.py'>,\n",
       " 'zlib': <module 'zlib' from '/Users/aaron/venvs/ml-test1/lib/python3.11/lib-dynload/zlib.cpython-311-darwin.so'>,\n",
       " 'tornado.speedups': <module 'tornado.speedups' from '/Users/aaron/venvs/ml-test1/lib/python3.11/site-packages/tornado/speedups.abi3.so'>,\n",
       " 'tornado.util': <module 'tornado.util' from '/Users/aaron/venvs/ml-test1/lib/python3.11/site-packages/tornado/util.py'>,\n",
       " 'tornado.escape': <module 'tornado.escape' from '/Users/aaron/venvs/ml-test1/lib/python3.11/site-packages/tornado/escape.py'>,\n",
       " '_curses': <module '_curses' from '/Users/aaron/venvs/ml-test1/lib/python3.11/lib-dynload/_curses.cpython-311-darwin.so'>,\n",
       " 'curses': <module 'curses' from '/Users/aaron/venvs/ml-test1/lib/python3.11/curses/__init__.py'>,\n",
       " 'tornado.log': <module 'tornado.log' from '/Users/aaron/venvs/ml-test1/lib/python3.11/site-packages/tornado/log.py'>,\n",
       " 'tornado.concurrent': <module 'tornado.concurrent' from '/Users/aaron/venvs/ml-test1/lib/python3.11/site-packages/tornado/concurrent.py'>,\n",
       " 'tornado.ioloop': <module 'tornado.ioloop' from '/Users/aaron/venvs/ml-test1/lib/python3.11/site-packages/tornado/ioloop.py'>,\n",
       " 'socketserver': <module 'socketserver' from '/Users/aaron/venvs/ml-test1/lib/python3.11/socketserver.py'>,\n",
       " 'logging.config': <module 'logging.config' from '/Users/aaron/venvs/ml-test1/lib/python3.11/logging/config.py'>,\n",
       " 'traitlets.utils.text': <module 'traitlets.utils.text' from '/Users/aaron/venvs/ml-test1/lib/python3.11/site-packages/traitlets/utils/text.py'>,\n",
       " 'gettext': <module 'gettext' from '/Users/aaron/venvs/ml-test1/lib/python3.11/gettext.py'>,\n",
       " 'argparse': <module 'argparse' from '/Users/aaron/venvs/ml-test1/lib/python3.11/argparse.py'>,\n",
       " 'traitlets.config.loader': <module 'traitlets.config.loader' from '/Users/aaron/venvs/ml-test1/lib/python3.11/site-packages/traitlets/config/loader.py'>,\n",
       " 'traitlets.config.configurable': <module 'traitlets.config.configurable' from '/Users/aaron/venvs/ml-test1/lib/python3.11/site-packages/traitlets/config/configurable.py'>,\n",
       " 'traitlets.utils.nested_update': <module 'traitlets.utils.nested_update' from '/Users/aaron/venvs/ml-test1/lib/python3.11/site-packages/traitlets/utils/nested_update.py'>,\n",
       " 'traitlets.config.application': <module 'traitlets.config.application' from '/Users/aaron/venvs/ml-test1/lib/python3.11/site-packages/traitlets/config/application.py'>,\n",
       " 'traitlets.config': <module 'traitlets.config' from '/Users/aaron/venvs/ml-test1/lib/python3.11/site-packages/traitlets/config/__init__.py'>,\n",
       " 'traitlets.log': <module 'traitlets.log' from '/Users/aaron/venvs/ml-test1/lib/python3.11/site-packages/traitlets/log.py'>,\n",
       " 'tornado.platform': <module 'tornado.platform' from '/Users/aaron/venvs/ml-test1/lib/python3.11/site-packages/tornado/platform/__init__.py'>,\n",
       " 'tornado.gen': <module 'tornado.gen' from '/Users/aaron/venvs/ml-test1/lib/python3.11/site-packages/tornado/gen.py'>,\n",
       " 'tornado.platform.asyncio': <module 'tornado.platform.asyncio' from '/Users/aaron/venvs/ml-test1/lib/python3.11/site-packages/tornado/platform/asyncio.py'>,\n",
       " 'zmq.eventloop.ioloop': <module 'zmq.eventloop.ioloop' from '/Users/aaron/venvs/ml-test1/lib/python3.11/site-packages/zmq/eventloop/ioloop.py'>,\n",
       " 'zmq.eventloop': <module 'zmq.eventloop' from '/Users/aaron/venvs/ml-test1/lib/python3.11/site-packages/zmq/eventloop/__init__.py'>,\n",
       " 'zmq.eventloop.zmqstream': <module 'zmq.eventloop.zmqstream' from '/Users/aaron/venvs/ml-test1/lib/python3.11/site-packages/zmq/eventloop/zmqstream.py'>,\n",
       " 'jupyter_client.adapter': <module 'jupyter_client.adapter' from '/Users/aaron/venvs/ml-test1/lib/python3.11/site-packages/jupyter_client/adapter.py'>,\n",
       " 'dateutil._version': <module 'dateutil._version' from '/Users/aaron/venvs/ml-test1/lib/python3.11/site-packages/dateutil/_version.py'>,\n",
       " 'dateutil': <module 'dateutil' from '/Users/aaron/venvs/ml-test1/lib/python3.11/site-packages/dateutil/__init__.py'>,\n",
       " 'calendar': <module 'calendar' from '/Users/aaron/venvs/ml-test1/lib/python3.11/calendar.py'>,\n",
       " 'six': <module 'six' from '/Users/aaron/venvs/ml-test1/lib/python3.11/site-packages/six.py'>,\n",
       " '_decimal': <module '_decimal' from '/Users/aaron/venvs/ml-test1/lib/python3.11/lib-dynload/_decimal.cpython-311-darwin.so'>,\n",
       " 'decimal': <module 'decimal' from '/Users/aaron/venvs/ml-test1/lib/python3.11/decimal.py'>,\n",
       " 'dateutil._common': <module 'dateutil._common' from '/Users/aaron/venvs/ml-test1/lib/python3.11/site-packages/dateutil/_common.py'>,\n",
       " 'dateutil.relativedelta': <module 'dateutil.relativedelta' from '/Users/aaron/venvs/ml-test1/lib/python3.11/site-packages/dateutil/relativedelta.py'>,\n",
       " 'six.moves': <module 'six.moves' (<six._SixMetaPathImporter object at 0x105b242d0>)>,\n",
       " 'dateutil.tz._common': <module 'dateutil.tz._common' from '/Users/aaron/venvs/ml-test1/lib/python3.11/site-packages/dateutil/tz/_common.py'>,\n",
       " 'dateutil.tz._factories': <module 'dateutil.tz._factories' from '/Users/aaron/venvs/ml-test1/lib/python3.11/site-packages/dateutil/tz/_factories.py'>,\n",
       " 'dateutil.tz.tz': <module 'dateutil.tz.tz' from '/Users/aaron/venvs/ml-test1/lib/python3.11/site-packages/dateutil/tz/tz.py'>,\n",
       " 'dateutil.tz': <module 'dateutil.tz' from '/Users/aaron/venvs/ml-test1/lib/python3.11/site-packages/dateutil/tz/__init__.py'>,\n",
       " 'dateutil.parser._parser': <module 'dateutil.parser._parser' from '/Users/aaron/venvs/ml-test1/lib/python3.11/site-packages/dateutil/parser/_parser.py'>,\n",
       " 'dateutil.parser.isoparser': <module 'dateutil.parser.isoparser' from '/Users/aaron/venvs/ml-test1/lib/python3.11/site-packages/dateutil/parser/isoparser.py'>,\n",
       " 'dateutil.parser': <module 'dateutil.parser' from '/Users/aaron/venvs/ml-test1/lib/python3.11/site-packages/dateutil/parser/__init__.py'>,\n",
       " '_strptime': <module '_strptime' from '/Users/aaron/venvs/ml-test1/lib/python3.11/_strptime.py'>,\n",
       " 'jupyter_client.jsonutil': <module 'jupyter_client.jsonutil' from '/Users/aaron/venvs/ml-test1/lib/python3.11/site-packages/jupyter_client/jsonutil.py'>,\n",
       " 'jupyter_client.session': <module 'jupyter_client.session' from '/Users/aaron/venvs/ml-test1/lib/python3.11/site-packages/jupyter_client/session.py'>,\n",
       " 'jupyter_client.channels': <module 'jupyter_client.channels' from '/Users/aaron/venvs/ml-test1/lib/python3.11/site-packages/jupyter_client/channels.py'>,\n",
       " 'termios': <module 'termios' from '/Users/aaron/venvs/ml-test1/lib/python3.11/lib-dynload/termios.cpython-311-darwin.so'>,\n",
       " 'getpass': <module 'getpass' from '/Users/aaron/venvs/ml-test1/lib/python3.11/getpass.py'>,\n",
       " 'jupyter_client.clientabc': <module 'jupyter_client.clientabc' from '/Users/aaron/venvs/ml-test1/lib/python3.11/site-packages/jupyter_client/clientabc.py'>,\n",
       " 'glob': <module 'glob' from '/Users/aaron/venvs/ml-test1/lib/python3.11/glob.py'>,\n",
       " '_compression': <module '_compression' from '/Users/aaron/venvs/ml-test1/lib/python3.11/_compression.py'>,\n",
       " '_bz2': <module '_bz2' from '/Users/aaron/venvs/ml-test1/lib/python3.11/lib-dynload/_bz2.cpython-311-darwin.so'>,\n",
       " 'bz2': <module 'bz2' from '/Users/aaron/venvs/ml-test1/lib/python3.11/bz2.py'>,\n",
       " '_lzma': <module '_lzma' from '/Users/aaron/venvs/ml-test1/lib/python3.11/lib-dynload/_lzma.cpython-311-darwin.so'>,\n",
       " 'lzma': <module 'lzma' from '/Users/aaron/venvs/ml-test1/lib/python3.11/lzma.py'>,\n",
       " 'shutil': <module 'shutil' from '/Users/aaron/venvs/ml-test1/lib/python3.11/shutil.py'>,\n",
       " 'tempfile': <module 'tempfile' from '/Users/aaron/venvs/ml-test1/lib/python3.11/tempfile.py'>,\n",
       " 'jupyter_core.version': <module 'jupyter_core.version' from '/Users/aaron/venvs/ml-test1/lib/python3.11/site-packages/jupyter_core/version.py'>,\n",
       " 'jupyter_core': <module 'jupyter_core' from '/Users/aaron/venvs/ml-test1/lib/python3.11/site-packages/jupyter_core/__init__.py'>,\n",
       " 'platformdirs.api': <module 'platformdirs.api' from '/Users/aaron/venvs/ml-test1/lib/python3.11/site-packages/platformdirs/api.py'>,\n",
       " 'platformdirs.version': <module 'platformdirs.version' from '/Users/aaron/venvs/ml-test1/lib/python3.11/site-packages/platformdirs/version.py'>,\n",
       " 'platformdirs.macos': <module 'platformdirs.macos' from '/Users/aaron/venvs/ml-test1/lib/python3.11/site-packages/platformdirs/macos.py'>,\n",
       " 'platformdirs': <module 'platformdirs' from '/Users/aaron/venvs/ml-test1/lib/python3.11/site-packages/platformdirs/__init__.py'>,\n",
       " 'jupyter_core.utils': <module 'jupyter_core.utils' from '/Users/aaron/venvs/ml-test1/lib/python3.11/site-packages/jupyter_core/utils/__init__.py'>,\n",
       " 'jupyter_core.paths': <module 'jupyter_core.paths' from '/Users/aaron/venvs/ml-test1/lib/python3.11/site-packages/jupyter_core/paths.py'>,\n",
       " 'jupyter_client.localinterfaces': <module 'jupyter_client.localinterfaces' from '/Users/aaron/venvs/ml-test1/lib/python3.11/site-packages/jupyter_client/localinterfaces.py'>,\n",
       " 'jupyter_client.utils': <module 'jupyter_client.utils' from '/Users/aaron/venvs/ml-test1/lib/python3.11/site-packages/jupyter_client/utils.py'>,\n",
       " 'jupyter_client.connect': <module 'jupyter_client.connect' from '/Users/aaron/venvs/ml-test1/lib/python3.11/site-packages/jupyter_client/connect.py'>,\n",
       " 'jupyter_client.client': <module 'jupyter_client.client' from '/Users/aaron/venvs/ml-test1/lib/python3.11/site-packages/jupyter_client/client.py'>,\n",
       " 'jupyter_client.asynchronous.client': <module 'jupyter_client.asynchronous.client' from '/Users/aaron/venvs/ml-test1/lib/python3.11/site-packages/jupyter_client/asynchronous/client.py'>,\n",
       " 'jupyter_client.asynchronous': <module 'jupyter_client.asynchronous' from '/Users/aaron/venvs/ml-test1/lib/python3.11/site-packages/jupyter_client/asynchronous/__init__.py'>,\n",
       " 'jupyter_client.blocking.client': <module 'jupyter_client.blocking.client' from '/Users/aaron/venvs/ml-test1/lib/python3.11/site-packages/jupyter_client/blocking/client.py'>,\n",
       " 'jupyter_client.blocking': <module 'jupyter_client.blocking' from '/Users/aaron/venvs/ml-test1/lib/python3.11/site-packages/jupyter_client/blocking/__init__.py'>,\n",
       " 'jupyter_client.launcher': <module 'jupyter_client.launcher' from '/Users/aaron/venvs/ml-test1/lib/python3.11/site-packages/jupyter_client/launcher.py'>,\n",
       " '_uuid': <module '_uuid' from '/Users/aaron/venvs/ml-test1/lib/python3.11/lib-dynload/_uuid.cpython-311-darwin.so'>,\n",
       " 'uuid': <module 'uuid' from '/Users/aaron/venvs/ml-test1/lib/python3.11/uuid.py'>,\n",
       " 'jupyter_client.managerabc': <module 'jupyter_client.managerabc' from '/Users/aaron/venvs/ml-test1/lib/python3.11/site-packages/jupyter_client/managerabc.py'>,\n",
       " 'zipfile': <module 'zipfile' from '/Users/aaron/venvs/ml-test1/lib/python3.11/zipfile.py'>,\n",
       " 'configparser': <module 'configparser' from '/Users/aaron/venvs/ml-test1/lib/python3.11/configparser.py'>,\n",
       " 'entrypoints': <module 'entrypoints' from '/Users/aaron/venvs/ml-test1/lib/python3.11/site-packages/entrypoints.py'>,\n",
       " 'jupyter_client.provisioning.provisioner_base': <module 'jupyter_client.provisioning.provisioner_base' from '/Users/aaron/venvs/ml-test1/lib/python3.11/site-packages/jupyter_client/provisioning/provisioner_base.py'>,\n",
       " 'jupyter_client.provisioning.factory': <module 'jupyter_client.provisioning.factory' from '/Users/aaron/venvs/ml-test1/lib/python3.11/site-packages/jupyter_client/provisioning/factory.py'>,\n",
       " 'jupyter_client.provisioning.local_provisioner': <module 'jupyter_client.provisioning.local_provisioner' from '/Users/aaron/venvs/ml-test1/lib/python3.11/site-packages/jupyter_client/provisioning/local_provisioner.py'>,\n",
       " 'jupyter_client.provisioning': <module 'jupyter_client.provisioning' from '/Users/aaron/venvs/ml-test1/lib/python3.11/site-packages/jupyter_client/provisioning/__init__.py'>,\n",
       " 'jupyter_client.kernelspec': <module 'jupyter_client.kernelspec' from '/Users/aaron/venvs/ml-test1/lib/python3.11/site-packages/jupyter_client/kernelspec.py'>,\n",
       " 'jupyter_client.manager': <module 'jupyter_client.manager' from '/Users/aaron/venvs/ml-test1/lib/python3.11/site-packages/jupyter_client/manager.py'>,\n",
       " 'jupyter_client.multikernelmanager': <module 'jupyter_client.multikernelmanager' from '/Users/aaron/venvs/ml-test1/lib/python3.11/site-packages/jupyter_client/multikernelmanager.py'>,\n",
       " 'jupyter_client': <module 'jupyter_client' from '/Users/aaron/venvs/ml-test1/lib/python3.11/site-packages/jupyter_client/__init__.py'>,\n",
       " 'ipykernel.connect': <module 'ipykernel.connect' from '/Users/aaron/venvs/ml-test1/lib/python3.11/site-packages/ipykernel/connect.py'>,\n",
       " 'ipykernel': <module 'ipykernel' from '/Users/aaron/venvs/ml-test1/lib/python3.11/site-packages/ipykernel/__init__.py'>,\n",
       " 'IPython.core': <module 'IPython.core' from '/Users/aaron/venvs/ml-test1/lib/python3.11/site-packages/IPython/core/__init__.py'>,\n",
       " 'IPython.core.getipython': <module 'IPython.core.getipython' from '/Users/aaron/venvs/ml-test1/lib/python3.11/site-packages/IPython/core/getipython.py'>,\n",
       " 'IPython.core.release': <module 'IPython.core.release' from '/Users/aaron/venvs/ml-test1/lib/python3.11/site-packages/IPython/core/release.py'>,\n",
       " 'pkgutil': <module 'pkgutil' from '/Users/aaron/venvs/ml-test1/lib/python3.11/pkgutil.py'>,\n",
       " 'sysconfig': <module 'sysconfig' from '/Users/aaron/venvs/ml-test1/lib/python3.11/sysconfig.py'>,\n",
       " '_sysconfigdata__darwin_darwin': <module '_sysconfigdata__darwin_darwin' from '/Users/aaron/venvs/ml-test1/lib/python3.11/_sysconfigdata__darwin_darwin.py'>,\n",
       " '_osx_support': <module '_osx_support' from '/Users/aaron/venvs/ml-test1/lib/python3.11/_osx_support.py'>,\n",
       " 'pydoc': <module 'pydoc' from '/Users/aaron/venvs/ml-test1/lib/python3.11/pydoc.py'>,\n",
       " 'executing.executing': <module 'executing.executing' from '/Users/aaron/venvs/ml-test1/lib/python3.11/site-packages/executing/executing.py'>,\n",
       " 'executing.version': <module 'executing.version' from '/Users/aaron/venvs/ml-test1/lib/python3.11/site-packages/executing/version.py'>,\n",
       " 'executing': <module 'executing' from '/Users/aaron/venvs/ml-test1/lib/python3.11/site-packages/executing/__init__.py'>,\n",
       " 'asttokens.line_numbers': <module 'asttokens.line_numbers' from '/Users/aaron/venvs/ml-test1/lib/python3.11/site-packages/asttokens/line_numbers.py'>,\n",
       " 'asttokens.util': <module 'asttokens.util' from '/Users/aaron/venvs/ml-test1/lib/python3.11/site-packages/asttokens/util.py'>,\n",
       " 'asttokens.mark_tokens': <module 'asttokens.mark_tokens' from '/Users/aaron/venvs/ml-test1/lib/python3.11/site-packages/asttokens/mark_tokens.py'>,\n",
       " 'asttokens.asttokens': <module 'asttokens.asttokens' from '/Users/aaron/venvs/ml-test1/lib/python3.11/site-packages/asttokens/asttokens.py'>,\n",
       " 'asttokens': <module 'asttokens' from '/Users/aaron/venvs/ml-test1/lib/python3.11/site-packages/asttokens/__init__.py'>,\n",
       " 'fractions': <module 'fractions' from '/Users/aaron/venvs/ml-test1/lib/python3.11/fractions.py'>,\n",
       " 'pure_eval.utils': <module 'pure_eval.utils' from '/Users/aaron/venvs/ml-test1/lib/python3.11/site-packages/pure_eval/utils.py'>,\n",
       " 'pure_eval.my_getattr_static': <module 'pure_eval.my_getattr_static' from '/Users/aaron/venvs/ml-test1/lib/python3.11/site-packages/pure_eval/my_getattr_static.py'>,\n",
       " 'pure_eval.core': <module 'pure_eval.core' from '/Users/aaron/venvs/ml-test1/lib/python3.11/site-packages/pure_eval/core.py'>,\n",
       " 'pure_eval.version': <module 'pure_eval.version' from '/Users/aaron/venvs/ml-test1/lib/python3.11/site-packages/pure_eval/version.py'>,\n",
       " 'pure_eval': <module 'pure_eval' from '/Users/aaron/venvs/ml-test1/lib/python3.11/site-packages/pure_eval/__init__.py'>,\n",
       " 'stack_data.utils': <module 'stack_data.utils' from '/Users/aaron/venvs/ml-test1/lib/python3.11/site-packages/stack_data/utils.py'>,\n",
       " 'stack_data.core': <module 'stack_data.core' from '/Users/aaron/venvs/ml-test1/lib/python3.11/site-packages/stack_data/core.py'>,\n",
       " 'stack_data.formatting': <module 'stack_data.formatting' from '/Users/aaron/venvs/ml-test1/lib/python3.11/site-packages/stack_data/formatting.py'>,\n",
       " 'stack_data.version': <module 'stack_data.version' from '/Users/aaron/venvs/ml-test1/lib/python3.11/site-packages/stack_data/version.py'>,\n",
       " 'stack_data': <module 'stack_data' from '/Users/aaron/venvs/ml-test1/lib/python3.11/site-packages/stack_data/__init__.py'>,\n",
       " 'pygments': <module 'pygments' from '/Users/aaron/venvs/ml-test1/lib/python3.11/site-packages/pygments/__init__.py'>,\n",
       " 'pygments.formatters._mapping': <module 'pygments.formatters._mapping' from '/Users/aaron/venvs/ml-test1/lib/python3.11/site-packages/pygments/formatters/_mapping.py'>,\n",
       " 'pygments.plugin': <module 'pygments.plugin' from '/Users/aaron/venvs/ml-test1/lib/python3.11/site-packages/pygments/plugin.py'>,\n",
       " 'pygments.util': <module 'pygments.util' from '/Users/aaron/venvs/ml-test1/lib/python3.11/site-packages/pygments/util.py'>,\n",
       " 'pygments.formatters': <module 'pygments.formatters' from '/Users/aaron/venvs/ml-test1/lib/python3.11/site-packages/pygments/formatters/__init__.py'>,\n",
       " 'pygments.styles': <module 'pygments.styles' from '/Users/aaron/venvs/ml-test1/lib/python3.11/site-packages/pygments/styles/__init__.py'>,\n",
       " 'pygments.formatter': <module 'pygments.formatter' from '/Users/aaron/venvs/ml-test1/lib/python3.11/site-packages/pygments/formatter.py'>,\n",
       " 'pygments.console': <module 'pygments.console' from '/Users/aaron/venvs/ml-test1/lib/python3.11/site-packages/pygments/console.py'>,\n",
       " 'pygments.token': <module 'pygments.token' from '/Users/aaron/venvs/ml-test1/lib/python3.11/site-packages/pygments/token.py'>,\n",
       " 'pygments.style': <module 'pygments.style' from '/Users/aaron/venvs/ml-test1/lib/python3.11/site-packages/pygments/style.py'>,\n",
       " 'pygments.formatters.terminal256': <module 'pygments.formatters.terminal256' from '/Users/aaron/venvs/ml-test1/lib/python3.11/site-packages/pygments/formatters/terminal256.py'>,\n",
       " 'IPython.utils': <module 'IPython.utils' from '/Users/aaron/venvs/ml-test1/lib/python3.11/site-packages/IPython/utils/__init__.py'>,\n",
       " 'IPython.utils.colorable': <module 'IPython.utils.colorable' from '/Users/aaron/venvs/ml-test1/lib/python3.11/site-packages/IPython/utils/colorable.py'>,\n",
       " 'IPython.utils.ipstruct': <module 'IPython.utils.ipstruct' from '/Users/aaron/venvs/ml-test1/lib/python3.11/site-packages/IPython/utils/ipstruct.py'>,\n",
       " 'IPython.utils.coloransi': <module 'IPython.utils.coloransi' from '/Users/aaron/venvs/ml-test1/lib/python3.11/site-packages/IPython/utils/coloransi.py'>,\n",
       " 'IPython.core.excolors': <module 'IPython.core.excolors' from '/Users/aaron/venvs/ml-test1/lib/python3.11/site-packages/IPython/core/excolors.py'>,\n",
       " 'IPython.utils.PyColorize': <module 'IPython.utils.PyColorize' from '/Users/aaron/venvs/ml-test1/lib/python3.11/site-packages/IPython/utils/PyColorize.py'>,\n",
       " 'IPython.utils.encoding': <module 'IPython.utils.encoding' from '/Users/aaron/venvs/ml-test1/lib/python3.11/site-packages/IPython/utils/encoding.py'>,\n",
       " 'IPython.utils.py3compat': <module 'IPython.utils.py3compat' from '/Users/aaron/venvs/ml-test1/lib/python3.11/site-packages/IPython/utils/py3compat.py'>,\n",
       " 'cmd': <module 'cmd' from '/Users/aaron/venvs/ml-test1/lib/python3.11/cmd.py'>,\n",
       " 'bdb': <module 'bdb' from '/Users/aaron/venvs/ml-test1/lib/python3.11/bdb.py'>,\n",
       " 'codeop': <module 'codeop' from '/Users/aaron/venvs/ml-test1/lib/python3.11/codeop.py'>,\n",
       " 'code': <module 'code' from '/Users/aaron/venvs/ml-test1/lib/python3.11/code.py'>,\n",
       " 'pdb': <module 'pdb' from '/Users/aaron/venvs/ml-test1/lib/python3.11/pdb.py'>,\n",
       " 'IPython.core.debugger': <module 'IPython.core.debugger' from '/Users/aaron/venvs/ml-test1/lib/python3.11/site-packages/IPython/core/debugger.py'>,\n",
       " 'IPython.core.display_trap': <module 'IPython.core.display_trap' from '/Users/aaron/venvs/ml-test1/lib/python3.11/site-packages/IPython/core/display_trap.py'>,\n",
       " 'shlex': <module 'shlex' from '/Users/aaron/venvs/ml-test1/lib/python3.11/shlex.py'>,\n",
       " 'IPython.utils._process_common': <module 'IPython.utils._process_common' from '/Users/aaron/venvs/ml-test1/lib/python3.11/site-packages/IPython/utils/_process_common.py'>,\n",
       " 'IPython.utils._process_posix': <module 'IPython.utils._process_posix' from '/Users/aaron/venvs/ml-test1/lib/python3.11/site-packages/IPython/utils/_process_posix.py'>,\n",
       " 'IPython.utils.process': <module 'IPython.utils.process' from '/Users/aaron/venvs/ml-test1/lib/python3.11/site-packages/IPython/utils/process.py'>,\n",
       " 'IPython.utils.path': <module 'IPython.utils.path' from '/Users/aaron/venvs/ml-test1/lib/python3.11/site-packages/IPython/utils/path.py'>,\n",
       " 'IPython.utils.terminal': <module 'IPython.utils.terminal' from '/Users/aaron/venvs/ml-test1/lib/python3.11/site-packages/IPython/utils/terminal.py'>,\n",
       " 'IPython.core.ultratb': <module 'IPython.core.ultratb' from '/Users/aaron/venvs/ml-test1/lib/python3.11/site-packages/IPython/core/ultratb.py'>,\n",
       " 'IPython.utils._sysinfo': <module 'IPython.utils._sysinfo' from '/Users/aaron/venvs/ml-test1/lib/python3.11/site-packages/IPython/utils/_sysinfo.py'>,\n",
       " 'IPython.utils.sysinfo': <module 'IPython.utils.sysinfo' from '/Users/aaron/venvs/ml-test1/lib/python3.11/site-packages/IPython/utils/sysinfo.py'>,\n",
       " 'IPython.core.crashhandler': <module 'IPython.core.crashhandler' from '/Users/aaron/venvs/ml-test1/lib/python3.11/site-packages/IPython/core/crashhandler.py'>,\n",
       " 'IPython.utils.importstring': <module 'IPython.utils.importstring' from '/Users/aaron/venvs/ml-test1/lib/python3.11/site-packages/IPython/utils/importstring.py'>,\n",
       " 'IPython.paths': <module 'IPython.paths' from '/Users/aaron/venvs/ml-test1/lib/python3.11/site-packages/IPython/paths.py'>,\n",
       " 'IPython.core.profiledir': <module 'IPython.core.profiledir' from '/Users/aaron/venvs/ml-test1/lib/python3.11/site-packages/IPython/core/profiledir.py'>,\n",
       " 'IPython.core.application': <module 'IPython.core.application' from '/Users/aaron/venvs/ml-test1/lib/python3.11/site-packages/IPython/core/application.py'>,\n",
       " 'IPython.terminal': <module 'IPython.terminal' from '/Users/aaron/venvs/ml-test1/lib/python3.11/site-packages/IPython/terminal/__init__.py'>,\n",
       " 'IPython.core.compilerop': <module 'IPython.core.compilerop' from '/Users/aaron/venvs/ml-test1/lib/python3.11/site-packages/IPython/core/compilerop.py'>,\n",
       " 'IPython.core.error': <module 'IPython.core.error' from '/Users/aaron/venvs/ml-test1/lib/python3.11/site-packages/IPython/core/error.py'>,\n",
       " 'IPython.utils.docs': <module 'IPython.utils.docs' from '/Users/aaron/venvs/ml-test1/lib/python3.11/site-packages/IPython/utils/docs.py'>,\n",
       " 'IPython.utils.decorators': <module 'IPython.utils.decorators' from '/Users/aaron/venvs/ml-test1/lib/python3.11/site-packages/IPython/utils/decorators.py'>,\n",
       " 'typing_extensions': <module 'typing_extensions' from '/Users/aaron/venvs/ml-test1/lib/python3.11/site-packages/typing_extensions.py'>,\n",
       " 'IPython.utils.text': <module 'IPython.utils.text' from '/Users/aaron/venvs/ml-test1/lib/python3.11/site-packages/IPython/utils/text.py'>,\n",
       " 'IPython.core.magic_arguments': <module 'IPython.core.magic_arguments' from '/Users/aaron/venvs/ml-test1/lib/python3.11/site-packages/IPython/core/magic_arguments.py'>,\n",
       " 'getopt': <module 'getopt' from '/Users/aaron/venvs/ml-test1/lib/python3.11/getopt.py'>,\n",
       " 'IPython.core.display_functions': <module 'IPython.core.display_functions' from '/Users/aaron/venvs/ml-test1/lib/python3.11/site-packages/IPython/core/display_functions.py'>,\n",
       " 'mimetypes': <module 'mimetypes' from '/Users/aaron/venvs/ml-test1/lib/python3.11/mimetypes.py'>,\n",
       " 'IPython.testing': <module 'IPython.testing' from '/Users/aaron/venvs/ml-test1/lib/python3.11/site-packages/IPython/testing/__init__.py'>,\n",
       " 'IPython.testing.skipdoctest': <module 'IPython.testing.skipdoctest' from '/Users/aaron/venvs/ml-test1/lib/python3.11/site-packages/IPython/testing/skipdoctest.py'>,\n",
       " 'IPython.core.display': <module 'IPython.core.display' from '/Users/aaron/venvs/ml-test1/lib/python3.11/site-packages/IPython/core/display.py'>,\n",
       " 'IPython.lib': <module 'IPython.lib' from '/Users/aaron/venvs/ml-test1/lib/python3.11/site-packages/IPython/lib/__init__.py'>,\n",
       " 'IPython.lib.display': <module 'IPython.lib.display' from '/Users/aaron/venvs/ml-test1/lib/python3.11/site-packages/IPython/lib/display.py'>,\n",
       " 'IPython.display': <module 'IPython.display' from '/Users/aaron/venvs/ml-test1/lib/python3.11/site-packages/IPython/display.py'>,\n",
       " 'IPython.utils.data': <module 'IPython.utils.data' from '/Users/aaron/venvs/ml-test1/lib/python3.11/site-packages/IPython/utils/data.py'>,\n",
       " 'IPython.core.page': <module 'IPython.core.page' from '/Users/aaron/venvs/ml-test1/lib/python3.11/site-packages/IPython/core/page.py'>,\n",
       " 'IPython.lib.pretty': <module 'IPython.lib.pretty' from '/Users/aaron/venvs/ml-test1/lib/python3.11/site-packages/IPython/lib/pretty.py'>,\n",
       " 'IPython.utils.openpy': <module 'IPython.utils.openpy' from '/Users/aaron/venvs/ml-test1/lib/python3.11/site-packages/IPython/utils/openpy.py'>,\n",
       " 'IPython.utils.dir2': <module 'IPython.utils.dir2' from '/Users/aaron/venvs/ml-test1/lib/python3.11/site-packages/IPython/utils/dir2.py'>,\n",
       " 'IPython.utils.wildcard': <module 'IPython.utils.wildcard' from '/Users/aaron/venvs/ml-test1/lib/python3.11/site-packages/IPython/utils/wildcard.py'>,\n",
       " 'pygments.lexers._mapping': <module 'pygments.lexers._mapping' from '/Users/aaron/venvs/ml-test1/lib/python3.11/site-packages/pygments/lexers/_mapping.py'>,\n",
       " 'pygments.modeline': <module 'pygments.modeline' from '/Users/aaron/venvs/ml-test1/lib/python3.11/site-packages/pygments/modeline.py'>,\n",
       " 'pygments.lexers': <module 'pygments.lexers' from '/Users/aaron/venvs/ml-test1/lib/python3.11/site-packages/pygments/lexers/__init__.py'>,\n",
       " 'pygments.filter': <module 'pygments.filter' from '/Users/aaron/venvs/ml-test1/lib/python3.11/site-packages/pygments/filter.py'>,\n",
       " 'pygments.filters': <module 'pygments.filters' from '/Users/aaron/venvs/ml-test1/lib/python3.11/site-packages/pygments/filters/__init__.py'>,\n",
       " 'pygments.regexopt': <module 'pygments.regexopt' from '/Users/aaron/venvs/ml-test1/lib/python3.11/site-packages/pygments/regexopt.py'>,\n",
       " 'pygments.lexer': <module 'pygments.lexer' from '/Users/aaron/venvs/ml-test1/lib/python3.11/site-packages/pygments/lexer.py'>,\n",
       " 'pygments.unistring': <module 'pygments.unistring' from '/Users/aaron/venvs/ml-test1/lib/python3.11/site-packages/pygments/unistring.py'>,\n",
       " 'pygments.lexers.python': <module 'pygments.lexers.python' from '/Users/aaron/venvs/ml-test1/lib/python3.11/site-packages/pygments/lexers/python.py'>,\n",
       " 'pygments.formatters.html': <module 'pygments.formatters.html' from '/Users/aaron/venvs/ml-test1/lib/python3.11/site-packages/pygments/formatters/html.py'>,\n",
       " 'IPython.core.oinspect': <module 'IPython.core.oinspect' from '/Users/aaron/venvs/ml-test1/lib/python3.11/site-packages/IPython/core/oinspect.py'>,\n",
       " 'IPython.utils.tokenutil': <module 'IPython.utils.tokenutil' from '/Users/aaron/venvs/ml-test1/lib/python3.11/site-packages/IPython/utils/tokenutil.py'>,\n",
       " 'IPython.core.inputtransformer2': <module 'IPython.core.inputtransformer2' from '/Users/aaron/venvs/ml-test1/lib/python3.11/site-packages/IPython/core/inputtransformer2.py'>,\n",
       " 'IPython.core.magic': <module 'IPython.core.magic' from '/Users/aaron/venvs/ml-test1/lib/python3.11/site-packages/IPython/core/magic.py'>,\n",
       " 'IPython.core.hooks': <module 'IPython.core.hooks' from '/Users/aaron/venvs/ml-test1/lib/python3.11/site-packages/IPython/core/hooks.py'>,\n",
       " 'IPython.core.autocall': <module 'IPython.core.autocall' from '/Users/aaron/venvs/ml-test1/lib/python3.11/site-packages/IPython/core/autocall.py'>,\n",
       " 'IPython.core.macro': <module 'IPython.core.macro' from '/Users/aaron/venvs/ml-test1/lib/python3.11/site-packages/IPython/core/macro.py'>,\n",
       " 'IPython.core.splitinput': <module 'IPython.core.splitinput' from '/Users/aaron/venvs/ml-test1/lib/python3.11/site-packages/IPython/core/splitinput.py'>,\n",
       " 'IPython.core.prefilter': <module 'IPython.core.prefilter' from '/Users/aaron/venvs/ml-test1/lib/python3.11/site-packages/IPython/core/prefilter.py'>,\n",
       " 'IPython.core.alias': <module 'IPython.core.alias' from '/Users/aaron/venvs/ml-test1/lib/python3.11/site-packages/IPython/core/alias.py'>,\n",
       " 'IPython.core.builtin_trap': <module 'IPython.core.builtin_trap' from '/Users/aaron/venvs/ml-test1/lib/python3.11/site-packages/IPython/core/builtin_trap.py'>,\n",
       " 'IPython.core.displayhook': <module 'IPython.core.displayhook' from '/Users/aaron/venvs/ml-test1/lib/python3.11/site-packages/IPython/core/displayhook.py'>,\n",
       " 'IPython.core.displaypub': <module 'IPython.core.displaypub' from '/Users/aaron/venvs/ml-test1/lib/python3.11/site-packages/IPython/core/displaypub.py'>,\n",
       " 'IPython.core.events': <module 'IPython.core.events' from '/Users/aaron/venvs/ml-test1/lib/python3.11/site-packages/IPython/core/events.py'>,\n",
       " 'IPython.core.extensions': <module 'IPython.core.extensions' from '/Users/aaron/venvs/ml-test1/lib/python3.11/site-packages/IPython/core/extensions.py'>,\n",
       " 'decorator': <module 'decorator' from '/Users/aaron/venvs/ml-test1/lib/python3.11/site-packages/decorator.py'>,\n",
       " 'IPython.utils.sentinel': <module 'IPython.utils.sentinel' from '/Users/aaron/venvs/ml-test1/lib/python3.11/site-packages/IPython/utils/sentinel.py'>,\n",
       " 'IPython.core.formatters': <module 'IPython.core.formatters' from '/Users/aaron/venvs/ml-test1/lib/python3.11/site-packages/IPython/core/formatters.py'>,\n",
       " '_sqlite3': <module '_sqlite3' from '/Users/aaron/venvs/ml-test1/lib/python3.11/lib-dynload/_sqlite3.cpython-311-darwin.so'>,\n",
       " 'sqlite3.dbapi2': <module 'sqlite3.dbapi2' from '/Users/aaron/venvs/ml-test1/lib/python3.11/sqlite3/dbapi2.py'>,\n",
       " 'sqlite3': <module 'sqlite3' from '/Users/aaron/venvs/ml-test1/lib/python3.11/sqlite3/__init__.py'>,\n",
       " 'IPython.core.history': <module 'IPython.core.history' from '/Users/aaron/venvs/ml-test1/lib/python3.11/site-packages/IPython/core/history.py'>,\n",
       " 'IPython.core.logger': <module 'IPython.core.logger' from '/Users/aaron/venvs/ml-test1/lib/python3.11/site-packages/IPython/core/logger.py'>,\n",
       " 'IPython.core.payload': <module 'IPython.core.payload' from '/Users/aaron/venvs/ml-test1/lib/python3.11/site-packages/IPython/core/payload.py'>,\n",
       " 'IPython.core.usage': <module 'IPython.core.usage' from '/Users/aaron/venvs/ml-test1/lib/python3.11/site-packages/IPython/core/usage.py'>,\n",
       " 'IPython.utils.capture': <module 'IPython.utils.capture' from '/Users/aaron/venvs/ml-test1/lib/python3.11/site-packages/IPython/utils/capture.py'>,\n",
       " 'IPython.utils.io': <module 'IPython.utils.io' from '/Users/aaron/venvs/ml-test1/lib/python3.11/site-packages/IPython/utils/io.py'>,\n",
       " 'IPython.utils.strdispatch': <module 'IPython.utils.strdispatch' from '/Users/aaron/venvs/ml-test1/lib/python3.11/site-packages/IPython/utils/strdispatch.py'>,\n",
       " 'IPython.utils.syspathcontext': <module 'IPython.utils.syspathcontext' from '/Users/aaron/venvs/ml-test1/lib/python3.11/site-packages/IPython/utils/syspathcontext.py'>,\n",
       " 'IPython.core.async_helpers': <module 'IPython.core.async_helpers' from '/Users/aaron/venvs/ml-test1/lib/python3.11/site-packages/IPython/core/async_helpers.py'>,\n",
       " 'IPython.core.interactiveshell': <module 'IPython.core.interactiveshell' from '/Users/aaron/venvs/ml-test1/lib/python3.11/site-packages/IPython/core/interactiveshell.py'>,\n",
       " 'prompt_toolkit.application.current': <module 'prompt_toolkit.application.current' from '/Users/aaron/venvs/ml-test1/lib/python3.11/site-packages/prompt_toolkit/application/current.py'>,\n",
       " 'prompt_toolkit.eventloop.utils': <module 'prompt_toolkit.eventloop.utils' from '/Users/aaron/venvs/ml-test1/lib/python3.11/site-packages/prompt_toolkit/eventloop/utils.py'>,\n",
       " 'prompt_toolkit.eventloop.async_generator': <module 'prompt_toolkit.eventloop.async_generator' from '/Users/aaron/venvs/ml-test1/lib/python3.11/site-packages/prompt_toolkit/eventloop/async_generator.py'>,\n",
       " 'prompt_toolkit.eventloop.inputhook': <module 'prompt_toolkit.eventloop.inputhook' from '/Users/aaron/venvs/ml-test1/lib/python3.11/site-packages/prompt_toolkit/eventloop/inputhook.py'>,\n",
       " 'prompt_toolkit.eventloop': <module 'prompt_toolkit.eventloop' from '/Users/aaron/venvs/ml-test1/lib/python3.11/site-packages/prompt_toolkit/eventloop/__init__.py'>,\n",
       " 'prompt_toolkit.application.run_in_terminal': <module 'prompt_toolkit.application.run_in_terminal' from '/Users/aaron/venvs/ml-test1/lib/python3.11/site-packages/prompt_toolkit/application/run_in_terminal.py'>,\n",
       " 'prompt_toolkit.selection': <module 'prompt_toolkit.selection' from '/Users/aaron/venvs/ml-test1/lib/python3.11/site-packages/prompt_toolkit/selection.py'>,\n",
       " 'prompt_toolkit.clipboard.base': <module 'prompt_toolkit.clipboard.base' from '/Users/aaron/venvs/ml-test1/lib/python3.11/site-packages/prompt_toolkit/clipboard/base.py'>,\n",
       " 'prompt_toolkit.clipboard.in_memory': <module 'prompt_toolkit.clipboard.in_memory' from '/Users/aaron/venvs/ml-test1/lib/python3.11/site-packages/prompt_toolkit/clipboard/in_memory.py'>,\n",
       " 'prompt_toolkit.clipboard': <module 'prompt_toolkit.clipboard' from '/Users/aaron/venvs/ml-test1/lib/python3.11/site-packages/prompt_toolkit/clipboard/__init__.py'>,\n",
       " 'prompt_toolkit.cache': <module 'prompt_toolkit.cache' from '/Users/aaron/venvs/ml-test1/lib/python3.11/site-packages/prompt_toolkit/cache.py'>,\n",
       " 'prompt_toolkit.enums': <module 'prompt_toolkit.enums' from '/Users/aaron/venvs/ml-test1/lib/python3.11/site-packages/prompt_toolkit/enums.py'>,\n",
       " 'prompt_toolkit.filters.base': <module 'prompt_toolkit.filters.base' from '/Users/aaron/venvs/ml-test1/lib/python3.11/site-packages/prompt_toolkit/filters/base.py'>,\n",
       " 'prompt_toolkit.filters.app': <module 'prompt_toolkit.filters.app' from '/Users/aaron/venvs/ml-test1/lib/python3.11/site-packages/prompt_toolkit/filters/app.py'>,\n",
       " 'prompt_toolkit.filters.cli': <module 'prompt_toolkit.filters.cli' from '/Users/aaron/venvs/ml-test1/lib/python3.11/site-packages/prompt_toolkit/filters/cli.py'>,\n",
       " 'prompt_toolkit.filters.utils': <module 'prompt_toolkit.filters.utils' from '/Users/aaron/venvs/ml-test1/lib/python3.11/site-packages/prompt_toolkit/filters/utils.py'>,\n",
       " 'prompt_toolkit.filters': <module 'prompt_toolkit.filters' from '/Users/aaron/venvs/ml-test1/lib/python3.11/site-packages/prompt_toolkit/filters/__init__.py'>,\n",
       " 'prompt_toolkit.document': <module 'prompt_toolkit.document' from '/Users/aaron/venvs/ml-test1/lib/python3.11/site-packages/prompt_toolkit/document.py'>,\n",
       " 'prompt_toolkit.auto_suggest': <module 'prompt_toolkit.auto_suggest' from '/Users/aaron/venvs/ml-test1/lib/python3.11/site-packages/prompt_toolkit/auto_suggest.py'>,\n",
       " 'prompt_toolkit.keys': <module 'prompt_toolkit.keys' from '/Users/aaron/venvs/ml-test1/lib/python3.11/site-packages/prompt_toolkit/keys.py'>,\n",
       " 'prompt_toolkit.key_binding.key_bindings': <module 'prompt_toolkit.key_binding.key_bindings' from '/Users/aaron/venvs/ml-test1/lib/python3.11/site-packages/prompt_toolkit/key_binding/key_bindings.py'>,\n",
       " 'wcwidth.table_wide': <module 'wcwidth.table_wide' from '/Users/aaron/venvs/ml-test1/lib/python3.11/site-packages/wcwidth/table_wide.py'>,\n",
       " 'wcwidth.table_zero': <module 'wcwidth.table_zero' from '/Users/aaron/venvs/ml-test1/lib/python3.11/site-packages/wcwidth/table_zero.py'>,\n",
       " 'wcwidth.unicode_versions': <module 'wcwidth.unicode_versions' from '/Users/aaron/venvs/ml-test1/lib/python3.11/site-packages/wcwidth/unicode_versions.py'>,\n",
       " 'wcwidth.wcwidth': <module 'wcwidth.wcwidth' from '/Users/aaron/venvs/ml-test1/lib/python3.11/site-packages/wcwidth/wcwidth.py'>,\n",
       " 'wcwidth': <module 'wcwidth' from '/Users/aaron/venvs/ml-test1/lib/python3.11/site-packages/wcwidth/__init__.py'>,\n",
       " 'prompt_toolkit.utils': <module 'prompt_toolkit.utils' from '/Users/aaron/venvs/ml-test1/lib/python3.11/site-packages/prompt_toolkit/utils.py'>,\n",
       " 'prompt_toolkit.key_binding.key_processor': <module 'prompt_toolkit.key_binding.key_processor' from '/Users/aaron/venvs/ml-test1/lib/python3.11/site-packages/prompt_toolkit/key_binding/key_processor.py'>,\n",
       " 'prompt_toolkit.key_binding': <module 'prompt_toolkit.key_binding' from '/Users/aaron/venvs/ml-test1/lib/python3.11/site-packages/prompt_toolkit/key_binding/__init__.py'>,\n",
       " 'prompt_toolkit.key_binding.vi_state': <module 'prompt_toolkit.key_binding.vi_state' from '/Users/aaron/venvs/ml-test1/lib/python3.11/site-packages/prompt_toolkit/key_binding/vi_state.py'>,\n",
       " 'prompt_toolkit.cursor_shapes': <module 'prompt_toolkit.cursor_shapes' from '/Users/aaron/venvs/ml-test1/lib/python3.11/site-packages/prompt_toolkit/cursor_shapes.py'>,\n",
       " 'prompt_toolkit.data_structures': <module 'prompt_toolkit.data_structures' from '/Users/aaron/venvs/ml-test1/lib/python3.11/site-packages/prompt_toolkit/data_structures.py'>,\n",
       " 'prompt_toolkit.styles.base': <module 'prompt_toolkit.styles.base' from '/Users/aaron/venvs/ml-test1/lib/python3.11/site-packages/prompt_toolkit/styles/base.py'>,\n",
       " 'prompt_toolkit.styles.named_colors': <module 'prompt_toolkit.styles.named_colors' from '/Users/aaron/venvs/ml-test1/lib/python3.11/site-packages/prompt_toolkit/styles/named_colors.py'>,\n",
       " 'prompt_toolkit.styles.style': <module 'prompt_toolkit.styles.style' from '/Users/aaron/venvs/ml-test1/lib/python3.11/site-packages/prompt_toolkit/styles/style.py'>,\n",
       " 'prompt_toolkit.styles.defaults': <module 'prompt_toolkit.styles.defaults' from '/Users/aaron/venvs/ml-test1/lib/python3.11/site-packages/prompt_toolkit/styles/defaults.py'>,\n",
       " 'prompt_toolkit.styles.pygments': <module 'prompt_toolkit.styles.pygments' from '/Users/aaron/venvs/ml-test1/lib/python3.11/site-packages/prompt_toolkit/styles/pygments.py'>,\n",
       " 'colorsys': <module 'colorsys' from '/Users/aaron/venvs/ml-test1/lib/python3.11/colorsys.py'>,\n",
       " 'prompt_toolkit.styles.style_transformation': <module 'prompt_toolkit.styles.style_transformation' from '/Users/aaron/venvs/ml-test1/lib/python3.11/site-packages/prompt_toolkit/styles/style_transformation.py'>,\n",
       " 'prompt_toolkit.styles': <module 'prompt_toolkit.styles' from '/Users/aaron/venvs/ml-test1/lib/python3.11/site-packages/prompt_toolkit/styles/__init__.py'>,\n",
       " 'prompt_toolkit.output.color_depth': <module 'prompt_toolkit.output.color_depth' from '/Users/aaron/venvs/ml-test1/lib/python3.11/site-packages/prompt_toolkit/output/color_depth.py'>,\n",
       " 'prompt_toolkit.output.base': <module 'prompt_toolkit.output.base' from '/Users/aaron/venvs/ml-test1/lib/python3.11/site-packages/prompt_toolkit/output/base.py'>,\n",
       " 'prompt_toolkit.output.flush_stdout': <module 'prompt_toolkit.output.flush_stdout' from '/Users/aaron/venvs/ml-test1/lib/python3.11/site-packages/prompt_toolkit/output/flush_stdout.py'>,\n",
       " 'prompt_toolkit.output.plain_text': <module 'prompt_toolkit.output.plain_text' from '/Users/aaron/venvs/ml-test1/lib/python3.11/site-packages/prompt_toolkit/output/plain_text.py'>,\n",
       " 'prompt_toolkit.output.defaults': <module 'prompt_toolkit.output.defaults' from '/Users/aaron/venvs/ml-test1/lib/python3.11/site-packages/prompt_toolkit/output/defaults.py'>,\n",
       " 'prompt_toolkit.output': <module 'prompt_toolkit.output' from '/Users/aaron/venvs/ml-test1/lib/python3.11/site-packages/prompt_toolkit/output/__init__.py'>,\n",
       " 'prompt_toolkit.output.vt100': <module 'prompt_toolkit.output.vt100' from '/Users/aaron/venvs/ml-test1/lib/python3.11/site-packages/prompt_toolkit/output/vt100.py'>,\n",
       " 'prompt_toolkit.mouse_events': <module 'prompt_toolkit.mouse_events' from '/Users/aaron/venvs/ml-test1/lib/python3.11/site-packages/prompt_toolkit/mouse_events.py'>,\n",
       " 'prompt_toolkit.formatted_text.base': <module 'prompt_toolkit.formatted_text.base' from '/Users/aaron/venvs/ml-test1/lib/python3.11/site-packages/prompt_toolkit/formatted_text/base.py'>,\n",
       " 'prompt_toolkit.formatted_text.ansi': <module 'prompt_toolkit.formatted_text.ansi' from '/Users/aaron/venvs/ml-test1/lib/python3.11/site-packages/prompt_toolkit/formatted_text/ansi.py'>,\n",
       " 'xml': <module 'xml' from '/Users/aaron/venvs/ml-test1/lib/python3.11/xml/__init__.py'>,\n",
       " 'xml.dom.domreg': <module 'xml.dom.domreg' from '/Users/aaron/venvs/ml-test1/lib/python3.11/xml/dom/domreg.py'>,\n",
       " 'xml.dom': <module 'xml.dom' from '/Users/aaron/venvs/ml-test1/lib/python3.11/xml/dom/__init__.py'>,\n",
       " 'xml.dom.minicompat': <module 'xml.dom.minicompat' from '/Users/aaron/venvs/ml-test1/lib/python3.11/xml/dom/minicompat.py'>,\n",
       " 'xml.dom.NodeFilter': <module 'xml.dom.NodeFilter' from '/Users/aaron/venvs/ml-test1/lib/python3.11/xml/dom/NodeFilter.py'>,\n",
       " 'xml.dom.xmlbuilder': <module 'xml.dom.xmlbuilder' from '/Users/aaron/venvs/ml-test1/lib/python3.11/xml/dom/xmlbuilder.py'>,\n",
       " 'xml.dom.minidom': <module 'xml.dom.minidom' from '/Users/aaron/venvs/ml-test1/lib/python3.11/xml/dom/minidom.py'>,\n",
       " 'prompt_toolkit.formatted_text.html': <module 'prompt_toolkit.formatted_text.html' from '/Users/aaron/venvs/ml-test1/lib/python3.11/site-packages/prompt_toolkit/formatted_text/html.py'>,\n",
       " 'prompt_toolkit.formatted_text.pygments': <module 'prompt_toolkit.formatted_text.pygments' from '/Users/aaron/venvs/ml-test1/lib/python3.11/site-packages/prompt_toolkit/formatted_text/pygments.py'>,\n",
       " 'prompt_toolkit.formatted_text.utils': <module 'prompt_toolkit.formatted_text.utils' from '/Users/aaron/venvs/ml-test1/lib/python3.11/site-packages/prompt_toolkit/formatted_text/utils.py'>,\n",
       " 'prompt_toolkit.formatted_text': <module 'prompt_toolkit.formatted_text' from '/Users/aaron/venvs/ml-test1/lib/python3.11/site-packages/prompt_toolkit/formatted_text/__init__.py'>,\n",
       " 'prompt_toolkit.completion.base': <module 'prompt_toolkit.completion.base' from '/Users/aaron/venvs/ml-test1/lib/python3.11/site-packages/prompt_toolkit/completion/base.py'>,\n",
       " 'prompt_toolkit.completion.deduplicate': <module 'prompt_toolkit.completion.deduplicate' from '/Users/aaron/venvs/ml-test1/lib/python3.11/site-packages/prompt_toolkit/completion/deduplicate.py'>,\n",
       " 'prompt_toolkit.completion.filesystem': <module 'prompt_toolkit.completion.filesystem' from '/Users/aaron/venvs/ml-test1/lib/python3.11/site-packages/prompt_toolkit/completion/filesystem.py'>,\n",
       " 'prompt_toolkit.completion.word_completer': <module 'prompt_toolkit.completion.word_completer' from '/Users/aaron/venvs/ml-test1/lib/python3.11/site-packages/prompt_toolkit/completion/word_completer.py'>,\n",
       " 'prompt_toolkit.completion.fuzzy_completer': <module 'prompt_toolkit.completion.fuzzy_completer' from '/Users/aaron/venvs/ml-test1/lib/python3.11/site-packages/prompt_toolkit/completion/fuzzy_completer.py'>,\n",
       " 'prompt_toolkit.completion.nested': <module 'prompt_toolkit.completion.nested' from '/Users/aaron/venvs/ml-test1/lib/python3.11/site-packages/prompt_toolkit/completion/nested.py'>,\n",
       " 'prompt_toolkit.completion': <module 'prompt_toolkit.completion' from '/Users/aaron/venvs/ml-test1/lib/python3.11/site-packages/prompt_toolkit/completion/__init__.py'>,\n",
       " 'prompt_toolkit.history': <module 'prompt_toolkit.history' from '/Users/aaron/venvs/ml-test1/lib/python3.11/site-packages/prompt_toolkit/history.py'>,\n",
       " 'prompt_toolkit.search': <module 'prompt_toolkit.search' from '/Users/aaron/venvs/ml-test1/lib/python3.11/site-packages/prompt_toolkit/search.py'>,\n",
       " 'prompt_toolkit.validation': <module 'prompt_toolkit.validation' from '/Users/aaron/venvs/ml-test1/lib/python3.11/site-packages/prompt_toolkit/validation.py'>,\n",
       " 'prompt_toolkit.buffer': <module 'prompt_toolkit.buffer' from '/Users/aaron/venvs/ml-test1/lib/python3.11/site-packages/prompt_toolkit/buffer.py'>,\n",
       " 'prompt_toolkit.input.base': <module 'prompt_toolkit.input.base' from '/Users/aaron/venvs/ml-test1/lib/python3.11/site-packages/prompt_toolkit/input/base.py'>,\n",
       " 'prompt_toolkit.input.defaults': <module 'prompt_toolkit.input.defaults' from '/Users/aaron/venvs/ml-test1/lib/python3.11/site-packages/prompt_toolkit/input/defaults.py'>,\n",
       " 'prompt_toolkit.input': <module 'prompt_toolkit.input' from '/Users/aaron/venvs/ml-test1/lib/python3.11/site-packages/prompt_toolkit/input/__init__.py'>,\n",
       " 'prompt_toolkit.input.typeahead': <module 'prompt_toolkit.input.typeahead' from '/Users/aaron/venvs/ml-test1/lib/python3.11/site-packages/prompt_toolkit/input/typeahead.py'>,\n",
       " 'prompt_toolkit.key_binding.bindings': <module 'prompt_toolkit.key_binding.bindings' from '/Users/aaron/venvs/ml-test1/lib/python3.11/site-packages/prompt_toolkit/key_binding/bindings/__init__.py'>,\n",
       " 'prompt_toolkit.key_binding.bindings.scroll': <module 'prompt_toolkit.key_binding.bindings.scroll' from '/Users/aaron/venvs/ml-test1/lib/python3.11/site-packages/prompt_toolkit/key_binding/bindings/scroll.py'>,\n",
       " 'prompt_toolkit.key_binding.bindings.page_navigation': <module 'prompt_toolkit.key_binding.bindings.page_navigation' from '/Users/aaron/venvs/ml-test1/lib/python3.11/site-packages/prompt_toolkit/key_binding/bindings/page_navigation.py'>,\n",
       " 'prompt_toolkit.lexers.base': <module 'prompt_toolkit.lexers.base' from '/Users/aaron/venvs/ml-test1/lib/python3.11/site-packages/prompt_toolkit/lexers/base.py'>,\n",
       " 'prompt_toolkit.lexers.pygments': <module 'prompt_toolkit.lexers.pygments' from '/Users/aaron/venvs/ml-test1/lib/python3.11/site-packages/prompt_toolkit/lexers/pygments.py'>,\n",
       " 'prompt_toolkit.lexers': <module 'prompt_toolkit.lexers' from '/Users/aaron/venvs/ml-test1/lib/python3.11/site-packages/prompt_toolkit/lexers/__init__.py'>,\n",
       " 'prompt_toolkit.layout.utils': <module 'prompt_toolkit.layout.utils' from '/Users/aaron/venvs/ml-test1/lib/python3.11/site-packages/prompt_toolkit/layout/utils.py'>,\n",
       " 'prompt_toolkit.layout.processors': <module 'prompt_toolkit.layout.processors' from '/Users/aaron/venvs/ml-test1/lib/python3.11/site-packages/prompt_toolkit/layout/processors.py'>,\n",
       " 'prompt_toolkit.layout.controls': <module 'prompt_toolkit.layout.controls' from '/Users/aaron/venvs/ml-test1/lib/python3.11/site-packages/prompt_toolkit/layout/controls.py'>,\n",
       " 'prompt_toolkit.layout.dimension': <module 'prompt_toolkit.layout.dimension' from '/Users/aaron/venvs/ml-test1/lib/python3.11/site-packages/prompt_toolkit/layout/dimension.py'>,\n",
       " 'prompt_toolkit.layout.margins': <module 'prompt_toolkit.layout.margins' from '/Users/aaron/venvs/ml-test1/lib/python3.11/site-packages/prompt_toolkit/layout/margins.py'>,\n",
       " 'prompt_toolkit.layout.mouse_handlers': <module 'prompt_toolkit.layout.mouse_handlers' from '/Users/aaron/venvs/ml-test1/lib/python3.11/site-packages/prompt_toolkit/layout/mouse_handlers.py'>,\n",
       " 'prompt_toolkit.layout.screen': <module 'prompt_toolkit.layout.screen' from '/Users/aaron/venvs/ml-test1/lib/python3.11/site-packages/prompt_toolkit/layout/screen.py'>,\n",
       " 'prompt_toolkit.layout.containers': <module 'prompt_toolkit.layout.containers' from '/Users/aaron/venvs/ml-test1/lib/python3.11/site-packages/prompt_toolkit/layout/containers.py'>,\n",
       " 'prompt_toolkit.layout.layout': <module 'prompt_toolkit.layout.layout' from '/Users/aaron/venvs/ml-test1/lib/python3.11/site-packages/prompt_toolkit/layout/layout.py'>,\n",
       " 'prompt_toolkit.layout.menus': <module 'prompt_toolkit.layout.menus' from '/Users/aaron/venvs/ml-test1/lib/python3.11/site-packages/prompt_toolkit/layout/menus.py'>,\n",
       " 'prompt_toolkit.layout.scrollable_pane': <module 'prompt_toolkit.layout.scrollable_pane' from '/Users/aaron/venvs/ml-test1/lib/python3.11/site-packages/prompt_toolkit/layout/scrollable_pane.py'>,\n",
       " 'prompt_toolkit.layout': <module 'prompt_toolkit.layout' from '/Users/aaron/venvs/ml-test1/lib/python3.11/site-packages/prompt_toolkit/layout/__init__.py'>,\n",
       " 'prompt_toolkit.key_binding.bindings.completion': <module 'prompt_toolkit.key_binding.bindings.completion' from '/Users/aaron/venvs/ml-test1/lib/python3.11/site-packages/prompt_toolkit/key_binding/bindings/completion.py'>,\n",
       " 'prompt_toolkit.key_binding.bindings.named_commands': <module 'prompt_toolkit.key_binding.bindings.named_commands' from '/Users/aaron/venvs/ml-test1/lib/python3.11/site-packages/prompt_toolkit/key_binding/bindings/named_commands.py'>,\n",
       " 'prompt_toolkit.key_binding.bindings.basic': <module 'prompt_toolkit.key_binding.bindings.basic' from '/Users/aaron/venvs/ml-test1/lib/python3.11/site-packages/prompt_toolkit/key_binding/bindings/basic.py'>,\n",
       " 'prompt_toolkit.key_binding.bindings.cpr': <module 'prompt_toolkit.key_binding.bindings.cpr' from '/Users/aaron/venvs/ml-test1/lib/python3.11/site-packages/prompt_toolkit/key_binding/bindings/cpr.py'>,\n",
       " 'prompt_toolkit.key_binding.bindings.emacs': <module 'prompt_toolkit.key_binding.bindings.emacs' from '/Users/aaron/venvs/ml-test1/lib/python3.11/site-packages/prompt_toolkit/key_binding/bindings/emacs.py'>,\n",
       " 'prompt_toolkit.key_binding.bindings.mouse': <module 'prompt_toolkit.key_binding.bindings.mouse' from '/Users/aaron/venvs/ml-test1/lib/python3.11/site-packages/prompt_toolkit/key_binding/bindings/mouse.py'>,\n",
       " 'prompt_toolkit.input.ansi_escape_sequences': <module 'prompt_toolkit.input.ansi_escape_sequences' from '/Users/aaron/venvs/ml-test1/lib/python3.11/site-packages/prompt_toolkit/input/ansi_escape_sequences.py'>,\n",
       " 'prompt_toolkit.input.vt100_parser': <module 'prompt_toolkit.input.vt100_parser' from '/Users/aaron/venvs/ml-test1/lib/python3.11/site-packages/prompt_toolkit/input/vt100_parser.py'>,\n",
       " 'prompt_toolkit.key_binding.digraphs': <module 'prompt_toolkit.key_binding.digraphs' from '/Users/aaron/venvs/ml-test1/lib/python3.11/site-packages/prompt_toolkit/key_binding/digraphs.py'>,\n",
       " 'prompt_toolkit.key_binding.bindings.vi': <module 'prompt_toolkit.key_binding.bindings.vi' from '/Users/aaron/venvs/ml-test1/lib/python3.11/site-packages/prompt_toolkit/key_binding/bindings/vi.py'>,\n",
       " 'prompt_toolkit.key_binding.defaults': <module 'prompt_toolkit.key_binding.defaults' from '/Users/aaron/venvs/ml-test1/lib/python3.11/site-packages/prompt_toolkit/key_binding/defaults.py'>,\n",
       " 'prompt_toolkit.key_binding.emacs_state': <module 'prompt_toolkit.key_binding.emacs_state' from '/Users/aaron/venvs/ml-test1/lib/python3.11/site-packages/prompt_toolkit/key_binding/emacs_state.py'>,\n",
       " 'prompt_toolkit.layout.dummy': <module 'prompt_toolkit.layout.dummy' from '/Users/aaron/venvs/ml-test1/lib/python3.11/site-packages/prompt_toolkit/layout/dummy.py'>,\n",
       " 'prompt_toolkit.renderer': <module 'prompt_toolkit.renderer' from '/Users/aaron/venvs/ml-test1/lib/python3.11/site-packages/prompt_toolkit/renderer.py'>,\n",
       " 'prompt_toolkit.application.application': <module 'prompt_toolkit.application.application' from '/Users/aaron/venvs/ml-test1/lib/python3.11/site-packages/prompt_toolkit/application/application.py'>,\n",
       " 'prompt_toolkit.application.dummy': <module 'prompt_toolkit.application.dummy' from '/Users/aaron/venvs/ml-test1/lib/python3.11/site-packages/prompt_toolkit/application/dummy.py'>,\n",
       " 'prompt_toolkit.application': <module 'prompt_toolkit.application' from '/Users/aaron/venvs/ml-test1/lib/python3.11/site-packages/prompt_toolkit/application/__init__.py'>,\n",
       " 'prompt_toolkit.key_binding.bindings.focus': <module 'prompt_toolkit.key_binding.bindings.focus' from '/Users/aaron/venvs/ml-test1/lib/python3.11/site-packages/prompt_toolkit/key_binding/bindings/focus.py'>,\n",
       " 'prompt_toolkit.widgets.toolbars': <module 'prompt_toolkit.widgets.toolbars' from '/Users/aaron/venvs/ml-test1/lib/python3.11/site-packages/prompt_toolkit/widgets/toolbars.py'>,\n",
       " 'prompt_toolkit.widgets.base': <module 'prompt_toolkit.widgets.base' from '/Users/aaron/venvs/ml-test1/lib/python3.11/site-packages/prompt_toolkit/widgets/base.py'>,\n",
       " 'prompt_toolkit.widgets.dialogs': <module 'prompt_toolkit.widgets.dialogs' from '/Users/aaron/venvs/ml-test1/lib/python3.11/site-packages/prompt_toolkit/widgets/dialogs.py'>,\n",
       " 'prompt_toolkit.widgets.menus': <module 'prompt_toolkit.widgets.menus' from '/Users/aaron/venvs/ml-test1/lib/python3.11/site-packages/prompt_toolkit/widgets/menus.py'>,\n",
       " 'prompt_toolkit.widgets': <module 'prompt_toolkit.widgets' from '/Users/aaron/venvs/ml-test1/lib/python3.11/site-packages/prompt_toolkit/widgets/__init__.py'>,\n",
       " 'prompt_toolkit.shortcuts.dialogs': <module 'prompt_toolkit.shortcuts.dialogs' from '/Users/aaron/venvs/ml-test1/lib/python3.11/site-packages/prompt_toolkit/shortcuts/dialogs.py'>,\n",
       " 'prompt_toolkit.shortcuts.progress_bar.formatters': <module 'prompt_toolkit.shortcuts.progress_bar.formatters' from '/Users/aaron/venvs/ml-test1/lib/python3.11/site-packages/prompt_toolkit/shortcuts/progress_bar/formatters.py'>,\n",
       " 'prompt_toolkit.shortcuts.progress_bar.base': <module 'prompt_toolkit.shortcuts.progress_bar.base' from '/Users/aaron/venvs/ml-test1/lib/python3.11/site-packages/prompt_toolkit/shortcuts/progress_bar/base.py'>,\n",
       " 'prompt_toolkit.shortcuts.progress_bar': <module 'prompt_toolkit.shortcuts.progress_bar' from '/Users/aaron/venvs/ml-test1/lib/python3.11/site-packages/prompt_toolkit/shortcuts/progress_bar/__init__.py'>,\n",
       " 'prompt_toolkit.key_binding.bindings.auto_suggest': <module 'prompt_toolkit.key_binding.bindings.auto_suggest' from '/Users/aaron/venvs/ml-test1/lib/python3.11/site-packages/prompt_toolkit/key_binding/bindings/auto_suggest.py'>,\n",
       " 'prompt_toolkit.key_binding.bindings.open_in_editor': <module 'prompt_toolkit.key_binding.bindings.open_in_editor' from '/Users/aaron/venvs/ml-test1/lib/python3.11/site-packages/prompt_toolkit/key_binding/bindings/open_in_editor.py'>,\n",
       " 'prompt_toolkit.shortcuts.prompt': <module 'prompt_toolkit.shortcuts.prompt' from '/Users/aaron/venvs/ml-test1/lib/python3.11/site-packages/prompt_toolkit/shortcuts/prompt.py'>,\n",
       " 'prompt_toolkit.shortcuts.utils': <module 'prompt_toolkit.shortcuts.utils' from '/Users/aaron/venvs/ml-test1/lib/python3.11/site-packages/prompt_toolkit/shortcuts/utils.py'>,\n",
       " 'prompt_toolkit.shortcuts': <module 'prompt_toolkit.shortcuts' from '/Users/aaron/venvs/ml-test1/lib/python3.11/site-packages/prompt_toolkit/shortcuts/__init__.py'>,\n",
       " 'prompt_toolkit': <module 'prompt_toolkit' from '/Users/aaron/venvs/ml-test1/lib/python3.11/site-packages/prompt_toolkit/__init__.py'>,\n",
       " 'prompt_toolkit.patch_stdout': <module 'prompt_toolkit.patch_stdout' from '/Users/aaron/venvs/ml-test1/lib/python3.11/site-packages/prompt_toolkit/patch_stdout.py'>,\n",
       " 'unicodedata': <module 'unicodedata' from '/Users/aaron/venvs/ml-test1/lib/python3.11/lib-dynload/unicodedata.cpython-311-darwin.so'>,\n",
       " 'IPython.core.guarded_eval': <module 'IPython.core.guarded_eval' from '/Users/aaron/venvs/ml-test1/lib/python3.11/site-packages/IPython/core/guarded_eval.py'>,\n",
       " 'IPython.core.latex_symbols': <module 'IPython.core.latex_symbols' from '/Users/aaron/venvs/ml-test1/lib/python3.11/site-packages/IPython/core/latex_symbols.py'>,\n",
       " 'IPython.utils.generics': <module 'IPython.utils.generics' from '/Users/aaron/venvs/ml-test1/lib/python3.11/site-packages/IPython/utils/generics.py'>,\n",
       " 'parso.utils': <module 'parso.utils' from '/Users/aaron/venvs/ml-test1/lib/python3.11/site-packages/parso/utils.py'>,\n",
       " 'parso.tree': <module 'parso.tree' from '/Users/aaron/venvs/ml-test1/lib/python3.11/site-packages/parso/tree.py'>,\n",
       " 'parso.python': <module 'parso.python' from '/Users/aaron/venvs/ml-test1/lib/python3.11/site-packages/parso/python/__init__.py'>,\n",
       " 'parso.python.token': <module 'parso.python.token' from '/Users/aaron/venvs/ml-test1/lib/python3.11/site-packages/parso/python/token.py'>,\n",
       " 'parso.python.tokenize': <module 'parso.python.tokenize' from '/Users/aaron/venvs/ml-test1/lib/python3.11/site-packages/parso/python/tokenize.py'>,\n",
       " 'parso.pgen2.grammar_parser': <module 'parso.pgen2.grammar_parser' from '/Users/aaron/venvs/ml-test1/lib/python3.11/site-packages/parso/pgen2/grammar_parser.py'>,\n",
       " 'parso.pgen2.generator': <module 'parso.pgen2.generator' from '/Users/aaron/venvs/ml-test1/lib/python3.11/site-packages/parso/pgen2/generator.py'>,\n",
       " 'parso.pgen2': <module 'parso.pgen2' from '/Users/aaron/venvs/ml-test1/lib/python3.11/site-packages/parso/pgen2/__init__.py'>,\n",
       " 'parso.parser': <module 'parso.parser' from '/Users/aaron/venvs/ml-test1/lib/python3.11/site-packages/parso/parser.py'>,\n",
       " 'parso._compatibility': <module 'parso._compatibility' from '/Users/aaron/venvs/ml-test1/lib/python3.11/site-packages/parso/_compatibility.py'>,\n",
       " 'difflib': <module 'difflib' from '/Users/aaron/venvs/ml-test1/lib/python3.11/difflib.py'>,\n",
       " 'parso.python.prefix': <module 'parso.python.prefix' from '/Users/aaron/venvs/ml-test1/lib/python3.11/site-packages/parso/python/prefix.py'>,\n",
       " 'parso.python.tree': <module 'parso.python.tree' from '/Users/aaron/venvs/ml-test1/lib/python3.11/site-packages/parso/python/tree.py'>,\n",
       " 'parso.python.parser': <module 'parso.python.parser' from '/Users/aaron/venvs/ml-test1/lib/python3.11/site-packages/parso/python/parser.py'>,\n",
       " 'parso.python.diff': <module 'parso.python.diff' from '/Users/aaron/venvs/ml-test1/lib/python3.11/site-packages/parso/python/diff.py'>,\n",
       " 'gc': <module 'gc' (built-in)>,\n",
       " 'parso.cache': <module 'parso.cache' from '/Users/aaron/venvs/ml-test1/lib/python3.11/site-packages/parso/cache.py'>,\n",
       " 'parso.normalizer': <module 'parso.normalizer' from '/Users/aaron/venvs/ml-test1/lib/python3.11/site-packages/parso/normalizer.py'>,\n",
       " 'parso.python.errors': <module 'parso.python.errors' from '/Users/aaron/venvs/ml-test1/lib/python3.11/site-packages/parso/python/errors.py'>,\n",
       " 'parso.python.pep8': <module 'parso.python.pep8' from '/Users/aaron/venvs/ml-test1/lib/python3.11/site-packages/parso/python/pep8.py'>,\n",
       " 'parso.file_io': <module 'parso.file_io' from '/Users/aaron/venvs/ml-test1/lib/python3.11/site-packages/parso/file_io.py'>,\n",
       " 'parso.grammar': <module 'parso.grammar' from '/Users/aaron/venvs/ml-test1/lib/python3.11/site-packages/parso/grammar.py'>,\n",
       " 'parso': <module 'parso' from '/Users/aaron/venvs/ml-test1/lib/python3.11/site-packages/parso/__init__.py'>,\n",
       " 'jedi.parser_utils': <module 'jedi.parser_utils' from '/Users/aaron/venvs/ml-test1/lib/python3.11/site-packages/jedi/parser_utils.py'>,\n",
       " 'jedi.debug': <module 'jedi.debug' from '/Users/aaron/venvs/ml-test1/lib/python3.11/site-packages/jedi/debug.py'>,\n",
       " 'jedi.settings': <module 'jedi.settings' from '/Users/aaron/venvs/ml-test1/lib/python3.11/site-packages/jedi/settings.py'>,\n",
       " 'jedi.cache': <module 'jedi.cache' from '/Users/aaron/venvs/ml-test1/lib/python3.11/site-packages/jedi/cache.py'>,\n",
       " 'jedi.file_io': <module 'jedi.file_io' from '/Users/aaron/venvs/ml-test1/lib/python3.11/site-packages/jedi/file_io.py'>,\n",
       " 'jedi.inference.cache': <module 'jedi.inference.cache' from '/Users/aaron/venvs/ml-test1/lib/python3.11/site-packages/jedi/inference/cache.py'>,\n",
       " 'jedi.inference.helpers': <module 'jedi.inference.helpers' from '/Users/aaron/venvs/ml-test1/lib/python3.11/site-packages/jedi/inference/helpers.py'>,\n",
       " 'jedi.inference.utils': <module 'jedi.inference.utils' from '/Users/aaron/venvs/ml-test1/lib/python3.11/site-packages/jedi/inference/utils.py'>,\n",
       " 'jedi.inference.base_value': <module 'jedi.inference.base_value' from '/Users/aaron/venvs/ml-test1/lib/python3.11/site-packages/jedi/inference/base_value.py'>,\n",
       " 'jedi.inference.sys_path': <module 'jedi.inference.sys_path' from '/Users/aaron/venvs/ml-test1/lib/python3.11/site-packages/jedi/inference/sys_path.py'>,\n",
       " 'jedi.inference.recursion': <module 'jedi.inference.recursion' from '/Users/aaron/venvs/ml-test1/lib/python3.11/site-packages/jedi/inference/recursion.py'>,\n",
       " 'jedi.inference.flow_analysis': <module 'jedi.inference.flow_analysis' from '/Users/aaron/venvs/ml-test1/lib/python3.11/site-packages/jedi/inference/flow_analysis.py'>,\n",
       " 'jedi.common': <module 'jedi.common' from '/Users/aaron/venvs/ml-test1/lib/python3.11/site-packages/jedi/common.py'>,\n",
       " 'jedi.inference.lazy_value': <module 'jedi.inference.lazy_value' from '/Users/aaron/venvs/ml-test1/lib/python3.11/site-packages/jedi/inference/lazy_value.py'>,\n",
       " 'jedi.inference.docstrings': <module 'jedi.inference.docstrings' from '/Users/aaron/venvs/ml-test1/lib/python3.11/site-packages/jedi/inference/docstrings.py'>,\n",
       " 'jedi.plugins': <module 'jedi.plugins' from '/Users/aaron/venvs/ml-test1/lib/python3.11/site-packages/jedi/plugins/__init__.py'>,\n",
       " 'jedi.inference.names': <module 'jedi.inference.names' from '/Users/aaron/venvs/ml-test1/lib/python3.11/site-packages/jedi/inference/names.py'>,\n",
       " 'jedi.inference.filters': <module 'jedi.inference.filters' from '/Users/aaron/venvs/ml-test1/lib/python3.11/site-packages/jedi/inference/filters.py'>,\n",
       " 'jedi.inference.compiled.getattr_static': <module 'jedi.inference.compiled.getattr_static' from '/Users/aaron/venvs/ml-test1/lib/python3.11/site-packages/jedi/inference/compiled/getattr_static.py'>,\n",
       " 'jedi.inference.compiled.access': <module 'jedi.inference.compiled.access' from '/Users/aaron/venvs/ml-test1/lib/python3.11/site-packages/jedi/inference/compiled/access.py'>,\n",
       " 'jedi.inference.signature': <module 'jedi.inference.signature' from '/Users/aaron/venvs/ml-test1/lib/python3.11/site-packages/jedi/inference/signature.py'>,\n",
       " 'jedi.inference.context': <module 'jedi.inference.context' from '/Users/aaron/venvs/ml-test1/lib/python3.11/site-packages/jedi/inference/context.py'>,\n",
       " 'jedi.inference.compiled.value': <module 'jedi.inference.compiled.value' from '/Users/aaron/venvs/ml-test1/lib/python3.11/site-packages/jedi/inference/compiled/value.py'>,\n",
       " 'jedi.inference.compiled': <module 'jedi.inference.compiled' from '/Users/aaron/venvs/ml-test1/lib/python3.11/site-packages/jedi/inference/compiled/__init__.py'>,\n",
       " 'jedi.inference.analysis': <module 'jedi.inference.analysis' from '/Users/aaron/venvs/ml-test1/lib/python3.11/site-packages/jedi/inference/analysis.py'>,\n",
       " 'jedi.inference.gradual': <module 'jedi.inference.gradual' from '/Users/aaron/venvs/ml-test1/lib/python3.11/site-packages/jedi/inference/gradual/__init__.py'>,\n",
       " 'jedi.inference.value.module': <module 'jedi.inference.value.module' from '/Users/aaron/venvs/ml-test1/lib/python3.11/site-packages/jedi/inference/value/module.py'>,\n",
       " 'jedi.inference.value.dynamic_arrays': <module 'jedi.inference.value.dynamic_arrays' from '/Users/aaron/venvs/ml-test1/lib/python3.11/site-packages/jedi/inference/value/dynamic_arrays.py'>,\n",
       " 'jedi.inference.value.iterable': <module 'jedi.inference.value.iterable' from '/Users/aaron/venvs/ml-test1/lib/python3.11/site-packages/jedi/inference/value/iterable.py'>,\n",
       " 'jedi.inference.arguments': <module 'jedi.inference.arguments' from '/Users/aaron/venvs/ml-test1/lib/python3.11/site-packages/jedi/inference/arguments.py'>,\n",
       " 'jedi.inference.parser_cache': <module 'jedi.inference.parser_cache' from '/Users/aaron/venvs/ml-test1/lib/python3.11/site-packages/jedi/inference/parser_cache.py'>,\n",
       " 'jedi.inference.gradual.generics': <module 'jedi.inference.gradual.generics' from '/Users/aaron/venvs/ml-test1/lib/python3.11/site-packages/jedi/inference/gradual/generics.py'>,\n",
       " 'jedi.inference.value.function': <module 'jedi.inference.value.function' from '/Users/aaron/venvs/ml-test1/lib/python3.11/site-packages/jedi/inference/value/function.py'>,\n",
       " 'jedi.inference.value.klass': <module 'jedi.inference.value.klass' from '/Users/aaron/venvs/ml-test1/lib/python3.11/site-packages/jedi/inference/value/klass.py'>,\n",
       " 'jedi.inference.value.instance': <module 'jedi.inference.value.instance' from '/Users/aaron/venvs/ml-test1/lib/python3.11/site-packages/jedi/inference/value/instance.py'>,\n",
       " 'jedi.inference.value': <module 'jedi.inference.value' from '/Users/aaron/venvs/ml-test1/lib/python3.11/site-packages/jedi/inference/value/__init__.py'>,\n",
       " 'jedi.inference.gradual.base': <module 'jedi.inference.gradual.base' from '/Users/aaron/venvs/ml-test1/lib/python3.11/site-packages/jedi/inference/gradual/base.py'>,\n",
       " 'jedi.inference.gradual.type_var': <module 'jedi.inference.gradual.type_var' from '/Users/aaron/venvs/ml-test1/lib/python3.11/site-packages/jedi/inference/gradual/type_var.py'>,\n",
       " 'jedi.inference.gradual.typing': <module 'jedi.inference.gradual.typing' from '/Users/aaron/venvs/ml-test1/lib/python3.11/site-packages/jedi/inference/gradual/typing.py'>,\n",
       " 'jedi.inference.gradual.stub_value': <module 'jedi.inference.gradual.stub_value' from '/Users/aaron/venvs/ml-test1/lib/python3.11/site-packages/jedi/inference/gradual/stub_value.py'>,\n",
       " 'jedi.inference.gradual.typeshed': <module 'jedi.inference.gradual.typeshed' from '/Users/aaron/venvs/ml-test1/lib/python3.11/site-packages/jedi/inference/gradual/typeshed.py'>,\n",
       " 'jedi._compatibility': <module 'jedi._compatibility' from '/Users/aaron/venvs/ml-test1/lib/python3.11/site-packages/jedi/_compatibility.py'>,\n",
       " 'jedi.inference.compiled.subprocess.functions': <module 'jedi.inference.compiled.subprocess.functions' from '/Users/aaron/venvs/ml-test1/lib/python3.11/site-packages/jedi/inference/compiled/subprocess/functions.py'>,\n",
       " 'jedi.api.exceptions': <module 'jedi.api.exceptions' from '/Users/aaron/venvs/ml-test1/lib/python3.11/site-packages/jedi/api/exceptions.py'>,\n",
       " 'jedi.inference.compiled.subprocess': <module 'jedi.inference.compiled.subprocess' from '/Users/aaron/venvs/ml-test1/lib/python3.11/site-packages/jedi/inference/compiled/subprocess/__init__.py'>,\n",
       " 'jedi.inference.imports': <module 'jedi.inference.imports' from '/Users/aaron/venvs/ml-test1/lib/python3.11/site-packages/jedi/inference/imports.py'>,\n",
       " 'jedi.inference.param': <module 'jedi.inference.param' from '/Users/aaron/venvs/ml-test1/lib/python3.11/site-packages/jedi/inference/param.py'>,\n",
       " 'jedi.inference.gradual.annotation': <module 'jedi.inference.gradual.annotation' from '/Users/aaron/venvs/ml-test1/lib/python3.11/site-packages/jedi/inference/gradual/annotation.py'>,\n",
       " 'jedi.inference.value.decorator': <module 'jedi.inference.value.decorator' from '/Users/aaron/venvs/ml-test1/lib/python3.11/site-packages/jedi/inference/value/decorator.py'>,\n",
       " 'jedi.inference.syntax_tree': <module 'jedi.inference.syntax_tree' from '/Users/aaron/venvs/ml-test1/lib/python3.11/site-packages/jedi/inference/syntax_tree.py'>,\n",
       " 'jedi.inference': <module 'jedi.inference' from '/Users/aaron/venvs/ml-test1/lib/python3.11/site-packages/jedi/inference/__init__.py'>,\n",
       " 'jedi.inference.gradual.conversion': <module 'jedi.inference.gradual.conversion' from '/Users/aaron/venvs/ml-test1/lib/python3.11/site-packages/jedi/inference/gradual/conversion.py'>,\n",
       " 'jedi.inference.compiled.mixed': <module 'jedi.inference.compiled.mixed' from '/Users/aaron/venvs/ml-test1/lib/python3.11/site-packages/jedi/inference/compiled/mixed.py'>,\n",
       " 'pydoc_data': <module 'pydoc_data' from '/Users/aaron/venvs/ml-test1/lib/python3.11/pydoc_data/__init__.py'>,\n",
       " 'pydoc_data.topics': <module 'pydoc_data.topics' from '/Users/aaron/venvs/ml-test1/lib/python3.11/pydoc_data/topics.py'>,\n",
       " 'jedi.api.keywords': <module 'jedi.api.keywords' from '/Users/aaron/venvs/ml-test1/lib/python3.11/site-packages/jedi/api/keywords.py'>,\n",
       " 'jedi.api.completion_cache': <module 'jedi.api.completion_cache' from '/Users/aaron/venvs/ml-test1/lib/python3.11/site-packages/jedi/api/completion_cache.py'>,\n",
       " 'jedi.api.helpers': <module 'jedi.api.helpers' from '/Users/aaron/venvs/ml-test1/lib/python3.11/site-packages/jedi/api/helpers.py'>,\n",
       " 'jedi.api.classes': <module 'jedi.api.classes' from '/Users/aaron/venvs/ml-test1/lib/python3.11/site-packages/jedi/api/classes.py'>,\n",
       " 'jedi.api.interpreter': <module 'jedi.api.interpreter' from '/Users/aaron/venvs/ml-test1/lib/python3.11/site-packages/jedi/api/interpreter.py'>,\n",
       " 'jedi.api.strings': <module 'jedi.api.strings' from '/Users/aaron/venvs/ml-test1/lib/python3.11/site-packages/jedi/api/strings.py'>,\n",
       " 'jedi.api.file_name': <module 'jedi.api.file_name' from '/Users/aaron/venvs/ml-test1/lib/python3.11/site-packages/jedi/api/file_name.py'>,\n",
       " 'jedi.inference.docstring_utils': <module 'jedi.inference.docstring_utils' from '/Users/aaron/venvs/ml-test1/lib/python3.11/site-packages/jedi/inference/docstring_utils.py'>,\n",
       " 'jedi.api.completion': <module 'jedi.api.completion' from '/Users/aaron/venvs/ml-test1/lib/python3.11/site-packages/jedi/api/completion.py'>,\n",
       " 'filecmp': <module 'filecmp' from '/Users/aaron/venvs/ml-test1/lib/python3.11/filecmp.py'>,\n",
       " 'jedi.api.environment': <module 'jedi.api.environment' from '/Users/aaron/venvs/ml-test1/lib/python3.11/site-packages/jedi/api/environment.py'>,\n",
       " 'jedi.inference.references': <module 'jedi.inference.references' from '/Users/aaron/venvs/ml-test1/lib/python3.11/site-packages/jedi/inference/references.py'>,\n",
       " 'jedi.api.project': <module 'jedi.api.project' from '/Users/aaron/venvs/ml-test1/lib/python3.11/site-packages/jedi/api/project.py'>,\n",
       " 'jedi.api.errors': <module 'jedi.api.errors' from '/Users/aaron/venvs/ml-test1/lib/python3.11/site-packages/jedi/api/errors.py'>,\n",
       " 'jedi.inference.value.namespace': <module 'jedi.inference.value.namespace' from '/Users/aaron/venvs/ml-test1/lib/python3.11/site-packages/jedi/inference/value/namespace.py'>,\n",
       " 'jedi.api.refactoring': <module 'jedi.api.refactoring' from '/Users/aaron/venvs/ml-test1/lib/python3.11/site-packages/jedi/api/refactoring/__init__.py'>,\n",
       " 'jedi.api.refactoring.extract': <module 'jedi.api.refactoring.extract' from '/Users/aaron/venvs/ml-test1/lib/python3.11/site-packages/jedi/api/refactoring/extract.py'>,\n",
       " 'jedi.inference.gradual.utils': <module 'jedi.inference.gradual.utils' from '/Users/aaron/venvs/ml-test1/lib/python3.11/site-packages/jedi/inference/gradual/utils.py'>,\n",
       " 'jedi.api': <module 'jedi.api' from '/Users/aaron/venvs/ml-test1/lib/python3.11/site-packages/jedi/api/__init__.py'>,\n",
       " 'jedi.plugins.stdlib': <module 'jedi.plugins.stdlib' from '/Users/aaron/venvs/ml-test1/lib/python3.11/site-packages/jedi/plugins/stdlib.py'>,\n",
       " 'jedi.plugins.flask': <module 'jedi.plugins.flask' from '/Users/aaron/venvs/ml-test1/lib/python3.11/site-packages/jedi/plugins/flask.py'>,\n",
       " 'jedi.plugins.pytest': <module 'jedi.plugins.pytest' from '/Users/aaron/venvs/ml-test1/lib/python3.11/site-packages/jedi/plugins/pytest.py'>,\n",
       " 'jedi.plugins.django': <module 'jedi.plugins.django' from '/Users/aaron/venvs/ml-test1/lib/python3.11/site-packages/jedi/plugins/django.py'>,\n",
       " 'jedi.plugins.registry': <module 'jedi.plugins.registry' from '/Users/aaron/venvs/ml-test1/lib/python3.11/site-packages/jedi/plugins/registry.py'>,\n",
       " 'jedi': <module 'jedi' from '/Users/aaron/venvs/ml-test1/lib/python3.11/site-packages/jedi/__init__.py'>,\n",
       " 'IPython.core.completer': <module 'IPython.core.completer' from '/Users/aaron/venvs/ml-test1/lib/python3.11/site-packages/IPython/core/completer.py'>,\n",
       " 'IPython.terminal.ptutils': <module 'IPython.terminal.ptutils' from '/Users/aaron/venvs/ml-test1/lib/python3.11/site-packages/IPython/terminal/ptutils.py'>,\n",
       " 'IPython.terminal.shortcuts.auto_match': <module 'IPython.terminal.shortcuts.auto_match' from '/Users/aaron/venvs/ml-test1/lib/python3.11/site-packages/IPython/terminal/shortcuts/auto_match.py'>,\n",
       " 'IPython.terminal.shortcuts.filters': <module 'IPython.terminal.shortcuts.filters' from '/Users/aaron/venvs/ml-test1/lib/python3.11/site-packages/IPython/terminal/shortcuts/filters.py'>,\n",
       " 'IPython.terminal.shortcuts.auto_suggest': <module 'IPython.terminal.shortcuts.auto_suggest' from '/Users/aaron/venvs/ml-test1/lib/python3.11/site-packages/IPython/terminal/shortcuts/auto_suggest.py'>,\n",
       " 'IPython.terminal.shortcuts': <module 'IPython.terminal.shortcuts' from '/Users/aaron/venvs/ml-test1/lib/python3.11/site-packages/IPython/terminal/shortcuts/__init__.py'>,\n",
       " 'concurrent.futures.thread': <module 'concurrent.futures.thread' from '/Users/aaron/venvs/ml-test1/lib/python3.11/concurrent/futures/thread.py'>,\n",
       " 'IPython.terminal.debugger': <module 'IPython.terminal.debugger' from '/Users/aaron/venvs/ml-test1/lib/python3.11/site-packages/IPython/terminal/debugger.py'>,\n",
       " 'IPython.lib.clipboard': <module 'IPython.lib.clipboard' from '/Users/aaron/venvs/ml-test1/lib/python3.11/site-packages/IPython/lib/clipboard.py'>,\n",
       " 'IPython.terminal.magics': <module 'IPython.terminal.magics' from '/Users/aaron/venvs/ml-test1/lib/python3.11/site-packages/IPython/terminal/magics.py'>,\n",
       " 'IPython.terminal.pt_inputhooks': <module 'IPython.terminal.pt_inputhooks' from '/Users/aaron/venvs/ml-test1/lib/python3.11/site-packages/IPython/terminal/pt_inputhooks/__init__.py'>,\n",
       " 'IPython.terminal.prompts': <module 'IPython.terminal.prompts' from '/Users/aaron/venvs/ml-test1/lib/python3.11/site-packages/IPython/terminal/prompts.py'>,\n",
       " 'IPython.terminal.interactiveshell': <module 'IPython.terminal.interactiveshell' from '/Users/aaron/venvs/ml-test1/lib/python3.11/site-packages/IPython/terminal/interactiveshell.py'>,\n",
       " 'IPython.core.magics.auto': <module 'IPython.core.magics.auto' from '/Users/aaron/venvs/ml-test1/lib/python3.11/site-packages/IPython/core/magics/auto.py'>,\n",
       " 'IPython.core.magics.basic': <module 'IPython.core.magics.basic' from '/Users/aaron/venvs/ml-test1/lib/python3.11/site-packages/IPython/core/magics/basic.py'>,\n",
       " 'email': <module 'email' from '/Users/aaron/venvs/ml-test1/lib/python3.11/email/__init__.py'>,\n",
       " 'http': <module 'http' from '/Users/aaron/venvs/ml-test1/lib/python3.11/http/__init__.py'>,\n",
       " 'email.errors': <module 'email.errors' from '/Users/aaron/venvs/ml-test1/lib/python3.11/email/errors.py'>,\n",
       " 'email.quoprimime': <module 'email.quoprimime' from '/Users/aaron/venvs/ml-test1/lib/python3.11/email/quoprimime.py'>,\n",
       " 'email.base64mime': <module 'email.base64mime' from '/Users/aaron/venvs/ml-test1/lib/python3.11/email/base64mime.py'>,\n",
       " 'quopri': <module 'quopri' from '/Users/aaron/venvs/ml-test1/lib/python3.11/quopri.py'>,\n",
       " 'email.encoders': <module 'email.encoders' from '/Users/aaron/venvs/ml-test1/lib/python3.11/email/encoders.py'>,\n",
       " 'email.charset': <module 'email.charset' from '/Users/aaron/venvs/ml-test1/lib/python3.11/email/charset.py'>,\n",
       " 'email.header': <module 'email.header' from '/Users/aaron/venvs/ml-test1/lib/python3.11/email/header.py'>,\n",
       " 'email._parseaddr': <module 'email._parseaddr' from '/Users/aaron/venvs/ml-test1/lib/python3.11/email/_parseaddr.py'>,\n",
       " 'email.utils': <module 'email.utils' from '/Users/aaron/venvs/ml-test1/lib/python3.11/email/utils.py'>,\n",
       " 'email._policybase': <module 'email._policybase' from '/Users/aaron/venvs/ml-test1/lib/python3.11/email/_policybase.py'>,\n",
       " 'email.feedparser': <module 'email.feedparser' from '/Users/aaron/venvs/ml-test1/lib/python3.11/email/feedparser.py'>,\n",
       " 'email.parser': <module 'email.parser' from '/Users/aaron/venvs/ml-test1/lib/python3.11/email/parser.py'>,\n",
       " 'email._encoded_words': <module 'email._encoded_words' from '/Users/aaron/venvs/ml-test1/lib/python3.11/email/_encoded_words.py'>,\n",
       " 'email.iterators': <module 'email.iterators' from '/Users/aaron/venvs/ml-test1/lib/python3.11/email/iterators.py'>,\n",
       " 'email.message': <module 'email.message' from '/Users/aaron/venvs/ml-test1/lib/python3.11/email/message.py'>,\n",
       " 'http.client': <module 'http.client' from '/Users/aaron/venvs/ml-test1/lib/python3.11/http/client.py'>,\n",
       " 'urllib.response': <module 'urllib.response' from '/Users/aaron/venvs/ml-test1/lib/python3.11/urllib/response.py'>,\n",
       " 'urllib.error': <module 'urllib.error' from '/Users/aaron/venvs/ml-test1/lib/python3.11/urllib/error.py'>,\n",
       " '_scproxy': <module '_scproxy' from '/Users/aaron/venvs/ml-test1/lib/python3.11/lib-dynload/_scproxy.cpython-311-darwin.so'>,\n",
       " 'urllib.request': <module 'urllib.request' from '/Users/aaron/venvs/ml-test1/lib/python3.11/urllib/request.py'>,\n",
       " 'IPython.utils.contexts': <module 'IPython.utils.contexts' from '/Users/aaron/venvs/ml-test1/lib/python3.11/site-packages/IPython/utils/contexts.py'>,\n",
       " 'IPython.core.magics.code': <module 'IPython.core.magics.code' from '/Users/aaron/venvs/ml-test1/lib/python3.11/site-packages/IPython/core/magics/code.py'>,\n",
       " 'IPython.core.magics.config': <module 'IPython.core.magics.config' from '/Users/aaron/venvs/ml-test1/lib/python3.11/site-packages/IPython/core/magics/config.py'>,\n",
       " 'IPython.core.magics.display': <module 'IPython.core.magics.display' from '/Users/aaron/venvs/ml-test1/lib/python3.11/site-packages/IPython/core/magics/display.py'>,\n",
       " '_lsprof': <module '_lsprof' from '/Users/aaron/venvs/ml-test1/lib/python3.11/lib-dynload/_lsprof.cpython-311-darwin.so'>,\n",
       " 'profile': <module 'profile' from '/Users/aaron/venvs/ml-test1/lib/python3.11/profile.py'>,\n",
       " 'cProfile': <module 'cProfile' from '/Users/aaron/venvs/ml-test1/lib/python3.11/cProfile.py'>,\n",
       " 'pstats': <module 'pstats' from '/Users/aaron/venvs/ml-test1/lib/python3.11/pstats.py'>,\n",
       " 'timeit': <module 'timeit' from '/Users/aaron/venvs/ml-test1/lib/python3.11/timeit.py'>,\n",
       " 'IPython.utils.module_paths': <module 'IPython.utils.module_paths' from '/Users/aaron/venvs/ml-test1/lib/python3.11/site-packages/IPython/utils/module_paths.py'>,\n",
       " 'resource': <module 'resource' from '/Users/aaron/venvs/ml-test1/lib/python3.11/lib-dynload/resource.cpython-311-darwin.so'>,\n",
       " 'IPython.utils.timing': <module 'IPython.utils.timing' from '/Users/aaron/venvs/ml-test1/lib/python3.11/site-packages/IPython/utils/timing.py'>,\n",
       " 'IPython.core.magics.ast_mod': <module 'IPython.core.magics.ast_mod' from '/Users/aaron/venvs/ml-test1/lib/python3.11/site-packages/IPython/core/magics/ast_mod.py'>,\n",
       " 'IPython.core.magics.execution': <module 'IPython.core.magics.execution' from '/Users/aaron/venvs/ml-test1/lib/python3.11/site-packages/IPython/core/magics/execution.py'>,\n",
       " 'IPython.core.magics.extension': <module 'IPython.core.magics.extension' from '/Users/aaron/venvs/ml-test1/lib/python3.11/site-packages/IPython/core/magics/extension.py'>,\n",
       " 'IPython.core.magics.history': <module 'IPython.core.magics.history' from '/Users/aaron/venvs/ml-test1/lib/python3.11/site-packages/IPython/core/magics/history.py'>,\n",
       " 'IPython.core.magics.logging': <module 'IPython.core.magics.logging' from '/Users/aaron/venvs/ml-test1/lib/python3.11/site-packages/IPython/core/magics/logging.py'>,\n",
       " 'IPython.core.magics.namespace': <module 'IPython.core.magics.namespace' from '/Users/aaron/venvs/ml-test1/lib/python3.11/site-packages/IPython/core/magics/namespace.py'>,\n",
       " 'IPython.core.magics.osm': <module 'IPython.core.magics.osm' from '/Users/aaron/venvs/ml-test1/lib/python3.11/site-packages/IPython/core/magics/osm.py'>,\n",
       " 'IPython.core.magics.packaging': <module 'IPython.core.magics.packaging' from '/Users/aaron/venvs/ml-test1/lib/python3.11/site-packages/IPython/core/magics/packaging.py'>,\n",
       " 'IPython.core.magics.pylab': <module 'IPython.core.magics.pylab' from '/Users/aaron/venvs/ml-test1/lib/python3.11/site-packages/IPython/core/magics/pylab.py'>,\n",
       " 'IPython.core.magics.script': <module 'IPython.core.magics.script' from '/Users/aaron/venvs/ml-test1/lib/python3.11/site-packages/IPython/core/magics/script.py'>,\n",
       " 'IPython.core.magics': <module 'IPython.core.magics' from '/Users/aaron/venvs/ml-test1/lib/python3.11/site-packages/IPython/core/magics/__init__.py'>,\n",
       " 'IPython.core.shellapp': <module 'IPython.core.shellapp' from '/Users/aaron/venvs/ml-test1/lib/python3.11/site-packages/IPython/core/shellapp.py'>,\n",
       " 'IPython.extensions': <module 'IPython.extensions' from '/Users/aaron/venvs/ml-test1/lib/python3.11/site-packages/IPython/extensions/__init__.py'>,\n",
       " 'IPython.extensions.storemagic': <module 'IPython.extensions.storemagic' from '/Users/aaron/venvs/ml-test1/lib/python3.11/site-packages/IPython/extensions/storemagic.py'>,\n",
       " 'IPython.terminal.ipapp': <module 'IPython.terminal.ipapp' from '/Users/aaron/venvs/ml-test1/lib/python3.11/site-packages/IPython/terminal/ipapp.py'>,\n",
       " 'IPython.terminal.embed': <module 'IPython.terminal.embed' from '/Users/aaron/venvs/ml-test1/lib/python3.11/site-packages/IPython/terminal/embed.py'>,\n",
       " 'IPython.utils.frame': <module 'IPython.utils.frame' from '/Users/aaron/venvs/ml-test1/lib/python3.11/site-packages/IPython/utils/frame.py'>,\n",
       " 'IPython': <module 'IPython' from '/Users/aaron/venvs/ml-test1/lib/python3.11/site-packages/IPython/__init__.py'>,\n",
       " 'ipykernel.control': <module 'ipykernel.control' from '/Users/aaron/venvs/ml-test1/lib/python3.11/site-packages/ipykernel/control.py'>,\n",
       " 'ipykernel.heartbeat': <module 'ipykernel.heartbeat' from '/Users/aaron/venvs/ml-test1/lib/python3.11/site-packages/ipykernel/heartbeat.py'>,\n",
       " 'ipykernel.iostream': <module 'ipykernel.iostream' from '/Users/aaron/venvs/ml-test1/lib/python3.11/site-packages/ipykernel/iostream.py'>,\n",
       " 'comm.base_comm': <module 'comm.base_comm' from '/Users/aaron/venvs/ml-test1/lib/python3.11/site-packages/comm/base_comm.py'>,\n",
       " 'comm': <module 'comm' from '/Users/aaron/venvs/ml-test1/lib/python3.11/site-packages/comm/__init__.py'>,\n",
       " 'ipykernel.jsonutil': <module 'ipykernel.jsonutil' from '/Users/aaron/venvs/ml-test1/lib/python3.11/site-packages/ipykernel/jsonutil.py'>,\n",
       " 'pwd': <module 'pwd' (built-in)>,\n",
       " 'psutil._common': <module 'psutil._common' from '/Users/aaron/venvs/ml-test1/lib/python3.11/site-packages/psutil/_common.py'>,\n",
       " 'psutil._compat': <module 'psutil._compat' from '/Users/aaron/venvs/ml-test1/lib/python3.11/site-packages/psutil/_compat.py'>,\n",
       " 'psutil._psposix': <module 'psutil._psposix' from '/Users/aaron/venvs/ml-test1/lib/python3.11/site-packages/psutil/_psposix.py'>,\n",
       " 'psutil._psutil_osx': <module 'psutil._psutil_osx' from '/Users/aaron/venvs/ml-test1/lib/python3.11/site-packages/psutil/_psutil_osx.cpython-311-darwin.so'>,\n",
       " 'psutil._psutil_posix': <module 'psutil._psutil_posix' from '/Users/aaron/venvs/ml-test1/lib/python3.11/site-packages/psutil/_psutil_posix.cpython-311-darwin.so'>,\n",
       " 'psutil._psosx': <module 'psutil._psosx' from '/Users/aaron/venvs/ml-test1/lib/python3.11/site-packages/psutil/_psosx.py'>,\n",
       " 'psutil': <module 'psutil' from '/Users/aaron/venvs/ml-test1/lib/python3.11/site-packages/psutil/__init__.py'>,\n",
       " 'tornado.locks': <module 'tornado.locks' from '/Users/aaron/venvs/ml-test1/lib/python3.11/site-packages/tornado/locks.py'>,\n",
       " 'tornado.queues': <module 'tornado.queues' from '/Users/aaron/venvs/ml-test1/lib/python3.11/site-packages/tornado/queues.py'>,\n",
       " 'ipykernel.kernelbase': <module 'ipykernel.kernelbase' from '/Users/aaron/venvs/ml-test1/lib/python3.11/site-packages/ipykernel/kernelbase.py'>,\n",
       " 'ipykernel.comm.comm': <module 'ipykernel.comm.comm' from '/Users/aaron/venvs/ml-test1/lib/python3.11/site-packages/ipykernel/comm/comm.py'>,\n",
       " 'ipykernel.comm.manager': <module 'ipykernel.comm.manager' from '/Users/aaron/venvs/ml-test1/lib/python3.11/site-packages/ipykernel/comm/manager.py'>,\n",
       " 'ipykernel.comm': <module 'ipykernel.comm' from '/Users/aaron/venvs/ml-test1/lib/python3.11/site-packages/ipykernel/comm/__init__.py'>,\n",
       " 'ipykernel.compiler': <module 'ipykernel.compiler' from '/Users/aaron/venvs/ml-test1/lib/python3.11/site-packages/ipykernel/compiler.py'>,\n",
       " 'debugpy._version': <module 'debugpy._version' from '/Users/aaron/venvs/ml-test1/lib/python3.11/site-packages/debugpy/_version.py'>,\n",
       " 'debugpy.public_api': <module 'debugpy.public_api' from '/Users/aaron/venvs/ml-test1/lib/python3.11/site-packages/debugpy/public_api.py'>,\n",
       " 'debugpy': <module 'debugpy' from '/Users/aaron/venvs/ml-test1/lib/python3.11/site-packages/debugpy/__init__.py'>,\n",
       " 'debugpy._vendored._util': <module 'debugpy._vendored._util' from '/Users/aaron/venvs/ml-test1/lib/python3.11/site-packages/debugpy/_vendored/_util.py'>,\n",
       " 'debugpy._vendored': <module 'debugpy._vendored' from '/Users/aaron/venvs/ml-test1/lib/python3.11/site-packages/debugpy/_vendored/__init__.py'>,\n",
       " '_pydevd_bundle': <module '_pydevd_bundle' from '/Users/aaron/venvs/ml-test1/lib/python3.11/site-packages/debugpy/_vendored/pydevd/_pydevd_bundle/__init__.py'>,\n",
       " 'encodings.ascii': <module 'encodings.ascii' from '/Users/aaron/venvs/ml-test1/lib/python3.11/encodings/ascii.py'>,\n",
       " 'encodings.latin_1': <module 'encodings.latin_1' from '/Users/aaron/venvs/ml-test1/lib/python3.11/encodings/latin_1.py'>,\n",
       " 'stringprep': <module 'stringprep' from '/Users/aaron/venvs/ml-test1/lib/python3.11/stringprep.py'>,\n",
       " 'encodings.idna': <module 'encodings.idna' from '/Users/aaron/venvs/ml-test1/lib/python3.11/encodings/idna.py'>,\n",
       " '_pydevd_bundle.pydevd_vm_type': <module '_pydevd_bundle.pydevd_vm_type' from '/Users/aaron/venvs/ml-test1/lib/python3.11/site-packages/debugpy/_vendored/pydevd/_pydevd_bundle/pydevd_vm_type.py'>,\n",
       " '_pydev_bundle': <module '_pydev_bundle' from '/Users/aaron/venvs/ml-test1/lib/python3.11/site-packages/debugpy/_vendored/pydevd/_pydev_bundle/__init__.py'>,\n",
       " 'xmlrpc': <module 'xmlrpc' from '/Users/aaron/venvs/ml-test1/lib/python3.11/xmlrpc/__init__.py'>,\n",
       " 'xml.parsers': <module 'xml.parsers' from '/Users/aaron/venvs/ml-test1/lib/python3.11/xml/parsers/__init__.py'>,\n",
       " 'pyexpat.errors': <module 'pyexpat.errors'>,\n",
       " 'pyexpat.model': <module 'pyexpat.model'>,\n",
       " 'pyexpat': <module 'pyexpat' from '/Users/aaron/venvs/ml-test1/lib/python3.11/lib-dynload/pyexpat.cpython-311-darwin.so'>,\n",
       " 'xml.parsers.expat.model': <module 'pyexpat.model'>,\n",
       " 'xml.parsers.expat.errors': <module 'pyexpat.errors'>,\n",
       " 'xml.parsers.expat': <module 'xml.parsers.expat' from '/Users/aaron/venvs/ml-test1/lib/python3.11/xml/parsers/expat.py'>,\n",
       " 'gzip': <module 'gzip' from '/Users/aaron/venvs/ml-test1/lib/python3.11/gzip.py'>,\n",
       " 'xmlrpc.client': <module 'xmlrpc.client' from '/Users/aaron/venvs/ml-test1/lib/python3.11/xmlrpc/client.py'>,\n",
       " 'http.server': <module 'http.server' from '/Users/aaron/venvs/ml-test1/lib/python3.11/http/server.py'>,\n",
       " 'xmlrpc.server': <module 'xmlrpc.server' from '/Users/aaron/venvs/ml-test1/lib/python3.11/xmlrpc/server.py'>,\n",
       " '_pydev_bundle._pydev_saved_modules': <module '_pydev_bundle._pydev_saved_modules' from '/Users/aaron/venvs/ml-test1/lib/python3.11/site-packages/debugpy/_vendored/pydevd/_pydev_bundle/_pydev_saved_modules.py'>,\n",
       " '_pydevd_bundle.pydevd_constants': <module '_pydevd_bundle.pydevd_constants' from '/Users/aaron/venvs/ml-test1/lib/python3.11/site-packages/debugpy/_vendored/pydevd/_pydevd_bundle/pydevd_constants.py'>,\n",
       " '_pydev_runfiles': <module '_pydev_runfiles' from '/Users/aaron/venvs/ml-test1/lib/python3.11/site-packages/debugpy/_vendored/pydevd/_pydev_runfiles/__init__.py'>,\n",
       " '_pydevd_frame_eval': <module '_pydevd_frame_eval' from '/Users/aaron/venvs/ml-test1/lib/python3.11/site-packages/debugpy/_vendored/pydevd/_pydevd_frame_eval/__init__.py'>,\n",
       " 'pydev_ipython': <module 'pydev_ipython' from '/Users/aaron/venvs/ml-test1/lib/python3.11/site-packages/debugpy/_vendored/pydevd/pydev_ipython/__init__.py'>,\n",
       " 'plistlib': <module 'plistlib' from '/Users/aaron/venvs/ml-test1/lib/python3.11/plistlib.py'>,\n",
       " 'importlib.resources.abc': <module 'importlib.resources.abc' from '/Users/aaron/venvs/ml-test1/lib/python3.11/importlib/resources/abc.py'>,\n",
       " 'importlib.resources._adapters': <module 'importlib.resources._adapters' from '/Users/aaron/venvs/ml-test1/lib/python3.11/importlib/resources/_adapters.py'>,\n",
       " 'importlib.resources._common': <module 'importlib.resources._common' from '/Users/aaron/venvs/ml-test1/lib/python3.11/importlib/resources/_common.py'>,\n",
       " 'importlib.resources._legacy': <module 'importlib.resources._legacy' from '/Users/aaron/venvs/ml-test1/lib/python3.11/importlib/resources/_legacy.py'>,\n",
       " 'importlib.resources': <module 'importlib.resources' from '/Users/aaron/venvs/ml-test1/lib/python3.11/importlib/resources/__init__.py'>,\n",
       " 'importlib.abc': <module 'importlib.abc' from '/Users/aaron/venvs/ml-test1/lib/python3.11/importlib/abc.py'>,\n",
       " 'packaging': <module 'packaging' from '/Users/aaron/venvs/ml-test1/lib/python3.11/site-packages/packaging/__init__.py'>,\n",
       " 'packaging._elffile': <module 'packaging._elffile' from '/Users/aaron/venvs/ml-test1/lib/python3.11/site-packages/packaging/_elffile.py'>,\n",
       " 'packaging._manylinux': <module 'packaging._manylinux' from '/Users/aaron/venvs/ml-test1/lib/python3.11/site-packages/packaging/_manylinux.py'>,\n",
       " 'packaging._musllinux': <module 'packaging._musllinux' from '/Users/aaron/venvs/ml-test1/lib/python3.11/site-packages/packaging/_musllinux.py'>,\n",
       " 'packaging.tags': <module 'packaging.tags' from '/Users/aaron/venvs/ml-test1/lib/python3.11/site-packages/packaging/tags.py'>,\n",
       " 'packaging._structures': <module 'packaging._structures' from '/Users/aaron/venvs/ml-test1/lib/python3.11/site-packages/packaging/_structures.py'>,\n",
       " 'packaging.version': <module 'packaging.version' from '/Users/aaron/venvs/ml-test1/lib/python3.11/site-packages/packaging/version.py'>,\n",
       " 'packaging.utils': <module 'packaging.utils' from '/Users/aaron/venvs/ml-test1/lib/python3.11/site-packages/packaging/utils.py'>,\n",
       " 'packaging.specifiers': <module 'packaging.specifiers' from '/Users/aaron/venvs/ml-test1/lib/python3.11/site-packages/packaging/specifiers.py'>,\n",
       " 'jaraco': <module 'jaraco' (<_frozen_importlib_external.NamespaceLoader object at 0x107610390>)>,\n",
       " 'more_itertools.recipes': <module 'more_itertools.recipes' from '/Users/aaron/venvs/ml-test1/lib/python3.11/site-packages/setuptools/_vendor/more_itertools/recipes.py'>,\n",
       " 'more_itertools.more': <module 'more_itertools.more' from '/Users/aaron/venvs/ml-test1/lib/python3.11/site-packages/setuptools/_vendor/more_itertools/more.py'>,\n",
       " 'more_itertools': <module 'more_itertools' from '/Users/aaron/venvs/ml-test1/lib/python3.11/site-packages/setuptools/_vendor/more_itertools/__init__.py'>,\n",
       " 'jaraco.functools': <module 'jaraco.functools' from '/Users/aaron/venvs/ml-test1/lib/python3.11/site-packages/setuptools/_vendor/jaraco/functools/__init__.py'>,\n",
       " 'backports.tarfile.compat': <module 'backports.tarfile.compat' from '/Users/aaron/venvs/ml-test1/lib/python3.11/site-packages/setuptools/_vendor/backports/tarfile/compat/__init__.py'>,\n",
       " 'backports.tarfile.compat.py38': <module 'backports.tarfile.compat.py38' from '/Users/aaron/venvs/ml-test1/lib/python3.11/site-packages/setuptools/_vendor/backports/tarfile/compat/py38.py'>,\n",
       " 'grp': <module 'grp' from '/Users/aaron/venvs/ml-test1/lib/python3.11/lib-dynload/grp.cpython-311-darwin.so'>,\n",
       " 'backports.tarfile': <module 'backports.tarfile' from '/Users/aaron/venvs/ml-test1/lib/python3.11/site-packages/setuptools/_vendor/backports/tarfile/__init__.py'>,\n",
       " 'jaraco.context': <module 'jaraco.context' from '/Users/aaron/venvs/ml-test1/lib/python3.11/site-packages/setuptools/_vendor/jaraco/context.py'>,\n",
       " 'importlib.resources._itertools': <module 'importlib.resources._itertools' from '/Users/aaron/venvs/ml-test1/lib/python3.11/importlib/resources/_itertools.py'>,\n",
       " 'importlib.resources.readers': <module 'importlib.resources.readers' from '/Users/aaron/venvs/ml-test1/lib/python3.11/importlib/resources/readers.py'>,\n",
       " 'importlib.readers': <module 'importlib.readers' from '/Users/aaron/venvs/ml-test1/lib/python3.11/importlib/readers.py'>,\n",
       " 'jaraco.text': <module 'jaraco.text' from '/Users/aaron/venvs/ml-test1/lib/python3.11/site-packages/setuptools/_vendor/jaraco/text/__init__.py'>,\n",
       " 'packaging._tokenizer': <module 'packaging._tokenizer' from '/Users/aaron/venvs/ml-test1/lib/python3.11/site-packages/packaging/_tokenizer.py'>,\n",
       " 'packaging._parser': <module 'packaging._parser' from '/Users/aaron/venvs/ml-test1/lib/python3.11/site-packages/packaging/_parser.py'>,\n",
       " 'packaging.markers': <module 'packaging.markers' from '/Users/aaron/venvs/ml-test1/lib/python3.11/site-packages/packaging/markers.py'>,\n",
       " 'packaging.requirements': <module 'packaging.requirements' from '/Users/aaron/venvs/ml-test1/lib/python3.11/site-packages/packaging/requirements.py'>,\n",
       " 'pkg_resources': <module 'pkg_resources' from '/Users/aaron/venvs/ml-test1/lib/python3.11/site-packages/pkg_resources/__init__.py'>,\n",
       " 'pydevd_plugins': <module 'pydevd_plugins' from '/Users/aaron/venvs/ml-test1/lib/python3.11/site-packages/debugpy/_vendored/pydevd/pydevd_plugins/__init__.py'>,\n",
       " '_pydev_bundle.pydev_log': <module '_pydev_bundle.pydev_log' from '/Users/aaron/venvs/ml-test1/lib/python3.11/site-packages/debugpy/_vendored/pydevd/_pydev_bundle/pydev_log.py'>,\n",
       " '_pydev_bundle._pydev_filesystem_encoding': <module '_pydev_bundle._pydev_filesystem_encoding' from '/Users/aaron/venvs/ml-test1/lib/python3.11/site-packages/debugpy/_vendored/pydevd/_pydev_bundle/_pydev_filesystem_encoding.py'>,\n",
       " '_pydevd_bundle.pydevd_comm_constants': <module '_pydevd_bundle.pydevd_comm_constants' from '/Users/aaron/venvs/ml-test1/lib/python3.11/site-packages/debugpy/_vendored/pydevd/_pydevd_bundle/pydevd_comm_constants.py'>,\n",
       " 'pydevd_file_utils': <module 'pydevd_file_utils' from '/Users/aaron/venvs/ml-test1/lib/python3.11/site-packages/debugpy/_vendored/pydevd/pydevd_file_utils.py'>,\n",
       " '_pydev_bundle._pydev_execfile': <module '_pydev_bundle._pydev_execfile' from '/Users/aaron/venvs/ml-test1/lib/python3.11/site-packages/debugpy/_vendored/pydevd/_pydev_bundle/_pydev_execfile.py'>,\n",
       " '_pydevd_bundle.pydevd_exec2': <module '_pydevd_bundle.pydevd_exec2' from '/Users/aaron/venvs/ml-test1/lib/python3.11/site-packages/debugpy/_vendored/pydevd/_pydevd_bundle/pydevd_exec2.py'>,\n",
       " '_pydev_bundle.pydev_imports': <module '_pydev_bundle.pydev_imports' from '/Users/aaron/venvs/ml-test1/lib/python3.11/site-packages/debugpy/_vendored/pydevd/_pydev_bundle/pydev_imports.py'>,\n",
       " '_pydev_bundle.pydev_is_thread_alive': <module '_pydev_bundle.pydev_is_thread_alive' from '/Users/aaron/venvs/ml-test1/lib/python3.11/site-packages/debugpy/_vendored/pydevd/_pydev_bundle/pydev_is_thread_alive.py'>,\n",
       " '_pydev_bundle.pydev_override': <module '_pydev_bundle.pydev_override' from '/Users/aaron/venvs/ml-test1/lib/python3.11/site-packages/debugpy/_vendored/pydevd/_pydev_bundle/pydev_override.py'>,\n",
       " 'pydevd_plugins.extensions': <module 'pydevd_plugins.extensions' from '/Users/aaron/venvs/ml-test1/lib/python3.11/site-packages/debugpy/_vendored/pydevd/pydevd_plugins/extensions/__init__.py'>,\n",
       " '_pydevd_bundle.pydevd_extension_utils': <module '_pydevd_bundle.pydevd_extension_utils' from '/Users/aaron/venvs/ml-test1/lib/python3.11/site-packages/debugpy/_vendored/pydevd/_pydevd_bundle/pydevd_extension_utils.py'>,\n",
       " '_pydevd_bundle.pydevd_frame_utils': <module '_pydevd_bundle.pydevd_frame_utils' from '/Users/aaron/venvs/ml-test1/lib/python3.11/site-packages/debugpy/_vendored/pydevd/_pydevd_bundle/pydevd_frame_utils.py'>,\n",
       " '_pydevd_bundle.pydevd_filtering': <module '_pydevd_bundle.pydevd_filtering' from '/Users/aaron/venvs/ml-test1/lib/python3.11/site-packages/debugpy/_vendored/pydevd/_pydevd_bundle/pydevd_filtering.py'>,\n",
       " '_pydevd_bundle.pydevd_io': <module '_pydevd_bundle.pydevd_io' from '/Users/aaron/venvs/ml-test1/lib/python3.11/site-packages/debugpy/_vendored/pydevd/_pydevd_bundle/pydevd_io.py'>,\n",
       " '_pydevd_bundle.pydevd_defaults': <module '_pydevd_bundle.pydevd_defaults' from '/Users/aaron/venvs/ml-test1/lib/python3.11/site-packages/debugpy/_vendored/pydevd/_pydevd_bundle/pydevd_defaults.py'>,\n",
       " '_pydevd_bundle.pydevd_utils': <module '_pydevd_bundle.pydevd_utils' from '/Users/aaron/venvs/ml-test1/lib/python3.11/site-packages/debugpy/_vendored/pydevd/_pydevd_bundle/pydevd_utils.py'>,\n",
       " '_pydevd_bundle.pydevd_runpy': <module '_pydevd_bundle.pydevd_runpy' from '/Users/aaron/venvs/ml-test1/lib/python3.11/site-packages/debugpy/_vendored/pydevd/_pydevd_bundle/pydevd_runpy.py'>,\n",
       " '_pydev_bundle._pydev_tipper_common': <module '_pydev_bundle._pydev_tipper_common' from '/Users/aaron/venvs/ml-test1/lib/python3.11/site-packages/debugpy/_vendored/pydevd/_pydev_bundle/_pydev_tipper_common.py'>,\n",
       " '_pydev_bundle._pydev_imports_tipper': <module '_pydev_bundle._pydev_imports_tipper' from '/Users/aaron/venvs/ml-test1/lib/python3.11/site-packages/debugpy/_vendored/pydevd/_pydev_bundle/_pydev_imports_tipper.py'>,\n",
       " '_pydev_bundle._pydev_calltip_util': <module '_pydev_bundle._pydev_calltip_util' from '/Users/aaron/venvs/ml-test1/lib/python3.11/site-packages/debugpy/_vendored/pydevd/_pydev_bundle/_pydev_calltip_util.py'>,\n",
       " '_pydevd_bundle.pydevd_safe_repr': <module '_pydevd_bundle.pydevd_safe_repr' from '/Users/aaron/venvs/ml-test1/lib/python3.11/site-packages/debugpy/_vendored/pydevd/_pydevd_bundle/pydevd_safe_repr.py'>,\n",
       " '_pydevd_bundle.pydevd_resolver': <module '_pydevd_bundle.pydevd_resolver' from '/Users/aaron/venvs/ml-test1/lib/python3.11/site-packages/debugpy/_vendored/pydevd/_pydevd_bundle/pydevd_resolver.py'>,\n",
       " '_pydevd_bundle.pydevd_extension_api': <module '_pydevd_bundle.pydevd_extension_api' from '/Users/aaron/venvs/ml-test1/lib/python3.11/site-packages/debugpy/_vendored/pydevd/_pydevd_bundle/pydevd_extension_api.py'>,\n",
       " '_pydevd_bundle.pydevd_xml': <module '_pydevd_bundle.pydevd_xml' from '/Users/aaron/venvs/ml-test1/lib/python3.11/site-packages/debugpy/_vendored/pydevd/_pydevd_bundle/pydevd_xml.py'>,\n",
       " '_pydevd_bundle.pydevd_dont_trace': <module '_pydevd_bundle.pydevd_dont_trace' from '/Users/aaron/venvs/ml-test1/lib/python3.11/site-packages/debugpy/_vendored/pydevd/_pydevd_bundle/pydevd_dont_trace.py'>,\n",
       " '_pydevd_frame_eval.vendored': <module '_pydevd_frame_eval.vendored' from '/Users/aaron/venvs/ml-test1/lib/python3.11/site-packages/debugpy/_vendored/pydevd/_pydevd_frame_eval/vendored/__init__.py'>,\n",
       " '_pydevd_frame_eval.vendored.bytecode.flags': <module '_pydevd_frame_eval.vendored.bytecode.flags' from '/Users/aaron/venvs/ml-test1/lib/python3.11/site-packages/debugpy/_vendored/pydevd/_pydevd_frame_eval/vendored/bytecode/flags.py'>,\n",
       " '_pydevd_frame_eval.vendored.bytecode.instr': <module '_pydevd_frame_eval.vendored.bytecode.instr' from '/Users/aaron/venvs/ml-test1/lib/python3.11/site-packages/debugpy/_vendored/pydevd/_pydevd_frame_eval/vendored/bytecode/instr.py'>,\n",
       " '_pydevd_frame_eval.vendored.bytecode.bytecode': <module '_pydevd_frame_eval.vendored.bytecode.bytecode' from '/Users/aaron/venvs/ml-test1/lib/python3.11/site-packages/debugpy/_vendored/pydevd/_pydevd_frame_eval/vendored/bytecode/bytecode.py'>,\n",
       " '_pydevd_frame_eval.vendored.bytecode.concrete': <module '_pydevd_frame_eval.vendored.bytecode.concrete' from '/Users/aaron/venvs/ml-test1/lib/python3.11/site-packages/debugpy/_vendored/pydevd/_pydevd_frame_eval/vendored/bytecode/concrete.py'>,\n",
       " '_pydevd_frame_eval.vendored.bytecode.cfg': <module '_pydevd_frame_eval.vendored.bytecode.cfg' from '/Users/aaron/venvs/ml-test1/lib/python3.11/site-packages/debugpy/_vendored/pydevd/_pydevd_frame_eval/vendored/bytecode/cfg.py'>,\n",
       " '_pydevd_frame_eval.vendored.bytecode': <module '_pydevd_frame_eval.vendored.bytecode' from '/Users/aaron/venvs/ml-test1/lib/python3.11/site-packages/debugpy/_vendored/pydevd/_pydevd_frame_eval/vendored/bytecode/__init__.py'>,\n",
       " '_pydevd_bundle.pydevd_bytecode_utils': <module '_pydevd_bundle.pydevd_bytecode_utils' from '/Users/aaron/venvs/ml-test1/lib/python3.11/site-packages/debugpy/_vendored/pydevd/_pydevd_bundle/pydevd_bytecode_utils.py'>,\n",
       " '_pydevd_bundle.pydevd_cython': <module '_pydevd_bundle.pydevd_cython' from '/Users/aaron/venvs/ml-test1/lib/python3.11/site-packages/debugpy/_vendored/pydevd/_pydevd_bundle/pydevd_cython.cpython-311-darwin.so'>,\n",
       " '_pydevd_bundle.pydevd_cython_wrapper': <module '_pydevd_bundle.pydevd_cython_wrapper' from '/Users/aaron/venvs/ml-test1/lib/python3.11/site-packages/debugpy/_vendored/pydevd/_pydevd_bundle/pydevd_cython_wrapper.py'>,\n",
       " '_pydevd_bundle.pydevd_additional_thread_info': <module '_pydevd_bundle.pydevd_additional_thread_info' from '/Users/aaron/venvs/ml-test1/lib/python3.11/site-packages/debugpy/_vendored/pydevd/_pydevd_bundle/pydevd_additional_thread_info.py'>,\n",
       " '_pydevd_bundle.pydevd_thread_lifecycle': <module '_pydevd_bundle.pydevd_thread_lifecycle' from '/Users/aaron/venvs/ml-test1/lib/python3.11/site-packages/debugpy/_vendored/pydevd/_pydevd_bundle/pydevd_thread_lifecycle.py'>,\n",
       " '_pydevd_bundle.pydevd_save_locals': <module '_pydevd_bundle.pydevd_save_locals' from '/Users/aaron/venvs/ml-test1/lib/python3.11/site-packages/debugpy/_vendored/pydevd/_pydevd_bundle/pydevd_save_locals.py'>,\n",
       " '_pydev_bundle.pydev_monkey': <module '_pydev_bundle.pydev_monkey' from '/Users/aaron/venvs/ml-test1/lib/python3.11/site-packages/debugpy/_vendored/pydevd/_pydev_bundle/pydev_monkey.py'>,\n",
       " 'pydevd_tracing': <module 'pydevd_tracing' from '/Users/aaron/venvs/ml-test1/lib/python3.11/site-packages/debugpy/_vendored/pydevd/pydevd_tracing.py'>,\n",
       " '_pydevd_bundle.pydevd_collect_bytecode_info': <module '_pydevd_bundle.pydevd_collect_bytecode_info' from '/Users/aaron/venvs/ml-test1/lib/python3.11/site-packages/debugpy/_vendored/pydevd/_pydevd_bundle/pydevd_collect_bytecode_info.py'>,\n",
       " '_pydevd_bundle.pydevd_daemon_thread': <module '_pydevd_bundle.pydevd_daemon_thread' from '/Users/aaron/venvs/ml-test1/lib/python3.11/site-packages/debugpy/_vendored/pydevd/_pydevd_bundle/pydevd_daemon_thread.py'>,\n",
       " '_pydevd_bundle.pydevd_timeout': <module '_pydevd_bundle.pydevd_timeout' from '/Users/aaron/venvs/ml-test1/lib/python3.11/site-packages/debugpy/_vendored/pydevd/_pydevd_bundle/pydevd_timeout.py'>,\n",
       " '_pydevd_bundle.pydevd_vars': <module '_pydevd_bundle.pydevd_vars' from '/Users/aaron/venvs/ml-test1/lib/python3.11/site-packages/debugpy/_vendored/pydevd/_pydevd_bundle/pydevd_vars.py'>,\n",
       " '_pydev_bundle.pydev_console_utils': <module '_pydev_bundle.pydev_console_utils' from '/Users/aaron/venvs/ml-test1/lib/python3.11/site-packages/debugpy/_vendored/pydevd/_pydev_bundle/pydev_console_utils.py'>,\n",
       " '_pydevd_bundle.pydevd_import_class': <module '_pydevd_bundle.pydevd_import_class' from '/Users/aaron/venvs/ml-test1/lib/python3.11/site-packages/debugpy/_vendored/pydevd/_pydevd_bundle/pydevd_import_class.py'>,\n",
       " '_pydevd_bundle.pydevd_breakpoints': <module '_pydevd_bundle.pydevd_breakpoints' from '/Users/aaron/venvs/ml-test1/lib/python3.11/site-packages/debugpy/_vendored/pydevd/_pydevd_bundle/pydevd_breakpoints.py'>,\n",
       " '_pydevd_bundle.pydevd_custom_frames': <module '_pydevd_bundle.pydevd_custom_frames' from '/Users/aaron/venvs/ml-test1/lib/python3.11/site-packages/debugpy/_vendored/pydevd/_pydevd_bundle/pydevd_custom_frames.py'>,\n",
       " '_pydevd_bundle.pydevd_dont_trace_files': <module '_pydevd_bundle.pydevd_dont_trace_files' from '/Users/aaron/venvs/ml-test1/lib/python3.11/site-packages/debugpy/_vendored/pydevd/_pydevd_bundle/pydevd_dont_trace_files.py'>,\n",
       " '_pydevd_bundle.pydevd_net_command': <module '_pydevd_bundle.pydevd_net_command' from '/Users/aaron/venvs/ml-test1/lib/python3.11/site-packages/debugpy/_vendored/pydevd/_pydevd_bundle/pydevd_net_command.py'>,\n",
       " '_pydevd_bundle.pydevconsole_code': <module '_pydevd_bundle.pydevconsole_code' from '/Users/aaron/venvs/ml-test1/lib/python3.11/site-packages/debugpy/_vendored/pydevd/_pydevd_bundle/pydevconsole_code.py'>,\n",
       " '_pydev_bundle.pydev_umd': <module '_pydev_bundle.pydev_umd' from '/Users/aaron/venvs/ml-test1/lib/python3.11/site-packages/debugpy/_vendored/pydevd/_pydev_bundle/pydev_umd.py'>,\n",
       " 'pydevconsole': <module 'pydevconsole' from '/Users/aaron/venvs/ml-test1/lib/python3.11/site-packages/debugpy/_vendored/pydevd/pydevconsole.py'>,\n",
       " '_pydev_bundle._pydev_completer': <module '_pydev_bundle._pydev_completer' from '/Users/aaron/venvs/ml-test1/lib/python3.11/site-packages/debugpy/_vendored/pydevd/_pydev_bundle/_pydev_completer.py'>,\n",
       " '_pydevd_bundle.pydevd_net_command_factory_xml': <module '_pydevd_bundle.pydevd_net_command_factory_xml' from '/Users/aaron/venvs/ml-test1/lib/python3.11/site-packages/debugpy/_vendored/pydevd/_pydevd_bundle/pydevd_net_command_factory_xml.py'>,\n",
       " '_pydevd_bundle.pydevd_frame': <module '_pydevd_bundle.pydevd_frame' from '/Users/aaron/venvs/ml-test1/lib/python3.11/site-packages/debugpy/_vendored/pydevd/_pydevd_bundle/pydevd_frame.py'>,\n",
       " '_pydevd_bundle.pydevd_additional_thread_info_regular': <module '_pydevd_bundle.pydevd_additional_thread_info_regular' from '/Users/aaron/venvs/ml-test1/lib/python3.11/site-packages/debugpy/_vendored/pydevd/_pydevd_bundle/pydevd_additional_thread_info_regular.py'>,\n",
       " '_pydevd_bundle.pydevd_trace_dispatch': <module '_pydevd_bundle.pydevd_trace_dispatch' from '/Users/aaron/venvs/ml-test1/lib/python3.11/site-packages/debugpy/_vendored/pydevd/_pydevd_bundle/pydevd_trace_dispatch.py'>,\n",
       " '_pydevd_frame_eval.pydevd_frame_eval_main': <module '_pydevd_frame_eval.pydevd_frame_eval_main' from '/Users/aaron/venvs/ml-test1/lib/python3.11/site-packages/debugpy/_vendored/pydevd/_pydevd_frame_eval/pydevd_frame_eval_main.py'>,\n",
       " '_pydevd_bundle.pydevd_source_mapping': <module '_pydevd_bundle.pydevd_source_mapping' from '/Users/aaron/venvs/ml-test1/lib/python3.11/site-packages/debugpy/_vendored/pydevd/_pydevd_bundle/pydevd_source_mapping.py'>,\n",
       " '_pydevd_bundle.pydevd_concurrency_analyser': <module '_pydevd_bundle.pydevd_concurrency_analyser' from '/Users/aaron/venvs/ml-test1/lib/python3.11/site-packages/debugpy/_vendored/pydevd/_pydevd_bundle/pydevd_concurrency_analyser/__init__.py'>,\n",
       " '_pydevd_bundle.pydevd_concurrency_analyser.pydevd_thread_wrappers': <module '_pydevd_bundle.pydevd_concurrency_analyser.pydevd_thread_wrappers' from '/Users/aaron/venvs/ml-test1/lib/python3.11/site-packages/debugpy/_vendored/pydevd/_pydevd_bundle/pydevd_concurrency_analyser/pydevd_thread_wrappers.py'>,\n",
       " '_pydevd_bundle.pydevd_concurrency_analyser.pydevd_concurrency_logger': <module '_pydevd_bundle.pydevd_concurrency_analyser.pydevd_concurrency_logger' from '/Users/aaron/venvs/ml-test1/lib/python3.11/site-packages/debugpy/_vendored/pydevd/_pydevd_bundle/pydevd_concurrency_analyser/pydevd_concurrency_logger.py'>,\n",
       " '_pydevd_bundle._debug_adapter': <module '_pydevd_bundle._debug_adapter' from '/Users/aaron/venvs/ml-test1/lib/python3.11/site-packages/debugpy/_vendored/pydevd/_pydevd_bundle/_debug_adapter/__init__.py'>,\n",
       " '_pydevd_bundle._debug_adapter.pydevd_schema_log': <module '_pydevd_bundle._debug_adapter.pydevd_schema_log' from '/Users/aaron/venvs/ml-test1/lib/python3.11/site-packages/debugpy/_vendored/pydevd/_pydevd_bundle/_debug_adapter/pydevd_schema_log.py'>,\n",
       " '_pydevd_bundle._debug_adapter.pydevd_base_schema': <module '_pydevd_bundle._debug_adapter.pydevd_base_schema' from '/Users/aaron/venvs/ml-test1/lib/python3.11/site-packages/debugpy/_vendored/pydevd/_pydevd_bundle/_debug_adapter/pydevd_base_schema.py'>,\n",
       " '_pydevd_bundle._debug_adapter.pydevd_schema': <module '_pydevd_bundle._debug_adapter.pydevd_schema' from '/Users/aaron/venvs/ml-test1/lib/python3.11/site-packages/debugpy/_vendored/pydevd/_pydevd_bundle/_debug_adapter/pydevd_schema.py'>,\n",
       " '_pydevd_bundle.pydevd_reload': <module '_pydevd_bundle.pydevd_reload' from '/Users/aaron/venvs/ml-test1/lib/python3.11/site-packages/debugpy/_vendored/pydevd/_pydevd_bundle/pydevd_reload.py'>,\n",
       " '_pydev_bundle.fsnotify': <module '_pydev_bundle.fsnotify' from '/Users/aaron/venvs/ml-test1/lib/python3.11/site-packages/debugpy/_vendored/pydevd/_pydev_bundle/fsnotify/__init__.py'>,\n",
       " '_pydevd_bundle.pydevd_console': <module '_pydevd_bundle.pydevd_console' from '/Users/aaron/venvs/ml-test1/lib/python3.11/site-packages/debugpy/_vendored/pydevd/_pydevd_bundle/pydevd_console.py'>,\n",
       " '_pydevd_bundle.pydevd_comm': <module '_pydevd_bundle.pydevd_comm' from '/Users/aaron/venvs/ml-test1/lib/python3.11/site-packages/debugpy/_vendored/pydevd/_pydevd_bundle/pydevd_comm.py'>,\n",
       " '_pydevd_bundle.pydevd_net_command_factory_json': <module '_pydevd_bundle.pydevd_net_command_factory_json' from '/Users/aaron/venvs/ml-test1/lib/python3.11/site-packages/debugpy/_vendored/pydevd/_pydevd_bundle/pydevd_net_command_factory_json.py'>,\n",
       " '_pydevd_bundle.pydevd_api': <module '_pydevd_bundle.pydevd_api' from '/Users/aaron/venvs/ml-test1/lib/python3.11/site-packages/debugpy/_vendored/pydevd/_pydevd_bundle/pydevd_api.py'>,\n",
       " '_pydevd_bundle.pydevd_json_debug_options': <module '_pydevd_bundle.pydevd_json_debug_options' from '/Users/aaron/venvs/ml-test1/lib/python3.11/site-packages/debugpy/_vendored/pydevd/_pydevd_bundle/pydevd_json_debug_options.py'>,\n",
       " '_pydevd_bundle.pydevd_process_net_command_json': <module '_pydevd_bundle.pydevd_process_net_command_json' from '/Users/aaron/venvs/ml-test1/lib/python3.11/site-packages/debugpy/_vendored/pydevd/_pydevd_bundle/pydevd_process_net_command_json.py'>,\n",
       " '_pydevd_bundle.pydevd_traceproperty': <module '_pydevd_bundle.pydevd_traceproperty' from '/Users/aaron/venvs/ml-test1/lib/python3.11/site-packages/debugpy/_vendored/pydevd/_pydevd_bundle/pydevd_traceproperty.py'>,\n",
       " '_pydevd_bundle.pydevd_process_net_command': <module '_pydevd_bundle.pydevd_process_net_command' from '/Users/aaron/venvs/ml-test1/lib/python3.11/site-packages/debugpy/_vendored/pydevd/_pydevd_bundle/pydevd_process_net_command.py'>,\n",
       " '_pydevd_bundle.pydevd_suspended_frames': <module '_pydevd_bundle.pydevd_suspended_frames' from '/Users/aaron/venvs/ml-test1/lib/python3.11/site-packages/debugpy/_vendored/pydevd/_pydevd_bundle/pydevd_suspended_frames.py'>,\n",
       " '_pydevd_bundle.pydevd_trace_api': <module '_pydevd_bundle.pydevd_trace_api' from '/Users/aaron/venvs/ml-test1/lib/python3.11/site-packages/debugpy/_vendored/pydevd/_pydevd_bundle/pydevd_trace_api.py'>,\n",
       " 'pydevd_plugins.pydevd_line_validation': <module 'pydevd_plugins.pydevd_line_validation' from '/Users/aaron/venvs/ml-test1/lib/python3.11/site-packages/debugpy/_vendored/pydevd/pydevd_plugins/pydevd_line_validation.py'>,\n",
       " 'pydevd_plugins.django_debug': <module 'pydevd_plugins.django_debug' from '/Users/aaron/venvs/ml-test1/lib/python3.11/site-packages/debugpy/_vendored/pydevd/pydevd_plugins/django_debug.py'>,\n",
       " 'pydevd_plugins.jinja2_debug': <module 'pydevd_plugins.jinja2_debug' from '/Users/aaron/venvs/ml-test1/lib/python3.11/site-packages/debugpy/_vendored/pydevd/pydevd_plugins/jinja2_debug.py'>,\n",
       " '_pydevd_bundle.pydevd_plugin_utils': <module '_pydevd_bundle.pydevd_plugin_utils' from '/Users/aaron/venvs/ml-test1/lib/python3.11/site-packages/debugpy/_vendored/pydevd/_pydevd_bundle/pydevd_plugin_utils.py'>,\n",
       " 'pydevd_plugins.extensions.types': <module 'pydevd_plugins.extensions.types' from '/Users/aaron/venvs/ml-test1/lib/python3.11/site-packages/debugpy/_vendored/pydevd/pydevd_plugins/extensions/types/__init__.py'>,\n",
       " 'pydevd_plugins.extensions.types.pydevd_helpers': <module 'pydevd_plugins.extensions.types.pydevd_helpers' from '/Users/aaron/venvs/ml-test1/lib/python3.11/site-packages/debugpy/_vendored/pydevd/pydevd_plugins/extensions/types/pydevd_helpers.py'>,\n",
       " 'pydevd_plugins.extensions.types.pydevd_plugin_numpy_types': <module 'pydevd_plugins.extensions.types.pydevd_plugin_numpy_types' from '/Users/aaron/venvs/ml-test1/lib/python3.11/site-packages/debugpy/_vendored/pydevd/pydevd_plugins/extensions/types/pydevd_plugin_numpy_types.py'>,\n",
       " 'pydevd_plugins.extensions.types.pydevd_plugin_pandas_types': <module 'pydevd_plugins.extensions.types.pydevd_plugin_pandas_types' from '/Users/aaron/venvs/ml-test1/lib/python3.11/site-packages/debugpy/_vendored/pydevd/pydevd_plugins/extensions/types/pydevd_plugin_pandas_types.py'>,\n",
       " 'pydevd_plugins.extensions.types.pydevd_plugins_django_form_str': <module 'pydevd_plugins.extensions.types.pydevd_plugins_django_form_str' from '/Users/aaron/venvs/ml-test1/lib/python3.11/site-packages/debugpy/_vendored/pydevd/pydevd_plugins/extensions/types/pydevd_plugins_django_form_str.py'>,\n",
       " 'pydevd': <module 'pydevd' from '/Users/aaron/venvs/ml-test1/lib/python3.11/site-packages/debugpy/_vendored/pydevd/pydevd.py'>,\n",
       " 'debugpy._vendored.force_pydevd': <module 'debugpy._vendored.force_pydevd' from '/Users/aaron/venvs/ml-test1/lib/python3.11/site-packages/debugpy/_vendored/force_pydevd.py'>,\n",
       " 'debugpy.server': <module 'debugpy.server' from '/Users/aaron/venvs/ml-test1/lib/python3.11/site-packages/debugpy/server/__init__.py'>,\n",
       " 'debugpy.adapter': <module 'debugpy.adapter' from '/Users/aaron/venvs/ml-test1/lib/python3.11/site-packages/debugpy/adapter/__init__.py'>,\n",
       " 'debugpy.common': <module 'debugpy.common' from '/Users/aaron/venvs/ml-test1/lib/python3.11/site-packages/debugpy/common/__init__.py'>,\n",
       " 'debugpy.common.json': <module 'debugpy.common.json' from '/Users/aaron/venvs/ml-test1/lib/python3.11/site-packages/debugpy/common/json.py'>,\n",
       " 'debugpy.common.timestamp': <module 'debugpy.common.timestamp' from '/Users/aaron/venvs/ml-test1/lib/python3.11/site-packages/debugpy/common/timestamp.py'>,\n",
       " 'debugpy.common.util': <module 'debugpy.common.util' from '/Users/aaron/venvs/ml-test1/lib/python3.11/site-packages/debugpy/common/util.py'>,\n",
       " 'debugpy.common.log': <module 'debugpy.common.log' from '/Users/aaron/venvs/ml-test1/lib/python3.11/site-packages/debugpy/common/log.py'>,\n",
       " 'debugpy.common.sockets': <module 'debugpy.common.sockets' from '/Users/aaron/venvs/ml-test1/lib/python3.11/site-packages/debugpy/common/sockets.py'>,\n",
       " 'debugpy.server.api': <module 'debugpy.server.api' from '/Users/aaron/venvs/ml-test1/lib/python3.11/site-packages/debugpy/server/api.py'>,\n",
       " 'ipykernel.debugger': <module 'ipykernel.debugger' from '/Users/aaron/venvs/ml-test1/lib/python3.11/site-packages/ipykernel/debugger.py'>,\n",
       " 'ipykernel.eventloops': <module 'ipykernel.eventloops' from '/Users/aaron/venvs/ml-test1/lib/python3.11/site-packages/ipykernel/eventloops.py'>,\n",
       " 'IPython.core.payloadpage': <module 'IPython.core.payloadpage' from '/Users/aaron/venvs/ml-test1/lib/python3.11/site-packages/IPython/core/payloadpage.py'>,\n",
       " 'ipykernel.displayhook': <module 'ipykernel.displayhook' from '/Users/aaron/venvs/ml-test1/lib/python3.11/site-packages/ipykernel/displayhook.py'>,\n",
       " 'ipykernel.zmqshell': <module 'ipykernel.zmqshell' from '/Users/aaron/venvs/ml-test1/lib/python3.11/site-packages/ipykernel/zmqshell.py'>,\n",
       " 'ipykernel.ipkernel': <module 'ipykernel.ipkernel' from '/Users/aaron/venvs/ml-test1/lib/python3.11/site-packages/ipykernel/ipkernel.py'>,\n",
       " 'ipykernel.parentpoller': <module 'ipykernel.parentpoller' from '/Users/aaron/venvs/ml-test1/lib/python3.11/site-packages/ipykernel/parentpoller.py'>,\n",
       " 'ipykernel.kernelapp': <module 'ipykernel.kernelapp' from '/Users/aaron/venvs/ml-test1/lib/python3.11/site-packages/ipykernel/kernelapp.py'>,\n",
       " 'faulthandler': <module 'faulthandler' (built-in)>,\n",
       " 'IPython.core.completerlib': <module 'IPython.core.completerlib' from '/Users/aaron/venvs/ml-test1/lib/python3.11/site-packages/IPython/core/completerlib.py'>,\n",
       " 'setuptools._distutils': <module 'distutils' (/Users/aaron/venvs/ml-test1/lib/python3.11/site-packages/setuptools/_distutils/__init__.py)>,\n",
       " 'distutils._functools': <module 'distutils._functools' from '/Users/aaron/venvs/ml-test1/lib/python3.11/site-packages/setuptools/_distutils/_functools.py'>,\n",
       " 'distutils.compat.py38': <module 'distutils.compat.py38' from '/Users/aaron/venvs/ml-test1/lib/python3.11/site-packages/setuptools/_distutils/compat/py38.py'>,\n",
       " 'distutils.compat': <module 'distutils.compat' from '/Users/aaron/venvs/ml-test1/lib/python3.11/site-packages/setuptools/_distutils/compat/__init__.py'>,\n",
       " 'distutils.compat.py39': <module 'distutils.compat.py39' from '/Users/aaron/venvs/ml-test1/lib/python3.11/site-packages/setuptools/_distutils/compat/py39.py'>,\n",
       " 'distutils.errors': <module 'distutils.errors' from '/Users/aaron/venvs/ml-test1/lib/python3.11/site-packages/setuptools/_distutils/errors.py'>,\n",
       " 'distutils._modified': <module 'distutils._modified' from '/Users/aaron/venvs/ml-test1/lib/python3.11/site-packages/setuptools/_distutils/_modified.py'>,\n",
       " 'distutils._log': <module 'distutils._log' from '/Users/aaron/venvs/ml-test1/lib/python3.11/site-packages/setuptools/_distutils/_log.py'>,\n",
       " 'distutils.dir_util': <module 'distutils.dir_util' from '/Users/aaron/venvs/ml-test1/lib/python3.11/site-packages/setuptools/_distutils/dir_util.py'>,\n",
       " 'distutils.debug': <module 'distutils.debug' from '/Users/aaron/venvs/ml-test1/lib/python3.11/site-packages/setuptools/_distutils/debug.py'>,\n",
       " 'distutils.spawn': <module 'distutils.spawn' from '/Users/aaron/venvs/ml-test1/lib/python3.11/site-packages/setuptools/_distutils/spawn.py'>,\n",
       " 'distutils.archive_util': <module 'distutils.archive_util' from '/Users/aaron/venvs/ml-test1/lib/python3.11/site-packages/setuptools/_distutils/archive_util.py'>,\n",
       " 'distutils.file_util': <module 'distutils.file_util' from '/Users/aaron/venvs/ml-test1/lib/python3.11/site-packages/setuptools/_distutils/file_util.py'>,\n",
       " 'distutils.util': <module 'distutils.util' from '/Users/aaron/venvs/ml-test1/lib/python3.11/site-packages/setuptools/_distutils/util.py'>,\n",
       " 'distutils.cmd': <module 'distutils.cmd' from '/Users/aaron/venvs/ml-test1/lib/python3.11/site-packages/setuptools/_distutils/cmd.py'>,\n",
       " 'distutils.config': <module 'distutils.config' from '/Users/aaron/venvs/ml-test1/lib/python3.11/site-packages/setuptools/_distutils/config.py'>,\n",
       " 'distutils._vendor': <module 'distutils._vendor' from '/Users/aaron/venvs/ml-test1/lib/python3.11/site-packages/setuptools/_distutils/_vendor/__init__.py'>,\n",
       " 'distutils._vendor.packaging': <module 'distutils._vendor.packaging' from '/Users/aaron/venvs/ml-test1/lib/python3.11/site-packages/setuptools/_distutils/_vendor/packaging/__init__.py'>,\n",
       " 'distutils._vendor.packaging._elffile': <module 'distutils._vendor.packaging._elffile' from '/Users/aaron/venvs/ml-test1/lib/python3.11/site-packages/setuptools/_distutils/_vendor/packaging/_elffile.py'>,\n",
       " 'distutils._vendor.packaging._manylinux': <module 'distutils._vendor.packaging._manylinux' from '/Users/aaron/venvs/ml-test1/lib/python3.11/site-packages/setuptools/_distutils/_vendor/packaging/_manylinux.py'>,\n",
       " 'distutils._vendor.packaging._musllinux': <module 'distutils._vendor.packaging._musllinux' from '/Users/aaron/venvs/ml-test1/lib/python3.11/site-packages/setuptools/_distutils/_vendor/packaging/_musllinux.py'>,\n",
       " 'distutils._vendor.packaging.tags': <module 'distutils._vendor.packaging.tags' from '/Users/aaron/venvs/ml-test1/lib/python3.11/site-packages/setuptools/_distutils/_vendor/packaging/tags.py'>,\n",
       " 'distutils._vendor.packaging._structures': <module 'distutils._vendor.packaging._structures' from '/Users/aaron/venvs/ml-test1/lib/python3.11/site-packages/setuptools/_distutils/_vendor/packaging/_structures.py'>,\n",
       " 'distutils._vendor.packaging.version': <module 'distutils._vendor.packaging.version' from '/Users/aaron/venvs/ml-test1/lib/python3.11/site-packages/setuptools/_distutils/_vendor/packaging/version.py'>,\n",
       " 'distutils._vendor.packaging.utils': <module 'distutils._vendor.packaging.utils' from '/Users/aaron/venvs/ml-test1/lib/python3.11/site-packages/setuptools/_distutils/_vendor/packaging/utils.py'>,\n",
       " 'distutils.fancy_getopt': <module 'distutils.fancy_getopt' from '/Users/aaron/venvs/ml-test1/lib/python3.11/site-packages/setuptools/_distutils/fancy_getopt.py'>,\n",
       " 'distutils.dist': <module 'distutils.dist' from '/Users/aaron/venvs/ml-test1/lib/python3.11/site-packages/setuptools/_distutils/dist.py'>,\n",
       " 'distutils.extension': <module 'distutils.extension' from '/Users/aaron/venvs/ml-test1/lib/python3.11/site-packages/setuptools/_distutils/extension.py'>,\n",
       " 'distutils.core': <module 'distutils.core' from '/Users/aaron/venvs/ml-test1/lib/python3.11/site-packages/setuptools/_distutils/core.py'>,\n",
       " '_distutils_hack.override': <module '_distutils_hack.override' from '/Users/aaron/venvs/ml-test1/lib/python3.11/site-packages/_distutils_hack/override.py'>,\n",
       " 'distutils.log': <module 'distutils.log' from '/Users/aaron/venvs/ml-test1/lib/python3.11/site-packages/setuptools/_distutils/log.py'>,\n",
       " 'distutils.filelist': <module 'distutils.filelist' from '/Users/aaron/venvs/ml-test1/lib/python3.11/site-packages/setuptools/_distutils/filelist.py'>,\n",
       " 'setuptools.monkey': <module 'setuptools.monkey' from '/Users/aaron/venvs/ml-test1/lib/python3.11/site-packages/setuptools/monkey.py'>,\n",
       " 'setuptools.logging': <module 'setuptools.logging' from '/Users/aaron/venvs/ml-test1/lib/python3.11/site-packages/setuptools/logging.py'>,\n",
       " '_csv': <module '_csv' from '/Users/aaron/venvs/ml-test1/lib/python3.11/lib-dynload/_csv.cpython-311-darwin.so'>,\n",
       " 'csv': <module 'csv' from '/Users/aaron/venvs/ml-test1/lib/python3.11/csv.py'>,\n",
       " 'importlib.metadata._functools': <module 'importlib.metadata._functools' from '/Users/aaron/venvs/ml-test1/lib/python3.11/importlib/metadata/_functools.py'>,\n",
       " 'importlib.metadata._text': <module 'importlib.metadata._text' from '/Users/aaron/venvs/ml-test1/lib/python3.11/importlib/metadata/_text.py'>,\n",
       " 'importlib.metadata._adapters': <module 'importlib.metadata._adapters' from '/Users/aaron/venvs/ml-test1/lib/python3.11/importlib/metadata/_adapters.py'>,\n",
       " 'importlib.metadata._meta': <module 'importlib.metadata._meta' from '/Users/aaron/venvs/ml-test1/lib/python3.11/importlib/metadata/_meta.py'>,\n",
       " 'importlib.metadata._collections': <module 'importlib.metadata._collections' from '/Users/aaron/venvs/ml-test1/lib/python3.11/importlib/metadata/_collections.py'>,\n",
       " 'importlib.metadata._itertools': <module 'importlib.metadata._itertools' from '/Users/aaron/venvs/ml-test1/lib/python3.11/importlib/metadata/_itertools.py'>,\n",
       " 'importlib.metadata': <module 'importlib.metadata' from '/Users/aaron/venvs/ml-test1/lib/python3.11/importlib/metadata/__init__.py'>,\n",
       " 'setuptools._importlib': <module 'setuptools._importlib' from '/Users/aaron/venvs/ml-test1/lib/python3.11/site-packages/setuptools/_importlib.py'>,\n",
       " 'setuptools.version': <module 'setuptools.version' from '/Users/aaron/venvs/ml-test1/lib/python3.11/site-packages/setuptools/version.py'>,\n",
       " 'setuptools._imp': <module 'setuptools._imp' from '/Users/aaron/venvs/ml-test1/lib/python3.11/site-packages/setuptools/_imp.py'>,\n",
       " 'setuptools.depends': <module 'setuptools.depends' from '/Users/aaron/venvs/ml-test1/lib/python3.11/site-packages/setuptools/depends.py'>,\n",
       " 'setuptools._path': <module 'setuptools._path' from '/Users/aaron/venvs/ml-test1/lib/python3.11/site-packages/setuptools/_path.py'>,\n",
       " 'setuptools.discovery': <module 'setuptools.discovery' from '/Users/aaron/venvs/ml-test1/lib/python3.11/site-packages/setuptools/discovery.py'>,\n",
       " 'distutils.command': <module 'distutils.command' from '/Users/aaron/venvs/ml-test1/lib/python3.11/site-packages/setuptools/_distutils/command/__init__.py'>,\n",
       " 'ordered_set': <module 'ordered_set' from '/Users/aaron/venvs/ml-test1/lib/python3.11/site-packages/setuptools/_vendor/ordered_set/__init__.py'>,\n",
       " 'setuptools.errors': <module 'setuptools.errors' from '/Users/aaron/venvs/ml-test1/lib/python3.11/site-packages/setuptools/errors.py'>,\n",
       " 'setuptools._itertools': <module 'setuptools._itertools' from '/Users/aaron/venvs/ml-test1/lib/python3.11/site-packages/setuptools/_itertools.py'>,\n",
       " 'setuptools._entry_points': <module 'setuptools._entry_points' from '/Users/aaron/venvs/ml-test1/lib/python3.11/site-packages/setuptools/_entry_points.py'>,\n",
       " 'setuptools._reqs': <module 'setuptools._reqs' from '/Users/aaron/venvs/ml-test1/lib/python3.11/site-packages/setuptools/_reqs.py'>,\n",
       " 'distutils.command.bdist': <module 'distutils.command.bdist' from '/Users/aaron/venvs/ml-test1/lib/python3.11/site-packages/setuptools/_distutils/command/bdist.py'>,\n",
       " 'setuptools.command': <module 'setuptools.command' from '/Users/aaron/venvs/ml-test1/lib/python3.11/site-packages/setuptools/command/__init__.py'>,\n",
       " ...}"
      ]
     },
     "execution_count": 38,
     "metadata": {},
     "output_type": "execute_result"
    }
   ],
   "source": [
    "sys.modules"
   ]
  },
  {
   "cell_type": "code",
   "execution_count": 39,
   "metadata": {},
   "outputs": [
    {
     "data": {
      "text/plain": [
       "dict"
      ]
     },
     "execution_count": 39,
     "metadata": {},
     "output_type": "execute_result"
    }
   ],
   "source": [
    "type(sys.modules)"
   ]
  },
  {
   "cell_type": "code",
   "execution_count": 40,
   "metadata": {},
   "outputs": [
    {
     "data": {
      "text/plain": [
       "<module 'math' from '/Users/aaron/venvs/ml-test1/lib/python3.11/lib-dynload/math.cpython-311-darwin.so'>"
      ]
     },
     "execution_count": 40,
     "metadata": {},
     "output_type": "execute_result"
    }
   ],
   "source": [
    "sys.modules['math']"
   ]
  },
  {
   "cell_type": "code",
   "execution_count": 42,
   "metadata": {},
   "outputs": [
    {
     "data": {
      "text/plain": [
       "4352411184"
      ]
     },
     "execution_count": 42,
     "metadata": {},
     "output_type": "execute_result"
    }
   ],
   "source": [
    "id(sys.modules['math'])  # same id as import math"
   ]
  },
  {
   "cell_type": "code",
   "execution_count": 43,
   "metadata": {},
   "outputs": [
    {
     "data": {
      "text/plain": [
       "'math'"
      ]
     },
     "execution_count": 43,
     "metadata": {},
     "output_type": "execute_result"
    }
   ],
   "source": [
    "math.__name__"
   ]
  },
  {
   "cell_type": "code",
   "execution_count": 44,
   "metadata": {},
   "outputs": [
    {
     "data": {
      "text/plain": [
       "{'__name__': 'math',\n",
       " '__doc__': 'This module provides access to the mathematical functions\\ndefined by the C standard.',\n",
       " '__package__': '',\n",
       " '__loader__': <_frozen_importlib_external.ExtensionFileLoader at 0x1036c4bd0>,\n",
       " '__spec__': ModuleSpec(name='math', loader=<_frozen_importlib_external.ExtensionFileLoader object at 0x1036c4bd0>, origin='/Users/aaron/venvs/ml-test1/lib/python3.11/lib-dynload/math.cpython-311-darwin.so'),\n",
       " 'acos': <function math.acos(x, /)>,\n",
       " 'acosh': <function math.acosh(x, /)>,\n",
       " 'asin': <function math.asin(x, /)>,\n",
       " 'asinh': <function math.asinh(x, /)>,\n",
       " 'atan': <function math.atan(x, /)>,\n",
       " 'atan2': <function math.atan2(y, x, /)>,\n",
       " 'atanh': <function math.atanh(x, /)>,\n",
       " 'cbrt': <function math.cbrt(x, /)>,\n",
       " 'ceil': <function math.ceil(x, /)>,\n",
       " 'copysign': <function math.copysign(x, y, /)>,\n",
       " 'cos': <function math.cos(x, /)>,\n",
       " 'cosh': <function math.cosh(x, /)>,\n",
       " 'degrees': <function math.degrees(x, /)>,\n",
       " 'dist': <function math.dist(p, q, /)>,\n",
       " 'erf': <function math.erf(x, /)>,\n",
       " 'erfc': <function math.erfc(x, /)>,\n",
       " 'exp': <function math.exp(x, /)>,\n",
       " 'exp2': <function math.exp2(x, /)>,\n",
       " 'expm1': <function math.expm1(x, /)>,\n",
       " 'fabs': <function math.fabs(x, /)>,\n",
       " 'factorial': <function math.factorial(n, /)>,\n",
       " 'floor': <function math.floor(x, /)>,\n",
       " 'fmod': <function math.fmod(x, y, /)>,\n",
       " 'frexp': <function math.frexp(x, /)>,\n",
       " 'fsum': <function math.fsum(seq, /)>,\n",
       " 'gamma': <function math.gamma(x, /)>,\n",
       " 'gcd': <function math.gcd(*integers)>,\n",
       " 'hypot': <function math.hypot>,\n",
       " 'isclose': <function math.isclose(a, b, *, rel_tol=1e-09, abs_tol=0.0)>,\n",
       " 'isfinite': <function math.isfinite(x, /)>,\n",
       " 'isinf': <function math.isinf(x, /)>,\n",
       " 'isnan': <function math.isnan(x, /)>,\n",
       " 'isqrt': <function math.isqrt(n, /)>,\n",
       " 'lcm': <function math.lcm(*integers)>,\n",
       " 'ldexp': <function math.ldexp(x, i, /)>,\n",
       " 'lgamma': <function math.lgamma(x, /)>,\n",
       " 'log': <function math.log>,\n",
       " 'log1p': <function math.log1p(x, /)>,\n",
       " 'log10': <function math.log10(x, /)>,\n",
       " 'log2': <function math.log2(x, /)>,\n",
       " 'modf': <function math.modf(x, /)>,\n",
       " 'pow': <function math.pow(x, y, /)>,\n",
       " 'radians': <function math.radians(x, /)>,\n",
       " 'remainder': <function math.remainder(x, y, /)>,\n",
       " 'sin': <function math.sin(x, /)>,\n",
       " 'sinh': <function math.sinh(x, /)>,\n",
       " 'sqrt': <function math.sqrt(x, /)>,\n",
       " 'tan': <function math.tan(x, /)>,\n",
       " 'tanh': <function math.tanh(x, /)>,\n",
       " 'trunc': <function math.trunc(x, /)>,\n",
       " 'prod': <function math.prod(iterable, /, *, start=1)>,\n",
       " 'perm': <function math.perm(n, k=None, /)>,\n",
       " 'comb': <function math.comb(n, k, /)>,\n",
       " 'nextafter': <function math.nextafter(x, y, /)>,\n",
       " 'ulp': <function math.ulp(x, /)>,\n",
       " '__file__': '/Users/aaron/venvs/ml-test1/lib/python3.11/lib-dynload/math.cpython-311-darwin.so',\n",
       " 'pi': 3.141592653589793,\n",
       " 'e': 2.718281828459045,\n",
       " 'tau': 6.283185307179586,\n",
       " 'inf': inf,\n",
       " 'nan': nan}"
      ]
     },
     "execution_count": 44,
     "metadata": {},
     "output_type": "execute_result"
    }
   ],
   "source": [
    "math.__dict__"
   ]
  },
  {
   "cell_type": "code",
   "execution_count": 45,
   "metadata": {},
   "outputs": [],
   "source": [
    "f = math.__dict__['sqrt']"
   ]
  },
  {
   "cell_type": "code",
   "execution_count": 46,
   "metadata": {},
   "outputs": [
    {
     "data": {
      "text/plain": [
       "<function math.sqrt(x, /)>"
      ]
     },
     "execution_count": 46,
     "metadata": {},
     "output_type": "execute_result"
    }
   ],
   "source": [
    "f"
   ]
  },
  {
   "cell_type": "code",
   "execution_count": 47,
   "metadata": {},
   "outputs": [
    {
     "data": {
      "text/plain": [
       "1.4142135623730951"
      ]
     },
     "execution_count": 47,
     "metadata": {},
     "output_type": "execute_result"
    }
   ],
   "source": [
    "f(2)"
   ]
  },
  {
   "cell_type": "code",
   "execution_count": 48,
   "metadata": {},
   "outputs": [],
   "source": [
    "import fractions"
   ]
  },
  {
   "cell_type": "code",
   "execution_count": 49,
   "metadata": {},
   "outputs": [
    {
     "data": {
      "text/plain": [
       "<module 'fractions' from '/Users/aaron/venvs/ml-test1/lib/python3.11/fractions.py'>"
      ]
     },
     "execution_count": 49,
     "metadata": {},
     "output_type": "execute_result"
    }
   ],
   "source": [
    "sys.modules['fractions']"
   ]
  },
  {
   "cell_type": "code",
   "execution_count": 50,
   "metadata": {},
   "outputs": [
    {
     "data": {
      "text/plain": [
       "['Decimal',\n",
       " 'Fraction',\n",
       " '_PyHASH_INF',\n",
       " '_PyHASH_MODULUS',\n",
       " '_RATIONAL_FORMAT',\n",
       " '__all__',\n",
       " '__builtins__',\n",
       " '__cached__',\n",
       " '__doc__',\n",
       " '__file__',\n",
       " '__loader__',\n",
       " '__name__',\n",
       " '__package__',\n",
       " '__spec__',\n",
       " 'math',\n",
       " 'numbers',\n",
       " 'operator',\n",
       " 're',\n",
       " 'sys']"
      ]
     },
     "execution_count": 50,
     "metadata": {},
     "output_type": "execute_result"
    }
   ],
   "source": [
    "dir(fractions)"
   ]
  },
  {
   "cell_type": "code",
   "execution_count": 51,
   "metadata": {},
   "outputs": [
    {
     "data": {
      "text/plain": [
       "{'__name__': 'fractions',\n",
       " '__doc__': 'Fraction, infinite-precision, rational numbers.',\n",
       " '__package__': '',\n",
       " '__loader__': <_frozen_importlib_external.SourceFileLoader at 0x10600c250>,\n",
       " '__spec__': ModuleSpec(name='fractions', loader=<_frozen_importlib_external.SourceFileLoader object at 0x10600c250>, origin='/Users/aaron/venvs/ml-test1/lib/python3.11/fractions.py'),\n",
       " '__file__': '/Users/aaron/venvs/ml-test1/lib/python3.11/fractions.py',\n",
       " '__cached__': '/Users/aaron/venvs/ml-test1/lib/python3.11/__pycache__/fractions.cpython-311.pyc',\n",
       " '__builtins__': {'__name__': 'builtins',\n",
       "  '__doc__': \"Built-in functions, types, exceptions, and other objects.\\n\\nThis module provides direct access to all 'built-in'\\nidentifiers of Python; for example, builtins.len is\\nthe full name for the built-in function len().\\n\\nThis module is not normally accessed explicitly by most\\napplications, but can be useful in modules that provide\\nobjects with the same name as a built-in value, but in\\nwhich the built-in of that name is also needed.\",\n",
       "  '__package__': '',\n",
       "  '__loader__': _frozen_importlib.BuiltinImporter,\n",
       "  '__spec__': ModuleSpec(name='builtins', loader=<class '_frozen_importlib.BuiltinImporter'>, origin='built-in'),\n",
       "  '__build_class__': <function __build_class__>,\n",
       "  '__import__': <function __import__(name, globals=None, locals=None, fromlist=(), level=0)>,\n",
       "  'abs': <function abs(x, /)>,\n",
       "  'all': <function all(iterable, /)>,\n",
       "  'any': <function any(iterable, /)>,\n",
       "  'ascii': <function ascii(obj, /)>,\n",
       "  'bin': <function bin(number, /)>,\n",
       "  'breakpoint': <function breakpoint>,\n",
       "  'callable': <function callable(obj, /)>,\n",
       "  'chr': <function chr(i, /)>,\n",
       "  'compile': <function compile(source, filename, mode, flags=0, dont_inherit=False, optimize=-1, *, _feature_version=-1)>,\n",
       "  'delattr': <function delattr(obj, name, /)>,\n",
       "  'dir': <function dir>,\n",
       "  'divmod': <function divmod(x, y, /)>,\n",
       "  'eval': <function eval(source, globals=None, locals=None, /)>,\n",
       "  'exec': <function exec(source, globals=None, locals=None, /, *, closure=None)>,\n",
       "  'format': <function format(value, format_spec='', /)>,\n",
       "  'getattr': <function getattr>,\n",
       "  'globals': <function globals()>,\n",
       "  'hasattr': <function hasattr(obj, name, /)>,\n",
       "  'hash': <function hash(obj, /)>,\n",
       "  'hex': <function hex(number, /)>,\n",
       "  'id': <function id(obj, /)>,\n",
       "  'input': <bound method Kernel.raw_input of <ipykernel.ipkernel.IPythonKernel object at 0x107bd42d0>>,\n",
       "  'isinstance': <function isinstance(obj, class_or_tuple, /)>,\n",
       "  'issubclass': <function issubclass(cls, class_or_tuple, /)>,\n",
       "  'iter': <function iter>,\n",
       "  'aiter': <function aiter(async_iterable, /)>,\n",
       "  'len': <function len(obj, /)>,\n",
       "  'locals': <function locals()>,\n",
       "  'max': <function max>,\n",
       "  'min': <function min>,\n",
       "  'next': <function next>,\n",
       "  'anext': <function anext>,\n",
       "  'oct': <function oct(number, /)>,\n",
       "  'ord': <function ord(c, /)>,\n",
       "  'pow': <function pow(base, exp, mod=None)>,\n",
       "  'print': <function print(*args, sep=' ', end='\\n', file=None, flush=False)>,\n",
       "  'repr': <function repr(obj, /)>,\n",
       "  'round': <function round(number, ndigits=None)>,\n",
       "  'setattr': <function setattr(obj, name, value, /)>,\n",
       "  'sorted': <function sorted(iterable, /, *, key=None, reverse=False)>,\n",
       "  'sum': <function sum(iterable, /, start=0)>,\n",
       "  'vars': <function vars>,\n",
       "  'None': None,\n",
       "  'Ellipsis': Ellipsis,\n",
       "  'NotImplemented': NotImplemented,\n",
       "  'False': False,\n",
       "  'True': True,\n",
       "  'bool': bool,\n",
       "  'memoryview': memoryview,\n",
       "  'bytearray': bytearray,\n",
       "  'bytes': bytes,\n",
       "  'classmethod': classmethod,\n",
       "  'complex': complex,\n",
       "  'dict': dict,\n",
       "  'enumerate': enumerate,\n",
       "  'filter': filter,\n",
       "  'float': float,\n",
       "  'frozenset': frozenset,\n",
       "  'property': property,\n",
       "  'int': int,\n",
       "  'list': list,\n",
       "  'map': map,\n",
       "  'object': object,\n",
       "  'range': range,\n",
       "  'reversed': reversed,\n",
       "  'set': set,\n",
       "  'slice': slice,\n",
       "  'staticmethod': staticmethod,\n",
       "  'str': str,\n",
       "  'super': super,\n",
       "  'tuple': tuple,\n",
       "  'type': type,\n",
       "  'zip': zip,\n",
       "  '__debug__': True,\n",
       "  'BaseException': BaseException,\n",
       "  'BaseExceptionGroup': BaseExceptionGroup,\n",
       "  'Exception': Exception,\n",
       "  'GeneratorExit': GeneratorExit,\n",
       "  'KeyboardInterrupt': KeyboardInterrupt,\n",
       "  'SystemExit': SystemExit,\n",
       "  'ArithmeticError': ArithmeticError,\n",
       "  'AssertionError': AssertionError,\n",
       "  'AttributeError': AttributeError,\n",
       "  'BufferError': BufferError,\n",
       "  'EOFError': EOFError,\n",
       "  'ImportError': ImportError,\n",
       "  'LookupError': LookupError,\n",
       "  'MemoryError': MemoryError,\n",
       "  'NameError': NameError,\n",
       "  'OSError': OSError,\n",
       "  'ReferenceError': ReferenceError,\n",
       "  'RuntimeError': RuntimeError,\n",
       "  'StopAsyncIteration': StopAsyncIteration,\n",
       "  'StopIteration': StopIteration,\n",
       "  'SyntaxError': SyntaxError,\n",
       "  'SystemError': SystemError,\n",
       "  'TypeError': TypeError,\n",
       "  'ValueError': ValueError,\n",
       "  'Warning': Warning,\n",
       "  'FloatingPointError': FloatingPointError,\n",
       "  'OverflowError': OverflowError,\n",
       "  'ZeroDivisionError': ZeroDivisionError,\n",
       "  'BytesWarning': BytesWarning,\n",
       "  'DeprecationWarning': DeprecationWarning,\n",
       "  'EncodingWarning': EncodingWarning,\n",
       "  'FutureWarning': FutureWarning,\n",
       "  'ImportWarning': ImportWarning,\n",
       "  'PendingDeprecationWarning': PendingDeprecationWarning,\n",
       "  'ResourceWarning': ResourceWarning,\n",
       "  'RuntimeWarning': RuntimeWarning,\n",
       "  'SyntaxWarning': SyntaxWarning,\n",
       "  'UnicodeWarning': UnicodeWarning,\n",
       "  'UserWarning': UserWarning,\n",
       "  'BlockingIOError': BlockingIOError,\n",
       "  'ChildProcessError': ChildProcessError,\n",
       "  'ConnectionError': ConnectionError,\n",
       "  'FileExistsError': FileExistsError,\n",
       "  'FileNotFoundError': FileNotFoundError,\n",
       "  'InterruptedError': InterruptedError,\n",
       "  'IsADirectoryError': IsADirectoryError,\n",
       "  'NotADirectoryError': NotADirectoryError,\n",
       "  'PermissionError': PermissionError,\n",
       "  'ProcessLookupError': ProcessLookupError,\n",
       "  'TimeoutError': TimeoutError,\n",
       "  'IndentationError': IndentationError,\n",
       "  'IndexError': IndexError,\n",
       "  'KeyError': KeyError,\n",
       "  'ModuleNotFoundError': ModuleNotFoundError,\n",
       "  'NotImplementedError': NotImplementedError,\n",
       "  'RecursionError': RecursionError,\n",
       "  'UnboundLocalError': UnboundLocalError,\n",
       "  'UnicodeError': UnicodeError,\n",
       "  'BrokenPipeError': BrokenPipeError,\n",
       "  'ConnectionAbortedError': ConnectionAbortedError,\n",
       "  'ConnectionRefusedError': ConnectionRefusedError,\n",
       "  'ConnectionResetError': ConnectionResetError,\n",
       "  'TabError': TabError,\n",
       "  'UnicodeDecodeError': UnicodeDecodeError,\n",
       "  'UnicodeEncodeError': UnicodeEncodeError,\n",
       "  'UnicodeTranslateError': UnicodeTranslateError,\n",
       "  'ExceptionGroup': ExceptionGroup,\n",
       "  'EnvironmentError': OSError,\n",
       "  'IOError': OSError,\n",
       "  'open': <function io.open(file, mode='r', buffering=-1, encoding=None, errors=None, newline=None, closefd=True, opener=None)>,\n",
       "  'copyright': Copyright (c) 2001-2023 Python Software Foundation.\n",
       "  All Rights Reserved.\n",
       "  \n",
       "  Copyright (c) 2000 BeOpen.com.\n",
       "  All Rights Reserved.\n",
       "  \n",
       "  Copyright (c) 1995-2001 Corporation for National Research Initiatives.\n",
       "  All Rights Reserved.\n",
       "  \n",
       "  Copyright (c) 1991-1995 Stichting Mathematisch Centrum, Amsterdam.\n",
       "  All Rights Reserved.,\n",
       "  'credits':     Thanks to CWI, CNRI, BeOpen.com, Zope Corporation and a cast of thousands\n",
       "      for supporting Python development.  See www.python.org for more information.,\n",
       "  'license': Type license() to see the full license text,\n",
       "  'help': Type help() for interactive help, or help(object) for help about object.,\n",
       "  'execfile': <function _pydev_bundle._pydev_execfile.execfile(file, glob=None, loc=None)>,\n",
       "  'runfile': <function _pydev_bundle.pydev_umd.runfile(filename, args=None, wdir=None, namespace=None)>,\n",
       "  '__IPYTHON__': True,\n",
       "  'display': <function IPython.core.display_functions.display(*objs, include=None, exclude=None, metadata=None, transient=None, display_id=None, raw=False, clear=False, **kwargs)>,\n",
       "  'get_ipython': <bound method InteractiveShell.get_ipython of <ipykernel.zmqshell.ZMQInteractiveShell object at 0x107bd7ad0>>},\n",
       " 'Decimal': decimal.Decimal,\n",
       " 'math': <module 'math' from '/Users/aaron/venvs/ml-test1/lib/python3.11/lib-dynload/math.cpython-311-darwin.so'>,\n",
       " 'numbers': <module 'numbers' from '/Users/aaron/venvs/ml-test1/lib/python3.11/numbers.py'>,\n",
       " 'operator': <module 'operator' from '/Users/aaron/venvs/ml-test1/lib/python3.11/operator.py'>,\n",
       " 're': <module 're' from '/Users/aaron/venvs/ml-test1/lib/python3.11/re/__init__.py'>,\n",
       " 'sys': <module 'sys' (built-in)>,\n",
       " '__all__': ['Fraction'],\n",
       " '_PyHASH_MODULUS': 2305843009213693951,\n",
       " '_PyHASH_INF': 314159,\n",
       " '_RATIONAL_FORMAT': re.compile(r'\\n    \\A\\s*                                  # optional whitespace at the start,\\n    (?P<sign>[-+]?)                        # an optional sign, then\\n    (?=\\d|\\.\\d)                            # lookahead for digit or .digit\\n    (?P<num>\\d*|\\d+(_\\d+)*)                # numerator (possibly empty)\\n    (?:                                    # followed by\\n       (?:/(?P<denom>\\d+(_\\d+)*))?         # an optional denominator\\n    |                                      # or\\n       (?:\\.(?P<decimal>\\d*|\\d+(_\\d+)*))?  # an optional fractional part\\n       (?:E(?P<exp>[-+]?\\d+(_\\d+)*))?      # and optional exponent\\n    )\\n    \\s*\\Z                                  # and optional whitespace to finish\\n',\n",
       "            re.IGNORECASE|re.UNICODE|re.VERBOSE),\n",
       " 'Fraction': fractions.Fraction}"
      ]
     },
     "execution_count": 51,
     "metadata": {},
     "output_type": "execute_result"
    }
   ],
   "source": [
    "fractions.__dict__"
   ]
  },
  {
   "cell_type": "code",
   "execution_count": 52,
   "metadata": {},
   "outputs": [],
   "source": [
    "import calendar"
   ]
  },
  {
   "cell_type": "code",
   "execution_count": 53,
   "metadata": {},
   "outputs": [
    {
     "data": {
      "text/plain": [
       "<module 'calendar' from '/Users/aaron/venvs/ml-test1/lib/python3.11/calendar.py'>"
      ]
     },
     "execution_count": 53,
     "metadata": {},
     "output_type": "execute_result"
    }
   ],
   "source": [
    "calendar"
   ]
  },
  {
   "cell_type": "code",
   "execution_count": 54,
   "metadata": {},
   "outputs": [
    {
     "ename": "TypeError",
     "evalue": "'module' object is not callable",
     "output_type": "error",
     "traceback": [
      "\u001b[0;31m---------------------------------------------------------------------------\u001b[0m",
      "\u001b[0;31mTypeError\u001b[0m                                 Traceback (most recent call last)",
      "Cell \u001b[0;32mIn[54], line 1\u001b[0m\n\u001b[0;32m----> 1\u001b[0m calendar()\n",
      "\u001b[0;31mTypeError\u001b[0m: 'module' object is not callable"
     ]
    }
   ],
   "source": [
    "calendar()"
   ]
  },
  {
   "cell_type": "code",
   "execution_count": 55,
   "metadata": {},
   "outputs": [],
   "source": [
    "import types"
   ]
  },
  {
   "cell_type": "code",
   "execution_count": 57,
   "metadata": {},
   "outputs": [
    {
     "ename": "NameError",
     "evalue": "name 'ModuleType' is not defined",
     "output_type": "error",
     "traceback": [
      "\u001b[0;31m---------------------------------------------------------------------------\u001b[0m",
      "\u001b[0;31mNameError\u001b[0m                                 Traceback (most recent call last)",
      "Cell \u001b[0;32mIn[57], line 1\u001b[0m\n\u001b[0;32m----> 1\u001b[0m \u001b[38;5;28misinstance\u001b[39m(fractions, ModuleType)\n",
      "\u001b[0;31mNameError\u001b[0m: name 'ModuleType' is not defined"
     ]
    }
   ],
   "source": [
    "isinstance(fractions, ModuleType)"
   ]
  },
  {
   "cell_type": "code",
   "execution_count": 58,
   "metadata": {},
   "outputs": [
    {
     "data": {
      "text/plain": [
       "True"
      ]
     },
     "execution_count": 58,
     "metadata": {},
     "output_type": "execute_result"
    }
   ],
   "source": [
    "isinstance(fractions, types.ModuleType)"
   ]
  },
  {
   "cell_type": "code",
   "execution_count": 59,
   "metadata": {},
   "outputs": [
    {
     "data": {
      "text/plain": [
       "True"
      ]
     },
     "execution_count": 59,
     "metadata": {},
     "output_type": "execute_result"
    }
   ],
   "source": [
    "isinstance(math, types.ModuleType)"
   ]
  },
  {
   "cell_type": "code",
   "execution_count": 63,
   "metadata": {},
   "outputs": [],
   "source": [
    "mod = types.ModuleType('test', 'This is a test module')"
   ]
  },
  {
   "cell_type": "code",
   "execution_count": 65,
   "metadata": {},
   "outputs": [
    {
     "data": {
      "text/plain": [
       "True"
      ]
     },
     "execution_count": 65,
     "metadata": {},
     "output_type": "execute_result"
    }
   ],
   "source": [
    "from types import ModuleType\n",
    "isinstance(mod, ModuleType)\n"
   ]
  },
  {
   "cell_type": "code",
   "execution_count": 66,
   "metadata": {},
   "outputs": [
    {
     "data": {
      "text/plain": [
       "{'__name__': 'test',\n",
       " '__doc__': 'This is a test module',\n",
       " '__package__': None,\n",
       " '__loader__': None,\n",
       " '__spec__': None}"
      ]
     },
     "execution_count": 66,
     "metadata": {},
     "output_type": "execute_result"
    }
   ],
   "source": [
    "mod.__dict__"
   ]
  },
  {
   "cell_type": "code",
   "execution_count": 67,
   "metadata": {},
   "outputs": [],
   "source": [
    "mod.pi = 3.14"
   ]
  },
  {
   "cell_type": "code",
   "execution_count": 68,
   "metadata": {},
   "outputs": [
    {
     "data": {
      "text/plain": [
       "{'__name__': 'test',\n",
       " '__doc__': 'This is a test module',\n",
       " '__package__': None,\n",
       " '__loader__': None,\n",
       " '__spec__': None,\n",
       " 'pi': 3.14}"
      ]
     },
     "execution_count": 68,
     "metadata": {},
     "output_type": "execute_result"
    }
   ],
   "source": [
    "mod.__dict__"
   ]
  },
  {
   "cell_type": "code",
   "execution_count": 69,
   "metadata": {},
   "outputs": [
    {
     "ename": "NameError",
     "evalue": "name 'mode' is not defined",
     "output_type": "error",
     "traceback": [
      "\u001b[0;31m---------------------------------------------------------------------------\u001b[0m",
      "\u001b[0;31mNameError\u001b[0m                                 Traceback (most recent call last)",
      "Cell \u001b[0;32mIn[69], line 1\u001b[0m\n\u001b[0;32m----> 1\u001b[0m mode\u001b[38;5;241m.\u001b[39mhello \u001b[38;5;241m=\u001b[39m \u001b[38;5;28;01mlambda\u001b[39;00m: \u001b[38;5;124m'\u001b[39m\u001b[38;5;124mHello:\u001b[39m\u001b[38;5;124m'\u001b[39m\n",
      "\u001b[0;31mNameError\u001b[0m: name 'mode' is not defined"
     ]
    }
   ],
   "source": [
    "mode.hello = lambda: 'Hello:'"
   ]
  },
  {
   "cell_type": "code",
   "execution_count": 70,
   "metadata": {},
   "outputs": [],
   "source": [
    "mod.hello = lambda: 'Hello!'"
   ]
  },
  {
   "cell_type": "code",
   "execution_count": 71,
   "metadata": {},
   "outputs": [
    {
     "data": {
      "text/plain": [
       "'Hello!'"
      ]
     },
     "execution_count": 71,
     "metadata": {},
     "output_type": "execute_result"
    }
   ],
   "source": [
    "mod.hello()"
   ]
  },
  {
   "cell_type": "code",
   "execution_count": 72,
   "metadata": {},
   "outputs": [],
   "source": [
    "hello = mod.hello"
   ]
  },
  {
   "cell_type": "code",
   "execution_count": 73,
   "metadata": {},
   "outputs": [
    {
     "data": {
      "text/plain": [
       "True"
      ]
     },
     "execution_count": 73,
     "metadata": {},
     "output_type": "execute_result"
    }
   ],
   "source": [
    "'hello' in globals()"
   ]
  },
  {
   "cell_type": "code",
   "execution_count": 75,
   "metadata": {},
   "outputs": [
    {
     "data": {
      "text/plain": [
       "True"
      ]
     },
     "execution_count": 75,
     "metadata": {},
     "output_type": "execute_result"
    }
   ],
   "source": [
    "'mod' in globals()"
   ]
  },
  {
   "cell_type": "code",
   "execution_count": 76,
   "metadata": {},
   "outputs": [],
   "source": [
    "from collections import namedtuple"
   ]
  },
  {
   "cell_type": "code",
   "execution_count": 77,
   "metadata": {},
   "outputs": [],
   "source": [
    "mod.Point = namedtuple('Point', 'x y')"
   ]
  },
  {
   "cell_type": "code",
   "execution_count": 78,
   "metadata": {},
   "outputs": [],
   "source": [
    "p1 = mod.Point(0, 0)\n",
    "p2 = mod.Point(1, 1)"
   ]
  },
  {
   "cell_type": "code",
   "execution_count": 79,
   "metadata": {},
   "outputs": [
    {
     "data": {
      "text/plain": [
       "Point(x=0, y=0)"
      ]
     },
     "execution_count": 79,
     "metadata": {},
     "output_type": "execute_result"
    }
   ],
   "source": [
    "p1"
   ]
  },
  {
   "cell_type": "code",
   "execution_count": 80,
   "metadata": {},
   "outputs": [
    {
     "data": {
      "text/plain": [
       "['Point',\n",
       " '__doc__',\n",
       " '__loader__',\n",
       " '__name__',\n",
       " '__package__',\n",
       " '__spec__',\n",
       " 'hello',\n",
       " 'pi']"
      ]
     },
     "execution_count": 80,
     "metadata": {},
     "output_type": "execute_result"
    }
   ],
   "source": [
    "dir(mod)"
   ]
  },
  {
   "cell_type": "code",
   "execution_count": 81,
   "metadata": {},
   "outputs": [],
   "source": [
    "PT = getattr(mod, 'Point')"
   ]
  },
  {
   "cell_type": "code",
   "execution_count": 82,
   "metadata": {},
   "outputs": [
    {
     "data": {
      "text/plain": [
       "Point(x=20, y=20)"
      ]
     },
     "execution_count": 82,
     "metadata": {},
     "output_type": "execute_result"
    }
   ],
   "source": [
    "PT(20, 20)"
   ]
  },
  {
   "cell_type": "code",
   "execution_count": 83,
   "metadata": {},
   "outputs": [],
   "source": [
    "PT = mod.__dict__['Point']"
   ]
  },
  {
   "cell_type": "code",
   "execution_count": 84,
   "metadata": {},
   "outputs": [
    {
     "data": {
      "text/plain": [
       "Point(x=20, y=20)"
      ]
     },
     "execution_count": 84,
     "metadata": {},
     "output_type": "execute_result"
    }
   ],
   "source": [
    "PT(20, 20)"
   ]
  },
  {
   "cell_type": "code",
   "execution_count": null,
   "metadata": {},
   "outputs": [],
   "source": []
  },
  {
   "cell_type": "code",
   "execution_count": null,
   "metadata": {},
   "outputs": [],
   "source": []
  },
  {
   "cell_type": "code",
   "execution_count": null,
   "metadata": {},
   "outputs": [],
   "source": []
  },
  {
   "cell_type": "code",
   "execution_count": null,
   "metadata": {},
   "outputs": [],
   "source": []
  },
  {
   "cell_type": "code",
   "execution_count": null,
   "metadata": {},
   "outputs": [],
   "source": []
  },
  {
   "cell_type": "code",
   "execution_count": null,
   "metadata": {},
   "outputs": [],
   "source": []
  },
  {
   "cell_type": "code",
   "execution_count": null,
   "metadata": {},
   "outputs": [],
   "source": []
  },
  {
   "cell_type": "code",
   "execution_count": null,
   "metadata": {},
   "outputs": [],
   "source": []
  },
  {
   "cell_type": "code",
   "execution_count": null,
   "metadata": {},
   "outputs": [],
   "source": []
  },
  {
   "cell_type": "code",
   "execution_count": null,
   "metadata": {},
   "outputs": [],
   "source": []
  },
  {
   "cell_type": "code",
   "execution_count": null,
   "metadata": {},
   "outputs": [],
   "source": []
  },
  {
   "cell_type": "markdown",
   "metadata": {},
   "source": [
    "### What is a Module?"
   ]
  },
  {
   "cell_type": "markdown",
   "metadata": {},
   "source": [
    "A module is simply another data type. And the modules we use are instances of that data type."
   ]
  },
  {
   "cell_type": "code",
   "execution_count": 1,
   "metadata": {
    "collapsed": true
   },
   "outputs": [],
   "source": [
    "import math"
   ]
  },
  {
   "cell_type": "markdown",
   "metadata": {},
   "source": [
    "That word `math` is simply a label (think variable name) in our (global) namespace that points to some object in memory that is the `math` module."
   ]
  },
  {
   "cell_type": "markdown",
   "metadata": {},
   "source": [
    "Let's see what is in our global namespace:"
   ]
  },
  {
   "cell_type": "code",
   "execution_count": 2,
   "metadata": {},
   "outputs": [
    {
     "data": {
      "text/plain": [
       "{'In': ['', 'import math', 'globals()'],\n",
       " 'Out': {},\n",
       " '_': '',\n",
       " '__': '',\n",
       " '___': '',\n",
       " '__builtin__': <module 'builtins' (built-in)>,\n",
       " '__builtins__': <module 'builtins' (built-in)>,\n",
       " '__doc__': 'Automatically created module for IPython interactive environment',\n",
       " '__loader__': None,\n",
       " '__name__': '__main__',\n",
       " '__package__': None,\n",
       " '__spec__': None,\n",
       " '_dh': ['d:\\\\fbapt\\\\Dropbox\\\\Python Deep Dive\\\\Section 09 - Modules, Packages and Namespaces\\\\02 - What is a Module'],\n",
       " '_i': 'import math',\n",
       " '_i1': 'import math',\n",
       " '_i2': 'globals()',\n",
       " '_ih': ['', 'import math', 'globals()'],\n",
       " '_ii': '',\n",
       " '_iii': '',\n",
       " '_oh': {},\n",
       " 'exit': <IPython.core.autocall.ZMQExitAutocall at 0x1ae10cb5550>,\n",
       " 'get_ipython': <bound method InteractiveShell.get_ipython of <ipykernel.zmqshell.ZMQInteractiveShell object at 0x000001AE10373208>>,\n",
       " 'math': <module 'math' (built-in)>,\n",
       " 'quit': <IPython.core.autocall.ZMQExitAutocall at 0x1ae10cb5550>}"
      ]
     },
     "execution_count": 2,
     "metadata": {},
     "output_type": "execute_result"
    }
   ],
   "source": [
    "globals()"
   ]
  },
  {
   "cell_type": "code",
   "execution_count": 3,
   "metadata": {},
   "outputs": [
    {
     "data": {
      "text/plain": [
       "<module 'math' (built-in)>"
      ]
     },
     "execution_count": 3,
     "metadata": {},
     "output_type": "execute_result"
    }
   ],
   "source": [
    "globals()['math']"
   ]
  },
  {
   "cell_type": "code",
   "execution_count": 4,
   "metadata": {},
   "outputs": [
    {
     "data": {
      "text/plain": [
       "module"
      ]
     },
     "execution_count": 4,
     "metadata": {},
     "output_type": "execute_result"
    }
   ],
   "source": [
    "type(math)"
   ]
  },
  {
   "cell_type": "code",
   "execution_count": 5,
   "metadata": {},
   "outputs": [
    {
     "data": {
      "text/plain": [
       "<module 'math' (built-in)>"
      ]
     },
     "execution_count": 5,
     "metadata": {},
     "output_type": "execute_result"
    }
   ],
   "source": [
    "math"
   ]
  },
  {
   "cell_type": "markdown",
   "metadata": {},
   "source": [
    "It's just an object of type `module`, and it even has a memory address:"
   ]
  },
  {
   "cell_type": "code",
   "execution_count": 6,
   "metadata": {},
   "outputs": [
    {
     "data": {
      "text/plain": [
       "1847086390312"
      ]
     },
     "execution_count": 6,
     "metadata": {},
     "output_type": "execute_result"
    }
   ],
   "source": [
    "id(math)"
   ]
  },
  {
   "cell_type": "markdown",
   "metadata": {},
   "source": [
    "Take note of this memory address, we'll want to refer to it later!\n",
    "\n",
    "Let me show you what happens if I set the `math` **label** to `None` (I could even use `del globals()['math']`:"
   ]
  },
  {
   "cell_type": "code",
   "execution_count": 13,
   "metadata": {
    "collapsed": true
   },
   "outputs": [],
   "source": [
    "math = None"
   ]
  },
  {
   "cell_type": "code",
   "execution_count": 15,
   "metadata": {},
   "outputs": [
    {
     "data": {
      "text/plain": [
       "NoneType"
      ]
     },
     "execution_count": 15,
     "metadata": {},
     "output_type": "execute_result"
    }
   ],
   "source": [
    "type(math)"
   ]
  },
  {
   "cell_type": "code",
   "execution_count": 16,
   "metadata": {},
   "outputs": [
    {
     "data": {
      "text/plain": [
       "1800367120"
      ]
     },
     "execution_count": 16,
     "metadata": {},
     "output_type": "execute_result"
    }
   ],
   "source": [
    "id(math)"
   ]
  },
  {
   "cell_type": "markdown",
   "metadata": {},
   "source": [
    "As you can see the label `math` now points to something else.\n",
    "\n",
    "Let me re-import it:"
   ]
  },
  {
   "cell_type": "code",
   "execution_count": 17,
   "metadata": {
    "collapsed": true
   },
   "outputs": [],
   "source": [
    "import math"
   ]
  },
  {
   "cell_type": "markdown",
   "metadata": {},
   "source": [
    "And now we can see:"
   ]
  },
  {
   "cell_type": "code",
   "execution_count": 18,
   "metadata": {},
   "outputs": [
    {
     "data": {
      "text/plain": [
       "<module 'math' (built-in)>"
      ]
     },
     "execution_count": 18,
     "metadata": {},
     "output_type": "execute_result"
    }
   ],
   "source": [
    "math"
   ]
  },
  {
   "cell_type": "code",
   "execution_count": 19,
   "metadata": {},
   "outputs": [
    {
     "data": {
      "text/plain": [
       "1847086390312"
      ]
     },
     "execution_count": 19,
     "metadata": {},
     "output_type": "execute_result"
    }
   ],
   "source": [
    "id(math)"
   ]
  },
  {
   "cell_type": "markdown",
   "metadata": {},
   "source": [
    "You'll notice that the label `math` now is the **same** memory address as the first time we ran the import."
   ]
  },
  {
   "cell_type": "markdown",
   "metadata": {},
   "source": [
    "**NOTE**: Please do not do this in your code. You never what side effects you may encounter - I just showed you this to make a point - when I ran the import the second time, I obtained a label that pointed to the **same** object."
   ]
  },
  {
   "cell_type": "markdown",
   "metadata": {},
   "source": [
    "What happens is that when you import a module, it is not actually loaded into the module's namespace only. Instead, the module is loaded into an overarching global system dictionary that contains the module name and the reference to the module object. The name we see here is \"copied\" into our namespace from that system namespace."
   ]
  },
  {
   "cell_type": "markdown",
   "metadata": {},
   "source": [
    "If we had a project with multiple modules that each imported `math`, Python will load the `math` module the first time it is requested and put it into memory.\n",
    "\n",
    "The next time the `math` module is imported (in some different module), Python always looks at the system modules first - if it is there it simply copies that reference into our module's namespace and sets the label accordingly."
   ]
  },
  {
   "cell_type": "markdown",
   "metadata": {},
   "source": [
    "Let's take a look at the system modules:"
   ]
  },
  {
   "cell_type": "code",
   "execution_count": 20,
   "metadata": {
    "collapsed": true
   },
   "outputs": [],
   "source": [
    "import sys"
   ]
  },
  {
   "cell_type": "code",
   "execution_count": 24,
   "metadata": {},
   "outputs": [
    {
     "data": {
      "text/plain": [
       "dict"
      ]
     },
     "execution_count": 24,
     "metadata": {},
     "output_type": "execute_result"
    }
   ],
   "source": [
    "type(sys.modules)"
   ]
  },
  {
   "cell_type": "markdown",
   "metadata": {},
   "source": [
    "The `sys.modules` currently contains a **lot** of entries, so I'm just going to look at the one we're interested in - the `math` module:"
   ]
  },
  {
   "cell_type": "code",
   "execution_count": 27,
   "metadata": {},
   "outputs": [
    {
     "data": {
      "text/plain": [
       "<module 'math' (built-in)>"
      ]
     },
     "execution_count": 27,
     "metadata": {},
     "output_type": "execute_result"
    }
   ],
   "source": [
    "sys.modules['math']"
   ]
  },
  {
   "cell_type": "markdown",
   "metadata": {},
   "source": [
    "Aha! The `sys.modules` dictionary contains a key for `math` and as you saw it is the `math` module. In fact we can look at the memory address once more:"
   ]
  },
  {
   "cell_type": "code",
   "execution_count": 28,
   "metadata": {},
   "outputs": [
    {
     "data": {
      "text/plain": [
       "1847086390312"
      ]
     },
     "execution_count": 28,
     "metadata": {},
     "output_type": "execute_result"
    }
   ],
   "source": [
    "id(sys.modules['math'])"
   ]
  },
  {
   "cell_type": "markdown",
   "metadata": {},
   "source": [
    "Compare that to the `id` of the `math` module in our own (main) module - the same!"
   ]
  },
  {
   "cell_type": "markdown",
   "metadata": {},
   "source": [
    "Now that we have established that a module is just an instance of the `module` type, and where it lives (in memory) with references to it maintained in the `sys.modules` dictionary as well as in any module namespace that imported it, let's see how we could create a module dynamically!"
   ]
  },
  {
   "cell_type": "markdown",
   "metadata": {},
   "source": [
    "If it's an object, let's inspect it..."
   ]
  },
  {
   "cell_type": "code",
   "execution_count": 34,
   "metadata": {},
   "outputs": [
    {
     "data": {
      "text/plain": [
       "'math'"
      ]
     },
     "execution_count": 34,
     "metadata": {},
     "output_type": "execute_result"
    }
   ],
   "source": [
    "math.__name__"
   ]
  },
  {
   "cell_type": "code",
   "execution_count": 37,
   "metadata": {},
   "outputs": [
    {
     "data": {
      "text/plain": [
       "{'__doc__': 'This module is always available.  It provides access to the\\nmathematical functions defined by the C standard.',\n",
       " '__loader__': _frozen_importlib.BuiltinImporter,\n",
       " '__name__': 'math',\n",
       " '__package__': '',\n",
       " '__spec__': ModuleSpec(name='math', loader=<class '_frozen_importlib.BuiltinImporter'>, origin='built-in'),\n",
       " 'acos': <function math.acos>,\n",
       " 'acosh': <function math.acosh>,\n",
       " 'asin': <function math.asin>,\n",
       " 'asinh': <function math.asinh>,\n",
       " 'atan': <function math.atan>,\n",
       " 'atan2': <function math.atan2>,\n",
       " 'atanh': <function math.atanh>,\n",
       " 'ceil': <function math.ceil>,\n",
       " 'copysign': <function math.copysign>,\n",
       " 'cos': <function math.cos>,\n",
       " 'cosh': <function math.cosh>,\n",
       " 'degrees': <function math.degrees>,\n",
       " 'e': 2.718281828459045,\n",
       " 'erf': <function math.erf>,\n",
       " 'erfc': <function math.erfc>,\n",
       " 'exp': <function math.exp>,\n",
       " 'expm1': <function math.expm1>,\n",
       " 'fabs': <function math.fabs>,\n",
       " 'factorial': <function math.factorial>,\n",
       " 'floor': <function math.floor>,\n",
       " 'fmod': <function math.fmod>,\n",
       " 'frexp': <function math.frexp>,\n",
       " 'fsum': <function math.fsum>,\n",
       " 'gamma': <function math.gamma>,\n",
       " 'gcd': <function math.gcd>,\n",
       " 'hypot': <function math.hypot>,\n",
       " 'inf': inf,\n",
       " 'isclose': <function math.isclose>,\n",
       " 'isfinite': <function math.isfinite>,\n",
       " 'isinf': <function math.isinf>,\n",
       " 'isnan': <function math.isnan>,\n",
       " 'ldexp': <function math.ldexp>,\n",
       " 'lgamma': <function math.lgamma>,\n",
       " 'log': <function math.log>,\n",
       " 'log10': <function math.log10>,\n",
       " 'log1p': <function math.log1p>,\n",
       " 'log2': <function math.log2>,\n",
       " 'modf': <function math.modf>,\n",
       " 'nan': nan,\n",
       " 'pi': 3.141592653589793,\n",
       " 'pow': <function math.pow>,\n",
       " 'radians': <function math.radians>,\n",
       " 'sin': <function math.sin>,\n",
       " 'sinh': <function math.sinh>,\n",
       " 'sqrt': <function math.sqrt>,\n",
       " 'tan': <function math.tan>,\n",
       " 'tanh': <function math.tanh>,\n",
       " 'tau': 6.283185307179586,\n",
       " 'trunc': <function math.trunc>}"
      ]
     },
     "execution_count": 37,
     "metadata": {},
     "output_type": "execute_result"
    }
   ],
   "source": [
    "math.__dict__"
   ]
  },
  {
   "cell_type": "markdown",
   "metadata": {},
   "source": [
    "Notice how all the methods and \"constants\" (such as pi) are just members of a dictionary with values being functions or values:"
   ]
  },
  {
   "cell_type": "code",
   "execution_count": 40,
   "metadata": {},
   "outputs": [
    {
     "data": {
      "text/plain": [
       "True"
      ]
     },
     "execution_count": 40,
     "metadata": {},
     "output_type": "execute_result"
    }
   ],
   "source": [
    "math.sqrt is math.__dict__['sqrt']"
   ]
  },
  {
   "cell_type": "markdown",
   "metadata": {},
   "source": [
    "So, when we write `math.sqrt` we are basically just retrieving the function stored in the `math.__dict__` dictionary at that key (`sqrt`)."
   ]
  },
  {
   "cell_type": "markdown",
   "metadata": {},
   "source": [
    "Now the `math` module is a little special - it is written in C and actually a built-in.\n",
    "\n",
    "Let's look at another module from the standard library:"
   ]
  },
  {
   "cell_type": "code",
   "execution_count": 48,
   "metadata": {},
   "outputs": [],
   "source": [
    "import fractions"
   ]
  },
  {
   "cell_type": "code",
   "execution_count": 49,
   "metadata": {},
   "outputs": [
    {
     "data": {
      "text/plain": [
       "{'Decimal': decimal.Decimal,\n",
       " 'Fraction': fractions.Fraction,\n",
       " '_PyHASH_INF': 314159,\n",
       " '_PyHASH_MODULUS': 2305843009213693951,\n",
       " '_RATIONAL_FORMAT': re.compile(r'\\n    \\A\\s*                      # optional whitespace at the start, then\\n    (?P<sign>[-+]?)            # an optional sign, then\\n    (?=\\d|\\.\\d)                # lookahead for digit or .digit\\n    (?P<num>\\d*)               # numerator (possibly empty)\\n    (?:                        # followed by\\n       (?:/(?P<denom>\\d+))?    # an optional denominator\\n    |                          # or\\n       (?:\\.(?P<decimal>\\d*))? # an optional fractional part\\n       (?:E(?P<exp>[-+]?\\d+))? # and optional exponent\\n    )\\n    \\s*\\Z                      # and optional whitespace to finish\\n',\n",
       " re.IGNORECASE|re.UNICODE|re.VERBOSE),\n",
       " '__all__': ['Fraction', 'gcd'],\n",
       " '__builtins__': {'ArithmeticError': ArithmeticError,\n",
       "  'AssertionError': AssertionError,\n",
       "  'AttributeError': AttributeError,\n",
       "  'BaseException': BaseException,\n",
       "  'BlockingIOError': BlockingIOError,\n",
       "  'BrokenPipeError': BrokenPipeError,\n",
       "  'BufferError': BufferError,\n",
       "  'BytesWarning': BytesWarning,\n",
       "  'ChildProcessError': ChildProcessError,\n",
       "  'ConnectionAbortedError': ConnectionAbortedError,\n",
       "  'ConnectionError': ConnectionError,\n",
       "  'ConnectionRefusedError': ConnectionRefusedError,\n",
       "  'ConnectionResetError': ConnectionResetError,\n",
       "  'DeprecationWarning': DeprecationWarning,\n",
       "  'EOFError': EOFError,\n",
       "  'Ellipsis': Ellipsis,\n",
       "  'EnvironmentError': OSError,\n",
       "  'Exception': Exception,\n",
       "  'False': False,\n",
       "  'FileExistsError': FileExistsError,\n",
       "  'FileNotFoundError': FileNotFoundError,\n",
       "  'FloatingPointError': FloatingPointError,\n",
       "  'FutureWarning': FutureWarning,\n",
       "  'GeneratorExit': GeneratorExit,\n",
       "  'IOError': OSError,\n",
       "  'ImportError': ImportError,\n",
       "  'ImportWarning': ImportWarning,\n",
       "  'IndentationError': IndentationError,\n",
       "  'IndexError': IndexError,\n",
       "  'InterruptedError': InterruptedError,\n",
       "  'IsADirectoryError': IsADirectoryError,\n",
       "  'KeyError': KeyError,\n",
       "  'KeyboardInterrupt': KeyboardInterrupt,\n",
       "  'LookupError': LookupError,\n",
       "  'MemoryError': MemoryError,\n",
       "  'ModuleNotFoundError': ModuleNotFoundError,\n",
       "  'NameError': NameError,\n",
       "  'None': None,\n",
       "  'NotADirectoryError': NotADirectoryError,\n",
       "  'NotImplemented': NotImplemented,\n",
       "  'NotImplementedError': NotImplementedError,\n",
       "  'OSError': OSError,\n",
       "  'OverflowError': OverflowError,\n",
       "  'PendingDeprecationWarning': PendingDeprecationWarning,\n",
       "  'PermissionError': PermissionError,\n",
       "  'ProcessLookupError': ProcessLookupError,\n",
       "  'RecursionError': RecursionError,\n",
       "  'ReferenceError': ReferenceError,\n",
       "  'ResourceWarning': ResourceWarning,\n",
       "  'RuntimeError': RuntimeError,\n",
       "  'RuntimeWarning': RuntimeWarning,\n",
       "  'StopAsyncIteration': StopAsyncIteration,\n",
       "  'StopIteration': StopIteration,\n",
       "  'SyntaxError': SyntaxError,\n",
       "  'SyntaxWarning': SyntaxWarning,\n",
       "  'SystemError': SystemError,\n",
       "  'SystemExit': SystemExit,\n",
       "  'TabError': TabError,\n",
       "  'TimeoutError': TimeoutError,\n",
       "  'True': True,\n",
       "  'TypeError': TypeError,\n",
       "  'UnboundLocalError': UnboundLocalError,\n",
       "  'UnicodeDecodeError': UnicodeDecodeError,\n",
       "  'UnicodeEncodeError': UnicodeEncodeError,\n",
       "  'UnicodeError': UnicodeError,\n",
       "  'UnicodeTranslateError': UnicodeTranslateError,\n",
       "  'UnicodeWarning': UnicodeWarning,\n",
       "  'UserWarning': UserWarning,\n",
       "  'ValueError': ValueError,\n",
       "  'Warning': Warning,\n",
       "  'WindowsError': OSError,\n",
       "  'ZeroDivisionError': ZeroDivisionError,\n",
       "  '__IPYTHON__': True,\n",
       "  '__build_class__': <function __build_class__>,\n",
       "  '__debug__': True,\n",
       "  '__doc__': \"Built-in functions, exceptions, and other objects.\\n\\nNoteworthy: None is the `nil' object; Ellipsis represents `...' in slices.\",\n",
       "  '__import__': <function __import__>,\n",
       "  '__loader__': _frozen_importlib.BuiltinImporter,\n",
       "  '__name__': 'builtins',\n",
       "  '__package__': '',\n",
       "  '__spec__': ModuleSpec(name='builtins', loader=<class '_frozen_importlib.BuiltinImporter'>),\n",
       "  'abs': <function abs>,\n",
       "  'all': <function all>,\n",
       "  'any': <function any>,\n",
       "  'ascii': <function ascii>,\n",
       "  'bin': <function bin>,\n",
       "  'bool': bool,\n",
       "  'bytearray': bytearray,\n",
       "  'bytes': bytes,\n",
       "  'callable': <function callable>,\n",
       "  'chr': <function chr>,\n",
       "  'classmethod': classmethod,\n",
       "  'compile': <function compile>,\n",
       "  'complex': complex,\n",
       "  'copyright': Copyright (c) 2001-2017 Python Software Foundation.\n",
       "  All Rights Reserved.\n",
       "  \n",
       "  Copyright (c) 2000 BeOpen.com.\n",
       "  All Rights Reserved.\n",
       "  \n",
       "  Copyright (c) 1995-2001 Corporation for National Research Initiatives.\n",
       "  All Rights Reserved.\n",
       "  \n",
       "  Copyright (c) 1991-1995 Stichting Mathematisch Centrum, Amsterdam.\n",
       "  All Rights Reserved.,\n",
       "  'credits':     Thanks to CWI, CNRI, BeOpen.com, Zope Corporation and a cast of thousands\n",
       "      for supporting Python development.  See www.python.org for more information.,\n",
       "  'delattr': <function delattr>,\n",
       "  'dict': dict,\n",
       "  'dir': <function dir>,\n",
       "  'display': <function IPython.core.display.display>,\n",
       "  'divmod': <function divmod>,\n",
       "  'enumerate': enumerate,\n",
       "  'eval': <function eval>,\n",
       "  'exec': <function exec>,\n",
       "  'filter': filter,\n",
       "  'float': float,\n",
       "  'format': <function format>,\n",
       "  'frozenset': frozenset,\n",
       "  'get_ipython': <bound method InteractiveShell.get_ipython of <ipykernel.zmqshell.ZMQInteractiveShell object at 0x000001AE10373208>>,\n",
       "  'getattr': <function getattr>,\n",
       "  'globals': <function globals>,\n",
       "  'hasattr': <function hasattr>,\n",
       "  'hash': <function hash>,\n",
       "  'help': Type help() for interactive help, or help(object) for help about object.,\n",
       "  'hex': <function hex>,\n",
       "  'id': <function id>,\n",
       "  'input': <bound method Kernel.raw_input of <ipykernel.ipkernel.IPythonKernel object at 0x000001AE10352EB8>>,\n",
       "  'int': int,\n",
       "  'isinstance': <function isinstance>,\n",
       "  'issubclass': <function issubclass>,\n",
       "  'iter': <function iter>,\n",
       "  'len': <function len>,\n",
       "  'license': See https://www.python.org/psf/license/,\n",
       "  'list': list,\n",
       "  'locals': <function locals>,\n",
       "  'map': map,\n",
       "  'max': <function max>,\n",
       "  'memoryview': memoryview,\n",
       "  'min': <function min>,\n",
       "  'next': <function next>,\n",
       "  'object': object,\n",
       "  'oct': <function oct>,\n",
       "  'open': <function io.open>,\n",
       "  'ord': <function ord>,\n",
       "  'pow': <function pow>,\n",
       "  'print': <function print>,\n",
       "  'property': property,\n",
       "  'range': range,\n",
       "  'repr': <function repr>,\n",
       "  'reversed': reversed,\n",
       "  'round': <function round>,\n",
       "  'set': set,\n",
       "  'setattr': <function setattr>,\n",
       "  'slice': slice,\n",
       "  'sorted': <function sorted>,\n",
       "  'staticmethod': staticmethod,\n",
       "  'str': str,\n",
       "  'sum': <function sum>,\n",
       "  'super': super,\n",
       "  'tuple': tuple,\n",
       "  'type': type,\n",
       "  'vars': <function vars>,\n",
       "  'zip': zip},\n",
       " '__cached__': 'D:\\\\Users\\\\fbapt\\\\Anaconda3\\\\envs\\\\deepdive\\\\lib\\\\__pycache__\\\\fractions.cpython-36.pyc',\n",
       " '__doc__': 'Fraction, infinite-precision, real numbers.',\n",
       " '__file__': 'D:\\\\Users\\\\fbapt\\\\Anaconda3\\\\envs\\\\deepdive\\\\lib\\\\fractions.py',\n",
       " '__loader__': <_frozen_importlib_external.SourceFileLoader at 0x1ae10e4cf98>,\n",
       " '__name__': 'fractions',\n",
       " '__package__': '',\n",
       " '__spec__': ModuleSpec(name='fractions', loader=<_frozen_importlib_external.SourceFileLoader object at 0x000001AE10E4CF98>, origin='D:\\\\Users\\\\fbapt\\\\Anaconda3\\\\envs\\\\deepdive\\\\lib\\\\fractions.py'),\n",
       " '_gcd': <function fractions._gcd>,\n",
       " 'gcd': <function fractions.gcd>,\n",
       " 'math': <module 'math' (built-in)>,\n",
       " 'numbers': <module 'numbers' from 'D:\\\\Users\\\\fbapt\\\\Anaconda3\\\\envs\\\\deepdive\\\\lib\\\\numbers.py'>,\n",
       " 'operator': <module 'operator' from 'D:\\\\Users\\\\fbapt\\\\Anaconda3\\\\envs\\\\deepdive\\\\lib\\\\operator.py'>,\n",
       " 're': <module 're' from 'D:\\\\Users\\\\fbapt\\\\Anaconda3\\\\envs\\\\deepdive\\\\lib\\\\re.py'>,\n",
       " 'sys': <module 'sys' (built-in)>}"
      ]
     },
     "execution_count": 49,
     "metadata": {},
     "output_type": "execute_result"
    }
   ],
   "source": [
    "fractions.__dict__"
   ]
  },
  {
   "cell_type": "markdown",
   "metadata": {},
   "source": [
    "Notice a few properties here that look interesting:"
   ]
  },
  {
   "cell_type": "code",
   "execution_count": 52,
   "metadata": {},
   "outputs": [
    {
     "data": {
      "text/plain": [
       "'D:\\\\Users\\\\fbapt\\\\Anaconda3\\\\envs\\\\deepdive\\\\lib\\\\fractions.py'"
      ]
     },
     "execution_count": 52,
     "metadata": {},
     "output_type": "execute_result"
    }
   ],
   "source": [
    "fractions.__file__"
   ]
  },
  {
   "cell_type": "markdown",
   "metadata": {},
   "source": [
    "That's where the `fractions` module source code resides. I am using a virtual environment (conda), and the module `fractions.py` resides in that directory."
   ]
  },
  {
   "cell_type": "markdown",
   "metadata": {},
   "source": [
    "So a module is an object that is:\n",
    "- loaded from file (maybe! we'll see that in a second)\n",
    "- has a namespace\n",
    "- is a container of global variables (that `__dict__` we saw)\n",
    "- is an execution environment (we'll see that in an upcoming video)"
   ]
  },
  {
   "cell_type": "markdown",
   "metadata": {},
   "source": [
    "Of course, modules are just specific data types, and like any other data type in Python (think classes, functions, etc) we can create them dynamically - they do not have to be loaded from file (though that is how we do it most of the time)."
   ]
  },
  {
   "cell_type": "code",
   "execution_count": 54,
   "metadata": {
    "collapsed": true
   },
   "outputs": [],
   "source": [
    "import types"
   ]
  },
  {
   "cell_type": "code",
   "execution_count": 72,
   "metadata": {},
   "outputs": [
    {
     "data": {
      "text/plain": [
       "True"
      ]
     },
     "execution_count": 72,
     "metadata": {},
     "output_type": "execute_result"
    }
   ],
   "source": [
    "isinstance(fractions, types.ModuleType)"
   ]
  },
  {
   "cell_type": "markdown",
   "metadata": {},
   "source": [
    "So, modules are instances of the `ModuleType` class."
   ]
  },
  {
   "cell_type": "code",
   "execution_count": 57,
   "metadata": {},
   "outputs": [
    {
     "name": "stdout",
     "output_type": "stream",
     "text": [
      "Help on class module in module builtins:\n",
      "\n",
      "class module(object)\n",
      " |  module(name[, doc])\n",
      " |  \n",
      " |  Create a module object.\n",
      " |  The name must be a string; the optional doc argument can have any type.\n",
      " |  \n",
      " |  Methods defined here:\n",
      " |  \n",
      " |  __delattr__(self, name, /)\n",
      " |      Implement delattr(self, name).\n",
      " |  \n",
      " |  __dir__(...)\n",
      " |      __dir__() -> list\n",
      " |      specialized dir() implementation\n",
      " |  \n",
      " |  __getattribute__(self, name, /)\n",
      " |      Return getattr(self, name).\n",
      " |  \n",
      " |  __init__(self, /, *args, **kwargs)\n",
      " |      Initialize self.  See help(type(self)) for accurate signature.\n",
      " |  \n",
      " |  __new__(*args, **kwargs) from builtins.type\n",
      " |      Create and return a new object.  See help(type) for accurate signature.\n",
      " |  \n",
      " |  __repr__(self, /)\n",
      " |      Return repr(self).\n",
      " |  \n",
      " |  __setattr__(self, name, value, /)\n",
      " |      Implement setattr(self, name, value).\n",
      " |  \n",
      " |  ----------------------------------------------------------------------\n",
      " |  Data descriptors defined here:\n",
      " |  \n",
      " |  __dict__\n",
      "\n"
     ]
    }
   ],
   "source": [
    "help(ModuleType)"
   ]
  },
  {
   "cell_type": "markdown",
   "metadata": {},
   "source": [
    "Let's go ahead and create a new module:"
   ]
  },
  {
   "cell_type": "code",
   "execution_count": 58,
   "metadata": {
    "collapsed": true
   },
   "outputs": [],
   "source": [
    "mod = types.ModuleType('point', 'A module for handling points.')"
   ]
  },
  {
   "cell_type": "code",
   "execution_count": 60,
   "metadata": {},
   "outputs": [
    {
     "data": {
      "text/plain": [
       "<module 'point'>"
      ]
     },
     "execution_count": 60,
     "metadata": {},
     "output_type": "execute_result"
    }
   ],
   "source": [
    "mod"
   ]
  },
  {
   "cell_type": "code",
   "execution_count": 59,
   "metadata": {},
   "outputs": [
    {
     "name": "stdout",
     "output_type": "stream",
     "text": [
      "Help on module point:\n",
      "\n",
      "NAME\n",
      "    point - A module for handling points.\n",
      "\n",
      "FILE\n",
      "    (built-in)\n",
      "\n",
      "\n"
     ]
    }
   ],
   "source": [
    "help(mod)"
   ]
  },
  {
   "cell_type": "markdown",
   "metadata": {},
   "source": [
    "OK, so now let's add some functionality to it by simply setting some attributes:"
   ]
  },
  {
   "cell_type": "code",
   "execution_count": 63,
   "metadata": {},
   "outputs": [],
   "source": [
    "from collections import namedtuple\n",
    "mod.Point = namedtuple('Point', 'x y')"
   ]
  },
  {
   "cell_type": "code",
   "execution_count": 64,
   "metadata": {
    "collapsed": true
   },
   "outputs": [],
   "source": [
    "def points_distance(pt1, pt2):\n",
    "    return math.sqrt((pt1.x - pt2.x) ** 2 + (pt1.y - pt2.y) ** 2)"
   ]
  },
  {
   "cell_type": "code",
   "execution_count": 65,
   "metadata": {
    "collapsed": true
   },
   "outputs": [],
   "source": [
    "mod.distance = points_distance"
   ]
  },
  {
   "cell_type": "code",
   "execution_count": 67,
   "metadata": {},
   "outputs": [
    {
     "data": {
      "text/plain": [
       "{'Point': __main__.Point,\n",
       " '__doc__': 'A module for handling points.',\n",
       " '__loader__': None,\n",
       " '__name__': 'point',\n",
       " '__package__': None,\n",
       " '__spec__': None,\n",
       " 'distance': <function __main__.points_distance>}"
      ]
     },
     "execution_count": 67,
     "metadata": {},
     "output_type": "execute_result"
    }
   ],
   "source": [
    "mod.__dict__"
   ]
  },
  {
   "cell_type": "code",
   "execution_count": 68,
   "metadata": {
    "collapsed": true
   },
   "outputs": [],
   "source": [
    "p1 = mod.Point(0, 0)\n",
    "p2 = mod.Point(1, 1)"
   ]
  },
  {
   "cell_type": "code",
   "execution_count": 69,
   "metadata": {},
   "outputs": [
    {
     "data": {
      "text/plain": [
       "1.4142135623730951"
      ]
     },
     "execution_count": 69,
     "metadata": {},
     "output_type": "execute_result"
    }
   ],
   "source": [
    "mod.distance(p1, p2)"
   ]
  },
  {
   "cell_type": "markdown",
   "metadata": {},
   "source": [
    "As you can see it behaves just like an ordinary module.\n",
    "\n",
    "However, one major difference here is that it is not located in the `sys.modules` dictionary - so another module in our program would not know anything about it.\n",
    "\n",
    "But we can fix that! We'll see this in one of the next videos.\n",
    "\n",
    "But first we'll need to take a peek at how Python imports a module from file. COming right up!"
   ]
  }
 ],
 "metadata": {
  "kernelspec": {
   "display_name": "ml-test1",
   "language": "python",
   "name": "python3"
  },
  "language_info": {
   "codemirror_mode": {
    "name": "ipython",
    "version": 3
   },
   "file_extension": ".py",
   "mimetype": "text/x-python",
   "name": "python",
   "nbconvert_exporter": "python",
   "pygments_lexer": "ipython3",
   "version": "3.11.8"
  }
 },
 "nbformat": 4,
 "nbformat_minor": 2
}
