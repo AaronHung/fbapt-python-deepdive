{
 "cells": [
  {
   "cell_type": "markdown",
   "metadata": {},
   "source": [
    "### Decorator Application (Decorator Class)"
   ]
  },
  {
   "cell_type": "markdown",
   "metadata": {},
   "source": [
    "## <font color=palevioletred> Aaron Title：\n",
    "### **Python 進階技巧：用類別打造更靈活的裝飾器**  \n",
    "\n",
    "### **Summary:**  \n",
    "裝飾器通常用函式實作，但透過類別，我們可以讓裝飾器更靈活、更容易擴展。關鍵在於 `__call__` 方法，它讓類別的實例可以「像函式一樣被呼叫」，從而裝飾其他函式。這種方法特別適合需要 **記錄狀態**（如計算函式執行次數）或 **執行更複雜邏輯**（如權限控制、日誌記錄等）的場景。相比傳統函式裝飾器，類別裝飾器可讀性更高，也更易於維護，是進階 Python 開發的重要技巧！ 🚀"
   ]
  },
  {
   "cell_type": "markdown",
   "metadata": {},
   "source": [
    "### Aaron 重點整理"
   ]
  },
  {
   "cell_type": "markdown",
   "metadata": {},
   "source": [
    "### **用類別來寫裝飾器，讓它更強大！**\n",
    "\n",
    "---\n",
    "\n",
    "### **1. 回顧：普通裝飾器怎麼寫？**  \n",
    "之前我們學過怎麼寫一個可以接參數的裝飾器，像這樣：\n",
    "\n",
    "```python\n",
    "def my_decorator(arg1, arg2):\n",
    "    def decorator(fn):\n",
    "        def wrapper(*args, **kwargs):\n",
    "            print(f\"這個裝飾器收到參數：{arg1}, {arg2}\")\n",
    "            return fn(*args, **kwargs)\n",
    "        return wrapper\n",
    "    return decorator\n",
    "```\n",
    "\n",
    "這樣我們就可以這樣用：\n",
    "\n",
    "```python\n",
    "@my_decorator(10, 20)\n",
    "def say_hello(name):\n",
    "    print(f\"Hello, {name}!\")\n",
    "```\n",
    "\n",
    "---\n",
    "\n",
    "### **2. 類別也能當裝飾器？**\n",
    "其實，裝飾器 **不一定要用函式寫**，我們也可以用「**類別**」來做同樣的事。\n",
    "\n",
    "### **3. 關鍵：讓類別變成「可呼叫」的物件**\n",
    "Python 有個神奇的 `__call__` 方法，只要類別裡有這個方法，它的 **實例就能像函式一樣被呼叫**！我們來改寫剛剛的裝飾器，用類別來寫：\n",
    "\n",
    "```python\n",
    "class MyDecorator:\n",
    "    def __init__(self, arg1, arg2):\n",
    "        self.arg1 = arg1\n",
    "        self.arg2 = arg2\n",
    "\n",
    "    def __call__(self, fn):\n",
    "        def wrapper(*args, **kwargs):\n",
    "            print(f\"這個裝飾器收到參數：{self.arg1}, {self.arg2}\")\n",
    "            return fn(*args, **kwargs)\n",
    "        return wrapper\n",
    "```\n",
    "\n",
    "然後我們可以這樣用它：\n",
    "\n",
    "```python\n",
    "@MyDecorator(10, 20)\n",
    "def say_hello(name):\n",
    "    print(f\"Hello, {name}!\")\n",
    "```\n",
    "\n",
    "### **4. Python 其實幫我們做了這些事**\n",
    "當我們寫：\n",
    "```python\n",
    "@MyDecorator(10, 20)\n",
    "def say_hello(name):\n",
    "    print(f\"Hello, {name}!\")\n",
    "```\n",
    "\n",
    "Python 其實做了這些事：\n",
    "```python\n",
    "decorator_instance = MyDecorator(10, 20)  # 先建立裝飾器物件\n",
    "say_hello = decorator_instance(say_hello)  # 再用它來包裝函式\n",
    "```\n",
    "\n",
    "---\n",
    "\n",
    "### **5. 這樣做的好處**\n",
    "✅ **更靈活！** 類別可以存變數、記錄狀態，像是計算函式被呼叫的次數。  \n",
    "✅ **更好擴展！** 如果裝飾器變得很複雜，類別的寫法會比函式更清楚。  \n",
    "✅ **可用來做高級功能！** 像是記錄日誌、限制函式執行次數、權限驗證等。\n",
    "\n",
    "---\n",
    "\n",
    "### **6. 總結**\n",
    "1. **普通裝飾器用函式寫**，但如果要 **記錄狀態或更靈活**，可以用 **類別** 來寫。\n",
    "2. **關鍵是 `__call__` 方法**，讓類別的實例可以「像函式一樣被呼叫」。\n",
    "3. 這種寫法可以用來做更強大的裝飾器，像是計算執行次數、記錄日誌、限制執行條件等。"
   ]
  },
  {
   "cell_type": "code",
   "execution_count": null,
   "metadata": {},
   "outputs": [],
   "source": []
  },
  {
   "cell_type": "markdown",
   "metadata": {},
   "source": [
    "### **裝飾器的進階應用：使用類別作為裝飾器（Decorator Class）**  \n",
    "\n",
    "---\n",
    "\n",
    "### **1. 回顧參數化裝飾器**  \n",
    "我們之前學過，如果想讓裝飾器可以接收參數，必須使用 **裝飾器工廠**，也就是一個函式 **回傳** 裝飾器，例如：\n",
    "\n",
    "```python\n",
    "def decorator_factory(arg1, arg2):\n",
    "    def decorator(fn):\n",
    "        def wrapper(*args, **kwargs):\n",
    "            print(f\"Arguments received: {arg1}, {arg2}\")\n",
    "            return fn(*args, **kwargs)\n",
    "        return wrapper\n",
    "    return decorator\n",
    "```\n",
    "\n",
    "然後我們可以這樣使用它：\n",
    "\n",
    "```python\n",
    "@decorator_factory(10, 20)\n",
    "def my_func(s):\n",
    "    print(s)\n",
    "```\n",
    "\n",
    "這樣 `decorator_factory(10, 20)` 會先執行，回傳 `decorator`，再用它來裝飾 `my_func`。\n",
    "\n",
    "---\n",
    "\n",
    "### **2. 用類別來實作裝飾器**\n",
    "其實，我們可以用 **類別（class）** 來做一樣的事情！  \n",
    "\n",
    "在 Python 中，如果我們讓一個類別實作 `__call__` 方法，該類別的 **實例** 也可以像函式一樣被呼叫。\n",
    "\n",
    "先來看個簡單的例子：\n",
    "\n",
    "```python\n",
    "class MyClass:\n",
    "    def __init__(self, x, y):\n",
    "        self.x = x\n",
    "        self.y = y\n",
    "\n",
    "    def __call__(self, fn):\n",
    "        def wrapper(*args, **kwargs):\n",
    "            print(f\"Decorator received arguments: {self.x}, {self.y}\")\n",
    "            return fn(*args, **kwargs)\n",
    "        return wrapper\n",
    "```\n",
    "\n",
    "這樣，當我們建立 `MyClass(10, 20)` 的實例時，它本質上就是一個 **可呼叫的物件**，可以像函式一樣使用。\n",
    "\n",
    "所以，我們可以這樣裝飾函式：\n",
    "\n",
    "```python\n",
    "@MyClass(10, 20)\n",
    "def my_func(s):\n",
    "    print(s)\n",
    "```\n",
    "\n",
    "Python 會執行：\n",
    "```python\n",
    "my_func = MyClass(10, 20)(my_func)\n",
    "```\n",
    "\n",
    "這意味著：\n",
    "1. `MyClass(10, 20)` 會建立一個 `MyClass` 的 **實例**，它持有 `x=10` 和 `y=20`。\n",
    "2. `MyClass(10, 20)(my_func)` 會調用 `__call__` 方法，並傳入 `my_func`，最終回傳 `wrapper`，用來取代原本的 `my_func`。\n",
    "\n",
    "這樣，我們就成功用 **類別來實作裝飾器**！\n",
    "\n",
    "---\n",
    "\n",
    "### **3. 這樣做的好處**\n",
    "✅ **比函式更靈活**：我們可以在 `__init__` 方法裡儲存多個參數，甚至可以讓裝飾器有狀態（state）。  \n",
    "✅ **更容易擴展**：如果裝飾器邏輯變得複雜，類別的結構比函式裝飾器更清晰、可讀性更高。  \n",
    "✅ **可以做更多事情**：除了裝飾函式，我們還可以讓裝飾器擁有自己的方法或變數，甚至追蹤多少次呼叫該函式等。\n",
    "\n",
    "---\n",
    "\n",
    "### **4. 總結**\n",
    "- 之前我們用 **函式** 來建立參數化裝飾器，但其實可以用 **類別** 來做同樣的事情。\n",
    "- 只要在類別內部實作 `__call__` 方法，就可以讓實例變成「可呼叫的裝飾器」。\n",
    "- 用類別來實作裝飾器的好處是 **更靈活、可維護性更高，並且可以儲存狀態**。\n",
    "\n",
    "這種技巧在 **需要追蹤函式執行狀態**（如計算函式被呼叫的次數、記錄日誌、權限驗證等）時特別實用！🔥🚀"
   ]
  },
  {
   "cell_type": "code",
   "execution_count": null,
   "metadata": {},
   "outputs": [],
   "source": []
  },
  {
   "cell_type": "code",
   "execution_count": null,
   "metadata": {},
   "outputs": [],
   "source": []
  },
  {
   "cell_type": "code",
   "execution_count": null,
   "metadata": {},
   "outputs": [],
   "source": []
  },
  {
   "cell_type": "markdown",
   "metadata": {},
   "source": [
    "### Aaron 對此 Notebook 的重點摘要"
   ]
  },
  {
   "cell_type": "markdown",
   "metadata": {},
   "source": [
    "### 總結 Jupyter Notebook 內容：**Decorator Application - Decorator Class**\n",
    "\n",
    "這份 Jupyter Notebook 主要介紹 **Decorator 應用**，特別是 **使用類別來實作 Decorator** 的方法。\n",
    "\n",
    "---\n",
    "\n",
    "### 📌 內容概覽：\n",
    "1. **概念介紹 (Markdown Cells)**\n",
    "   - 介紹 **參數化 Decorator** 的概念，並回顧傳統的 **函數型 Decorator**。\n",
    "   - 進一步探討如何使用 **類別 (Class-based Decorator)** 來取代函數型 Decorator。\n",
    "\n",
    "2. **程式碼範例 (Code Cells)**\n",
    "   - 示範一個 **帶參數的 Decorator**，使用閉包 (Closure) 來實現：\n",
    "     ```python\n",
    "     def my_dec(a, b):\n",
    "         def dec(fn):\n",
    "             def inner(*args, **kwargs):\n",
    "                 print('decorated function called: a={0}, b={1}'.format(a, b))\n",
    "                 return fn(*args, **kwargs)\n",
    "             return inner\n",
    "         return dec\n",
    "     ```\n",
    "   - 使用這個 Decorator：\n",
    "     ```python\n",
    "     @my_dec(10, 20)\n",
    "     def my_func(s):\n",
    "         print('hello {0}'.format(s))\n",
    "     \n",
    "     my_func('world')\n",
    "     ```\n",
    "     **輸出**：\n",
    "     ```\n",
    "     decorated function called: a=10, b=20\n",
    "     hello world\n",
    "     ```\n",
    "   - 這個示例展示了 **如何使用函數型 Decorator 傳遞參數**。\n",
    "\n",
    "3. **可能的進階內容 (待確認)**\n",
    "   - 可能後續會介紹如何 **使用 Class 來實作 Decorator**，以取代傳統函數型 Decorator 的方式。\n",
    "\n",
    "---\n",
    "\n",
    "### 🎯 **快速學習重點**\n",
    "- **函數型 Decorator**\n",
    "  - 可以用 **閉包 (Closure)** 來存儲參數。\n",
    "  - 使用 `@decorator(param1, param2)` 的方式來傳遞參數。\n",
    "\n",
    "- **類別型 Decorator (如果有提到)**\n",
    "  - 會用 `__call__` 方法來讓類別變成可呼叫的物件。\n",
    "  - 更適合需要 **存儲狀態或有更複雜邏輯** 的 Decorator。\n",
    "\n",
    "---\n",
    "\n",
    "### ✅ **下一步建議**\n",
    "1. **如果 Notebook 內有「Class-based Decorator」的內容，建議先瀏覽這部分，因為這是更進階的應用。**\n",
    "2. **嘗試改寫 `my_dec` 這個函數，看看是否可以用類別來實作相同功能！**\n",
    "3. **觀察 Notebook 後面的 Code Cells，是否有示範更多 Decorator 的進階應用，例如：**\n",
    "   - 多層 Decorator\n",
    "   - 裝飾 Class Methods\n",
    "   - 內建 `functools.wraps` 保持原函數資訊"
   ]
  },
  {
   "cell_type": "code",
   "execution_count": null,
   "metadata": {},
   "outputs": [],
   "source": []
  },
  {
   "cell_type": "code",
   "execution_count": null,
   "metadata": {},
   "outputs": [],
   "source": []
  },
  {
   "cell_type": "markdown",
   "metadata": {},
   "source": [
    "> Aaron's Experiments on Decorator Class"
   ]
  },
  {
   "cell_type": "code",
   "execution_count": 1,
   "metadata": {},
   "outputs": [],
   "source": [
    "# recall\n",
    "\n",
    "def my_dec(a, b):\n",
    "    def dec(fn):\n",
    "        def inner(*args, **kwargs):\n",
    "            print(f'decorated function called: a={a}, b={b}')\n",
    "            return fn(*args, **kwargs)\n",
    "        return inner\n",
    "    return dec"
   ]
  },
  {
   "cell_type": "code",
   "execution_count": 2,
   "metadata": {},
   "outputs": [],
   "source": [
    "@my_dec(10, 20)\n",
    "def my_func(s):\n",
    "    print(f'hello {s}')"
   ]
  },
  {
   "cell_type": "code",
   "execution_count": 3,
   "metadata": {},
   "outputs": [
    {
     "name": "stdout",
     "output_type": "stream",
     "text": [
      "decorated function called: a=10, b=20\n",
      "hello world\n"
     ]
    }
   ],
   "source": [
    "my_func('world')"
   ]
  },
  {
   "cell_type": "markdown",
   "metadata": {},
   "source": [
    "So, our decorator factory was passed some arguments, and returned a callable which took one single parameter, the function being decorated, but also had access to the arguments passed to the factory"
   ]
  },
  {
   "cell_type": "markdown",
   "metadata": {},
   "source": [
    "Now, recall that we can make our class instances callable, simplyh by implementing the `__call__` method.\n",
    "\n",
    "Here's a simple example:"
   ]
  },
  {
   "cell_type": "code",
   "execution_count": 4,
   "metadata": {},
   "outputs": [],
   "source": [
    "class MyClass:\n",
    "    def __init__(self, a, b):\n",
    "        self.a = a\n",
    "        self.b = b\n",
    "\n",
    "    def __call__(self):\n",
    "        print(f'MyClass instance called: a={self.a}, b={self.b}')"
   ]
  },
  {
   "cell_type": "code",
   "execution_count": 5,
   "metadata": {},
   "outputs": [],
   "source": [
    "my_class = MyClass(10, 20)"
   ]
  },
  {
   "cell_type": "code",
   "execution_count": 6,
   "metadata": {},
   "outputs": [
    {
     "name": "stdout",
     "output_type": "stream",
     "text": [
      "MyClass instance called: a=10, b=20\n"
     ]
    }
   ],
   "source": [
    "my_class()"
   ]
  },
  {
   "cell_type": "code",
   "execution_count": null,
   "metadata": {},
   "outputs": [],
   "source": []
  },
  {
   "cell_type": "markdown",
   "metadata": {},
   "source": [
    "So let's modify this just a bit, and have the `__call__` method to be our decoprator!"
   ]
  },
  {
   "cell_type": "code",
   "execution_count": 8,
   "metadata": {},
   "outputs": [],
   "source": [
    "class MyClass:\n",
    "    def __init__(self, a, b):\n",
    "        self.a = a\n",
    "        self.b = b\n",
    "\n",
    "    def __call__(self, fn):\n",
    "        def inner(*args, **kwargs):\n",
    "            print(f'MyClass instance called: a={self.a}, b={self.b}')\n",
    "            return fn(*args, **kwargs)\n",
    "        return inner\n"
   ]
  },
  {
   "cell_type": "markdown",
   "metadata": {},
   "source": [
    "So, we can decorate our function this way"
   ]
  },
  {
   "cell_type": "code",
   "execution_count": 9,
   "metadata": {},
   "outputs": [
    {
     "name": "stdout",
     "output_type": "stream",
     "text": [
      "decorated function called: a=10, b=20\n",
      "hello Python\n"
     ]
    }
   ],
   "source": [
    "my_func('Python')"
   ]
  },
  {
   "cell_type": "markdown",
   "metadata": {},
   "source": [
    "So as you can see, we can also use callable classes to decorate functions!"
   ]
  },
  {
   "cell_type": "code",
   "execution_count": null,
   "metadata": {},
   "outputs": [],
   "source": []
  },
  {
   "cell_type": "code",
   "execution_count": null,
   "metadata": {},
   "outputs": [],
   "source": []
  },
  {
   "cell_type": "code",
   "execution_count": null,
   "metadata": {},
   "outputs": [],
   "source": []
  },
  {
   "cell_type": "code",
   "execution_count": null,
   "metadata": {},
   "outputs": [],
   "source": []
  },
  {
   "cell_type": "code",
   "execution_count": null,
   "metadata": {},
   "outputs": [],
   "source": []
  },
  {
   "cell_type": "code",
   "execution_count": null,
   "metadata": {},
   "outputs": [],
   "source": []
  },
  {
   "cell_type": "code",
   "execution_count": null,
   "metadata": {},
   "outputs": [],
   "source": []
  },
  {
   "cell_type": "code",
   "execution_count": null,
   "metadata": {},
   "outputs": [],
   "source": []
  },
  {
   "cell_type": "code",
   "execution_count": null,
   "metadata": {},
   "outputs": [],
   "source": []
  },
  {
   "cell_type": "code",
   "execution_count": null,
   "metadata": {},
   "outputs": [],
   "source": []
  },
  {
   "cell_type": "markdown",
   "metadata": {},
   "source": [
    "If you recalls how we wrote a parameterized decorator, we had to write a decorator factory that took in the arguments for our decorator and then returned the decorator (which could reference the arguments as free variables).\n",
    "\n",
    "Very simply:"
   ]
  },
  {
   "cell_type": "code",
   "execution_count": 1,
   "metadata": {
    "collapsed": true
   },
   "outputs": [],
   "source": [
    "def my_dec(a, b):\n",
    "    def dec(fn):\n",
    "        def inner(*args, **kwargs):\n",
    "            print('decorated function called: a={0}, b={1}'.format(a, b))\n",
    "            return fn(*args, **kwargs)\n",
    "        return inner\n",
    "    return dec"
   ]
  },
  {
   "cell_type": "code",
   "execution_count": 2,
   "metadata": {
    "collapsed": true
   },
   "outputs": [],
   "source": [
    "@my_dec(10, 20)\n",
    "def my_func(s):\n",
    "    print('hello {0}'.format(s))"
   ]
  },
  {
   "cell_type": "code",
   "execution_count": 3,
   "metadata": {},
   "outputs": [
    {
     "name": "stdout",
     "output_type": "stream",
     "text": [
      "decorated function called: a=10, b=20\n",
      "hello world\n"
     ]
    }
   ],
   "source": [
    "my_func('world')"
   ]
  },
  {
   "cell_type": "markdown",
   "metadata": {},
   "source": [
    "So, our decorator factory was passed some arguments, and returned a callable which took one single parameter, the function being decorated, but also had access to the arguments passed to the factory."
   ]
  },
  {
   "cell_type": "markdown",
   "metadata": {},
   "source": [
    "Now, recall that we can make our class instances callable, simply by implementing the `__call__` method.\n",
    "\n",
    "Here's a simple example:"
   ]
  },
  {
   "cell_type": "code",
   "execution_count": 4,
   "metadata": {
    "collapsed": true
   },
   "outputs": [],
   "source": [
    "class MyClass:\n",
    "    def __init__(self, a, b):\n",
    "        self.a = a\n",
    "        self.b = b\n",
    "        \n",
    "    def __call__(self):\n",
    "        print('MyClass instance called: a={0}, b={1}'.format(self.a, self.b))"
   ]
  },
  {
   "cell_type": "code",
   "execution_count": 5,
   "metadata": {
    "collapsed": true
   },
   "outputs": [],
   "source": [
    "my_class = MyClass(10, 20)"
   ]
  },
  {
   "cell_type": "code",
   "execution_count": 6,
   "metadata": {},
   "outputs": [
    {
     "name": "stdout",
     "output_type": "stream",
     "text": [
      "MyClass instance called: a=10, b=20\n"
     ]
    }
   ],
   "source": [
    "my_class()"
   ]
  },
  {
   "cell_type": "markdown",
   "metadata": {},
   "source": [
    "So let's modify this just a bit, and have the `__call__` method be our decorator!"
   ]
  },
  {
   "cell_type": "code",
   "execution_count": 7,
   "metadata": {
    "collapsed": true
   },
   "outputs": [],
   "source": [
    "class MyClass:\n",
    "    def __init__(self, a, b):\n",
    "        self.a = a\n",
    "        self.b = b\n",
    "        \n",
    "    def __call__(self, fn):\n",
    "        def inner(*args, **kwargs):\n",
    "            print('MyClass instance called: a={0}, b={1}'.format(self.a, self.b))\n",
    "            return fn(*args, **kwargs)\n",
    "        return inner"
   ]
  },
  {
   "cell_type": "markdown",
   "metadata": {},
   "source": [
    "So, we can decorate our functions this way:"
   ]
  },
  {
   "cell_type": "code",
   "execution_count": 8,
   "metadata": {
    "collapsed": true
   },
   "outputs": [],
   "source": [
    "@MyClass(10, 20)\n",
    "def my_func(s):\n",
    "    print('Hello {0}!'.format(s))"
   ]
  },
  {
   "cell_type": "markdown",
   "metadata": {},
   "source": [
    "Remember that `@MyClass(10, 20)` returned an object of type `MyClass`. But  that object is itself callable, so we could do something like:\n",
    "\n",
    "``\n",
    "my_func = MyClass(10, 20)(my_func)\n",
    "``\n",
    "\n",
    "or, more simply\n",
    "\n",
    "``\n",
    "@MyClass(10, 20)\n",
    "def my_func(s):\n",
    "    print(s)\n",
    "``"
   ]
  },
  {
   "cell_type": "code",
   "execution_count": 9,
   "metadata": {},
   "outputs": [
    {
     "name": "stdout",
     "output_type": "stream",
     "text": [
      "MyClass instance called: a=10, b=20\n",
      "Hello Python!\n"
     ]
    }
   ],
   "source": [
    "my_func('Python')"
   ]
  },
  {
   "cell_type": "markdown",
   "metadata": {},
   "source": [
    "So as you can see, we can also use callable classes to decorate functions!"
   ]
  },
  {
   "cell_type": "code",
   "execution_count": null,
   "metadata": {
    "collapsed": true
   },
   "outputs": [],
   "source": []
  }
 ],
 "metadata": {
  "kernelspec": {
   "display_name": "ml-test1",
   "language": "python",
   "name": "python3"
  },
  "language_info": {
   "codemirror_mode": {
    "name": "ipython",
    "version": 3
   },
   "file_extension": ".py",
   "mimetype": "text/x-python",
   "name": "python",
   "nbconvert_exporter": "python",
   "pygments_lexer": "ipython3",
   "version": "3.11.8"
  }
 },
 "nbformat": 4,
 "nbformat_minor": 2
}
