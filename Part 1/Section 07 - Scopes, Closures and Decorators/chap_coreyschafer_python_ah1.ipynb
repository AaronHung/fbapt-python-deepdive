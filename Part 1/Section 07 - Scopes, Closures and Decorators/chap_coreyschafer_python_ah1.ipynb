{
 "cells": [
  {
   "cell_type": "markdown",
   "metadata": {},
   "source": [
    "### Decorator - Corey Schafer, recapped Aaron Hung"
   ]
  },
  {
   "cell_type": "markdown",
   "metadata": {},
   "source": [
    "- first class function\n",
    "- closure - hoiw to use them and why they are useful\n",
    "- decorators - dynamically alter the functionality of your functions\n",
    "- python OOP - classes and instances\n",
    "- python OOP - class variables\n",
    "- python OOP - classmethods and staticmethods\n",
    "- python OOP - Inheritance - creating subclasses\n",
    "- decorators with arguments\n",
    "- nametuple - when and why should we use it?\n",
    "- iterators and iterables"
   ]
  },
  {
   "cell_type": "markdown",
   "metadata": {},
   "source": [
    "#### first class functions:\n",
    "\n",
    "a programming language is said to have first-class functions if it treats function as first-class citizens.\n",
    "\n",
    "first class citizen (programming): \n",
    "> a first class citizen sometimes called first class objects, in a programming launguage is an entity which supports all the operations generally available to other enties. These operations tyhpically include being passed as an argument, return from a function, and assinged to a variable."
   ]
  },
  {
   "cell_type": "code",
   "execution_count": 1,
   "metadata": {},
   "outputs": [],
   "source": [
    "def square(x):\n",
    "    return x * x"
   ]
  },
  {
   "cell_type": "code",
   "execution_count": 2,
   "metadata": {},
   "outputs": [],
   "source": [
    "f = square(5)"
   ]
  },
  {
   "cell_type": "code",
   "execution_count": 4,
   "metadata": {},
   "outputs": [
    {
     "name": "stdout",
     "output_type": "stream",
     "text": [
      "<function square at 0x105586ac0> \n",
      " 25\n"
     ]
    }
   ],
   "source": [
    "print(square, '\\n', f)"
   ]
  },
  {
   "cell_type": "markdown",
   "metadata": {},
   "source": [
    "<font color=lightcoral> func assignment WITOUT `()`"
   ]
  },
  {
   "cell_type": "code",
   "execution_count": 5,
   "metadata": {},
   "outputs": [],
   "source": [
    "f = square"
   ]
  },
  {
   "cell_type": "code",
   "execution_count": 6,
   "metadata": {},
   "outputs": [
    {
     "name": "stdout",
     "output_type": "stream",
     "text": [
      "<function square at 0x105586ac0>\n",
      "<function square at 0x105586ac0>\n"
     ]
    }
   ],
   "source": [
    "print(square)\n",
    "print(f)"
   ]
  },
  {
   "cell_type": "markdown",
   "metadata": {},
   "source": [
    "#### <font color=lightcoral> This is `first class` function, because we treat func like VARIABLES"
   ]
  },
  {
   "cell_type": "code",
   "execution_count": 7,
   "metadata": {},
   "outputs": [
    {
     "data": {
      "text/plain": [
       "25"
      ]
     },
     "execution_count": 7,
     "metadata": {},
     "output_type": "execute_result"
    }
   ],
   "source": [
    "f(5)"
   ]
  },
  {
   "cell_type": "code",
   "execution_count": 8,
   "metadata": {},
   "outputs": [],
   "source": [
    "def square(x):\n",
    "    return x * x"
   ]
  },
  {
   "cell_type": "code",
   "execution_count": null,
   "metadata": {},
   "outputs": [],
   "source": [
    "def my_map(func, arg_list):\n",
    "    result = []\n",
    "    for i in arg_list:\n",
    "        result.append(func(i))\n",
    "    return result()   # notice is `()` is wrong here - 'list' obj not callable"
   ]
  },
  {
   "cell_type": "code",
   "execution_count": 11,
   "metadata": {},
   "outputs": [
    {
     "ename": "TypeError",
     "evalue": "'list' object is not callable",
     "output_type": "error",
     "traceback": [
      "\u001b[0;31m---------------------------------------------------------------------------\u001b[0m",
      "\u001b[0;31mTypeError\u001b[0m                                 Traceback (most recent call last)",
      "Cell \u001b[0;32mIn[11], line 1\u001b[0m\n\u001b[0;32m----> 1\u001b[0m square \u001b[38;5;241m=\u001b[39m my_map(square, [\u001b[38;5;241m1\u001b[39m, \u001b[38;5;241m2\u001b[39m, \u001b[38;5;241m3\u001b[39m, \u001b[38;5;241m4\u001b[39m, \u001b[38;5;241m5\u001b[39m])\n\u001b[1;32m      3\u001b[0m \u001b[38;5;28mprint\u001b[39m(square)\n",
      "Cell \u001b[0;32mIn[10], line 5\u001b[0m, in \u001b[0;36mmy_map\u001b[0;34m(func, arg_list)\u001b[0m\n\u001b[1;32m      3\u001b[0m \u001b[38;5;28;01mfor\u001b[39;00m i \u001b[38;5;129;01min\u001b[39;00m arg_list:\n\u001b[1;32m      4\u001b[0m     result\u001b[38;5;241m.\u001b[39mappend(func(i))\n\u001b[0;32m----> 5\u001b[0m \u001b[38;5;28;01mreturn\u001b[39;00m result()\n",
      "\u001b[0;31mTypeError\u001b[0m: 'list' object is not callable"
     ]
    }
   ],
   "source": [
    "square = my_map(square, [1, 2, 3, 4, 5])\n",
    "\n",
    "print(square)  # notice that square not tailing with `()` so it wont execute\n"
   ]
  },
  {
   "cell_type": "markdown",
   "metadata": {},
   "source": [
    "<font color=#7fb4ca> Corrected as below:"
   ]
  },
  {
   "cell_type": "code",
   "execution_count": 15,
   "metadata": {},
   "outputs": [],
   "source": [
    "def square(x):\n",
    "    return x * x"
   ]
  },
  {
   "cell_type": "code",
   "execution_count": 16,
   "metadata": {},
   "outputs": [],
   "source": [
    "def my_map(func, arg_list):\n",
    "    result = []\n",
    "    for i in arg_list:\n",
    "        result.append(func(i))\n",
    "    return result"
   ]
  },
  {
   "cell_type": "code",
   "execution_count": 17,
   "metadata": {},
   "outputs": [],
   "source": [
    "squares = my_map(square, [1, 2, 3, 4, 5])"
   ]
  },
  {
   "cell_type": "code",
   "execution_count": 18,
   "metadata": {},
   "outputs": [
    {
     "name": "stdout",
     "output_type": "stream",
     "text": [
      "[1, 4, 9, 16, 25]\n"
     ]
    }
   ],
   "source": [
    "print(squares)"
   ]
  },
  {
   "cell_type": "code",
   "execution_count": 19,
   "metadata": {},
   "outputs": [],
   "source": [
    "def cube(x):\n",
    "    return x * x * x"
   ]
  },
  {
   "cell_type": "code",
   "execution_count": 20,
   "metadata": {},
   "outputs": [],
   "source": [
    "cubes = my_map(cube, [1, 2, 3, 4, 5])"
   ]
  },
  {
   "cell_type": "code",
   "execution_count": 21,
   "metadata": {},
   "outputs": [
    {
     "name": "stdout",
     "output_type": "stream",
     "text": [
      "[1, 8, 27, 64, 125]\n"
     ]
    }
   ],
   "source": [
    "print(cubes)"
   ]
  },
  {
   "cell_type": "markdown",
   "metadata": {},
   "source": [
    "### <font color=lightcoral> 比較難理解：如何返回一個func  \n",
    "> - 為什麼需要一個`outer`函數，一個`inner`函數？\n",
    "> - 因為如果一個，不管是 outer 還是 inner，這個func就會被執行\n",
    "> - 因此我們需要一個 inner （或者 `wrapper`包裝或者裝飾一些func的增加內容，並且返回`空包彈`func\n",
    "> - 最後，在函數 func 定義之後，我們用一個 代表函數的變量 <font color=lightseagreen >func_var = outer(`事先帶入的參數`)</font>\n",
    "> - 然後，加上兩個括弧，讓他執行"
   ]
  },
  {
   "cell_type": "code",
   "execution_count": null,
   "metadata": {},
   "outputs": [],
   "source": [
    "def logger(msg):  # outer\n",
    "    def log_message():  # wrapper\n",
    "        print(f\"Log: {msg}\")\n",
    "    return log_message\n",
    "\n",
    "log = logger('Hi')"
   ]
  },
  {
   "cell_type": "code",
   "execution_count": 23,
   "metadata": {},
   "outputs": [
    {
     "name": "stdout",
     "output_type": "stream",
     "text": [
      "Log: Hi\n"
     ]
    }
   ],
   "source": [
    "log()"
   ]
  },
  {
   "cell_type": "markdown",
   "metadata": {},
   "source": [
    "#### 為什麼這樣的概念（返回一個尚未執行，但是帶入參數的空包彈）很有用？"
   ]
  },
  {
   "cell_type": "code",
   "execution_count": 28,
   "metadata": {},
   "outputs": [],
   "source": [
    "def html_tag(tag):\n",
    "    \n",
    "    def wrap_text(msg):\n",
    "        print(f'<{tag}>{msg}<{tag}>')\n",
    "\n",
    "    return wrap_text"
   ]
  },
  {
   "cell_type": "markdown",
   "metadata": {},
   "source": [
    "#### 製作空包彈"
   ]
  },
  {
   "cell_type": "code",
   "execution_count": 29,
   "metadata": {},
   "outputs": [],
   "source": [
    "\n",
    "print_h1 = html_tag('h1')"
   ]
  },
  {
   "cell_type": "markdown",
   "metadata": {},
   "source": [
    "#### 開始執行"
   ]
  },
  {
   "cell_type": "code",
   "execution_count": 30,
   "metadata": {},
   "outputs": [
    {
     "name": "stdout",
     "output_type": "stream",
     "text": [
      "<h1>Test Headline!<h1>\n"
     ]
    }
   ],
   "source": [
    "print_h1(\"Test Headline!\")"
   ]
  },
  {
   "cell_type": "code",
   "execution_count": 31,
   "metadata": {},
   "outputs": [
    {
     "name": "stdout",
     "output_type": "stream",
     "text": [
      "<h1>Test another headline!!<h1>\n"
     ]
    }
   ],
   "source": [
    "print_h1(\"Test another headline!!\")"
   ]
  },
  {
   "cell_type": "code",
   "execution_count": 32,
   "metadata": {},
   "outputs": [],
   "source": [
    "print_p = html_tag('p')"
   ]
  },
  {
   "cell_type": "code",
   "execution_count": 33,
   "metadata": {},
   "outputs": [
    {
     "name": "stdout",
     "output_type": "stream",
     "text": [
      "<p>Test Paragraph!<p>\n"
     ]
    }
   ],
   "source": [
    "print_p (\"Test Paragraph!\")"
   ]
  },
  {
   "cell_type": "markdown",
   "metadata": {},
   "source": [
    "#### Aaron: 注意這樣的函數建置的時候～\n",
    "- 兩個參數，我稱為（1）deco的定型參數（2）wrapper的執行參數\n",
    "- deco定型參數`（正常情況會傳遞要被裝飾函式 original_function 進來）`，本例，定義函數的時候，作為控制裝飾器裡面的控制內容，加以定型。例如上面的 `tag`，`其實常常在decorator/outer傳遞進來的應該是函式自己`，可以定型成為 h1 或者 p，可以賦予另外一個定型後的函式定型後的不同名字。\n",
    "- deco的定型參數，在後面執行的時候，先定義一個執行函數的名稱，如print_h1, print_p，帶入wrapper的執行參數\n",
    "- wrap 執行參數（如 msg ），在函數定義的時候傳入給wrapper，讓wrapper可以帶入不同的運行函數。"
   ]
  },
  {
   "cell_type": "markdown",
   "metadata": {},
   "source": [
    "#### <font color=lightcoral>Closure的定義\n",
    "\n",
    "<font color=lightseagreen>\n",
    "維基百科說：「`閉包（Closure）`是一種`記錄`，它存儲了`一個函數`以及`一個環境`：該環境是一種映射，將該函數的每個自由變數與閉包創建時變數綁定的值或存儲位置關聯起來。與普通函數不同，閉包允許函數透過閉包對這些變數的引用來訪問它們，即使該函數在這些變數的作用域之外被調用。」</font>"
   ]
  },
  {
   "cell_type": "code",
   "execution_count": 34,
   "metadata": {},
   "outputs": [],
   "source": [
    "def outer_func():\n",
    "    message = 'Hi'\n",
    "    \n",
    "    def inner_func():\n",
    "        print(message)\n",
    "        \n",
    "    return inner_func\n"
   ]
  },
  {
   "cell_type": "code",
   "execution_count": 35,
   "metadata": {},
   "outputs": [
    {
     "data": {
      "text/plain": [
       "<function __main__.outer_func.<locals>.inner_func()>"
      ]
     },
     "execution_count": 35,
     "metadata": {},
     "output_type": "execute_result"
    }
   ],
   "source": [
    "outer_func()"
   ]
  },
  {
   "cell_type": "code",
   "execution_count": 36,
   "metadata": {},
   "outputs": [],
   "source": [
    "my_func = outer_func()"
   ]
  },
  {
   "cell_type": "code",
   "execution_count": 37,
   "metadata": {},
   "outputs": [
    {
     "name": "stdout",
     "output_type": "stream",
     "text": [
      "<class 'function'>\n"
     ]
    }
   ],
   "source": [
    "print(type(my_func))"
   ]
  },
  {
   "cell_type": "code",
   "execution_count": 38,
   "metadata": {},
   "outputs": [
    {
     "name": "stdout",
     "output_type": "stream",
     "text": [
      "<function outer_func.<locals>.inner_func at 0x107fe2520>\n"
     ]
    }
   ],
   "source": [
    "print(my_func)"
   ]
  },
  {
   "cell_type": "code",
   "execution_count": 39,
   "metadata": {},
   "outputs": [
    {
     "name": "stdout",
     "output_type": "stream",
     "text": [
      "inner_func\n"
     ]
    }
   ],
   "source": [
    "print(my_func.__name__)"
   ]
  },
  {
   "cell_type": "code",
   "execution_count": 40,
   "metadata": {},
   "outputs": [
    {
     "data": {
      "text/plain": [
       "<function __main__.outer_func.<locals>.inner_func()>"
      ]
     },
     "execution_count": 40,
     "metadata": {},
     "output_type": "execute_result"
    }
   ],
   "source": [
    "my_func\n",
    "my_func"
   ]
  },
  {
   "cell_type": "code",
   "execution_count": 41,
   "metadata": {},
   "outputs": [
    {
     "name": "stdout",
     "output_type": "stream",
     "text": [
      "Hi\n",
      "Hi\n"
     ]
    }
   ],
   "source": [
    "my_func()\n",
    "my_func()"
   ]
  },
  {
   "cell_type": "markdown",
   "metadata": {},
   "source": [
    "#### <font color=lightcoral> 參數有兩次傳遞。  \n",
    "- （1）`Closure`閉包的打包：透過 outer 傳遞給 wrapper(inner)，然後 return 到 my_fuct\n",
    "- （2）透過 my_func （指向 inner/wrapper，帶著閉包/環境/）給予運行的參數，也就是套接的不同function\n"
   ]
  },
  {
   "cell_type": "code",
   "execution_count": 43,
   "metadata": {},
   "outputs": [],
   "source": [
    "def outer_func(msg):\n",
    "    message = msg\n",
    "\n",
    "    def inner_func():\n",
    "        print(message)\n",
    "\n",
    "    return inner_func"
   ]
  },
  {
   "cell_type": "code",
   "execution_count": 44,
   "metadata": {},
   "outputs": [],
   "source": [
    "hi_func = outer_func('Hi!') # 第一次參數傳遞到 Closure，傳給 inner_func，return給hi——func\n"
   ]
  },
  {
   "cell_type": "code",
   "execution_count": 46,
   "metadata": {},
   "outputs": [],
   "source": [
    "hello_func = outer_func('Hello!')"
   ]
  },
  {
   "cell_type": "code",
   "execution_count": 47,
   "metadata": {},
   "outputs": [
    {
     "name": "stdout",
     "output_type": "stream",
     "text": [
      "Hi!\n",
      "Hello!\n"
     ]
    }
   ],
   "source": [
    "hi_func()\n",
    "hello_func()"
   ]
  },
  {
   "cell_type": "markdown",
   "metadata": {},
   "source": [
    "#### Closure"
   ]
  },
  {
   "cell_type": "code",
   "execution_count": 48,
   "metadata": {},
   "outputs": [],
   "source": [
    "# closure\n",
    "\n",
    "import logging\n",
    "\n",
    "logging.basicConfig(filename='example.log', level=logging.INFO)\n",
    "\n",
    "def logger(func):\n",
    "    def log_func(*args):\n",
    "        logging.info(f'Running \"{func.__name__}\" with arguments {args}')\n",
    "        print(func(*args))\n",
    "        \n",
    "    return log_func\n",
    "\n"
   ]
  },
  {
   "cell_type": "code",
   "execution_count": 49,
   "metadata": {},
   "outputs": [],
   "source": [
    "def add(x, y):\n",
    "    return x+y"
   ]
  },
  {
   "cell_type": "code",
   "execution_count": 50,
   "metadata": {},
   "outputs": [],
   "source": [
    "def sub(x, y):\n",
    "    return x - y\n"
   ]
  },
  {
   "cell_type": "code",
   "execution_count": 51,
   "metadata": {},
   "outputs": [],
   "source": [
    "add_logger = logger(add)\n",
    "sub_logger = logger(sub)"
   ]
  },
  {
   "cell_type": "code",
   "execution_count": 52,
   "metadata": {},
   "outputs": [
    {
     "name": "stdout",
     "output_type": "stream",
     "text": [
      "6\n"
     ]
    }
   ],
   "source": [
    "add_logger(3, 3)"
   ]
  },
  {
   "cell_type": "code",
   "execution_count": 53,
   "metadata": {},
   "outputs": [
    {
     "name": "stdout",
     "output_type": "stream",
     "text": [
      "9\n",
      "5\n",
      "10\n"
     ]
    }
   ],
   "source": [
    "add_logger(4, 5)\n",
    "sub_logger(10, 5)\n",
    "sub_logger(20, 10)"
   ]
  },
  {
   "cell_type": "markdown",
   "metadata": {},
   "source": [
    "## Decorator"
   ]
  },
  {
   "cell_type": "code",
   "execution_count": 54,
   "metadata": {},
   "outputs": [
    {
     "name": "stdout",
     "output_type": "stream",
     "text": [
      "Hi\n"
     ]
    }
   ],
   "source": [
    "# Decorators\n",
    "\n",
    "def outer_function():\n",
    "    message = 'Hi'\n",
    "\n",
    "    def inner_function():\n",
    "        print(message)\n",
    "\n",
    "    return inner_function() # 錯！正常decorator不是呼叫 inner_function()，而是呼叫 inner_function\n",
    "\n",
    "outer_function()"
   ]
  },
  {
   "cell_type": "code",
   "execution_count": 55,
   "metadata": {},
   "outputs": [],
   "source": [
    "def outer_function():\n",
    "    message = 'Hi'\n",
    "\n",
    "    def inner_function():\n",
    "        print(message)\n",
    "\n",
    "    return inner_function"
   ]
  },
  {
   "cell_type": "code",
   "execution_count": 56,
   "metadata": {},
   "outputs": [
    {
     "data": {
      "text/plain": [
       "<function __main__.outer_function.<locals>.inner_function()>"
      ]
     },
     "execution_count": 56,
     "metadata": {},
     "output_type": "execute_result"
    }
   ],
   "source": [
    "outer_function()"
   ]
  },
  {
   "cell_type": "code",
   "execution_count": 57,
   "metadata": {},
   "outputs": [],
   "source": [
    "def outer_function():\n",
    "    message = \"Hi\"\n",
    "\n",
    "    def inner_function():\n",
    "        print(message)\n",
    "\n",
    "    return inner_function"
   ]
  },
  {
   "cell_type": "code",
   "execution_count": 58,
   "metadata": {},
   "outputs": [],
   "source": [
    "my_func = outer_function()"
   ]
  },
  {
   "cell_type": "code",
   "execution_count": 59,
   "metadata": {},
   "outputs": [
    {
     "name": "stdout",
     "output_type": "stream",
     "text": [
      "Hi\n",
      "Hi\n",
      "Hi\n"
     ]
    }
   ],
   "source": [
    "my_func()\n",
    "my_func()\n",
    "my_func()"
   ]
  },
  {
   "cell_type": "markdown",
   "metadata": {},
   "source": [
    "#### <font color=lightcoral>傳遞一個閉包的參數 "
   ]
  },
  {
   "cell_type": "code",
   "execution_count": 61,
   "metadata": {},
   "outputs": [],
   "source": [
    "def outer_function(msg):\n",
    "    message = msg\n",
    "\n",
    "    def inner_function():\n",
    "        print(message)\n",
    "\n",
    "    return inner_function\n"
   ]
  },
  {
   "cell_type": "code",
   "execution_count": null,
   "metadata": {},
   "outputs": [],
   "source": [
    "hi_func = outer_function(\"Hi!\")\n",
    "hello_func = outer_function(\"Hello!\")\n",
    "bye_func = outer_function(\"Sayonara!\")"
   ]
  },
  {
   "cell_type": "code",
   "execution_count": 63,
   "metadata": {},
   "outputs": [
    {
     "name": "stdout",
     "output_type": "stream",
     "text": [
      "Hi!\n",
      "Hello!\n",
      "Sayonara!\n"
     ]
    }
   ],
   "source": [
    "hi_func()\n",
    "hello_func()\n",
    "bye_func()"
   ]
  },
  {
   "cell_type": "markdown",
   "metadata": {},
   "source": [
    "#### 移除中間商 - message"
   ]
  },
  {
   "cell_type": "code",
   "execution_count": 64,
   "metadata": {},
   "outputs": [],
   "source": [
    "def outer_function(msg):\n",
    "    def inner_function():\n",
    "        print(msg)\n",
    "    return inner_function"
   ]
  },
  {
   "cell_type": "code",
   "execution_count": 65,
   "metadata": {},
   "outputs": [],
   "source": [
    "\n",
    "hi_func = outer_function(\"hi hi hi~\")\n",
    "bye_func = outer_func('later later~')"
   ]
  },
  {
   "cell_type": "code",
   "execution_count": 66,
   "metadata": {},
   "outputs": [
    {
     "name": "stdout",
     "output_type": "stream",
     "text": [
      "hi hi hi~\n",
      "later later~\n"
     ]
    }
   ],
   "source": [
    "hi_func()\n",
    "bye_func()"
   ]
  },
  {
   "cell_type": "markdown",
   "metadata": {},
   "source": [
    "#### <font color=lightseagreen>什麼是裝飾器（decorator）？簡單來說，就是一個函式，它接收另一個函式作為參數，為其添加某些功能，然後返回另一個函式。而這一切都不會改變原始函式的程式碼。"
   ]
  },
  {
   "cell_type": "code",
   "execution_count": 68,
   "metadata": {},
   "outputs": [],
   "source": [
    "def outer_function(message):\n",
    "    def inner_function():\n",
    "        print(message)\n",
    "    return inner_function"
   ]
  },
  {
   "cell_type": "code",
   "execution_count": null,
   "metadata": {},
   "outputs": [],
   "source": [
    "def decorator_function(message):\n",
    "    def wrapper_function():\n",
    "        print(message)\n",
    "    return wrapper_function"
   ]
  },
  {
   "cell_type": "code",
   "execution_count": 70,
   "metadata": {},
   "outputs": [],
   "source": [
    "hi_func = decorator_function('Hi!~~~')\n",
    "bye_func = decorator_function('Bye!~~~~')"
   ]
  },
  {
   "cell_type": "code",
   "execution_count": 71,
   "metadata": {},
   "outputs": [
    {
     "name": "stdout",
     "output_type": "stream",
     "text": [
      "Hi!~~~\n",
      "Bye!~~~~\n"
     ]
    }
   ],
   "source": [
    "hi_func()\n",
    "bye_func()"
   ]
  },
  {
   "cell_type": "markdown",
   "metadata": {},
   "source": [
    "### <font color=lightseagreen>來建置decorator與wrapper的比較正常的名字"
   ]
  },
  {
   "cell_type": "markdown",
   "metadata": {},
   "source": [
    "#### <font color=lightcoral> 先展示一個有錯誤的：在decorator中，`沒有return wrapper`"
   ]
  },
  {
   "cell_type": "code",
   "execution_count": 86,
   "metadata": {},
   "outputs": [],
   "source": [
    "def decorator(original):\n",
    "    def wrapper():\n",
    "        print(f\"wrapper executed before {original.__name__}\")\n",
    "        return original() # 這樣才會產生閉包\n",
    "    \n",
    "    return # 這裡有錯誤，忘記 return wrapper 了（wrapper裡面是original）\n",
    "    "
   ]
  },
  {
   "cell_type": "code",
   "execution_count": 87,
   "metadata": {},
   "outputs": [],
   "source": [
    "def display():\n",
    "    print(f\"display - running program name: {__name__}\")"
   ]
  },
  {
   "cell_type": "code",
   "execution_count": 88,
   "metadata": {},
   "outputs": [],
   "source": [
    "decorated_display = decorator(display)"
   ]
  },
  {
   "cell_type": "code",
   "execution_count": 89,
   "metadata": {},
   "outputs": [],
   "source": [
    "decorated_display "
   ]
  },
  {
   "cell_type": "code",
   "execution_count": 90,
   "metadata": {},
   "outputs": [
    {
     "name": "stdout",
     "output_type": "stream",
     "text": [
      "None\n"
     ]
    }
   ],
   "source": [
    "print(decorated_display)"
   ]
  },
  {
   "cell_type": "code",
   "execution_count": 91,
   "metadata": {},
   "outputs": [
    {
     "ename": "TypeError",
     "evalue": "'NoneType' object is not callable",
     "output_type": "error",
     "traceback": [
      "\u001b[0;31m---------------------------------------------------------------------------\u001b[0m",
      "\u001b[0;31mTypeError\u001b[0m                                 Traceback (most recent call last)",
      "Cell \u001b[0;32mIn[91], line 1\u001b[0m\n\u001b[0;32m----> 1\u001b[0m decorated_display()\n",
      "\u001b[0;31mTypeError\u001b[0m: 'NoneType' object is not callable"
     ]
    }
   ],
   "source": [
    "decorated_display()"
   ]
  },
  {
   "cell_type": "markdown",
   "metadata": {},
   "source": [
    "#### <font color=lightcoral>修改，先看看問題在哪裡，去掉最後statement - `decorated_display()` 因為 decorator 沒有把 wrapper return回來，所以是 `None` 沒辦法被呼叫"
   ]
  },
  {
   "cell_type": "code",
   "execution_count": null,
   "metadata": {},
   "outputs": [],
   "source": [
    "def decorator(original):\n",
    "    \n",
    "    def wrapper():\n",
    "        print(f\"wrapper executed before: {original.__name__}\")\n",
    "        return original # 這裡有錯誤，必須return original()才會有結果？！\n",
    "    \n",
    "    return wrapper\n"
   ]
  },
  {
   "cell_type": "code",
   "execution_count": 93,
   "metadata": {},
   "outputs": [],
   "source": [
    "def display():\n",
    "    print('display executing...')"
   ]
  },
  {
   "cell_type": "code",
   "execution_count": 94,
   "metadata": {},
   "outputs": [],
   "source": [
    "decorated_display = decorator(display)"
   ]
  },
  {
   "cell_type": "code",
   "execution_count": 95,
   "metadata": {},
   "outputs": [
    {
     "data": {
      "text/plain": [
       "<function __main__.decorator.<locals>.wrapper()>"
      ]
     },
     "execution_count": 95,
     "metadata": {},
     "output_type": "execute_result"
    }
   ],
   "source": [
    "decorated_display"
   ]
  },
  {
   "cell_type": "code",
   "execution_count": 96,
   "metadata": {},
   "outputs": [
    {
     "name": "stdout",
     "output_type": "stream",
     "text": [
      "<function decorator.<locals>.wrapper at 0x12021a7a0>\n"
     ]
    }
   ],
   "source": [
    "print(decorated_display)"
   ]
  },
  {
   "cell_type": "code",
   "execution_count": 98,
   "metadata": {},
   "outputs": [
    {
     "name": "stdout",
     "output_type": "stream",
     "text": [
      "wrapper executed before: display\n"
     ]
    },
    {
     "data": {
      "text/plain": [
       "<function __main__.display()>"
      ]
     },
     "execution_count": 98,
     "metadata": {},
     "output_type": "execute_result"
    }
   ],
   "source": [
    "decorated_display() # 這裡出現下列的錯誤，是因為 wrapper 沒有return original()，而是return original還是一個閉包"
   ]
  },
  {
   "cell_type": "markdown",
   "metadata": {},
   "source": [
    "#### <font color=lightcoral>稍微修正一下"
   ]
  },
  {
   "cell_type": "code",
   "execution_count": 110,
   "metadata": {},
   "outputs": [],
   "source": [
    "def decorator(original):\n",
    "    \n",
    "    def wrapper():\n",
    "        print(f'wrapper executed before {original.__name__}')\n",
    "        \n",
    "        return original() # 這個return就對了，不是original，而是original（）\n",
    "    \n",
    "    return # 這裡還保留了一個錯誤，就是沒有return wrapper，所以還是None"
   ]
  },
  {
   "cell_type": "code",
   "execution_count": 111,
   "metadata": {},
   "outputs": [],
   "source": [
    "def display():\n",
    "    print('display executing...')"
   ]
  },
  {
   "cell_type": "code",
   "execution_count": 112,
   "metadata": {},
   "outputs": [],
   "source": [
    "decorated_display = decorator(display)"
   ]
  },
  {
   "cell_type": "code",
   "execution_count": 113,
   "metadata": {},
   "outputs": [],
   "source": [
    "decorated_display"
   ]
  },
  {
   "cell_type": "code",
   "execution_count": 114,
   "metadata": {},
   "outputs": [
    {
     "name": "stdout",
     "output_type": "stream",
     "text": [
      "None\n"
     ]
    }
   ],
   "source": [
    "print(decorated_display)"
   ]
  },
  {
   "cell_type": "code",
   "execution_count": 115,
   "metadata": {},
   "outputs": [
    {
     "ename": "TypeError",
     "evalue": "'NoneType' object is not callable",
     "output_type": "error",
     "traceback": [
      "\u001b[0;31m---------------------------------------------------------------------------\u001b[0m",
      "\u001b[0;31mTypeError\u001b[0m                                 Traceback (most recent call last)",
      "Cell \u001b[0;32mIn[115], line 1\u001b[0m\n\u001b[0;32m----> 1\u001b[0m decorated_display()\n",
      "\u001b[0;31mTypeError\u001b[0m: 'NoneType' object is not callable"
     ]
    }
   ],
   "source": [
    "decorated_display()"
   ]
  },
  {
   "cell_type": "markdown",
   "metadata": {},
   "source": [
    "#### <font color=lightcoral> 改正：在decorator正常return wrapper，就可以恢復正常"
   ]
  },
  {
   "cell_type": "code",
   "execution_count": 116,
   "metadata": {},
   "outputs": [],
   "source": [
    "# 正確的 decorator 形式\n",
    "\n",
    "def decorator(original):\n",
    "    \n",
    "    def wrapper():\n",
    "        \n",
    "        print(f'wrapper executed before {original.__name__}')\n",
    "        \n",
    "        return original()\n",
    "\n",
    "    return wrapper"
   ]
  },
  {
   "cell_type": "code",
   "execution_count": 118,
   "metadata": {},
   "outputs": [],
   "source": [
    "def display():\n",
    "    print('display executing...')"
   ]
  },
  {
   "cell_type": "code",
   "execution_count": 119,
   "metadata": {},
   "outputs": [],
   "source": [
    "decorated_display = decorator(display)"
   ]
  },
  {
   "cell_type": "code",
   "execution_count": 120,
   "metadata": {},
   "outputs": [
    {
     "data": {
      "text/plain": [
       "<function __main__.decorator.<locals>.wrapper()>"
      ]
     },
     "execution_count": 120,
     "metadata": {},
     "output_type": "execute_result"
    }
   ],
   "source": [
    "decorated_display"
   ]
  },
  {
   "cell_type": "code",
   "execution_count": 121,
   "metadata": {},
   "outputs": [
    {
     "name": "stdout",
     "output_type": "stream",
     "text": [
      "<function decorator.<locals>.wrapper at 0x1202519e0>\n"
     ]
    }
   ],
   "source": [
    "print(decorated_display)"
   ]
  },
  {
   "cell_type": "code",
   "execution_count": 122,
   "metadata": {},
   "outputs": [
    {
     "name": "stdout",
     "output_type": "stream",
     "text": [
      "wrapper executed before display\n",
      "display executing...\n"
     ]
    }
   ],
   "source": [
    "decorated_display()"
   ]
  },
  {
   "cell_type": "markdown",
   "metadata": {},
   "source": [
    "#### <font color=lightcoral> 使用 syntax sugar `@decorator`"
   ]
  },
  {
   "cell_type": "markdown",
   "metadata": {},
   "source": [
    "#### <font color=lightseagreen> @decorator 和 `display = decorator(display)`一樣"
   ]
  },
  {
   "cell_type": "code",
   "execution_count": 123,
   "metadata": {},
   "outputs": [],
   "source": [
    "@decorator\n",
    "def display():\n",
    "    print('display executing...')"
   ]
  },
  {
   "cell_type": "code",
   "execution_count": 124,
   "metadata": {},
   "outputs": [
    {
     "name": "stdout",
     "output_type": "stream",
     "text": [
      "wrapper executed before display\n",
      "display executing...\n"
     ]
    }
   ],
   "source": [
    "display()"
   ]
  },
  {
   "cell_type": "markdown",
   "metadata": {},
   "source": [
    "#### <font color=lightcoral>幾個其他例子"
   ]
  },
  {
   "cell_type": "code",
   "execution_count": 128,
   "metadata": {},
   "outputs": [],
   "source": [
    "def deco(bbb): # bbb 就是前面的 origin，只是內部使用，傳給 wrapper 而已，這個位置對應到語法糖下一句\n",
    "    def wwww():\n",
    "        print('abc')\n",
    "        print('xyz')\n",
    "        return bbb() # 一定要記得 return original()，內部參數（名字自己內部對應就可以）\n",
    "    return wwww # 一定要記得 return wrapper"
   ]
  },
  {
   "cell_type": "code",
   "execution_count": 129,
   "metadata": {},
   "outputs": [
    {
     "name": "stdout",
     "output_type": "stream",
     "text": [
      "abc\n",
      "xyz\n",
      "zzzz\n"
     ]
    }
   ],
   "source": [
    "@deco\n",
    "def aaaa():\n",
    "    print('zzzz')\n",
    "    \n",
    "aaaa()"
   ]
  },
  {
   "cell_type": "markdown",
   "metadata": {},
   "source": [
    "#### <font color=lightcoral> 雖然 original 只要對應語法糖@的下一句就好，但如果帶了參數，不工作，怎麼辦？"
   ]
  },
  {
   "cell_type": "code",
   "execution_count": 130,
   "metadata": {},
   "outputs": [],
   "source": [
    "def decorator(original):\n",
    "    def wrapper():\n",
    "        print(f\"wrapper exec before: {original.__name__}\")\n",
    "        return original()\n",
    "    return wrapper"
   ]
  },
  {
   "cell_type": "code",
   "execution_count": 131,
   "metadata": {},
   "outputs": [],
   "source": [
    "@decorator\n",
    "def display():\n",
    "    print('display func ran')\n",
    "    "
   ]
  },
  {
   "cell_type": "code",
   "execution_count": 133,
   "metadata": {},
   "outputs": [
    {
     "name": "stdout",
     "output_type": "stream",
     "text": [
      "wrapper exec before: display\n",
      "display func ran\n"
     ]
    }
   ],
   "source": [
    "display()"
   ]
  },
  {
   "cell_type": "code",
   "execution_count": 132,
   "metadata": {},
   "outputs": [],
   "source": [
    "def display_info(name, age):\n",
    "    print(f'display_info ran with arguments ({name}, {age})')"
   ]
  },
  {
   "cell_type": "code",
   "execution_count": 134,
   "metadata": {},
   "outputs": [
    {
     "name": "stdout",
     "output_type": "stream",
     "text": [
      "display_info ran with arguments (aaron, 100)\n"
     ]
    }
   ],
   "source": [
    "display_info(\"aaron\", 100)"
   ]
  },
  {
   "cell_type": "markdown",
   "metadata": {},
   "source": [
    "#### <font color=lightcoral>把參數帶進去看看 - 會出現錯誤！"
   ]
  },
  {
   "cell_type": "code",
   "execution_count": 135,
   "metadata": {},
   "outputs": [],
   "source": [
    "def decorator(original):\n",
    "    def wrapper():\n",
    "        print(f'wrapper executed before {original.__name__}')\n",
    "        return original()\n",
    "    return wrapper\n",
    "\n",
    "@decorator\n",
    "def display():\n",
    "    print('display func ran')\n",
    "    \n",
    "@decorator\n",
    "def display_info(name, age):\n",
    "    print(f\"display_info ran with arguments ({name}, {age})\")"
   ]
  },
  {
   "cell_type": "code",
   "execution_count": 136,
   "metadata": {},
   "outputs": [
    {
     "name": "stdout",
     "output_type": "stream",
     "text": [
      "wrapper executed before display\n",
      "display func ran\n"
     ]
    }
   ],
   "source": [
    "display()"
   ]
  },
  {
   "cell_type": "code",
   "execution_count": 137,
   "metadata": {},
   "outputs": [
    {
     "ename": "TypeError",
     "evalue": "decorator.<locals>.wrapper() takes 0 positional arguments but 2 were given",
     "output_type": "error",
     "traceback": [
      "\u001b[0;31m---------------------------------------------------------------------------\u001b[0m",
      "\u001b[0;31mTypeError\u001b[0m                                 Traceback (most recent call last)",
      "Cell \u001b[0;32mIn[137], line 1\u001b[0m\n\u001b[0;32m----> 1\u001b[0m display_info(\u001b[38;5;124m'\u001b[39m\u001b[38;5;124mAaron\u001b[39m\u001b[38;5;124m'\u001b[39m, \u001b[38;5;241m100\u001b[39m)\n",
      "\u001b[0;31mTypeError\u001b[0m: decorator.<locals>.wrapper() takes 0 positional arguments but 2 were given"
     ]
    }
   ],
   "source": [
    "display_info('Aaron', 100)"
   ]
  },
  {
   "cell_type": "markdown",
   "metadata": {},
   "source": [
    "#### <font color=lightseagreen>Aaron的解決辦法  \n",
    "你的 decorator 函式有一個問題：它內部的 wrapper 函式沒有接受任何參數 (wrapper())，但 display_info 需要 name 和 age 這兩個參數。因此，當你嘗試執行 display_info('Aaron', 100) 時，就會發生 TypeError。\n",
    "\n",
    "解決方法：\n",
    "修改 wrapper 函式，使其可以接收不定長度的參數 (*args, **kwargs)，這樣它就可以適用於任何函式。\n",
    "\n",
    "修正後的程式碼：\n",
    "\n",
    "``` python\n",
    "def decorator(original):\n",
    "    def wrapper(*args, **kwargs):  # 讓 wrapper 能接受任何數量的參數\n",
    "        print(f'wrapper executed before {original.__name__}')\n",
    "        return original(*args, **kwargs)  # 傳遞參數給原函式\n",
    "    return wrapper\n",
    "\n",
    "@decorator\n",
    "def display():\n",
    "    print('display func ran')\n",
    "\n",
    "@decorator\n",
    "def display_info(name, age):\n",
    "    print(f\"display_info ran with arguments ({name}, {age})\")\n",
    "\n",
    "display_info('Aaron', 100)  # 現在可以正常運行\n",
    "\n",
    "```"
   ]
  },
  {
   "cell_type": "code",
   "execution_count": 139,
   "metadata": {},
   "outputs": [
    {
     "name": "stdout",
     "output_type": "stream",
     "text": [
      "wrapper executed before disp_info\n",
      "disp_info ran with args (aaron, 99)\n"
     ]
    }
   ],
   "source": [
    "def decorator(original):\n",
    "    def wrapper(*args, **kwargs):\n",
    "        print(f\"wrapper executed before {original.__name__}\")\n",
    "        return original(*args, **kwargs)\n",
    "\n",
    "    return wrapper\n",
    "\n",
    "@decorator\n",
    "def display():\n",
    "    print('display function ran')\n",
    "\n",
    "@decorator\n",
    "def disp_info(name, age):\n",
    "    print(f'disp_info ran with args ({name}, {age})')\n",
    "\n",
    "disp_info('aaron', 99)"
   ]
  },
  {
   "cell_type": "code",
   "execution_count": 147,
   "metadata": {},
   "outputs": [],
   "source": [
    "def decorator(original):\n",
    "    def wrapper(*args, **kwargs):\n",
    "        print(f\"wrapper executed before {original.__name__}\")\n",
    "        return original(*args, **kwargs)\n",
    "    return wrapper\n",
    "\n",
    "@decorator\n",
    "def display():\n",
    "    print('display function ran')\n",
    "\n",
    "@decorator\n",
    "def display_info(name, age):\n",
    "    print(f'display_info function ran with arg({name, age})')\n"
   ]
  },
  {
   "cell_type": "code",
   "execution_count": 148,
   "metadata": {},
   "outputs": [
    {
     "name": "stdout",
     "output_type": "stream",
     "text": [
      "wrapper executed before display\n",
      "display function ran\n"
     ]
    }
   ],
   "source": [
    "display()"
   ]
  },
  {
   "cell_type": "code",
   "execution_count": 149,
   "metadata": {},
   "outputs": [
    {
     "name": "stdout",
     "output_type": "stream",
     "text": [
      "wrapper executed before display_info\n",
      "display_info function ran with arg(('aaroonn', 999))\n"
     ]
    }
   ],
   "source": [
    "display_info('aaroonn', 999)"
   ]
  },
  {
   "cell_type": "code",
   "execution_count": null,
   "metadata": {},
   "outputs": [],
   "source": []
  },
  {
   "cell_type": "code",
   "execution_count": 150,
   "metadata": {},
   "outputs": [],
   "source": [
    "# one more practice with arguments\n",
    "\n",
    "def deco(func):\n",
    "    def wrap(*args, **kwargs):\n",
    "        print(f\"wrap ran before {func.__name__}\")\n",
    "        return func(*args, **kwargs)\n",
    "    return wrap\n",
    "\n",
    "@deco\n",
    "def deco_func1():\n",
    "    print(\"deco_func1 ran\")\n",
    "\n",
    "@deco\n",
    "def deco_func_args(n, exponent):\n",
    "    print(f\"deco_func_args ran with args ({n}, {exponent})\")\n",
    "    print(n ** exponent)"
   ]
  },
  {
   "cell_type": "code",
   "execution_count": 151,
   "metadata": {},
   "outputs": [
    {
     "name": "stdout",
     "output_type": "stream",
     "text": [
      "wrap ran before deco_func1\n",
      "deco_func1 ran\n"
     ]
    }
   ],
   "source": [
    "deco_func1()"
   ]
  },
  {
   "cell_type": "code",
   "execution_count": 152,
   "metadata": {},
   "outputs": [
    {
     "name": "stdout",
     "output_type": "stream",
     "text": [
      "wrap ran before deco_func_args\n",
      "deco_func_args ran with args (2, 3)\n",
      "8\n"
     ]
    }
   ],
   "source": [
    "deco_func_args(2, 3)"
   ]
  },
  {
   "cell_type": "markdown",
   "metadata": {},
   "source": [
    "#### 不用語法糖？"
   ]
  },
  {
   "cell_type": "code",
   "execution_count": 153,
   "metadata": {},
   "outputs": [],
   "source": [
    "def deco(func):\n",
    "    def wrap(*args, **kwargs):\n",
    "        print(f\"wrap ran before {func.__name__}\")\n",
    "        return func(*args, **kwargs)\n",
    "    return wrap"
   ]
  },
  {
   "cell_type": "code",
   "execution_count": null,
   "metadata": {},
   "outputs": [],
   "source": [
    "def deco_func_args(n, exponent):\n",
    "    print(f\"deco_func_args ran with args ({n}, {exponent})\")\n",
    "    print(n ** exponent) ## Aaron：這裡有錯！沒有return，None！，只有print出來。所以後面會出錯。"
   ]
  },
  {
   "cell_type": "code",
   "execution_count": 156,
   "metadata": {},
   "outputs": [],
   "source": [
    "deco_func_args = deco(deco_func_args)"
   ]
  },
  {
   "cell_type": "code",
   "execution_count": 157,
   "metadata": {},
   "outputs": [
    {
     "name": "stdout",
     "output_type": "stream",
     "text": [
      "wrap ran before wrap\n"
     ]
    },
    {
     "ename": "AttributeError",
     "evalue": "'NoneType' object has no attribute '__name__'",
     "output_type": "error",
     "traceback": [
      "\u001b[0;31m---------------------------------------------------------------------------\u001b[0m",
      "\u001b[0;31mAttributeError\u001b[0m                            Traceback (most recent call last)",
      "Cell \u001b[0;32mIn[157], line 1\u001b[0m\n\u001b[0;32m----> 1\u001b[0m deco_func_args(\u001b[38;5;241m10\u001b[39m, \u001b[38;5;241m3\u001b[39m)\n",
      "Cell \u001b[0;32mIn[153], line 4\u001b[0m, in \u001b[0;36mdeco.<locals>.wrap\u001b[0;34m(*args, **kwargs)\u001b[0m\n\u001b[1;32m      2\u001b[0m \u001b[38;5;28;01mdef\u001b[39;00m \u001b[38;5;21mwrap\u001b[39m(\u001b[38;5;241m*\u001b[39margs, \u001b[38;5;241m*\u001b[39m\u001b[38;5;241m*\u001b[39mkwargs):\n\u001b[1;32m      3\u001b[0m     \u001b[38;5;28mprint\u001b[39m(\u001b[38;5;124mf\u001b[39m\u001b[38;5;124m\"\u001b[39m\u001b[38;5;124mwrap ran before \u001b[39m\u001b[38;5;132;01m{\u001b[39;00mfunc\u001b[38;5;241m.\u001b[39m\u001b[38;5;18m__name__\u001b[39m\u001b[38;5;132;01m}\u001b[39;00m\u001b[38;5;124m\"\u001b[39m)\n\u001b[0;32m----> 4\u001b[0m     \u001b[38;5;28;01mreturn\u001b[39;00m func(\u001b[38;5;241m*\u001b[39margs, \u001b[38;5;241m*\u001b[39m\u001b[38;5;241m*\u001b[39mkwargs)\n",
      "Cell \u001b[0;32mIn[153], line 3\u001b[0m, in \u001b[0;36mdeco.<locals>.wrap\u001b[0;34m(*args, **kwargs)\u001b[0m\n\u001b[1;32m      2\u001b[0m \u001b[38;5;28;01mdef\u001b[39;00m \u001b[38;5;21mwrap\u001b[39m(\u001b[38;5;241m*\u001b[39margs, \u001b[38;5;241m*\u001b[39m\u001b[38;5;241m*\u001b[39mkwargs):\n\u001b[0;32m----> 3\u001b[0m     \u001b[38;5;28mprint\u001b[39m(\u001b[38;5;124mf\u001b[39m\u001b[38;5;124m\"\u001b[39m\u001b[38;5;124mwrap ran before \u001b[39m\u001b[38;5;132;01m{\u001b[39;00mfunc\u001b[38;5;241m.\u001b[39m\u001b[38;5;18m__name__\u001b[39m\u001b[38;5;132;01m}\u001b[39;00m\u001b[38;5;124m\"\u001b[39m)\n\u001b[1;32m      4\u001b[0m     \u001b[38;5;28;01mreturn\u001b[39;00m func(\u001b[38;5;241m*\u001b[39margs, \u001b[38;5;241m*\u001b[39m\u001b[38;5;241m*\u001b[39mkwargs)\n",
      "\u001b[0;31mAttributeError\u001b[0m: 'NoneType' object has no attribute '__name__'"
     ]
    }
   ],
   "source": [
    "deco_func_args(10, 3)"
   ]
  },
  {
   "cell_type": "code",
   "execution_count": 155,
   "metadata": {},
   "outputs": [
    {
     "name": "stdout",
     "output_type": "stream",
     "text": [
      "deco_func_args ran with args (2, 3)\n",
      "8\n"
     ]
    }
   ],
   "source": [
    "deco_func_args = deco(deco_func_args(2, 3))"
   ]
  },
  {
   "cell_type": "markdown",
   "metadata": {},
   "source": [
    "#### 改正後："
   ]
  },
  {
   "cell_type": "code",
   "execution_count": 158,
   "metadata": {},
   "outputs": [],
   "source": [
    "def deco(func):\n",
    "    def wrap(*args, **kwargs):\n",
    "        print(f\"wrap ran before {func.__name__}\")\n",
    "        return func(*args, **kwargs)\n",
    "    return wrap"
   ]
  },
  {
   "cell_type": "code",
   "execution_count": 159,
   "metadata": {},
   "outputs": [],
   "source": [
    "def deco_func_args(n, exponent):\n",
    "    print(f\"deco_func_args ran with args ({n}, {exponent})\")\n",
    "    print(n ** exponent)\n",
    "    return n ** exponent"
   ]
  },
  {
   "cell_type": "code",
   "execution_count": 160,
   "metadata": {},
   "outputs": [],
   "source": [
    "deco_func_args = deco(deco_func_args)"
   ]
  },
  {
   "cell_type": "code",
   "execution_count": 161,
   "metadata": {},
   "outputs": [
    {
     "name": "stdout",
     "output_type": "stream",
     "text": [
      "wrap ran before deco_func_args\n",
      "deco_func_args ran with args (2, 3)\n",
      "8\n"
     ]
    },
    {
     "data": {
      "text/plain": [
       "8"
      ]
     },
     "execution_count": 161,
     "metadata": {},
     "output_type": "execute_result"
    }
   ],
   "source": [
    "deco_func_args(2, 3)"
   ]
  }
 ],
 "metadata": {
  "kernelspec": {
   "display_name": "ml-test1",
   "language": "python",
   "name": "python3"
  },
  "language_info": {
   "codemirror_mode": {
    "name": "ipython",
    "version": 3
   },
   "file_extension": ".py",
   "mimetype": "text/x-python",
   "name": "python",
   "nbconvert_exporter": "python",
   "pygments_lexer": "ipython3",
   "version": "3.11.8"
  }
 },
 "nbformat": 4,
 "nbformat_minor": 2
}
