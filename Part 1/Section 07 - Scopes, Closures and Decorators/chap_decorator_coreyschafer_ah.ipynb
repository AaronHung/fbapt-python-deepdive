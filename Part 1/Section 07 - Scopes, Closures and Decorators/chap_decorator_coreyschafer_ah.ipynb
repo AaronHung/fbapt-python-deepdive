{
 "cells": [
  {
   "cell_type": "markdown",
   "metadata": {},
   "source": [
    "# Python Advanced Topics by Corey Schafer\n",
    "# narrated by Aaron Hung\n",
    "* `First-Class` Functions\n",
    "* `Closure` - How to use them and why they are useful\n",
    "* `Decorators` - Dyamically Alter The Functionality of Your Functions\n",
    "* `Python OOP` - `Classes` and `Instances`\n",
    "* Python OOP - `Class Variables`\n",
    "* Python OOP - `classmethods` and `staticmethods`\n",
    "* Python OOP - `Inheritance` - creating `Subclasses`\n",
    "* **Decorators with Arguments**\n",
    "* `Nametuple` - When and why should you use it?\n",
    "* `Generators` - How to use them and the benefits you receive\n",
    "* `Iterators and Iterables` \n"
   ]
  },
  {
   "cell_type": "markdown",
   "metadata": {},
   "source": [
    "## First-Class Functions:\n",
    "\"A Programming language is said to have first-class functions if `it treats function as first-class citizens.`\"\n",
    "\n",
    "First-Class Citizen (Programming):\n",
    "\"A first-class citizen (sometimes called first-class objects) in a programming language is an entity which supports all the operations generally available to other enties. These operations typically include being passed as an argument, returned from a function, and assigned to a variable.\n"
   ]
  },
  {
   "cell_type": "code",
   "execution_count": 2,
   "metadata": {},
   "outputs": [
    {
     "name": "stdout",
     "output_type": "stream",
     "text": [
      "<function square at 0x1066def20>\n",
      "25\n"
     ]
    }
   ],
   "source": [
    "def square(x):\n",
    "    return x * x\n",
    "\n",
    "\n",
    "f = square(5)\n",
    "\n",
    "print(square)\n",
    "print(f)"
   ]
  },
  {
   "cell_type": "code",
   "execution_count": 3,
   "metadata": {},
   "outputs": [
    {
     "name": "stdout",
     "output_type": "stream",
     "text": [
      "<function square at 0x106973c40>\n",
      "<function square at 0x106973c40>\n"
     ]
    }
   ],
   "source": [
    "def square(x):\n",
    "    return x * x\n",
    "\n",
    "\n",
    "f = square  # without parenthsis - it's not going to run, but just take reference\n",
    "\n",
    "print(square)\n",
    "print(f)"
   ]
  },
  {
   "cell_type": "markdown",
   "metadata": {},
   "source": [
    "So, this is `first-class` citizen! So now we can treat the function as variable\n",
    "* so now, we can use f, like it is square"
   ]
  },
  {
   "cell_type": "code",
   "execution_count": 4,
   "metadata": {},
   "outputs": [
    {
     "data": {
      "text/plain": [
       "25"
      ]
     },
     "execution_count": 4,
     "metadata": {},
     "output_type": "execute_result"
    }
   ],
   "source": [
    "f(5)"
   ]
  },
  {
   "cell_type": "code",
   "execution_count": 8,
   "metadata": {},
   "outputs": [
    {
     "name": "stdout",
     "output_type": "stream",
     "text": [
      "[1, 4, 9, 16, 25]\n",
      "[1, 8, 27, 64, 125]\n"
     ]
    }
   ],
   "source": [
    "def square(x):\n",
    "    return x * x\n",
    "\n",
    "\n",
    "def my_map(func, arg_list):\n",
    "    result = []\n",
    "    for i in arg_list:\n",
    "        result.append(func(i))\n",
    "    return result\n",
    "\n",
    "\n",
    "squares = my_map(square, [1, 2, 3, 4, 5])\n",
    "\n",
    "print(squares)  ## 注意這裡squares沒有括號，否則會執行\n",
    "\n",
    "\n",
    "def cube(x):\n",
    "    return x * x * x\n",
    "\n",
    "\n",
    "cubes = my_map(cube, [1, 2, 3, 4, 5])\n",
    "print(cubes)"
   ]
  },
  {
   "cell_type": "markdown",
   "metadata": {},
   "source": [
    "`接下來我們看看如何返回一個function，這是比較容易搞不明白的要點`"
   ]
  },
  {
   "cell_type": "code",
   "execution_count": 9,
   "metadata": {},
   "outputs": [
    {
     "name": "stdout",
     "output_type": "stream",
     "text": [
      "Log: Hi!\n"
     ]
    }
   ],
   "source": [
    "def logger(msg):\n",
    "\n",
    "    def log_message():\n",
    "        print(\"Log:\", msg)\n",
    "\n",
    "    return log_message  # 這裡返回的，因為沒有括弧，所以不執行。\n",
    "\n",
    "\n",
    "log_hi = logger(\"Hi!\")\n",
    "log_hi()  ## 這裡執行的時候，雖然沒有帶入參數，但是參數在上面這行貸入，變成Closure"
   ]
  },
  {
   "cell_type": "markdown",
   "metadata": {},
   "source": [
    "為什麼上面這樣的概念很有用？看看下面的例子"
   ]
  },
  {
   "cell_type": "code",
   "execution_count": 12,
   "metadata": {},
   "outputs": [
    {
     "name": "stdout",
     "output_type": "stream",
     "text": [
      "<h1>Test Headline!</h1>\n",
      "<h1>Another Headline!</h1>\n",
      "<p>Test Paragraph!</p>\n"
     ]
    }
   ],
   "source": [
    "def html_tag(tag):\n",
    "\n",
    "    def wrap_text(msg):\n",
    "        print(\"<{0}>{1}</{0}>\".format(tag, msg))\n",
    "\n",
    "    return wrap_text\n",
    "\n",
    "\n",
    "print_h1 = html_tag(\"h1\")\n",
    "print_h1(\"Test Headline!\")\n",
    "print_h1(\"Another Headline!\")\n",
    "\n",
    "print_p = html_tag(\"p\")\n",
    "print_p(\"Test Paragraph!\")"
   ]
  },
  {
   "cell_type": "code",
   "execution_count": null,
   "metadata": {},
   "outputs": [],
   "source": []
  },
  {
   "cell_type": "code",
   "execution_count": null,
   "metadata": {},
   "outputs": [],
   "source": []
  },
  {
   "cell_type": "markdown",
   "metadata": {},
   "source": [
    "## Closure\n",
    "\n",
    "wikipedia says, \"A closure is a record storing a function together with an environment: a mapping associating each free variable of the function with the value or storage location to which the name was bound when the closure was created. A closure, unlike a plain function, allows the function to access those captured variables through the closure's reference to htem, even when the function is invoked outside their scope.\"\n"
   ]
  },
  {
   "cell_type": "code",
   "execution_count": 13,
   "metadata": {},
   "outputs": [
    {
     "name": "stdout",
     "output_type": "stream",
     "text": [
      "Hi\n"
     ]
    }
   ],
   "source": [
    "def outer_func():\n",
    "    message = \"Hi\"\n",
    "\n",
    "    def inner_func():\n",
    "        print(message)\n",
    "\n",
    "    return inner_func()\n",
    "\n",
    "\n",
    "outer_func()"
   ]
  },
  {
   "cell_type": "code",
   "execution_count": 14,
   "metadata": {},
   "outputs": [
    {
     "data": {
      "text/plain": [
       "<function __main__.outer_func.<locals>.inner_func()>"
      ]
     },
     "execution_count": 14,
     "metadata": {},
     "output_type": "execute_result"
    }
   ],
   "source": [
    "def outer_func():\n",
    "    message = \"Hi\"\n",
    "\n",
    "    def inner_func():\n",
    "        print(message)\n",
    "\n",
    "    return inner_func  ## 注意這裡去掉了括號，不讓執行，只返回一個func\n",
    "\n",
    "\n",
    "outer_func()  ## 執行後似乎沒啥東西，但是下一個例子，我們換個方式"
   ]
  },
  {
   "cell_type": "code",
   "execution_count": 15,
   "metadata": {},
   "outputs": [],
   "source": [
    "def outer_func():\n",
    "    message = \"Hi\"\n",
    "\n",
    "    def inner_func():\n",
    "        print(message)\n",
    "\n",
    "    return inner_func\n",
    "\n",
    "\n",
    "my_func = outer_func()"
   ]
  },
  {
   "cell_type": "code",
   "execution_count": 16,
   "metadata": {},
   "outputs": [
    {
     "name": "stdout",
     "output_type": "stream",
     "text": [
      "<class 'function'>\n"
     ]
    }
   ],
   "source": [
    "print(type(my_func))"
   ]
  },
  {
   "cell_type": "code",
   "execution_count": 18,
   "metadata": {},
   "outputs": [
    {
     "name": "stdout",
     "output_type": "stream",
     "text": [
      "<function outer_func.<locals>.inner_func at 0x106cbb420>\n"
     ]
    }
   ],
   "source": [
    "print(my_func)"
   ]
  },
  {
   "cell_type": "code",
   "execution_count": null,
   "metadata": {},
   "outputs": [],
   "source": []
  },
  {
   "cell_type": "code",
   "execution_count": 17,
   "metadata": {},
   "outputs": [
    {
     "name": "stdout",
     "output_type": "stream",
     "text": [
      "inner_func\n"
     ]
    }
   ],
   "source": [
    "print(my_func.__name__)"
   ]
  },
  {
   "cell_type": "markdown",
   "metadata": {},
   "source": [
    "所以已經指向一個func那就是inner_func，可以直接運行 my_func"
   ]
  },
  {
   "cell_type": "code",
   "execution_count": 19,
   "metadata": {},
   "outputs": [
    {
     "data": {
      "text/plain": [
       "<function __main__.outer_func.<locals>.inner_func()>"
      ]
     },
     "execution_count": 19,
     "metadata": {},
     "output_type": "execute_result"
    }
   ],
   "source": [
    "my_func\n",
    "my_func\n",
    "my_func"
   ]
  },
  {
   "cell_type": "code",
   "execution_count": 20,
   "metadata": {},
   "outputs": [
    {
     "name": "stdout",
     "output_type": "stream",
     "text": [
      "Hi\n",
      "Hi\n",
      "Hi\n"
     ]
    }
   ],
   "source": [
    "my_func()\n",
    "my_func()\n",
    "my_func()"
   ]
  },
  {
   "cell_type": "markdown",
   "metadata": {},
   "source": [
    "`上面這個厲害的地方是，雖然my func運行的是inner func，看起來沒有參數，但是outer的參數透過closure傳進來了。所以Closure就是inner func，記得，並且能存取到outer的variable，local sotre等環境`"
   ]
  },
  {
   "cell_type": "code",
   "execution_count": 22,
   "metadata": {},
   "outputs": [
    {
     "name": "stdout",
     "output_type": "stream",
     "text": [
      "Hi!\n",
      "Hello!!~\n"
     ]
    }
   ],
   "source": [
    "# 改一下，將outer的傳入參數變為msg\n",
    "\n",
    "\n",
    "def outer_func(msg):\n",
    "    message = msg\n",
    "\n",
    "    def inner_func():\n",
    "        print(message)\n",
    "\n",
    "    return inner_func\n",
    "\n",
    "\n",
    "hi_func = outer_func(\"Hi!\")\n",
    "hello_func = outer_func(\"Hello!!~\")\n",
    "\n",
    "hi_func()\n",
    "hello_func()"
   ]
  },
  {
   "cell_type": "code",
   "execution_count": 24,
   "metadata": {},
   "outputs": [
    {
     "name": "stdout",
     "output_type": "stream",
     "text": [
      "6\n",
      "9\n",
      "5\n",
      "10\n"
     ]
    }
   ],
   "source": [
    "# Closure\n",
    "\n",
    "import logging\n",
    "\n",
    "logging.basicConfig(filename=\"example.log\", level=logging.INFO)\n",
    "\n",
    "\n",
    "def logger(func):\n",
    "    def log_func(*args):\n",
    "        logging.info('Running \"{}\" with arguments {}'.format(func.__name__, args))\n",
    "        print(func(*args))\n",
    "\n",
    "    return log_func\n",
    "\n",
    "\n",
    "def add(x, y):\n",
    "    return x + y\n",
    "\n",
    "\n",
    "def sub(x, y):\n",
    "    return x - y\n",
    "\n",
    "\n",
    "add_logger = logger(add)\n",
    "sub_logger = logger(sub)\n",
    "\n",
    "add_logger(3, 3)\n",
    "add_logger(4, 5)\n",
    "\n",
    "sub_logger(10, 5)\n",
    "sub_logger(20, 10)"
   ]
  },
  {
   "cell_type": "markdown",
   "metadata": {},
   "source": [
    "# Decorator"
   ]
  },
  {
   "cell_type": "code",
   "execution_count": 25,
   "metadata": {},
   "outputs": [
    {
     "name": "stdout",
     "output_type": "stream",
     "text": [
      "Hi\n"
     ]
    }
   ],
   "source": [
    "# Decorators\n",
    "\n",
    "\n",
    "def outer_function():\n",
    "    message = \"Hi\"\n",
    "\n",
    "    def inner_function():\n",
    "        print(message)\n",
    "\n",
    "    return inner_function()\n",
    "\n",
    "\n",
    "outer_function()"
   ]
  },
  {
   "cell_type": "code",
   "execution_count": 26,
   "metadata": {},
   "outputs": [
    {
     "data": {
      "text/plain": [
       "<function __main__.outer_function.<locals>.inner_function()>"
      ]
     },
     "execution_count": 26,
     "metadata": {},
     "output_type": "execute_result"
    }
   ],
   "source": [
    "# 現在我們將上面例子的最後return那裏的括號拿掉\n",
    "\n",
    "\n",
    "def outer_function():\n",
    "    message = \"Hi\"\n",
    "\n",
    "    def inner_function():\n",
    "        print(message)\n",
    "\n",
    "    return inner_function\n",
    "\n",
    "\n",
    "outer_function()"
   ]
  },
  {
   "cell_type": "code",
   "execution_count": 27,
   "metadata": {},
   "outputs": [
    {
     "name": "stdout",
     "output_type": "stream",
     "text": [
      "Hi\n",
      "Hi\n",
      "Hi\n"
     ]
    }
   ],
   "source": [
    "def outer_function():\n",
    "    message = \"Hi\"\n",
    "\n",
    "    def inner_function():\n",
    "        print(message)\n",
    "\n",
    "    return inner_function\n",
    "\n",
    "\n",
    "my_func = outer_function()\n",
    "\n",
    "my_func()\n",
    "my_func()\n",
    "my_func()"
   ]
  },
  {
   "cell_type": "code",
   "execution_count": 29,
   "metadata": {},
   "outputs": [
    {
     "name": "stdout",
     "output_type": "stream",
     "text": [
      "Hi!\n",
      "Yalouuu~~~\n",
      "Good Bye!\n"
     ]
    }
   ],
   "source": [
    "# 現在將outer裡面傳進去一個參數\n",
    "\n",
    "\n",
    "def outer_function(msg):\n",
    "    message = msg\n",
    "\n",
    "    def inner_function():\n",
    "        print(message)\n",
    "\n",
    "    return inner_function\n",
    "\n",
    "\n",
    "hi_func = outer_function(\"Hi!\")\n",
    "hello_func = outer_function(\"Yalouuu~~~\")\n",
    "bye_func = outer_function(\"Good Bye!\")\n",
    "\n",
    "hi_func()\n",
    "hello_func()\n",
    "bye_func()"
   ]
  },
  {
   "cell_type": "markdown",
   "metadata": {},
   "source": [
    "注意上面例子，中間還存在一個message的間接的變數，我們可以將其移除："
   ]
  },
  {
   "cell_type": "code",
   "execution_count": 31,
   "metadata": {},
   "outputs": [
    {
     "name": "stdout",
     "output_type": "stream",
     "text": [
      "Hello!\n",
      "Sayanara\n"
     ]
    }
   ],
   "source": [
    "def outer_function(msg):\n",
    "    def inner_function():\n",
    "        print(msg)\n",
    "\n",
    "    return inner_function\n",
    "\n",
    "\n",
    "hi_func = outer_function(\"Hello!\")\n",
    "bye_func = outer_function(\"Sayanara\")\n",
    "\n",
    "hi_func()\n",
    "bye_func()"
   ]
  },
  {
   "cell_type": "markdown",
   "metadata": {},
   "source": [
    "`什麼是decorator？就是：A function that takes another function as an argument, add some kinds of functionality, and then return another function. All these without chnage the source code of original host.`"
   ]
  },
  {
   "cell_type": "code",
   "execution_count": null,
   "metadata": {},
   "outputs": [],
   "source": [
    "def outer_function(msg):\n",
    "    def inner_function():\n",
    "        print(msg)\n",
    "\n",
    "    return inner_function\n",
    "\n",
    "\n",
    "# decorator\n",
    "def outer_function(message):\n",
    "    def wrapper_function():\n",
    "        print(message)\n",
    "\n",
    "    return wrapper_function"
   ]
  },
  {
   "cell_type": "code",
   "execution_count": null,
   "metadata": {},
   "outputs": [],
   "source": [
    "# decorator\n",
    "#\n",
    "# 現在上面的例子的改進（1）不要msg作為中間人了，msg改為真正的function的呼叫或者帶入\n",
    "\n",
    "\n",
    "def decorator_function(message):\n",
    "    def wrapper_function():\n",
    "        print(message)\n",
    "\n",
    "    return wrapper_function\n",
    "\n",
    "\n",
    "hi_func = outer_function(\"Hi\")\n",
    "bye_func = outer_function(\"Bye\")\n",
    "\n",
    "hi_func()\n",
    "bye_func()"
   ]
  },
  {
   "cell_type": "code",
   "execution_count": 32,
   "metadata": {},
   "outputs": [
    {
     "name": "stdout",
     "output_type": "stream",
     "text": [
      "Hi\n",
      "Bye\n"
     ]
    }
   ],
   "source": [
    "# 將 message 改為傳入一個function\n",
    "# 下面這就是一個最簡單的decorator\n",
    "\n",
    "\n",
    "def decorator_function(original_function):\n",
    "    def wrapper_function():\n",
    "        return original_function()  # 原來的func在這裏執行，然後return\n",
    "\n",
    "    return wrapper_function\n",
    "\n",
    "\n",
    "hi_func = outer_function(\"Hi\")\n",
    "bye_func = outer_function(\"Bye\")\n",
    "\n",
    "hi_func()\n",
    "bye_func()"
   ]
  },
  {
   "cell_type": "code",
   "execution_count": 35,
   "metadata": {},
   "outputs": [
    {
     "name": "stdout",
     "output_type": "stream",
     "text": [
      "display funcion ran\n"
     ]
    }
   ],
   "source": [
    "# Decorator\n",
    "\n",
    "\n",
    "def decorator_function(original_function):\n",
    "    def wrapper_function():\n",
    "        return original_function()\n",
    "\n",
    "    return wrapper_function\n",
    "\n",
    "\n",
    "def display():\n",
    "    print(\"display funcion ran\")\n",
    "\n",
    "\n",
    "decorated_display = decorator_function(display)\n",
    "\n",
    "decorated_display()"
   ]
  },
  {
   "cell_type": "markdown",
   "metadata": {},
   "source": [
    "Why do we want to do this? \n",
    "because we can add codes to original function, without changing the orig code\n",
    "see example below"
   ]
  },
  {
   "cell_type": "code",
   "execution_count": 41,
   "metadata": {},
   "outputs": [
    {
     "name": "stdout",
     "output_type": "stream",
     "text": [
      "None\n"
     ]
    },
    {
     "ename": "TypeError",
     "evalue": "'NoneType' object is not callable",
     "output_type": "error",
     "traceback": [
      "\u001b[0;31m---------------------------------------------------------------------------\u001b[0m",
      "\u001b[0;31mTypeError\u001b[0m                                 Traceback (most recent call last)",
      "Cell \u001b[0;32mIn[41], line 17\u001b[0m\n\u001b[1;32m     14\u001b[0m decorated_display \u001b[38;5;241m=\u001b[39m decorator_function(display)\n\u001b[1;32m     15\u001b[0m \u001b[38;5;28mprint\u001b[39m(decorated_display)\n\u001b[0;32m---> 17\u001b[0m \u001b[43mdecorated_display\u001b[49m\u001b[43m(\u001b[49m\u001b[43m)\u001b[49m\n",
      "\u001b[0;31mTypeError\u001b[0m: 'NoneType' object is not callable"
     ]
    }
   ],
   "source": [
    "# add some decorator's wrapper function\n",
    "\n",
    "\n",
    "def decorator_function(original_function):\n",
    "    def wrapper():\n",
    "        print(\"wrapper executed this before {}\".format(original_function.__name__))\n",
    "        return original_function()\n",
    "\n",
    "    return\n",
    "\n",
    "\n",
    "def display():\n",
    "    print(\"display function ran\")\n",
    "\n",
    "\n",
    "decorated_display = decorator_function(display)\n",
    "print(decorated_display)\n",
    "\n",
    "decorated_display()"
   ]
  },
  {
   "cell_type": "markdown",
   "metadata": {},
   "source": [
    "上面的原因是wrapper並沒有return，所以下面display出來的是None"
   ]
  },
  {
   "cell_type": "code",
   "execution_count": 42,
   "metadata": {},
   "outputs": [
    {
     "name": "stdout",
     "output_type": "stream",
     "text": [
      "None\n"
     ]
    }
   ],
   "source": [
    "def decorator_function(original_function):\n",
    "    def wrapper():\n",
    "        print(\"wrapper executed this before {}\".format(original_function.__name__))\n",
    "        return original_function()\n",
    "\n",
    "    return\n",
    "\n",
    "\n",
    "def display():\n",
    "    print(\"display function ran\")\n",
    "\n",
    "\n",
    "decorated_display = decorator_function(display)\n",
    "print(decorated_display)"
   ]
  },
  {
   "cell_type": "code",
   "execution_count": 43,
   "metadata": {},
   "outputs": [
    {
     "name": "stdout",
     "output_type": "stream",
     "text": [
      "wrapper executed this before display\n",
      "display function ran\n"
     ]
    }
   ],
   "source": [
    "def decorator(original):\n",
    "    def wrapper():\n",
    "        print(\"wrapper executed this before {}\".format(original.__name__))\n",
    "        return original()\n",
    "\n",
    "    return wrapper\n",
    "\n",
    "\n",
    "def display():\n",
    "    print(\"display function ran\")\n",
    "\n",
    "\n",
    "decorated_display = decorator(display)\n",
    "\n",
    "decorated_display()"
   ]
  },
  {
   "cell_type": "markdown",
   "metadata": {},
   "source": [
    "上面這個和下面的@decorator是一樣的"
   ]
  },
  {
   "cell_type": "code",
   "execution_count": 46,
   "metadata": {},
   "outputs": [
    {
     "name": "stdout",
     "output_type": "stream",
     "text": [
      "wrapper executed before original - display\n",
      "display function ran\n"
     ]
    }
   ],
   "source": [
    "def decorator(original):\n",
    "    def wrapper():\n",
    "        print(\"wrapper executed before original - {}\".format(original.__name__))\n",
    "        return original()\n",
    "\n",
    "    return wrapper\n",
    "\n",
    "\n",
    "### Aaron: 下面這個decorator的寫法，意思和 display = decorator(display) 一樣\n",
    "\n",
    "\n",
    "@decorator\n",
    "def display():\n",
    "    print(\"display function ran\")\n",
    "\n",
    "\n",
    "display()\n",
    "\n",
    "# decorator_display = decorator(display)\n",
    "\n",
    "# decorated_display()"
   ]
  },
  {
   "cell_type": "code",
   "execution_count": 47,
   "metadata": {},
   "outputs": [
    {
     "name": "stdout",
     "output_type": "stream",
     "text": [
      "abc\n",
      "xyz\n",
      "zzzz\n"
     ]
    }
   ],
   "source": [
    "def deco(bbb):\n",
    "    def wwww():\n",
    "        print(\"abc\")\n",
    "        print(\"xyz\")\n",
    "        return bbb()\n",
    "\n",
    "    return wwww\n",
    "\n",
    "\n",
    "def aaaa():\n",
    "    print(\"zzzz\")\n",
    "\n",
    "\n",
    "return_func = deco(aaaa)\n",
    "return_func()"
   ]
  },
  {
   "cell_type": "code",
   "execution_count": 48,
   "metadata": {},
   "outputs": [
    {
     "name": "stdout",
     "output_type": "stream",
     "text": [
      "abc\n",
      "mmm\n",
      "zzzz\n"
     ]
    }
   ],
   "source": [
    "def deco(aaaa):\n",
    "    def wrap():\n",
    "        print(\"abc\")\n",
    "        print(\"mmm\")\n",
    "        return aaaa()\n",
    "        print(\"after aaa\")  ### this will not be executed.\n",
    "\n",
    "    return wrap\n",
    "\n",
    "\n",
    "@deco\n",
    "def aaaa():\n",
    "    print(\"zzzz\")\n",
    "\n",
    "\n",
    "aaaa()"
   ]
  },
  {
   "cell_type": "markdown",
   "metadata": {},
   "source": [
    "original function 若有帶參數，那麼不work"
   ]
  },
  {
   "cell_type": "code",
   "execution_count": 49,
   "metadata": {},
   "outputs": [
    {
     "name": "stdout",
     "output_type": "stream",
     "text": [
      "display_info ran with arg (aaron, 100)\n"
     ]
    }
   ],
   "source": [
    "def decorator(original):\n",
    "    def wrapper():\n",
    "        print(\"wrapper executed this before {}\".format(original.__name__))\n",
    "        return original()\n",
    "\n",
    "    return wrapper\n",
    "\n",
    "\n",
    "# 這個 display 暫時是有deco的\n",
    "@decorator\n",
    "def display():\n",
    "    print(\"display func ran\")\n",
    "\n",
    "\n",
    "# 這是帶參數的\n",
    "def display_info(name, age):\n",
    "    print(\"display_info ran with arg ({}, {})\".format(name, age))\n",
    "\n",
    "\n",
    "display_info(\"aaron\", 100)"
   ]
  },
  {
   "cell_type": "code",
   "execution_count": 50,
   "metadata": {},
   "outputs": [
    {
     "ename": "TypeError",
     "evalue": "decorator.<locals>.wrapper() takes 0 positional arguments but 2 were given",
     "output_type": "error",
     "traceback": [
      "\u001b[0;31m---------------------------------------------------------------------------\u001b[0m",
      "\u001b[0;31mTypeError\u001b[0m                                 Traceback (most recent call last)",
      "Cell \u001b[0;32mIn[50], line 19\u001b[0m\n\u001b[1;32m     14\u001b[0m \u001b[38;5;129m@decorator\u001b[39m\n\u001b[1;32m     15\u001b[0m \u001b[38;5;28;01mdef\u001b[39;00m \u001b[38;5;21mdisplay_info\u001b[39m(name, age):\n\u001b[1;32m     16\u001b[0m     \u001b[38;5;28mprint\u001b[39m(\u001b[38;5;124m\"\u001b[39m\u001b[38;5;124mdisplay_info ran with arguments (\u001b[39m\u001b[38;5;132;01m{}\u001b[39;00m\u001b[38;5;124m \u001b[39m\u001b[38;5;132;01m{}\u001b[39;00m\u001b[38;5;124m)\u001b[39m\u001b[38;5;124m\"\u001b[39m\u001b[38;5;241m.\u001b[39mformat(name, age))\n\u001b[0;32m---> 19\u001b[0m \u001b[43mdisplay_info\u001b[49m\u001b[43m(\u001b[49m\u001b[38;5;124;43m\"\u001b[39;49m\u001b[38;5;124;43mJohn\u001b[39;49m\u001b[38;5;124;43m\"\u001b[39;49m\u001b[43m,\u001b[49m\u001b[43m \u001b[49m\u001b[38;5;241;43m25\u001b[39;49m\u001b[43m)\u001b[49m\n",
      "\u001b[0;31mTypeError\u001b[0m: decorator.<locals>.wrapper() takes 0 positional arguments but 2 were given"
     ]
    }
   ],
   "source": [
    "def decorator(original):\n",
    "    def wrapper():\n",
    "        print(\"wrapper executed before {}\".format(original.__name__))\n",
    "        return original()\n",
    "\n",
    "    return wrapper\n",
    "\n",
    "\n",
    "@decorator\n",
    "def display():\n",
    "    print(\"display function ran\")\n",
    "\n",
    "\n",
    "@decorator\n",
    "def display_info(name, age):\n",
    "    print(\"display_info ran with arguments ({} {})\".format(name, age))\n",
    "\n",
    "\n",
    "display_info(\"John\", 25)"
   ]
  },
  {
   "cell_type": "markdown",
   "metadata": {},
   "source": [
    "`用 *arg 以及 **kwarg 來讓wrapper的參數讀入有靈活度`"
   ]
  },
  {
   "cell_type": "code",
   "execution_count": 53,
   "metadata": {},
   "outputs": [
    {
     "name": "stdout",
     "output_type": "stream",
     "text": [
      "wrapper executed this before disp_info\n",
      "disp_info ran with args (aaron, 99)\n"
     ]
    }
   ],
   "source": [
    "def decorator(original):\n",
    "    def wrapper(*args, **kwargs):\n",
    "        print(\"wrapper executed this before {}\".format(original.__name__))\n",
    "        return original(*args, **kwargs)\n",
    "\n",
    "    return wrapper\n",
    "\n",
    "\n",
    "@decorator\n",
    "def display():\n",
    "    print(\"display function ran\")\n",
    "\n",
    "\n",
    "@decorator\n",
    "def disp_info(name, age):\n",
    "    print(\"disp_info ran with args ({}, {})\".format(name, age))\n",
    "\n",
    "\n",
    "disp_info(\"aaron\", 99)"
   ]
  },
  {
   "cell_type": "code",
   "execution_count": null,
   "metadata": {},
   "outputs": [],
   "source": []
  },
  {
   "cell_type": "code",
   "execution_count": null,
   "metadata": {},
   "outputs": [],
   "source": []
  },
  {
   "cell_type": "code",
   "execution_count": null,
   "metadata": {},
   "outputs": [],
   "source": []
  },
  {
   "cell_type": "code",
   "execution_count": null,
   "metadata": {},
   "outputs": [],
   "source": []
  },
  {
   "cell_type": "code",
   "execution_count": null,
   "metadata": {},
   "outputs": [],
   "source": []
  },
  {
   "cell_type": "code",
   "execution_count": null,
   "metadata": {},
   "outputs": [],
   "source": []
  },
  {
   "cell_type": "code",
   "execution_count": null,
   "metadata": {},
   "outputs": [],
   "source": []
  },
  {
   "cell_type": "code",
   "execution_count": null,
   "metadata": {},
   "outputs": [],
   "source": []
  },
  {
   "cell_type": "code",
   "execution_count": null,
   "metadata": {},
   "outputs": [],
   "source": []
  },
  {
   "cell_type": "code",
   "execution_count": null,
   "metadata": {},
   "outputs": [],
   "source": []
  },
  {
   "cell_type": "code",
   "execution_count": null,
   "metadata": {},
   "outputs": [],
   "source": []
  },
  {
   "cell_type": "code",
   "execution_count": null,
   "metadata": {},
   "outputs": [],
   "source": []
  },
  {
   "cell_type": "code",
   "execution_count": null,
   "metadata": {},
   "outputs": [],
   "source": []
  },
  {
   "cell_type": "code",
   "execution_count": null,
   "metadata": {},
   "outputs": [],
   "source": []
  },
  {
   "cell_type": "code",
   "execution_count": null,
   "metadata": {},
   "outputs": [],
   "source": []
  },
  {
   "cell_type": "code",
   "execution_count": null,
   "metadata": {},
   "outputs": [],
   "source": []
  },
  {
   "cell_type": "code",
   "execution_count": null,
   "metadata": {},
   "outputs": [],
   "source": []
  },
  {
   "cell_type": "code",
   "execution_count": null,
   "metadata": {},
   "outputs": [],
   "source": []
  },
  {
   "cell_type": "code",
   "execution_count": null,
   "metadata": {},
   "outputs": [],
   "source": []
  }
 ],
 "metadata": {
  "kernelspec": {
   "display_name": "ludwig",
   "language": "python",
   "name": "ludwig"
  },
  "language_info": {
   "codemirror_mode": {
    "name": "ipython",
    "version": 3
   },
   "file_extension": ".py",
   "mimetype": "text/x-python",
   "name": "python",
   "nbconvert_exporter": "python",
   "pygments_lexer": "ipython3",
   "version": "3.11.9"
  }
 },
 "nbformat": 4,
 "nbformat_minor": 2
}
