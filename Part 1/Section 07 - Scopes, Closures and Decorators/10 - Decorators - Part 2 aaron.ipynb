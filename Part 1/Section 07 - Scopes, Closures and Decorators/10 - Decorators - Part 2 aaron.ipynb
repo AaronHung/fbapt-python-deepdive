{
 "cells": [
  {
   "cell_type": "markdown",
   "metadata": {},
   "source": [
    "### Decorators 2"
   ]
  },
  {
   "cell_type": "markdown",
   "metadata": {},
   "source": [
    "> Aaron's Experiments on Decorator 2"
   ]
  },
  {
   "cell_type": "markdown",
   "metadata": {},
   "source": [
    "## <font color=palevioletred> Aaron的Title\n",
    "###  **Python 裝飾器進階：如何讓裝飾器支援參數（以計時器為例）**  \n",
    "\n",
    "### **Summary:**  \n",
    "一般的 Python 裝飾器只能裝飾函式，無法直接傳入額外參數。為了解決這個問題，我們可以使用「裝飾器工廠」，讓一個函式回傳真正的裝飾器。這樣我們就能靈活設定裝飾器的行為，例如控制函式執行次數來計算平均執行時間。本篇文章以計時器為例，說明如何使用這種技巧，並探討其應用場景，如日誌記錄、權限管理與重試機制，讓 Python 程式更具彈性與可讀性。"
   ]
  },
  {
   "cell_type": "markdown",
   "metadata": {},
   "source": [
    "## Aaron 的本 Notebook 的重點摘要："
   ]
  },
  {
   "cell_type": "markdown",
   "metadata": {},
   "source": [
    "### 總結 Jupyter Notebook 內容：Python 裝飾器（Decorators）\n",
    "\n",
    "這份 Notebook 主要介紹 **Python 的裝飾器（Decorators）**，並涵蓋了以下幾個關鍵概念：\n",
    "\n",
    "---\n",
    "\n",
    "### **1. 基本的裝飾器**\n",
    "裝飾器是一個函數，它可以在不修改原始函數的情況下，擴展該函數的功能。例如，`timed` 裝飾器計算函數的執行時間：\n",
    "\n",
    "```python\n",
    "def timed(fn):\n",
    "    from time import perf_counter\n",
    "\n",
    "    def inner(*args, **kwargs):\n",
    "        start = perf_counter()\n",
    "        result = fn(*args, **kwargs)\n",
    "        end = perf_counter()\n",
    "        elapsed = end - start\n",
    "        print(f'Run time: {elapsed:.6f}s')\n",
    "        return result\n",
    "\n",
    "    return inner\n",
    "```\n",
    "\n",
    "可以用這個裝飾器來測量 Fibonacci 函數的執行時間：\n",
    "```python\n",
    "@timed\n",
    "def fib(n):\n",
    "    return 1 if n < 3 else fib(n-1) + fib(n-2)\n",
    "```\n",
    "\n",
    "---\n",
    "\n",
    "### **2. 帶參數的裝飾器**\n",
    "普通的裝飾器只能裝飾函數，而無法接收額外的參數。例如，我們希望 `timed` 裝飾器可以指定執行的次數並計算平均執行時間：\n",
    "\n",
    "```python\n",
    "def timed(num_reps=1):\n",
    "    def decorator(fn):\n",
    "        from time import perf_counter\n",
    "\n",
    "        def inner(*args, **kwargs):\n",
    "            total_elapsed = 0\n",
    "            for _ in range(num_reps):\n",
    "                start = perf_counter()\n",
    "                result = fn(*args, **kwargs)\n",
    "                end = perf_counter()\n",
    "                total_elapsed += (end - start)\n",
    "            avg_elapsed = total_elapsed / num_reps\n",
    "            print(f'Avg Run time: {avg_elapsed:.6f}s ({num_reps} reps)')\n",
    "            return result\n",
    "        return inner\n",
    "    return decorator\n",
    "```\n",
    "使用方式：\n",
    "```python\n",
    "@timed(5)  # 這裡傳入 5，表示函數將執行 5 次，計算平均運行時間\n",
    "def fib(n):\n",
    "    return 1 if n < 3 else fib(n-1) + fib(n-2)\n",
    "```\n",
    "\n",
    "---\n",
    "\n",
    "### **3. 裝飾器工廠（Decorator Factory）**\n",
    "為了實現帶參數的裝飾器，我們需要使用「裝飾器工廠」，即 **返回裝飾器的函數**。\n",
    "\n",
    "```python\n",
    "def dec_factory(msg):\n",
    "    def decorator(fn):\n",
    "        def inner(*args, **kwargs):\n",
    "            print(f'{msg}: Running function {fn.__name__}')\n",
    "            return fn(*args, **kwargs)\n",
    "        return inner\n",
    "    return decorator\n",
    "```\n",
    "用法：\n",
    "```python\n",
    "@dec_factory(\"DEBUG\")\n",
    "def my_func():\n",
    "    print(\"Executing my_func\")\n",
    "\n",
    "my_func()\n",
    "```\n",
    "輸出：\n",
    "```\n",
    "DEBUG: Running function my_func\n",
    "Executing my_func\n",
    "```\n",
    "\n",
    "---\n",
    "\n",
    "### **4. `functools.wraps` 修飾內部函數**\n",
    "當我們使用裝飾器時，會影響被裝飾函數的 `__name__` 和 `__doc__` 屬性。例如：\n",
    "```python\n",
    "@timed(5)\n",
    "def fib(n):\n",
    "    return n if n < 2 else fib(n-1) + fib(n-2)\n",
    "\n",
    "print(fib.__name__)  # 這裡會顯示 'inner' 而不是 'fib'\n",
    "```\n",
    "為了保持原函數的元數據（metadata），我們可以使用 `functools.wraps`：\n",
    "\n",
    "```python\n",
    "from functools import wraps\n",
    "\n",
    "def timed(num_reps=1):\n",
    "    def decorator(fn):\n",
    "        from time import perf_counter\n",
    "        @wraps(fn)\n",
    "        def inner(*args, **kwargs):\n",
    "            total_elapsed = 0\n",
    "            for _ in range(num_reps):\n",
    "                start = perf_counter()\n",
    "                result = fn(*args, **kwargs)\n",
    "                end = perf_counter()\n",
    "                total_elapsed += (end - start)\n",
    "            avg_elapsed = total_elapsed / num_reps\n",
    "            print(f'Avg Run time: {avg_elapsed:.6f}s ({num_reps} reps)')\n",
    "            return result\n",
    "        return inner\n",
    "    return decorator\n",
    "```\n",
    "這樣，`fib.__name__` 仍然會是 `'fib'`。\n",
    "\n",
    "---\n",
    "\n",
    "### **5. Python 裝飾器的語法解析**\n",
    "當我們寫：\n",
    "```python\n",
    "@decorator\n",
    "def my_func():\n",
    "    pass\n",
    "```\n",
    "Python 會自動執行：\n",
    "```python\n",
    "my_func = decorator(my_func)\n",
    "```\n",
    "\n",
    "如果 `@decorator` 需要參數，例如 `@decorator(10)`，這時候 `decorator(10)` **應該返回一個新的裝飾器**，然後這個新裝飾器再用來裝飾 `my_func`。\n",
    "\n",
    "```python\n",
    "def decorator_factory(param):\n",
    "    def decorator(fn):\n",
    "        def inner(*args, **kwargs):\n",
    "            print(f\"Decorator parameter: {param}\")\n",
    "            return fn(*args, **kwargs)\n",
    "        return inner\n",
    "    return decorator\n",
    "```\n",
    "使用方式：\n",
    "```python\n",
    "@decorator_factory(10)\n",
    "def my_func():\n",
    "    print(\"Hello\")\n",
    "\n",
    "my_func()\n",
    "```\n",
    "輸出：\n",
    "```\n",
    "Decorator parameter: 10\n",
    "Hello\n",
    "```\n",
    "\n",
    "---\n",
    "\n",
    "### **總結**\n",
    "1. **基本裝飾器** 可以修改函數的行為，例如計時器裝飾器 `timed`。\n",
    "2. **帶參數的裝飾器** 需要使用「裝飾器工廠」，即 **返回裝飾器的函數**。\n",
    "3. **使用 `functools.wraps` 保持原函數的元數據**，否則 `__name__` 會變成內部函數 `inner`。\n",
    "4. **裝飾器的底層運作方式** 是 `my_func = decorator(my_func)`，如果 `@decorator(10)`，那麼 `decorator(10)` 需要返回一個裝飾器，然後再應用到函數上。\n",
    "\n",
    "這份 Notebook 主要讓你理解 Python **裝飾器的基礎與進階用法**，透過多種示例來展示如何設計高效能的裝飾器！"
   ]
  },
  {
   "cell_type": "code",
   "execution_count": null,
   "metadata": {},
   "outputs": [],
   "source": []
  },
  {
   "cell_type": "code",
   "execution_count": null,
   "metadata": {},
   "outputs": [],
   "source": []
  },
  {
   "cell_type": "markdown",
   "metadata": {},
   "source": [
    "## <font color=plum>提綱內容 --Aaron"
   ]
  },
  {
   "cell_type": "markdown",
   "metadata": {},
   "source": [
    "### **我們已經學會如何創建簡單與稍微複雜的裝飾器**\n",
    "\n",
    "不過，我們也一直在使用一些內建的裝飾器（decorators），例如 `wraps` 和 `lru_cache`，這些裝飾器可以接受參數。\n",
    "\n",
    "這其實非常有用，而我們也可以自己實作相同的功能。\n",
    "\n",
    "---\n",
    "\n",
    "### **使用 `@` 語法或較長的語法來裝飾費氏數列函式**\n",
    "\n",
    "我們可以使用 `@` 語法來裝飾 Fibonacci 函式，或者使用較長的語法，如下所示：\n",
    "\n",
    "```python\n",
    "@some_decorator\n",
    "def fibonacci(n):\n",
    "    ...\n",
    "```\n",
    "\n",
    "或者：\n",
    "\n",
    "```python\n",
    "fibonacci = some_decorator(fibonacci)\n",
    "```\n",
    "\n",
    "---\n",
    "\n",
    "### **修改計時器讓函式執行多次，並計算平均執行時間**\n",
    "\n",
    "我們來改寫計時裝飾器，使它能夠讓函式執行多次，然後計算出平均的執行時間：\n",
    "\n",
    "```python\n",
    "import time\n",
    "\n",
    "def timed(fn):\n",
    "    def inner(*args, **kwargs):\n",
    "        total_time = 0\n",
    "        for _ in range(10):  # 執行 10 次\n",
    "            start = time.perf_counter()\n",
    "            result = fn(*args, **kwargs)\n",
    "            end = time.perf_counter()\n",
    "            total_time += (end - start)\n",
    "        avg_time = total_time / 10\n",
    "        print(f\"Average execution time: {avg_time:.5f} seconds\")\n",
    "        return result\n",
    "    return inner\n",
    "```\n",
    "\n",
    "---\n",
    "\n",
    "### **讓執行次數成為參數，而不是寫死的數字**\n",
    "\n",
    "目前我們讓函式執行 10 次來計算平均時間，但這個 `10` 是寫死的（hardcoded）。我們應該讓它變成一個參數，這樣使用者可以自己決定要執行幾次。\n",
    "\n",
    "---\n",
    "\n",
    "### **當裝飾器需要參數時，無法直接使用 `@` 語法**\n",
    "\n",
    "當我們希望 `timed` 裝飾器接受參數時，不能直接使用 `@` 語法，因為在 `@decorator` 這種語法下，Python **只會將被裝飾的函式作為參數傳入裝飾器**，而不允許我們再額外傳入其他參數。\n",
    "\n",
    "例如：\n",
    "\n",
    "```python\n",
    "@timed(10)  # 這樣是不行的，因為 `@timed` 期望一個函式，而不是一個數字\n",
    "def fibonacci(n):\n",
    "    ...\n",
    "```\n",
    "\n",
    "要解決這個問題，我們需要讓 `timed` 本身變成一個「裝飾器工廠」（decorator factory），這樣我們可以先傳入參數，然後再返回真正的裝飾器。\n",
    "\n",
    "---\n",
    "\n",
    "### **Python 的裝飾器其實是如何運作的？**\n",
    "\n",
    "當我們使用裝飾器時，例如：\n",
    "\n",
    "```python\n",
    "@dec\n",
    "def my_func():\n",
    "    pass\n",
    "```\n",
    "\n",
    "這其實等同於：\n",
    "\n",
    "```python\n",
    "my_func = dec(my_func)\n",
    "```\n",
    "\n",
    "換句話說，當我們裝飾 `my_func` 時，Python 會「**調用**」`dec`，並將 `my_func` 作為參數傳入。\n",
    "\n",
    "那麼，如果 `dec` 本身不是裝飾器，而是 **一個回傳裝飾器的函式** 呢？\n",
    "\n",
    "---\n",
    "\n",
    "### **讓裝飾器工廠回傳裝飾器**\n",
    "\n",
    "我們可以改寫 `timed`，讓它變成一個函式，回傳一個真正的裝飾器：\n",
    "\n",
    "```python\n",
    "import time\n",
    "\n",
    "def timed_factory(num_reps):\n",
    "    def timed(fn):\n",
    "        def inner(*args, **kwargs):\n",
    "            total_time = 0\n",
    "            for _ in range(num_reps):  # 使用者可以決定執行次數\n",
    "                start = time.perf_counter()\n",
    "                result = fn(*args, **kwargs)\n",
    "                end = time.perf_counter()\n",
    "                total_time += (end - start)\n",
    "            avg_time = total_time / num_reps\n",
    "            print(f\"Average execution time over {num_reps} runs: {avg_time:.5f} seconds\")\n",
    "            return result\n",
    "        return inner\n",
    "    return timed  # 回傳裝飾器\n",
    "```\n",
    "\n",
    "使用方式：\n",
    "\n",
    "```python\n",
    "@timed_factory(10)  # 這樣就可以使用 `@` 了！\n",
    "def fibonacci(n):\n",
    "    if n <= 1:\n",
    "        return n\n",
    "    return fibonacci(n - 1) + fibonacci(n - 2)\n",
    "```\n",
    "\n",
    "這相當於：\n",
    "\n",
    "```python\n",
    "fibonacci = timed_factory(10)(fibonacci)\n",
    "```\n",
    "\n",
    "---\n",
    "\n",
    "### **關鍵概念：我們先「呼叫」裝飾器工廠，再使用它回傳的裝飾器**\n",
    "請注意，這裡的關鍵是我們 **先呼叫 `timed_factory(10)`**，然後才使用它的回傳值（即裝飾器 `timed`）來裝飾函式。\n",
    "\n",
    "由於我們 **可以在 `timed_factory` 內部存取 `num_reps`**，這樣我們就能在內部函式中使用這個值，而不影響裝飾器的結構。\n",
    "\n",
    "---\n",
    "\n",
    "### **最後的調整：讓裝飾器名稱更簡潔**\n",
    "我們不太希望裝飾器工廠叫做 `timed_factory`，而是希望它就叫 `timed`，這樣使用起來會更直覺：\n",
    "\n",
    "```python\n",
    "def timed(num_reps):  # 直接叫 `timed`\n",
    "    def decorator(fn):\n",
    "        def inner(*args, **kwargs):\n",
    "            total_time = 0\n",
    "            for _ in range(num_reps):\n",
    "                start = time.perf_counter()\n",
    "                result = fn(*args, **kwargs)\n",
    "                end = time.perf_counter()\n",
    "                total_time += (end - start)\n",
    "            avg_time = total_time / num_reps\n",
    "            print(f\"Average execution time over {num_reps} runs: {avg_time:.5f} seconds\")\n",
    "            return result\n",
    "        return inner\n",
    "    return decorator\n",
    "```\n",
    "\n",
    "使用方式：\n",
    "\n",
    "```python\n",
    "@timed(10)\n",
    "def fibonacci(n):\n",
    "    if n <= 1:\n",
    "        return n\n",
    "    return fibonacci(n - 1) + fibonacci(n - 2)\n",
    "```\n",
    "\n",
    "---\n",
    "\n",
    "### **結論**\n",
    "1. **裝飾器的 `@` 語法只能傳入一個函式**，如果我們想傳入額外的參數，就必須使用「**裝飾器工廠**」來回傳一個真正的裝飾器。\n",
    "2. **透過嵌套函式**，我們可以存取外層函式的變數，讓裝飾器可以帶參數。\n",
    "3. **這種技巧適用於很多場景**，例如記錄日誌（logging）、權限控制（authentication）、重試機制（retrying）等。\n",
    "\n",
    "現在，我們成功讓 `timed` 可以接受參數，並透過 `@timed(10)` 的語法來計時 Fibonacci 函式的執行時間！🔥🚀"
   ]
  },
  {
   "cell_type": "code",
   "execution_count": null,
   "metadata": {},
   "outputs": [],
   "source": []
  },
  {
   "cell_type": "code",
   "execution_count": null,
   "metadata": {},
   "outputs": [],
   "source": []
  },
  {
   "cell_type": "markdown",
   "metadata": {},
   "source": [
    "## 說人話"
   ]
  },
  {
   "cell_type": "markdown",
   "metadata": {},
   "source": [
    "### **讓 Python 裝飾器支援參數：計時範例**  \n",
    "\n",
    "---\n",
    "\n",
    "### **1. 為什麼要讓裝飾器支援參數？**  \n",
    "我們之前學過裝飾器，例如這個計時器：\n",
    "\n",
    "```python\n",
    "import time\n",
    "\n",
    "def timed(fn):\n",
    "    def inner(*args, **kwargs):\n",
    "        start = time.perf_counter()\n",
    "        result = fn(*args, **kwargs)\n",
    "        end = time.perf_counter()\n",
    "        print(f\"Execution time: {end - start:.5f} seconds\")\n",
    "        return result\n",
    "    return inner\n",
    "```\n",
    "\n",
    "這樣的裝飾器可以用來測試函式的執行時間：\n",
    "\n",
    "```python\n",
    "@timed\n",
    "def fibonacci(n):\n",
    "    if n <= 1:\n",
    "        return n\n",
    "    return fibonacci(n - 1) + fibonacci(n - 2)\n",
    "```\n",
    "\n",
    "但這樣有個問題：**我們只能測一次！**  \n",
    "如果我們想 **執行多次並計算平均時間**，就得手動改程式碼，這不太靈活。\n",
    "\n",
    "---\n",
    "\n",
    "### **2. 讓裝飾器可以設定執行次數**\n",
    "我們希望這樣使用：\n",
    "\n",
    "```python\n",
    "@timed(10)  # 讓函式執行 10 次，計算平均時間\n",
    "def fibonacci(n):\n",
    "    if n <= 1:\n",
    "        return n\n",
    "    return fibonacci(n - 1) + fibonacci(n - 2)\n",
    "```\n",
    "\n",
    "但這樣會出錯！因為 Python 預設 `@decorator` **只能傳入函式本身**，不能再額外傳參數。\n",
    "\n",
    "---\n",
    "\n",
    "### **3. 解法：用「裝飾器工廠」來產生裝飾器**\n",
    "我們的解法是「**先呼叫一個函式來生成裝飾器**」，這樣我們就能在裝飾器裡存取參數：\n",
    "\n",
    "```python\n",
    "import time\n",
    "\n",
    "def timed(num_reps):  # 讓使用者決定執行次數\n",
    "    def decorator(fn):\n",
    "        def inner(*args, **kwargs):\n",
    "            total_time = 0\n",
    "            for _ in range(num_reps):  # 執行 num_reps 次\n",
    "                start = time.perf_counter()\n",
    "                result = fn(*args, **kwargs)\n",
    "                end = time.perf_counter()\n",
    "                total_time += (end - start)\n",
    "            avg_time = total_time / num_reps\n",
    "            print(f\"Average execution time over {num_reps} runs: {avg_time:.5f} seconds\")\n",
    "            return result\n",
    "        return inner\n",
    "    return decorator  # 回傳真正的裝飾器\n",
    "```\n",
    "\n",
    "現在我們可以這樣用：\n",
    "\n",
    "```python\n",
    "@timed(10)  # 讓 Fibonacci 執行 10 次，計算平均時間\n",
    "def fibonacci(n):\n",
    "    if n <= 1:\n",
    "        return n\n",
    "    return fibonacci(n - 1) + fibonacci(n - 2)\n",
    "```\n",
    "\n",
    "Python 會執行 `timed(10)` 來回傳一個裝飾器，然後再用這個裝飾器來裝飾 `fibonacci`。\n",
    "\n",
    "---\n",
    "\n",
    "### **4. 這樣做的好處**\n",
    "✅ **讓裝飾器變靈活**：可以自由設定執行次數，而不是寫死在程式裡。  \n",
    "✅ **保持 `@` 裝飾器語法**：不需要手動包裝函式，讓程式碼更乾淨。  \n",
    "✅ **可以應用到更多場景**：除了計時，也可以用在日誌記錄、權限控制等。\n",
    "\n",
    "---\n",
    "\n",
    "### **5. 總結**\n",
    "1. **一般的裝飾器** 只能裝飾函式，不能傳額外參數。\n",
    "2. **我們可以用「函式回傳裝飾器」的方式** 來解決這個問題。\n",
    "3. **這種技巧很常用**，不只適用於計時，也可以用來做 **重試機制、日誌記錄、權限管理** 等等。\n",
    "\n",
    "這樣講比較白話吧？ 😆"
   ]
  },
  {
   "cell_type": "code",
   "execution_count": null,
   "metadata": {},
   "outputs": [],
   "source": []
  },
  {
   "cell_type": "code",
   "execution_count": null,
   "metadata": {},
   "outputs": [],
   "source": []
  },
  {
   "cell_type": "code",
   "execution_count": null,
   "metadata": {},
   "outputs": [],
   "source": []
  },
  {
   "cell_type": "code",
   "execution_count": null,
   "metadata": {},
   "outputs": [],
   "source": []
  },
  {
   "cell_type": "code",
   "execution_count": null,
   "metadata": {},
   "outputs": [],
   "source": []
  },
  {
   "cell_type": "code",
   "execution_count": null,
   "metadata": {},
   "outputs": [],
   "source": []
  },
  {
   "cell_type": "code",
   "execution_count": null,
   "metadata": {},
   "outputs": [],
   "source": []
  },
  {
   "cell_type": "code",
   "execution_count": null,
   "metadata": {},
   "outputs": [],
   "source": []
  },
  {
   "cell_type": "code",
   "execution_count": null,
   "metadata": {},
   "outputs": [],
   "source": []
  },
  {
   "cell_type": "code",
   "execution_count": null,
   "metadata": {},
   "outputs": [],
   "source": []
  },
  {
   "cell_type": "code",
   "execution_count": null,
   "metadata": {},
   "outputs": [],
   "source": []
  },
  {
   "cell_type": "code",
   "execution_count": null,
   "metadata": {},
   "outputs": [],
   "source": []
  },
  {
   "cell_type": "code",
   "execution_count": null,
   "metadata": {},
   "outputs": [],
   "source": []
  },
  {
   "cell_type": "code",
   "execution_count": null,
   "metadata": {},
   "outputs": [],
   "source": []
  },
  {
   "cell_type": "code",
   "execution_count": null,
   "metadata": {},
   "outputs": [],
   "source": []
  },
  {
   "cell_type": "code",
   "execution_count": null,
   "metadata": {},
   "outputs": [],
   "source": []
  },
  {
   "cell_type": "code",
   "execution_count": null,
   "metadata": {},
   "outputs": [],
   "source": []
  },
  {
   "cell_type": "code",
   "execution_count": null,
   "metadata": {},
   "outputs": [],
   "source": []
  },
  {
   "cell_type": "code",
   "execution_count": null,
   "metadata": {},
   "outputs": [],
   "source": []
  },
  {
   "cell_type": "code",
   "execution_count": null,
   "metadata": {},
   "outputs": [],
   "source": []
  },
  {
   "cell_type": "code",
   "execution_count": null,
   "metadata": {},
   "outputs": [],
   "source": []
  },
  {
   "cell_type": "code",
   "execution_count": null,
   "metadata": {},
   "outputs": [],
   "source": []
  },
  {
   "cell_type": "code",
   "execution_count": null,
   "metadata": {},
   "outputs": [],
   "source": []
  },
  {
   "cell_type": "code",
   "execution_count": null,
   "metadata": {},
   "outputs": [],
   "source": []
  },
  {
   "cell_type": "code",
   "execution_count": null,
   "metadata": {},
   "outputs": [],
   "source": []
  },
  {
   "cell_type": "code",
   "execution_count": null,
   "metadata": {},
   "outputs": [],
   "source": []
  },
  {
   "cell_type": "code",
   "execution_count": null,
   "metadata": {},
   "outputs": [],
   "source": []
  },
  {
   "cell_type": "code",
   "execution_count": null,
   "metadata": {},
   "outputs": [],
   "source": []
  },
  {
   "cell_type": "code",
   "execution_count": null,
   "metadata": {},
   "outputs": [],
   "source": []
  },
  {
   "cell_type": "code",
   "execution_count": null,
   "metadata": {},
   "outputs": [],
   "source": []
  },
  {
   "cell_type": "code",
   "execution_count": null,
   "metadata": {},
   "outputs": [],
   "source": []
  },
  {
   "cell_type": "code",
   "execution_count": null,
   "metadata": {},
   "outputs": [],
   "source": []
  },
  {
   "cell_type": "code",
   "execution_count": null,
   "metadata": {},
   "outputs": [],
   "source": []
  },
  {
   "cell_type": "code",
   "execution_count": null,
   "metadata": {},
   "outputs": [],
   "source": []
  },
  {
   "cell_type": "code",
   "execution_count": null,
   "metadata": {},
   "outputs": [],
   "source": []
  },
  {
   "cell_type": "code",
   "execution_count": null,
   "metadata": {},
   "outputs": [],
   "source": []
  },
  {
   "cell_type": "code",
   "execution_count": null,
   "metadata": {},
   "outputs": [],
   "source": []
  },
  {
   "cell_type": "code",
   "execution_count": null,
   "metadata": {},
   "outputs": [],
   "source": []
  },
  {
   "cell_type": "code",
   "execution_count": null,
   "metadata": {},
   "outputs": [],
   "source": []
  },
  {
   "cell_type": "code",
   "execution_count": null,
   "metadata": {},
   "outputs": [],
   "source": []
  },
  {
   "cell_type": "code",
   "execution_count": null,
   "metadata": {},
   "outputs": [],
   "source": []
  },
  {
   "cell_type": "markdown",
   "metadata": {
    "collapsed": true
   },
   "source": [
    "We have seen how to create some simple and not so simple decorators.\n",
    "\n",
    "However we have also been using built-in decorators that can accept parameters, such as `wraps` and `lru_cache`.\n",
    "\n",
    "This can be quite useful and we can accomplish the same thing ourselves."
   ]
  },
  {
   "cell_type": "markdown",
   "metadata": {},
   "source": [
    "First recall our original timer decorator from an earlier video (Decorator Application - Timer):"
   ]
  },
  {
   "cell_type": "code",
   "execution_count": 1,
   "metadata": {
    "collapsed": true
   },
   "outputs": [],
   "source": [
    "def timed(fn):\n",
    "    from time import perf_counter\n",
    "    \n",
    "    def inner(*args, **kwargs):\n",
    "        start = perf_counter()\n",
    "        result = fn(*args, **kwargs)\n",
    "        end = perf_counter()\n",
    "        elapsed = end - start\n",
    "        print('Run time: {0:.6f}s'.format(elapsed))\n",
    "        return result\n",
    "    \n",
    "    return inner"
   ]
  },
  {
   "cell_type": "code",
   "execution_count": 2,
   "metadata": {
    "collapsed": true
   },
   "outputs": [],
   "source": [
    "def calc_fib_recurse(n):\n",
    "    return 1 if n < 3 else calc_fib_recurse(n-1) + calc_fib_recurse(n-2)\n",
    "\n",
    "def fib(n):\n",
    "    return calc_fib_recurse(n)"
   ]
  },
  {
   "cell_type": "markdown",
   "metadata": {},
   "source": [
    "We can decorate our Fibonacci function using the **@** syntax, or the longer syntax as follows:"
   ]
  },
  {
   "cell_type": "code",
   "execution_count": 3,
   "metadata": {
    "collapsed": true
   },
   "outputs": [],
   "source": [
    "fib = timed(fib)"
   ]
  },
  {
   "cell_type": "code",
   "execution_count": 4,
   "metadata": {},
   "outputs": [
    {
     "name": "stdout",
     "output_type": "stream",
     "text": [
      "Run time: 0.255260s\n"
     ]
    },
    {
     "data": {
      "text/plain": [
       "832040"
      ]
     },
     "execution_count": 4,
     "metadata": {},
     "output_type": "execute_result"
    }
   ],
   "source": [
    "fib(30)"
   ]
  },
  {
   "cell_type": "markdown",
   "metadata": {},
   "source": [
    "Let's modify this so the timer runs the function multiple times and calculates the average run time:"
   ]
  },
  {
   "cell_type": "code",
   "execution_count": 5,
   "metadata": {
    "collapsed": true
   },
   "outputs": [],
   "source": [
    "def timed(fn):\n",
    "    from time import perf_counter\n",
    "\n",
    "    def inner(*args, **kwargs):\n",
    "        total_elapsed = 0\n",
    "        for i in range(10):\n",
    "            start = perf_counter()\n",
    "            result = fn(*args, **kwargs)\n",
    "            end = perf_counter()\n",
    "            total_elapsed += (perf_counter() - start)\n",
    "        avg_elapsed = total_elapsed / 10\n",
    "        print('Avg Run time: {0:.6f}s'.format(avg_elapsed))\n",
    "        return result\n",
    "    \n",
    "    return inner"
   ]
  },
  {
   "cell_type": "markdown",
   "metadata": {},
   "source": [
    "And again we decorate it using the long syntax:"
   ]
  },
  {
   "cell_type": "code",
   "execution_count": 6,
   "metadata": {
    "collapsed": true
   },
   "outputs": [],
   "source": [
    "def fib(n):\n",
    "    return calc_fib_recurse(n)\n",
    "\n",
    "fib = timed(fib)"
   ]
  },
  {
   "cell_type": "code",
   "execution_count": 7,
   "metadata": {},
   "outputs": [
    {
     "name": "stdout",
     "output_type": "stream",
     "text": [
      "Avg Run time: 0.098860s\n"
     ]
    },
    {
     "data": {
      "text/plain": [
       "317811"
      ]
     },
     "execution_count": 7,
     "metadata": {},
     "output_type": "execute_result"
    }
   ],
   "source": [
    "fib(28)"
   ]
  },
  {
   "cell_type": "markdown",
   "metadata": {},
   "source": [
    "But that value of 10 has been hardcoded. Let's make it a parameter instead."
   ]
  },
  {
   "cell_type": "code",
   "execution_count": 8,
   "metadata": {
    "collapsed": true
   },
   "outputs": [],
   "source": [
    "def timed(fn, num_reps):\n",
    "    from time import perf_counter\n",
    "    \n",
    "    def inner(*args, **kwargs):\n",
    "        total_elapsed = 0\n",
    "        for i in range(num_reps):\n",
    "            start = perf_counter()\n",
    "            result = fn(*args, **kwargs)\n",
    "            end = perf_counter()\n",
    "            total_elapsed += (perf_counter() - start)\n",
    "        avg_elapsed = total_elapsed / num_reps\n",
    "        print('Avg Run time: {0:.6f}s ({1} reps)'.format(avg_elapsed,\n",
    "                                                        num_reps))\n",
    "        return result\n",
    "    \n",
    "    return inner"
   ]
  },
  {
   "cell_type": "markdown",
   "metadata": {},
   "source": [
    "Now to decorate our Fibonacci function we **have** to use the long syntax (as we saw in the lecture, the **@** syntax will not work):"
   ]
  },
  {
   "cell_type": "code",
   "execution_count": 9,
   "metadata": {
    "collapsed": true
   },
   "outputs": [],
   "source": [
    "def fib(n):\n",
    "    return calc_fib_recurse(n)\n",
    "\n",
    "fib = timed(fib, 5)"
   ]
  },
  {
   "cell_type": "code",
   "execution_count": 10,
   "metadata": {},
   "outputs": [
    {
     "name": "stdout",
     "output_type": "stream",
     "text": [
      "Avg Run time: 0.095708s (5 reps)\n"
     ]
    },
    {
     "data": {
      "text/plain": [
       "317811"
      ]
     },
     "execution_count": 10,
     "metadata": {},
     "output_type": "execute_result"
    }
   ],
   "source": [
    "fib(28)"
   ]
  },
  {
   "cell_type": "markdown",
   "metadata": {},
   "source": [
    "The problem is that we cannot use the `@` decorator syntax because when using that syntax Python passes a **single** argument to the decorator: the function we are decorating - nothing else."
   ]
  },
  {
   "cell_type": "markdown",
   "metadata": {},
   "source": [
    "Of course we could just use what we did above, but the decorator syntax is kind of neat, so it would be nice to retain the ability to use it."
   ]
  },
  {
   "cell_type": "markdown",
   "metadata": {},
   "source": [
    "We just need to change our thinking a little bit to do this:\n",
    "\n",
    "First, when we see the following syntax:\n",
    "\n",
    "`\n",
    "@dec\n",
    "def my_func():\n",
    "    pass\n",
    "`\n",
    "\n",
    "we see that `dec` must be a function that takes a single argument, the function being decorated.\n",
    "\n",
    "You'll note that `dec` is just a function, but we do not **call** `dec` when we decorate `my_func`, we simply use the label `dec`.\n",
    "\n",
    "Then Python does:\n",
    "\n",
    "`\n",
    "my_func = dec(my_func)\n",
    "`"
   ]
  },
  {
   "cell_type": "markdown",
   "metadata": {},
   "source": [
    "Let's try a concrete example:"
   ]
  },
  {
   "cell_type": "code",
   "execution_count": 11,
   "metadata": {
    "collapsed": true
   },
   "outputs": [],
   "source": [
    "def dec(fn):\n",
    "    print (\"running dec\")\n",
    "    \n",
    "    def inner(*args, **kwargs):\n",
    "        print(\"running inner\")\n",
    "        return fn(*args, **kwargs)\n",
    "              \n",
    "    return inner"
   ]
  },
  {
   "cell_type": "code",
   "execution_count": 12,
   "metadata": {},
   "outputs": [
    {
     "name": "stdout",
     "output_type": "stream",
     "text": [
      "running dec\n"
     ]
    }
   ],
   "source": [
    "@dec\n",
    "def my_func():\n",
    "    print('running my_func')"
   ]
  },
  {
   "cell_type": "markdown",
   "metadata": {},
   "source": [
    "As we can see, when we decorated `my_func`, the `dec` function was **called** at that time.\n",
    "\n",
    "(Because Python did this: \n",
    "\n",
    "`my_func = dec(my_func)` \n",
    "\n",
    "so `dec` was called)"
   ]
  },
  {
   "cell_type": "markdown",
   "metadata": {},
   "source": [
    "And when we now call `my_func`, we see that the `inner` function is called, followed by the original `my_func`"
   ]
  },
  {
   "cell_type": "code",
   "execution_count": 13,
   "metadata": {},
   "outputs": [
    {
     "name": "stdout",
     "output_type": "stream",
     "text": [
      "running inner\n",
      "running my_func\n"
     ]
    }
   ],
   "source": [
    "my_func()"
   ]
  },
  {
   "cell_type": "markdown",
   "metadata": {},
   "source": [
    "But what if `dec` was not the decorator itself, but instead created and returned a decorator?\n",
    "\n",
    "Let's see how we might do this:"
   ]
  },
  {
   "cell_type": "code",
   "execution_count": 14,
   "metadata": {
    "collapsed": true
   },
   "outputs": [],
   "source": [
    "def dec_factory():\n",
    "    print('running dec_factory')\n",
    "    def dec(fn):\n",
    "        print('running dec')\n",
    "        def inner(*args, **kwargs):\n",
    "            print('running inner')\n",
    "            return fn(*args, **kwargs)\n",
    "        return inner\n",
    "    return dec"
   ]
  },
  {
   "cell_type": "markdown",
   "metadata": {},
   "source": [
    "So as you can see, calling `dec_generator()` will return that `dec` function which is our decorator:"
   ]
  },
  {
   "cell_type": "code",
   "execution_count": 15,
   "metadata": {},
   "outputs": [
    {
     "name": "stdout",
     "output_type": "stream",
     "text": [
      "running dec_factory\n",
      "running dec\n"
     ]
    }
   ],
   "source": [
    "@dec_factory()\n",
    "def my_func(a, b):\n",
    "    print(a, b)"
   ]
  },
  {
   "cell_type": "markdown",
   "metadata": {},
   "source": [
    "You can see that both `dec_generator` and `dec` were already called."
   ]
  },
  {
   "cell_type": "code",
   "execution_count": 16,
   "metadata": {},
   "outputs": [
    {
     "name": "stdout",
     "output_type": "stream",
     "text": [
      "running inner\n",
      "10 20\n"
     ]
    }
   ],
   "source": [
    "my_func(10, 20)"
   ]
  },
  {
   "cell_type": "markdown",
   "metadata": {},
   "source": [
    "And there you go, all we did is basically create a decorator by calling a function (`dec_factory`) and use the return value of that call (the `dec` function) as our actual decorator."
   ]
  },
  {
   "cell_type": "markdown",
   "metadata": {},
   "source": [
    "We could have done the decoration this way too:"
   ]
  },
  {
   "cell_type": "code",
   "execution_count": 17,
   "metadata": {},
   "outputs": [
    {
     "name": "stdout",
     "output_type": "stream",
     "text": [
      "running dec_factory\n"
     ]
    }
   ],
   "source": [
    "dec = dec_factory()"
   ]
  },
  {
   "cell_type": "code",
   "execution_count": 18,
   "metadata": {},
   "outputs": [
    {
     "name": "stdout",
     "output_type": "stream",
     "text": [
      "running dec\n"
     ]
    }
   ],
   "source": [
    "@dec\n",
    "def my_func():\n",
    "    print('running my_func')"
   ]
  },
  {
   "cell_type": "code",
   "execution_count": 19,
   "metadata": {},
   "outputs": [
    {
     "name": "stdout",
     "output_type": "stream",
     "text": [
      "running inner\n",
      "running my_func\n"
     ]
    }
   ],
   "source": [
    "my_func()"
   ]
  },
  {
   "cell_type": "markdown",
   "metadata": {},
   "source": [
    "Or even this way:"
   ]
  },
  {
   "cell_type": "code",
   "execution_count": 20,
   "metadata": {},
   "outputs": [
    {
     "name": "stdout",
     "output_type": "stream",
     "text": [
      "running dec_factory\n",
      "running dec\n"
     ]
    }
   ],
   "source": [
    "dec = dec_factory()\n",
    "\n",
    "def my_func():\n",
    "    print('running my_func')\n",
    "\n",
    "my_func = dec(my_func)"
   ]
  },
  {
   "cell_type": "code",
   "execution_count": 21,
   "metadata": {},
   "outputs": [
    {
     "name": "stdout",
     "output_type": "stream",
     "text": [
      "running inner\n",
      "running my_func\n"
     ]
    }
   ],
   "source": [
    "my_func()"
   ]
  },
  {
   "cell_type": "markdown",
   "metadata": {},
   "source": [
    "Of course we could even decorate it this way using a single statement:"
   ]
  },
  {
   "cell_type": "code",
   "execution_count": 22,
   "metadata": {},
   "outputs": [
    {
     "name": "stdout",
     "output_type": "stream",
     "text": [
      "running dec_factory\n",
      "running dec\n"
     ]
    }
   ],
   "source": [
    "def my_func():\n",
    "    print('running my_func')\n",
    "\n",
    "my_func = dec_factory()(my_func)"
   ]
  },
  {
   "cell_type": "code",
   "execution_count": 23,
   "metadata": {},
   "outputs": [
    {
     "name": "stdout",
     "output_type": "stream",
     "text": [
      "running inner\n",
      "running my_func\n"
     ]
    }
   ],
   "source": [
    "my_func()"
   ]
  },
  {
   "cell_type": "markdown",
   "metadata": {},
   "source": [
    "OK, so now we have decorated our function using, not a decorator, but a decorator factory as follows:"
   ]
  },
  {
   "cell_type": "code",
   "execution_count": 24,
   "metadata": {
    "collapsed": true
   },
   "outputs": [],
   "source": [
    "def dec_factory():\n",
    "    def dec(fn):\n",
    "        def inner(*args, **kwargs):\n",
    "            print('running decorator inner')\n",
    "            return fn(*args, **kwargs)\n",
    "        return inner\n",
    "    return dec"
   ]
  },
  {
   "cell_type": "code",
   "execution_count": 25,
   "metadata": {
    "collapsed": true
   },
   "outputs": [],
   "source": [
    "@dec_factory()\n",
    "def my_func(a, b):\n",
    "    return a + b"
   ]
  },
  {
   "cell_type": "code",
   "execution_count": 26,
   "metadata": {},
   "outputs": [
    {
     "name": "stdout",
     "output_type": "stream",
     "text": [
      "running decorator inner\n"
     ]
    },
    {
     "data": {
      "text/plain": [
       "30"
      ]
     },
     "execution_count": 26,
     "metadata": {},
     "output_type": "execute_result"
    }
   ],
   "source": [
    "my_func(10, 20)"
   ]
  },
  {
   "cell_type": "markdown",
   "metadata": {},
   "source": [
    "You should note that in this approach, we are **calling** `dec_factory()`, [note the parentheses `()`], and **then** using the return value (a decorator) to decorate our function."
   ]
  },
  {
   "cell_type": "markdown",
   "metadata": {},
   "source": [
    "So, we could pass arguments as we do so without affecting the final outcome. In fact we can even access them from anywhere inside `dec_factory`, including any of the nested functions! \n",
    "\n",
    "Let's try this:"
   ]
  },
  {
   "cell_type": "code",
   "execution_count": 27,
   "metadata": {
    "collapsed": true
   },
   "outputs": [],
   "source": [
    "def dec_factory(a, b):\n",
    "    def dec(fn):\n",
    "        def inner(*args, **kwargs):\n",
    "            print('running decorator inner')\n",
    "            print('free vars: ', a, b)  # a and b are free variables!\n",
    "            return fn(*args, **kwargs)\n",
    "        return inner\n",
    "    return dec"
   ]
  },
  {
   "cell_type": "code",
   "execution_count": 28,
   "metadata": {
    "collapsed": true
   },
   "outputs": [],
   "source": [
    "@dec_factory(10, 20)\n",
    "def my_func():\n",
    "    print('python rocks')"
   ]
  },
  {
   "cell_type": "code",
   "execution_count": 29,
   "metadata": {},
   "outputs": [
    {
     "name": "stdout",
     "output_type": "stream",
     "text": [
      "running decorator inner\n",
      "free vars:  10 20\n",
      "python rocks\n"
     ]
    }
   ],
   "source": [
    "my_func()"
   ]
  },
  {
   "cell_type": "markdown",
   "metadata": {},
   "source": [
    "And this is how we can create decorators with parameters. We do not directly create a decorator, instead we use an outer function that returns a decorator when called, and pass arguments to that outer function, which the decorator and its inner function can of course access as nonlocal (free) variables."
   ]
  },
  {
   "cell_type": "markdown",
   "metadata": {},
   "source": [
    "So now, let's go back to our original problem where we wanted our timing decorator to run a number of loops which could be specified as a parameter when decorating the function we want to time.\n",
    "\n",
    "Here it is again:"
   ]
  },
  {
   "cell_type": "code",
   "execution_count": 30,
   "metadata": {
    "collapsed": true
   },
   "outputs": [],
   "source": [
    "def timed(fn, num_reps):\n",
    "    from time import perf_counter\n",
    "    \n",
    "    def inner(*args, **kwargs):\n",
    "        total_elapsed = 0\n",
    "        for i in range(num_reps):\n",
    "            start = perf_counter()\n",
    "            result = fn(*args, **kwargs)\n",
    "            end = perf_counter()\n",
    "            total_elapsed += (perf_counter() - start)\n",
    "        avg_elapsed = total_elapsed / num_reps\n",
    "        print('Avg Run time: {0:.6f}s ({1} reps)'.format(avg_elapsed,\n",
    "                                                        num_reps))\n",
    "        return result\n",
    "    \n",
    "    return inner"
   ]
  },
  {
   "cell_type": "markdown",
   "metadata": {},
   "source": [
    "So, all we need to do is create an outer function around our timed decorator, and pass the `num_reps` argument to that outer function instead:"
   ]
  },
  {
   "cell_type": "code",
   "execution_count": 31,
   "metadata": {
    "collapsed": true
   },
   "outputs": [],
   "source": [
    "def timed_factory(num_reps=1):\n",
    "    def timed(fn):\n",
    "        from time import perf_counter\n",
    "\n",
    "        def inner(*args, **kwargs):\n",
    "            total_elapsed = 0\n",
    "            for i in range(num_reps):\n",
    "                start = perf_counter()\n",
    "                result = fn(*args, **kwargs)\n",
    "                end = perf_counter()\n",
    "                total_elapsed += (perf_counter() - start)\n",
    "            avg_elapsed = total_elapsed / num_reps\n",
    "            print('Avg Run time: {0:.6f}s ({1} reps)'.format(avg_elapsed,\n",
    "                                                            num_reps))\n",
    "            return result\n",
    "        return inner\n",
    "    return timed    "
   ]
  },
  {
   "cell_type": "code",
   "execution_count": 32,
   "metadata": {
    "collapsed": true
   },
   "outputs": [],
   "source": [
    "@timed_factory(5)\n",
    "def fib(n):\n",
    "    return calc_fib_recurse(n)"
   ]
  },
  {
   "cell_type": "code",
   "execution_count": 33,
   "metadata": {},
   "outputs": [
    {
     "name": "stdout",
     "output_type": "stream",
     "text": [
      "Avg Run time: 0.249934s (5 reps)\n"
     ]
    },
    {
     "data": {
      "text/plain": [
       "832040"
      ]
     },
     "execution_count": 33,
     "metadata": {},
     "output_type": "execute_result"
    }
   ],
   "source": [
    "fib(30)"
   ]
  },
  {
   "cell_type": "markdown",
   "metadata": {},
   "source": [
    "Just to put the finishing touch on this, we probably don't want to have our outer function named the way it is (`timed_factory`). Instead we probably just want to call it `timed`. So lets just do this final part:"
   ]
  },
  {
   "cell_type": "code",
   "execution_count": 34,
   "metadata": {
    "collapsed": true
   },
   "outputs": [],
   "source": [
    "from functools import wraps\n",
    "\n",
    "def timed(num_reps=1):\n",
    "    def decorator(fn):\n",
    "        from time import perf_counter\n",
    "\n",
    "        @wraps(fn)\n",
    "        def inner(*args, **kwargs):\n",
    "            total_elapsed = 0\n",
    "            for i in range(num_reps):\n",
    "                start = perf_counter()\n",
    "                result = fn(*args, **kwargs)\n",
    "                end = perf_counter()\n",
    "                total_elapsed += (perf_counter() - start)\n",
    "            avg_elapsed = total_elapsed / num_reps\n",
    "            print('Avg Run time: {0:.6f}s ({1} reps)'.format(avg_elapsed,\n",
    "                                                            num_reps))\n",
    "            return result\n",
    "        return inner\n",
    "    return decorator  "
   ]
  },
  {
   "cell_type": "code",
   "execution_count": 35,
   "metadata": {
    "collapsed": true
   },
   "outputs": [],
   "source": [
    "@timed(5)\n",
    "def fib(n):\n",
    "    return calc_fib_recurse(n)"
   ]
  },
  {
   "cell_type": "code",
   "execution_count": 36,
   "metadata": {},
   "outputs": [
    {
     "name": "stdout",
     "output_type": "stream",
     "text": [
      "Avg Run time: 0.253744s (5 reps)\n"
     ]
    },
    {
     "data": {
      "text/plain": [
       "832040"
      ]
     },
     "execution_count": 36,
     "metadata": {},
     "output_type": "execute_result"
    }
   ],
   "source": [
    "fib(30)"
   ]
  }
 ],
 "metadata": {
  "kernelspec": {
   "display_name": "ml-test1",
   "language": "python",
   "name": "python3"
  },
  "language_info": {
   "codemirror_mode": {
    "name": "ipython",
    "version": 3
   },
   "file_extension": ".py",
   "mimetype": "text/x-python",
   "name": "python",
   "nbconvert_exporter": "python",
   "pygments_lexer": "ipython3",
   "version": "3.11.8"
  }
 },
 "nbformat": 4,
 "nbformat_minor": 2
}
