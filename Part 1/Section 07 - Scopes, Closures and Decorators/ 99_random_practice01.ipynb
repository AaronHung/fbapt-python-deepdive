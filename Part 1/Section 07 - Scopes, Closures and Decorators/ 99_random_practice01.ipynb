{
 "cells": [
  {
   "cell_type": "markdown",
   "metadata": {},
   "source": [
    "### Closure lecture"
   ]
  },
  {
   "cell_type": "markdown",
   "metadata": {},
   "source": [
    "##### Free Variables and Closures"
   ]
  },
  {
   "cell_type": "markdown",
   "metadata": {},
   "source": [
    "##### Remember: Functions defined inside another function can access the outer (nonlocal) variables"
   ]
  },
  {
   "cell_type": "code",
   "execution_count": 1,
   "metadata": {},
   "outputs": [
    {
     "name": "stdout",
     "output_type": "stream",
     "text": [
      "python rocks!\n"
     ]
    }
   ],
   "source": [
    "def outer():\n",
    "    x = 'python'\n",
    "\n",
    "    def inner():\n",
    "        print(f'{x} rocks!')\n",
    "\n",
    "    inner()\n",
    "outer()"
   ]
  },
  {
   "cell_type": "code",
   "execution_count": 4,
   "metadata": {},
   "outputs": [
    {
     "name": "stdout",
     "output_type": "stream",
     "text": [
      "java rocks!\n"
     ]
    }
   ],
   "source": [
    "def outer():\n",
    "    x = 'python'\n",
    "    \n",
    "    def inner():\n",
    "        x = 'java'\n",
    "        print(f'{x} rocks!')\n",
    "\n",
    "    inner()\n",
    "    # print(f'{x} rocks!')\n",
    "outer()"
   ]
  },
  {
   "cell_type": "code",
   "execution_count": 5,
   "metadata": {},
   "outputs": [
    {
     "data": {
      "text/plain": [
       "<function __main__.outer.<locals>.inner()>"
      ]
     },
     "execution_count": 5,
     "metadata": {},
     "output_type": "execute_result"
    }
   ],
   "source": [
    "def outer():\n",
    "    x = 'python'\n",
    "    \n",
    "    def inner():\n",
    "        nonlocal x\n",
    "        x = 'java'\n",
    "        print(f'{x} rocks!')\n",
    "        \n",
    "    return inner\n",
    "\n",
    "f = outer()\n",
    "f"
   ]
  },
  {
   "cell_type": "code",
   "execution_count": 6,
   "metadata": {},
   "outputs": [
    {
     "name": "stdout",
     "output_type": "stream",
     "text": [
      "java rocks!\n"
     ]
    }
   ],
   "source": [
    "f()"
   ]
  },
  {
   "cell_type": "code",
   "execution_count": 3,
   "metadata": {},
   "outputs": [
    {
     "name": "stdout",
     "output_type": "stream",
     "text": [
      "java rocks!\n",
      "python rocks!\n"
     ]
    }
   ],
   "source": [
    "outer()"
   ]
  },
  {
   "cell_type": "code",
   "execution_count": null,
   "metadata": {},
   "outputs": [],
   "source": []
  },
  {
   "cell_type": "code",
   "execution_count": null,
   "metadata": {},
   "outputs": [],
   "source": []
  },
  {
   "cell_type": "code",
   "execution_count": null,
   "metadata": {},
   "outputs": [],
   "source": []
  },
  {
   "cell_type": "code",
   "execution_count": 3,
   "metadata": {},
   "outputs": [
    {
     "name": "stdout",
     "output_type": "stream",
     "text": [
      "python rocks!\n"
     ]
    }
   ],
   "source": [
    "def outer():\n",
    "    x = 'python'\n",
    "\n",
    "    def inner():\n",
    "        print(f\"{x} rocks!\")  # reference the nonlocal - not direct reference\n",
    "    \n",
    "    inner()  # function call demos outer(nonlocal) variables access inside inner function\n",
    "\n",
    "outer()"
   ]
  },
  {
   "cell_type": "markdown",
   "metadata": {},
   "source": [
    "#### this variable `x` is called `free variable`"
   ]
  },
  {
   "cell_type": "markdown",
   "metadata": {},
   "source": [
    "#### It's important to distinguish `creation time` and `execution time`"
   ]
  },
  {
   "cell_type": "markdown",
   "metadata": {},
   "source": [
    "#### So, if we consider `inner`, we consider two things:\n",
    "- the function of `inner`\n",
    "- the free variable `x` (with current value python) - <font color=plum> x lives outside of inner"
   ]
  },
  {
   "cell_type": "markdown",
   "metadata": {},
   "source": [
    "#### the above is a `closure` : func / free varialbes"
   ]
  },
  {
   "cell_type": "markdown",
   "metadata": {},
   "source": [
    "#### Now do something different:\n",
    "\n",
    "instead of calling(running) `inner` from inside outer, we `return` it? what will happen?"
   ]
  },
  {
   "cell_type": "code",
   "execution_count": 5,
   "metadata": {},
   "outputs": [],
   "source": [
    "def outer():\n",
    "    x = 'python'\n",
    "\n",
    "    def inner():\n",
    "        print(f'{x} rocks!')\n",
    "\n",
    "    return inner  # we're returning closure, not just function"
   ]
  },
  {
   "cell_type": "code",
   "execution_count": 6,
   "metadata": {},
   "outputs": [],
   "source": [
    "# we can assign that return value to a variable name:\n",
    "\n",
    "fn = outer()"
   ]
  },
  {
   "cell_type": "code",
   "execution_count": 7,
   "metadata": {},
   "outputs": [
    {
     "data": {
      "text/plain": [
       "<function __main__.outer.<locals>.inner()>"
      ]
     },
     "execution_count": 7,
     "metadata": {},
     "output_type": "execute_result"
    }
   ],
   "source": [
    "fn"
   ]
  },
  {
   "cell_type": "code",
   "execution_count": 8,
   "metadata": {},
   "outputs": [
    {
     "name": "stdout",
     "output_type": "stream",
     "text": [
      "python rocks!\n"
     ]
    }
   ],
   "source": [
    "fn()"
   ]
  },
  {
   "cell_type": "code",
   "execution_count": null,
   "metadata": {},
   "outputs": [],
   "source": []
  },
  {
   "cell_type": "code",
   "execution_count": null,
   "metadata": {},
   "outputs": [],
   "source": []
  },
  {
   "cell_type": "code",
   "execution_count": null,
   "metadata": {},
   "outputs": [],
   "source": []
  },
  {
   "cell_type": "markdown",
   "metadata": {},
   "source": [
    "#### Free Variables and Closure"
   ]
  },
  {
   "cell_type": "code",
   "execution_count": 7,
   "metadata": {},
   "outputs": [
    {
     "name": "stdout",
     "output_type": "stream",
     "text": [
      "python rocks!\n"
     ]
    }
   ],
   "source": [
    "def outer():\n",
    "    x = 'python'\n",
    "    \n",
    "    def inner():\n",
    "        print(f'{x} rocks!')\n",
    "\n",
    "    inner()\n",
    "    \n",
    "outer()"
   ]
  },
  {
   "cell_type": "markdown",
   "metadata": {},
   "source": [
    "#### Running the inner function\n",
    "\n",
    "What happens if, instead of calling(running) inner from inside outer, we return it?"
   ]
  },
  {
   "cell_type": "code",
   "execution_count": 8,
   "metadata": {},
   "outputs": [],
   "source": [
    "def outer():\n",
    "    x = 'python'\n",
    "    \n",
    "    def inner():\n",
    "        print(f'{x} rocks!')\n",
    "\n",
    "    return inner"
   ]
  },
  {
   "cell_type": "code",
   "execution_count": 9,
   "metadata": {},
   "outputs": [
    {
     "data": {
      "text/plain": [
       "<function __main__.outer.<locals>.inner()>"
      ]
     },
     "execution_count": 9,
     "metadata": {},
     "output_type": "execute_result"
    }
   ],
   "source": [
    "outer()"
   ]
  },
  {
   "cell_type": "code",
   "execution_count": 10,
   "metadata": {},
   "outputs": [],
   "source": [
    "fn = outer()"
   ]
  },
  {
   "cell_type": "code",
   "execution_count": 11,
   "metadata": {},
   "outputs": [
    {
     "data": {
      "text/plain": [
       "<function __main__.outer.<locals>.inner()>"
      ]
     },
     "execution_count": 11,
     "metadata": {},
     "output_type": "execute_result"
    }
   ],
   "source": [
    "fn"
   ]
  },
  {
   "cell_type": "code",
   "execution_count": 12,
   "metadata": {},
   "outputs": [
    {
     "name": "stdout",
     "output_type": "stream",
     "text": [
      "python rocks!\n"
     ]
    }
   ],
   "source": [
    "fn()"
   ]
  },
  {
   "cell_type": "markdown",
   "metadata": {},
   "source": [
    "##### The above example, the scope was gone when `outer` had finished running before we called fn, but closure still have them."
   ]
  },
  {
   "cell_type": "markdown",
   "metadata": {},
   "source": [
    "#### Python Cel;ls and Multi-Scoped Variables"
   ]
  },
  {
   "cell_type": "code",
   "execution_count": 13,
   "metadata": {},
   "outputs": [],
   "source": [
    "def outer():\n",
    "    x = 'python'\n",
    "    def inner():\n",
    "        print(f'{x} rocks!')\n",
    "\n",
    "    return inner"
   ]
  },
  {
   "cell_type": "markdown",
   "metadata": {},
   "source": [
    "#### Introspection"
   ]
  },
  {
   "cell_type": "code",
   "execution_count": 14,
   "metadata": {},
   "outputs": [],
   "source": [
    "def outer():\n",
    "    a = 100\n",
    "    x = 'python'\n",
    "    \n",
    "    def inner():\n",
    "        a = 10\n",
    "        print(f'{x}')\n",
    "    return inner"
   ]
  },
  {
   "cell_type": "code",
   "execution_count": 15,
   "metadata": {},
   "outputs": [],
   "source": [
    "fn = outer()"
   ]
  },
  {
   "cell_type": "code",
   "execution_count": 16,
   "metadata": {},
   "outputs": [
    {
     "data": {
      "text/plain": [
       "('x',)"
      ]
     },
     "execution_count": 16,
     "metadata": {},
     "output_type": "execute_result"
    }
   ],
   "source": [
    "fn.__code__.co_freevars"
   ]
  },
  {
   "cell_type": "code",
   "execution_count": 17,
   "metadata": {},
   "outputs": [
    {
     "data": {
      "text/plain": [
       "(<cell at 0x118b94d00: str object at 0x105dbbfb0>,)"
      ]
     },
     "execution_count": 17,
     "metadata": {},
     "output_type": "execute_result"
    }
   ],
   "source": [
    "fn.__closure__"
   ]
  },
  {
   "cell_type": "code",
   "execution_count": 18,
   "metadata": {},
   "outputs": [
    {
     "name": "stdout",
     "output_type": "stream",
     "text": [
      "0x105dbbfb0\n",
      "0x105dbbfb0\n",
      "python rocks!\n"
     ]
    }
   ],
   "source": [
    "def outer():\n",
    "    x = 'python'\n",
    "    print(hex(id(x)))\n",
    "    def inner():\n",
    "        print(hex(id(x)))\n",
    "        print(f'{x} rocks!')\n",
    "    return inner\n",
    "\n",
    "fn = outer()\n",
    "fn()"
   ]
  },
  {
   "cell_type": "code",
   "execution_count": 19,
   "metadata": {},
   "outputs": [
    {
     "name": "stdout",
     "output_type": "stream",
     "text": [
      "0x105dbbfb0\n",
      "0x104584c00\n",
      "java rocks!\n",
      "()\n",
      "None\n"
     ]
    }
   ],
   "source": [
    "def outer():\n",
    "    x = 'python'\n",
    "    print(hex(id(x)))\n",
    "\n",
    "    def inner():\n",
    "        x = 'java'\n",
    "        print(hex(id(x)))\n",
    "        print(f'{x} rocks!')\n",
    "    return inner\n",
    "\n",
    "fn = outer()\n",
    "fn()\n",
    "print(fn.__code__.co_freevars)\n",
    "print(fn.__closure__)"
   ]
  },
  {
   "cell_type": "code",
   "execution_count": 20,
   "metadata": {},
   "outputs": [
    {
     "name": "stdout",
     "output_type": "stream",
     "text": [
      "0x106bd64f0\n",
      "0x118f57a70\n",
      "scikit-learn rocks!\n",
      "()\n",
      "None\n"
     ]
    }
   ],
   "source": [
    "def outer():\n",
    "    x = 'javascript'\n",
    "    print(hex(id(x)))\n",
    "\n",
    "    def inner():\n",
    "        x = 'scikit-learn'\n",
    "        print(hex(id(x)))\n",
    "        print(f'{x} rocks!')\n",
    "        \n",
    "    return inner\n",
    "\n",
    "fn = outer()\n",
    "fn()\n",
    "\n",
    "print(fn.__code__.co_freevars)\n",
    "print(fn.__closure__)"
   ]
  },
  {
   "cell_type": "code",
   "execution_count": 22,
   "metadata": {},
   "outputs": [
    {
     "name": "stdout",
     "output_type": "stream",
     "text": [
      "0x12856b280\n",
      "<function outer.<locals>.inner at 0x128571ee0>\n",
      "0x12856b280\n",
      "python closure demo rocks!\n",
      "0x12856b730\n"
     ]
    }
   ],
   "source": [
    "def outer():\n",
    "    x = 'nonlocal variable x'\n",
    "    print((hex(id(x))))\n",
    "\n",
    "    def inner():\n",
    "        nonlocal x\n",
    "        print(hex(id(x)))\n",
    "        x = 'python closure demo'\n",
    "        print(f'{x} rocks!')\n",
    "        print(hex(id(x)))\n",
    "\n",
    "    return inner\n",
    "\n",
    "fn = outer()\n",
    "print(fn)\n",
    "fn()"
   ]
  },
  {
   "cell_type": "code",
   "execution_count": 23,
   "metadata": {},
   "outputs": [
    {
     "name": "stdout",
     "output_type": "stream",
     "text": [
      "0x1189d6730\n"
     ]
    },
    {
     "data": {
      "text/plain": [
       "<function __main__.outer.<locals>.inner()>"
      ]
     },
     "execution_count": 23,
     "metadata": {},
     "output_type": "execute_result"
    }
   ],
   "source": [
    "def outer():\n",
    "    x = 'some variable'\n",
    "    print(hex(id(x)))\n",
    "\n",
    "    def inner():\n",
    "        x = 'some other assignment'\n",
    "        print(hex(id(x)))\n",
    "        print(f'{x} rocks!')\n",
    "        \n",
    "    return inner\n",
    "\n",
    "fn = outer()\n",
    "fn"
   ]
  },
  {
   "cell_type": "code",
   "execution_count": 24,
   "metadata": {},
   "outputs": [
    {
     "name": "stdout",
     "output_type": "stream",
     "text": [
      "0x128569c50\n",
      "some other assignment rocks!\n"
     ]
    }
   ],
   "source": [
    "fn()"
   ]
  },
  {
   "cell_type": "code",
   "execution_count": null,
   "metadata": {},
   "outputs": [],
   "source": []
  }
 ],
 "metadata": {
  "kernelspec": {
   "display_name": "ml-test1",
   "language": "python",
   "name": "python3"
  },
  "language_info": {
   "codemirror_mode": {
    "name": "ipython",
    "version": 3
   },
   "file_extension": ".py",
   "mimetype": "text/x-python",
   "name": "python",
   "nbconvert_exporter": "python",
   "pygments_lexer": "ipython3",
   "version": "3.11.8"
  }
 },
 "nbformat": 4,
 "nbformat_minor": 2
}
